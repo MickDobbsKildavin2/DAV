{
  "nbformat": 4,
  "nbformat_minor": 0,
  "metadata": {
    "colab": {
      "name": "Prog4BigDataPySparkColab_GettingStarted.ipynb",
      "provenance": [],
      "collapsed_sections": [],
      "include_colab_link": true
    },
    "kernelspec": {
      "name": "python3",
      "display_name": "Python 3"
    },
    "language_info": {
      "name": "python"
    }
  },
  "cells": [
    {
      "cell_type": "markdown",
      "metadata": {
        "id": "view-in-github",
        "colab_type": "text"
      },
      "source": [
        "<a href=\"https://colab.research.google.com/github/MickDobbsKildavin2/DAV/blob/main/Prog4BigDataPySparkColab_GettingStarted.ipynb\" target=\"_parent\"><img src=\"https://colab.research.google.com/assets/colab-badge.svg\" alt=\"Open In Colab\"/></a>"
      ]
    },
    {
      "cell_type": "code",
      "metadata": {
        "id": "2eiCa3lUEfGm",
        "colab": {
          "base_uri": "https://localhost:8080/"
        },
        "outputId": "efa2e486-6f63-4c1c-dbc0-6b68f1c9adca"
      },
      "source": [
        "#Run Once\n",
        "!apt-get install openjdk-8-jdk-headless -qq > /dev/null\n",
        "#!wget -q https://www-us.apache.org/dist/spark/spark-3.0.2/spark-3.0.2-bin-hadoop2.7.tgz\n",
        "!wget -q https://archive.apache.org/dist/spark/spark-3.0.2/spark-3.0.2-bin-hadoop2.7.tgz\n",
        "!tar xf spark-3.0.2-bin-hadoop2.7.tgz\n",
        "\n",
        "# check if the file is unziped \n",
        "!ls\n",
        "\n",
        "!pip install -q findspark\n",
        "#Run Once\n",
        "import os\n",
        "os.environ[\"SPARK_HOME\"] = \"/content/spark-3.0.2-bin-hadoop2.7\"\n",
        "import findspark\n",
        "findspark.init()"
      ],
      "execution_count": null,
      "outputs": [
        {
          "output_type": "stream",
          "name": "stdout",
          "text": [
            "sample_data  spark-3.0.2-bin-hadoop2.7\tspark-3.0.2-bin-hadoop2.7.tgz\n"
          ]
        }
      ]
    },
    {
      "cell_type": "code",
      "metadata": {
        "id": "VQxvEyRhJBuP"
      },
      "source": [
        "#!rm spark*3.2.0*.*\n",
        "#!ls\n"
      ],
      "execution_count": null,
      "outputs": []
    },
    {
      "cell_type": "code",
      "metadata": {
        "colab": {
          "base_uri": "https://localhost:8080/",
          "height": 220
        },
        "id": "avtdTPR9zppf",
        "outputId": "b8f642dd-af99-432d-9062-e4cf131107cb"
      },
      "source": [
        "from pyspark.sql import SparkSession\n",
        "spark = SparkSession.builder\\\n",
        "        .master(\"local\")\\\n",
        "        .appName(\"Colab\")\\\n",
        "        .config('spark.ui.port', '4050')\\\n",
        "        .getOrCreate()\n",
        "spark"
      ],
      "execution_count": null,
      "outputs": [
        {
          "output_type": "execute_result",
          "data": {
            "text/html": [
              "\n",
              "            <div>\n",
              "                <p><b>SparkSession - in-memory</b></p>\n",
              "                \n",
              "        <div>\n",
              "            <p><b>SparkContext</b></p>\n",
              "\n",
              "            <p><a href=\"http://c72f6c592f19:4050\">Spark UI</a></p>\n",
              "\n",
              "            <dl>\n",
              "              <dt>Version</dt>\n",
              "                <dd><code>v3.0.2</code></dd>\n",
              "              <dt>Master</dt>\n",
              "                <dd><code>local</code></dd>\n",
              "              <dt>AppName</dt>\n",
              "                <dd><code>Colab</code></dd>\n",
              "            </dl>\n",
              "        </div>\n",
              "        \n",
              "            </div>\n",
              "        "
            ],
            "text/plain": [
              "<pyspark.sql.session.SparkSession at 0x7f1e69438190>"
            ]
          },
          "metadata": {},
          "execution_count": 3
        }
      ]
    },
    {
      "cell_type": "code",
      "metadata": {
        "colab": {
          "base_uri": "https://localhost:8080/"
        },
        "id": "pS1IwO_ukx1x",
        "outputId": "b056ca29-4374-428f-bd94-81b5c25124b7"
      },
      "source": [
        "!wget \"https://archive.ics.uci.edu/ml/machine-learning-databases/iris/iris.data\" -O sample_data/iris.data"
      ],
      "execution_count": null,
      "outputs": [
        {
          "output_type": "stream",
          "name": "stdout",
          "text": [
            "--2022-03-03 18:50:03--  https://archive.ics.uci.edu/ml/machine-learning-databases/iris/iris.data\n",
            "Resolving archive.ics.uci.edu (archive.ics.uci.edu)... 128.195.10.252\n",
            "Connecting to archive.ics.uci.edu (archive.ics.uci.edu)|128.195.10.252|:443... connected.\n",
            "HTTP request sent, awaiting response... 200 OK\n",
            "Length: 4551 (4.4K) [application/x-httpd-php]\n",
            "Saving to: ‘sample_data/iris.data’\n",
            "\n",
            "\rsample_data/iris.da   0%[                    ]       0  --.-KB/s               \rsample_data/iris.da 100%[===================>]   4.44K  --.-KB/s    in 0s      \n",
            "\n",
            "2022-03-03 18:50:03 (144 MB/s) - ‘sample_data/iris.data’ saved [4551/4551]\n",
            "\n"
          ]
        }
      ]
    },
    {
      "cell_type": "code",
      "metadata": {
        "colab": {
          "base_uri": "https://localhost:8080/"
        },
        "id": "iVz2UFy4Iyd2",
        "outputId": "009d2310-0349-4d5d-e356-63b2e876d023"
      },
      "source": [
        "from pyspark.sql import SparkSession\n",
        "spark = SparkSession.builder.master(\"local[*]\").getOrCreate()\n",
        "df = spark.read.csv('sample_data/iris.data', header=False, sep=\",\", inferSchema=True)\n",
        "df.printSchema()"
      ],
      "execution_count": null,
      "outputs": [
        {
          "output_type": "stream",
          "name": "stdout",
          "text": [
            "root\n",
            " |-- _c0: double (nullable = true)\n",
            " |-- _c1: double (nullable = true)\n",
            " |-- _c2: double (nullable = true)\n",
            " |-- _c3: double (nullable = true)\n",
            " |-- _c4: string (nullable = true)\n",
            "\n"
          ]
        }
      ]
    },
    {
      "cell_type": "code",
      "metadata": {
        "colab": {
          "base_uri": "https://localhost:8080/"
        },
        "id": "7CRyhYjOJkhl",
        "outputId": "884581dd-2bab-4289-eb97-d0294a281233"
      },
      "source": [
        "from pyspark.sql.types import *\n",
        "df.columns"
      ],
      "execution_count": null,
      "outputs": [
        {
          "output_type": "execute_result",
          "data": {
            "text/plain": [
              "['_c0', '_c1', '_c2', '_c3', '_c4']"
            ]
          },
          "metadata": {},
          "execution_count": 6
        }
      ]
    },
    {
      "cell_type": "markdown",
      "metadata": {
        "id": "DLUbB9Z1382E"
      },
      "source": [
        "Import with pre-defined schema"
      ]
    },
    {
      "cell_type": "code",
      "metadata": {
        "id": "qQ292FJeHzrq"
      },
      "source": [
        "labels = [\n",
        "     ('SepalLength',DoubleType()),\n",
        "     ('SepalWidth',DoubleType()),\n",
        "     ('PetalLength',DoubleType()),\n",
        "     ('PetalWidth',DoubleType()),\n",
        "     ('Class', StringType()),\n",
        "]"
      ],
      "execution_count": null,
      "outputs": []
    },
    {
      "cell_type": "code",
      "metadata": {
        "colab": {
          "base_uri": "https://localhost:8080/"
        },
        "id": "fXiZqnCcIIUI",
        "outputId": "186d7c54-c5f4-4937-8049-d3138a8f9279"
      },
      "source": [
        "# Create the schema \n",
        "schema = StructType([StructField (x[0], x[1], True) for x in labels])\n",
        "schema"
      ],
      "execution_count": null,
      "outputs": [
        {
          "output_type": "execute_result",
          "data": {
            "text/plain": [
              "StructType(List(StructField(SepalLength,DoubleType,true),StructField(SepalWidth,DoubleType,true),StructField(PetalLength,DoubleType,true),StructField(PetalWidth,DoubleType,true),StructField(Class,StringType,true)))"
            ]
          },
          "metadata": {},
          "execution_count": 8
        }
      ]
    },
    {
      "cell_type": "code",
      "metadata": {
        "colab": {
          "base_uri": "https://localhost:8080/"
        },
        "id": "3aZs5l7rKiVx",
        "outputId": "804fdfa1-c6be-4a61-da78-feb73be6b60a"
      },
      "source": [
        "df = spark.read.csv('sample_data/iris.data', header=True, sep=\",\", schema=schema)\n",
        "df.printSchema()\n",
        "# Check schema "
      ],
      "execution_count": null,
      "outputs": [
        {
          "output_type": "stream",
          "name": "stdout",
          "text": [
            "root\n",
            " |-- SepalLength: double (nullable = true)\n",
            " |-- SepalWidth: double (nullable = true)\n",
            " |-- PetalLength: double (nullable = true)\n",
            " |-- PetalWidth: double (nullable = true)\n",
            " |-- Class: string (nullable = true)\n",
            "\n"
          ]
        }
      ]
    },
    {
      "cell_type": "code",
      "metadata": {
        "colab": {
          "base_uri": "https://localhost:8080/"
        },
        "id": "mGDZdnIUE-nH",
        "outputId": "716d07b0-2d7d-40d9-a44e-3f286d3436c8"
      },
      "source": [
        "df.columns"
      ],
      "execution_count": null,
      "outputs": [
        {
          "output_type": "execute_result",
          "data": {
            "text/plain": [
              "['SepalLength', 'SepalWidth', 'PetalLength', 'PetalWidth', 'Class']"
            ]
          },
          "metadata": {},
          "execution_count": 10
        }
      ]
    },
    {
      "cell_type": "code",
      "metadata": {
        "colab": {
          "base_uri": "https://localhost:8080/"
        },
        "id": "l17krttyFT1H",
        "outputId": "10cfb5c1-e729-4d5f-e433-d2e870f6c4f7"
      },
      "source": [
        "df.describe().show()"
      ],
      "execution_count": null,
      "outputs": [
        {
          "output_type": "stream",
          "name": "stdout",
          "text": [
            "+-------+------------------+------------------+------------------+------------------+--------------+\n",
            "|summary|       SepalLength|        SepalWidth|       PetalLength|        PetalWidth|         Class|\n",
            "+-------+------------------+------------------+------------------+------------------+--------------+\n",
            "|  count|               149|               149|               149|               149|           149|\n",
            "|   mean| 5.848322147651008| 3.051006711409397|3.7744966442953043|1.2053691275167793|          null|\n",
            "| stddev|0.8285940572656166|0.4334988777167475|1.7596511617753412|0.7612920413899604|          null|\n",
            "|    min|               4.3|               2.0|               1.0|               0.1|   Iris-setosa|\n",
            "|    max|               7.9|               4.4|               6.9|               2.5|Iris-virginica|\n",
            "+-------+------------------+------------------+------------------+------------------+--------------+\n",
            "\n"
          ]
        }
      ]
    },
    {
      "cell_type": "code",
      "metadata": {
        "id": "JrreJK96FYJA"
      },
      "source": [
        ""
      ],
      "execution_count": null,
      "outputs": []
    },
    {
      "cell_type": "code",
      "metadata": {
        "colab": {
          "base_uri": "https://localhost:8080/"
        },
        "id": "0RFMO1JGLJz7",
        "outputId": "ebc289c5-b754-4510-c124-c553cdb0903d"
      },
      "source": [
        "df.filter(\"SepalLength>5\").show(5)"
      ],
      "execution_count": null,
      "outputs": [
        {
          "output_type": "stream",
          "name": "stdout",
          "text": [
            "+-----------+----------+-----------+----------+-----------+\n",
            "|SepalLength|SepalWidth|PetalLength|PetalWidth|      Class|\n",
            "+-----------+----------+-----------+----------+-----------+\n",
            "|        5.4|       3.9|        1.7|       0.4|Iris-setosa|\n",
            "|        5.4|       3.7|        1.5|       0.2|Iris-setosa|\n",
            "|        5.8|       4.0|        1.2|       0.2|Iris-setosa|\n",
            "|        5.7|       4.4|        1.5|       0.4|Iris-setosa|\n",
            "|        5.4|       3.9|        1.3|       0.4|Iris-setosa|\n",
            "+-----------+----------+-----------+----------+-----------+\n",
            "only showing top 5 rows\n",
            "\n"
          ]
        }
      ]
    },
    {
      "cell_type": "code",
      "metadata": {
        "colab": {
          "base_uri": "https://localhost:8080/"
        },
        "id": "KkJQBpGPLQ1N",
        "outputId": "ff024fd1-31f8-48f9-ca8c-84b60a0aef2e"
      },
      "source": [
        "df.filter(\"SepalLength>5\").select('SepalLength','Class').show(5)"
      ],
      "execution_count": null,
      "outputs": [
        {
          "output_type": "stream",
          "name": "stdout",
          "text": [
            "+-----------+-----------+\n",
            "|SepalLength|      Class|\n",
            "+-----------+-----------+\n",
            "|        5.4|Iris-setosa|\n",
            "|        5.4|Iris-setosa|\n",
            "|        5.8|Iris-setosa|\n",
            "|        5.7|Iris-setosa|\n",
            "|        5.4|Iris-setosa|\n",
            "+-----------+-----------+\n",
            "only showing top 5 rows\n",
            "\n"
          ]
        }
      ]
    },
    {
      "cell_type": "code",
      "metadata": {
        "colab": {
          "base_uri": "https://localhost:8080/"
        },
        "id": "-zRgWmEfLV3n",
        "outputId": "bd00421b-610a-4200-deab-9345a84879dd"
      },
      "source": [
        "df.filter(\"SepalLength<5\").select(['SepalWidth','Class']).show(5)"
      ],
      "execution_count": null,
      "outputs": [
        {
          "output_type": "stream",
          "name": "stdout",
          "text": [
            "+----------+-----------+\n",
            "|SepalWidth|      Class|\n",
            "+----------+-----------+\n",
            "|       3.0|Iris-setosa|\n",
            "|       3.2|Iris-setosa|\n",
            "|       3.1|Iris-setosa|\n",
            "|       3.4|Iris-setosa|\n",
            "|       2.9|Iris-setosa|\n",
            "+----------+-----------+\n",
            "only showing top 5 rows\n",
            "\n"
          ]
        }
      ]
    },
    {
      "cell_type": "code",
      "metadata": {
        "colab": {
          "base_uri": "https://localhost:8080/"
        },
        "id": "JkaqMQKnL8CX",
        "outputId": "1951993e-d9b7-4cac-994f-48898f446f65"
      },
      "source": [
        "df.filter( (df[\"SepalWidth\"] >4) & (df['SepalLength'] >3) ).show()"
      ],
      "execution_count": null,
      "outputs": [
        {
          "output_type": "stream",
          "name": "stdout",
          "text": [
            "+-----------+----------+-----------+----------+-----------+\n",
            "|SepalLength|SepalWidth|PetalLength|PetalWidth|      Class|\n",
            "+-----------+----------+-----------+----------+-----------+\n",
            "|        5.7|       4.4|        1.5|       0.4|Iris-setosa|\n",
            "|        5.2|       4.1|        1.5|       0.1|Iris-setosa|\n",
            "|        5.5|       4.2|        1.4|       0.2|Iris-setosa|\n",
            "+-----------+----------+-----------+----------+-----------+\n",
            "\n"
          ]
        }
      ]
    },
    {
      "cell_type": "code",
      "metadata": {
        "colab": {
          "base_uri": "https://localhost:8080/"
        },
        "id": "5rVU4weOL--F",
        "outputId": "eacadda5-1d3a-425f-8230-8b8a462226b4"
      },
      "source": [
        "df.filter(df[\"SepalWidth\"] == 4).show()"
      ],
      "execution_count": null,
      "outputs": [
        {
          "output_type": "stream",
          "name": "stdout",
          "text": [
            "+-----------+----------+-----------+----------+-----------+\n",
            "|SepalLength|SepalWidth|PetalLength|PetalWidth|      Class|\n",
            "+-----------+----------+-----------+----------+-----------+\n",
            "|        5.8|       4.0|        1.2|       0.2|Iris-setosa|\n",
            "+-----------+----------+-----------+----------+-----------+\n",
            "\n"
          ]
        }
      ]
    },
    {
      "cell_type": "code",
      "metadata": {
        "colab": {
          "base_uri": "https://localhost:8080/"
        },
        "id": "t5W8-VSdMBrj",
        "outputId": "61f33c79-7710-4089-827b-c9a1ea9a52bc"
      },
      "source": [
        "df.groupBy(\"Class\").mean().show()"
      ],
      "execution_count": null,
      "outputs": [
        {
          "output_type": "stream",
          "name": "stdout",
          "text": [
            "+---------------+-----------------+------------------+------------------+------------------+\n",
            "|          Class| avg(SepalLength)|   avg(SepalWidth)|  avg(PetalLength)|   avg(PetalWidth)|\n",
            "+---------------+-----------------+------------------+------------------+------------------+\n",
            "| Iris-virginica|6.587999999999998|2.9739999999999998|             5.552|             2.026|\n",
            "|    Iris-setosa|5.004081632653061| 3.416326530612245|1.4653061224489796|0.2448979591836734|\n",
            "|Iris-versicolor|            5.936|2.7700000000000005|              4.26|1.3259999999999998|\n",
            "+---------------+-----------------+------------------+------------------+------------------+\n",
            "\n"
          ]
        }
      ]
    },
    {
      "cell_type": "code",
      "metadata": {
        "colab": {
          "base_uri": "https://localhost:8080/"
        },
        "id": "uHyCf76cMGMR",
        "outputId": "d8c9c86f-87d9-47b4-b823-898d0c5907b0"
      },
      "source": [
        "df.groupBy(\"Class\").count().show()"
      ],
      "execution_count": null,
      "outputs": [
        {
          "output_type": "stream",
          "name": "stdout",
          "text": [
            "+---------------+-----+\n",
            "|          Class|count|\n",
            "+---------------+-----+\n",
            "| Iris-virginica|   50|\n",
            "|    Iris-setosa|   49|\n",
            "|Iris-versicolor|   50|\n",
            "+---------------+-----+\n",
            "\n"
          ]
        }
      ]
    },
    {
      "cell_type": "code",
      "metadata": {
        "colab": {
          "base_uri": "https://localhost:8080/"
        },
        "id": "AqVRW5iZM4k4",
        "outputId": "81927d80-cc20-4eb4-e74e-59c77cd69827"
      },
      "source": [
        "df.groupBy(\"Class\").max().show()"
      ],
      "execution_count": null,
      "outputs": [
        {
          "output_type": "stream",
          "name": "stdout",
          "text": [
            "+---------------+----------------+---------------+----------------+---------------+\n",
            "|          Class|max(SepalLength)|max(SepalWidth)|max(PetalLength)|max(PetalWidth)|\n",
            "+---------------+----------------+---------------+----------------+---------------+\n",
            "| Iris-virginica|             7.9|            3.8|             6.9|            2.5|\n",
            "|    Iris-setosa|             5.8|            4.4|             1.9|            0.6|\n",
            "|Iris-versicolor|             7.0|            3.4|             5.1|            1.8|\n",
            "+---------------+----------------+---------------+----------------+---------------+\n",
            "\n"
          ]
        }
      ]
    },
    {
      "cell_type": "code",
      "metadata": {
        "colab": {
          "base_uri": "https://localhost:8080/"
        },
        "id": "D-qM0Bm1M79y",
        "outputId": "00672485-16d4-41fb-b947-785ff8820abf"
      },
      "source": [
        "df.groupBy(\"Class\").min().show()"
      ],
      "execution_count": null,
      "outputs": [
        {
          "output_type": "stream",
          "name": "stdout",
          "text": [
            "+---------------+----------------+---------------+----------------+---------------+\n",
            "|          Class|min(SepalLength)|min(SepalWidth)|min(PetalLength)|min(PetalWidth)|\n",
            "+---------------+----------------+---------------+----------------+---------------+\n",
            "| Iris-virginica|             4.9|            2.2|             4.5|            1.4|\n",
            "|    Iris-setosa|             4.3|            2.3|             1.0|            0.1|\n",
            "|Iris-versicolor|             4.9|            2.0|             3.0|            1.0|\n",
            "+---------------+----------------+---------------+----------------+---------------+\n",
            "\n"
          ]
        }
      ]
    },
    {
      "cell_type": "code",
      "metadata": {
        "colab": {
          "base_uri": "https://localhost:8080/"
        },
        "id": "4Nwy2UYbM_ng",
        "outputId": "a5dc7cd3-d032-44db-ac65-08329f2440e7"
      },
      "source": [
        "df.groupBy(\"Class\").sum().show()"
      ],
      "execution_count": null,
      "outputs": [
        {
          "output_type": "stream",
          "name": "stdout",
          "text": [
            "+---------------+------------------+------------------+------------------+------------------+\n",
            "|          Class|  sum(SepalLength)|   sum(SepalWidth)|  sum(PetalLength)|   sum(PetalWidth)|\n",
            "+---------------+------------------+------------------+------------------+------------------+\n",
            "| Iris-virginica| 329.3999999999999|             148.7|277.59999999999997|101.29999999999998|\n",
            "|    Iris-setosa|245.19999999999996|             167.4|              71.8|11.999999999999996|\n",
            "|Iris-versicolor|             296.8|138.50000000000003|212.99999999999997|              66.3|\n",
            "+---------------+------------------+------------------+------------------+------------------+\n",
            "\n"
          ]
        }
      ]
    },
    {
      "cell_type": "code",
      "metadata": {
        "colab": {
          "base_uri": "https://localhost:8080/"
        },
        "id": "Sisb3CQTNCb4",
        "outputId": "1cc45c4f-3df7-42de-a3c4-c41150603009"
      },
      "source": [
        "# Avg SepalWidth \n",
        "df.agg({'SepalWidth':'avg'}).show()"
      ],
      "execution_count": null,
      "outputs": [
        {
          "output_type": "stream",
          "name": "stdout",
          "text": [
            "+-----------------+\n",
            "|  avg(SepalWidth)|\n",
            "+-----------------+\n",
            "|3.051006711409397|\n",
            "+-----------------+\n",
            "\n"
          ]
        }
      ]
    },
    {
      "cell_type": "code",
      "metadata": {
        "colab": {
          "base_uri": "https://localhost:8080/"
        },
        "id": "cM003yRINF43",
        "outputId": "b80172d3-a5ef-4c48-f6e6-36c5a2a71dda"
      },
      "source": [
        "from pyspark.sql.functions import countDistinct, avg, stddev\n",
        "from pyspark.sql.functions import format_number\n",
        "sales_std = df.select(stddev(\"SepalWidth\").alias('std'))\n",
        "sales_std.show()\n",
        "sales_std.select(format_number('std',2)).show()"
      ],
      "execution_count": null,
      "outputs": [
        {
          "output_type": "stream",
          "name": "stdout",
          "text": [
            "+------------------+\n",
            "|               std|\n",
            "+------------------+\n",
            "|0.4334988777167475|\n",
            "+------------------+\n",
            "\n",
            "+---------------------+\n",
            "|format_number(std, 2)|\n",
            "+---------------------+\n",
            "|                 0.43|\n",
            "+---------------------+\n",
            "\n"
          ]
        }
      ]
    },
    {
      "cell_type": "code",
      "metadata": {
        "colab": {
          "base_uri": "https://localhost:8080/"
        },
        "id": "ZaBvxGaPNJVG",
        "outputId": "ad30f39b-c3a6-4bbd-9a29-4738b48be504"
      },
      "source": [
        "grouped = df.groupBy(\"Class\")\n",
        "grouped.agg({\"SepalWidth\":'avg'}).show()"
      ],
      "execution_count": null,
      "outputs": [
        {
          "output_type": "stream",
          "name": "stdout",
          "text": [
            "+---------------+------------------+\n",
            "|          Class|   avg(SepalWidth)|\n",
            "+---------------+------------------+\n",
            "| Iris-virginica|2.9739999999999998|\n",
            "|    Iris-setosa| 3.416326530612245|\n",
            "|Iris-versicolor|2.7700000000000005|\n",
            "+---------------+------------------+\n",
            "\n"
          ]
        }
      ]
    },
    {
      "cell_type": "code",
      "metadata": {
        "colab": {
          "base_uri": "https://localhost:8080/"
        },
        "id": "HGOjkYvzNMZH",
        "outputId": "f10404dd-c502-417f-c78d-b306abea9dc0"
      },
      "source": [
        "from pyspark.sql.functions import countDistinct, avg, stddev\n",
        "df.select(countDistinct(\"SepalWidth\")).show()"
      ],
      "execution_count": null,
      "outputs": [
        {
          "output_type": "stream",
          "name": "stdout",
          "text": [
            "+--------------------------+\n",
            "|count(DISTINCT SepalWidth)|\n",
            "+--------------------------+\n",
            "|                        23|\n",
            "+--------------------------+\n",
            "\n"
          ]
        }
      ]
    },
    {
      "cell_type": "code",
      "metadata": {
        "colab": {
          "base_uri": "https://localhost:8080/"
        },
        "id": "ripeTfFaNO8r",
        "outputId": "6dbbdb86-d389-4343-9c43-a75e20c7f7ae"
      },
      "source": [
        "df.select(countDistinct(\"SepalWidth\").alias(\"Distinct SepalWidths\")).show()"
      ],
      "execution_count": null,
      "outputs": [
        {
          "output_type": "stream",
          "name": "stdout",
          "text": [
            "+--------------------+\n",
            "|Distinct SepalWidths|\n",
            "+--------------------+\n",
            "|                  23|\n",
            "+--------------------+\n",
            "\n"
          ]
        }
      ]
    },
    {
      "cell_type": "code",
      "metadata": {
        "colab": {
          "base_uri": "https://localhost:8080/"
        },
        "id": "jfaOHRHXNRtA",
        "outputId": "3e2c26ce-1e37-47ca-842c-10e7fb64ba1f"
      },
      "source": [
        "df.select(avg('SepalWidth')).show()"
      ],
      "execution_count": null,
      "outputs": [
        {
          "output_type": "stream",
          "name": "stdout",
          "text": [
            "+-----------------+\n",
            "|  avg(SepalWidth)|\n",
            "+-----------------+\n",
            "|3.051006711409397|\n",
            "+-----------------+\n",
            "\n"
          ]
        }
      ]
    },
    {
      "cell_type": "code",
      "metadata": {
        "colab": {
          "base_uri": "https://localhost:8080/"
        },
        "id": "uPGNdTPVNUJk",
        "outputId": "57650add-9d9a-499c-d418-a0c6f5a1d61e"
      },
      "source": [
        "df.select(stddev(\"SepalWidth\")).show()"
      ],
      "execution_count": null,
      "outputs": [
        {
          "output_type": "stream",
          "name": "stdout",
          "text": [
            "+-----------------------+\n",
            "|stddev_samp(SepalWidth)|\n",
            "+-----------------------+\n",
            "|     0.4334988777167475|\n",
            "+-----------------------+\n",
            "\n"
          ]
        }
      ]
    },
    {
      "cell_type": "code",
      "metadata": {
        "colab": {
          "base_uri": "https://localhost:8080/"
        },
        "id": "fTtUr8DTNXY0",
        "outputId": "9dd28e28-1780-472a-9f4e-c2cedd7d5076"
      },
      "source": [
        "df.orderBy(\"SepalWidth\").show(5)"
      ],
      "execution_count": null,
      "outputs": [
        {
          "output_type": "stream",
          "name": "stdout",
          "text": [
            "+-----------+----------+-----------+----------+---------------+\n",
            "|SepalLength|SepalWidth|PetalLength|PetalWidth|          Class|\n",
            "+-----------+----------+-----------+----------+---------------+\n",
            "|        5.0|       2.0|        3.5|       1.0|Iris-versicolor|\n",
            "|        6.2|       2.2|        4.5|       1.5|Iris-versicolor|\n",
            "|        6.0|       2.2|        5.0|       1.5| Iris-virginica|\n",
            "|        6.0|       2.2|        4.0|       1.0|Iris-versicolor|\n",
            "|        4.5|       2.3|        1.3|       0.3|    Iris-setosa|\n",
            "+-----------+----------+-----------+----------+---------------+\n",
            "only showing top 5 rows\n",
            "\n"
          ]
        }
      ]
    },
    {
      "cell_type": "code",
      "metadata": {
        "colab": {
          "base_uri": "https://localhost:8080/"
        },
        "id": "GStCi3qaNaGL",
        "outputId": "6ee62835-d9b6-47cf-a090-fedd0778b265"
      },
      "source": [
        "df.orderBy(df[\"SepalWidth\"].desc()).show()"
      ],
      "execution_count": null,
      "outputs": [
        {
          "output_type": "stream",
          "name": "stdout",
          "text": [
            "+-----------+----------+-----------+----------+--------------+\n",
            "|SepalLength|SepalWidth|PetalLength|PetalWidth|         Class|\n",
            "+-----------+----------+-----------+----------+--------------+\n",
            "|        5.7|       4.4|        1.5|       0.4|   Iris-setosa|\n",
            "|        5.5|       4.2|        1.4|       0.2|   Iris-setosa|\n",
            "|        5.2|       4.1|        1.5|       0.1|   Iris-setosa|\n",
            "|        5.8|       4.0|        1.2|       0.2|   Iris-setosa|\n",
            "|        5.4|       3.9|        1.7|       0.4|   Iris-setosa|\n",
            "|        5.4|       3.9|        1.3|       0.4|   Iris-setosa|\n",
            "|        7.9|       3.8|        6.4|       2.0|Iris-virginica|\n",
            "|        5.1|       3.8|        1.5|       0.3|   Iris-setosa|\n",
            "|        7.7|       3.8|        6.7|       2.2|Iris-virginica|\n",
            "|        5.7|       3.8|        1.7|       0.3|   Iris-setosa|\n",
            "|        5.1|       3.8|        1.9|       0.4|   Iris-setosa|\n",
            "|        5.1|       3.8|        1.6|       0.2|   Iris-setosa|\n",
            "|        5.1|       3.7|        1.5|       0.4|   Iris-setosa|\n",
            "|        5.3|       3.7|        1.5|       0.2|   Iris-setosa|\n",
            "|        5.4|       3.7|        1.5|       0.2|   Iris-setosa|\n",
            "|        5.0|       3.6|        1.4|       0.2|   Iris-setosa|\n",
            "|        7.2|       3.6|        6.1|       2.5|Iris-virginica|\n",
            "|        4.6|       3.6|        1.0|       0.2|   Iris-setosa|\n",
            "|        5.2|       3.5|        1.5|       0.2|   Iris-setosa|\n",
            "|        5.1|       3.5|        1.4|       0.3|   Iris-setosa|\n",
            "+-----------+----------+-----------+----------+--------------+\n",
            "only showing top 20 rows\n",
            "\n"
          ]
        }
      ]
    },
    {
      "cell_type": "code",
      "metadata": {
        "id": "KZD7FoUcNe5y"
      },
      "source": [
        ""
      ],
      "execution_count": null,
      "outputs": []
    }
  ]
}