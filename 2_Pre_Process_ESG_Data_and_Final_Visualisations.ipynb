{
 "cells": [
  {
   "cell_type": "markdown",
   "id": "6fb984e7",
   "metadata": {},
   "source": [
    "## Import libraries."
   ]
  },
  {
   "cell_type": "code",
   "execution_count": 1,
   "id": "63fb0acd",
   "metadata": {},
   "outputs": [],
   "source": [
    "import pandas as pd  \n",
    "import numpy as np\n",
    "import os                           # For file processing.\n",
    "import xlsxwriter\n",
    "from plotly.subplots import make_subplots\n",
    "import plotly.graph_objects as go\n",
    "import plotly.express as px"
   ]
  },
  {
   "cell_type": "markdown",
   "id": "b2076cb0",
   "metadata": {},
   "source": [
    "## Set relative paths for the data"
   ]
  },
  {
   "cell_type": "code",
   "execution_count": 2,
   "id": "8f9e7e05",
   "metadata": {},
   "outputs": [
    {
     "name": "stdout",
     "output_type": "stream",
     "text": [
      "current_dir           = C:\\Users\\m033\\MSc\\DataAnalyticsAndVisualisation\\project\n",
      "data_dir              = C:\\Users\\m033\\MSc\\DataAnalyticsAndVisualisation\\project\\data\n",
      "Köln_directory        = C:\\Users\\m033\\MSc\\DataAnalyticsAndVisualisation\\project\\data\\Köln\n",
      "NeuIsenburg_data      = C:\\Users\\m033\\MSc\\DataAnalyticsAndVisualisation\\project\\data\\Neu-Isenburg\n",
      "GHG Tools             = C:\\Users\\m033\\MSc\\DataAnalyticsAndVisualisation\\project\\data\\Tools\n",
      "Output_xls_file       = C:\\Users\\m033\\MSc\\DataAnalyticsAndVisualisation\\project\\data\\Summmarised_metrics.xlsx\n",
      "Mock_output_xls_file  = C:\\Users\\m033\\MSc\\DataAnalyticsAndVisualisation\\project\\data\\Mocked_metrics.xlsx\n"
     ]
    }
   ],
   "source": [
    "# Get the current directory.\n",
    "current_dir = os.getcwd()\n",
    "\n",
    "# Get the data from location folder.\n",
    "data_dir    = os.path.join(current_dir,'data')\n",
    "Köln_directory = os.path.join(data_dir, 'Köln')\n",
    "NeuIsenburg_data = os.path.join(data_dir, 'Neu-Isenburg')\n",
    "GHG_Tools = os.path.join(data_dir, 'Tools')\n",
    "Output_xls_file  = os.path.join(data_dir,'Summmarised_metrics.xlsx')\n",
    "Mock_output_xls_file  = os.path.join(data_dir,'Mocked_metrics.xlsx')\n",
    "\n",
    "print('current_dir           =',current_dir)\n",
    "print('data_dir              =',data_dir)\n",
    "print('Köln_directory        =',Köln_directory)\n",
    "print('NeuIsenburg_data      =',NeuIsenburg_data)\n",
    "print('GHG Tools             =',GHG_Tools)\n",
    "print('Output_xls_file       =',Output_xls_file)\n",
    "print('Mock_output_xls_file  =',Mock_output_xls_file)"
   ]
  },
  {
   "cell_type": "markdown",
   "id": "c51d4824",
   "metadata": {},
   "source": [
    "## The office invoices are in German and will need translation.  This dictionary will be used as a lookup to change column names and data values.  It was constructed using Google translare.  There is a google translate module in python but static values are needed."
   ]
  },
  {
   "cell_type": "code",
   "execution_count": 3,
   "id": "d50f70c9",
   "metadata": {},
   "outputs": [
    {
     "data": {
      "text/plain": [
       "{'grundsteur': 'Basic_Tax',\n",
       " 'wasser': 'Water',\n",
       " 'entwasserung': 'Drainage',\n",
       " 'regenwasser': 'Rainwater',\n",
       " 'entwasserung (regenwasser)': 'drainage (rainwater)',\n",
       " 'strassenreinigung': 'Street_Cleaning',\n",
       " 'mullabfuhr': 'Garbage_Disposal',\n",
       " 'hausreinigung': 'House_Cleaning',\n",
       " 'hausreinigung (dienstl)': 'house cleaning (service)',\n",
       " 'gartenpflege': 'Garden_Maintenance',\n",
       " 'gartenpflege (dienstl)': 'garden maintenance (dienstl)',\n",
       " 'stromkosten': 'Electricity_Costs',\n",
       " 'gebaudeversicherung': 'Building_Insurance',\n",
       " 'haftplichtgebaudeversicherung': 'Liability_Building_Insurance',\n",
       " 'wartung rauchschutz': 'Maintenance_Smoke_Protection',\n",
       " 'wartung prufung': 'Maintenance_Check',\n",
       " 'feuerloscherpufung': 'Fire_Extinguisher_Test',\n",
       " 'hauswartleist': 'Caretaker',\n",
       " 'heizkosten': 'Heating_Costs',\n",
       " 'kostenart': 'Cost_Type',\n",
       " 'umlageschlussel': 'Turnover_Key',\n",
       " 'nutzflache': 'Usable_Area',\n",
       " 'bemessung gesamt': 'Overall_Dimensioning',\n",
       " 'bemessung anteilig': 'Measurement_Pro_Rata',\n",
       " 'gesamt kosten': 'Total_Cost',\n",
       " 'ihre kosten': 'Your_Costs'}"
      ]
     },
     "execution_count": 3,
     "metadata": {},
     "output_type": "execute_result"
    }
   ],
   "source": [
    "# Create a translation dictionary to change teh german invoive items to english.\n",
    "Translate_Dict = {\n",
    "'grundsteur':'Basic_Tax',\n",
    "'wasser':'Water',\n",
    "'entwasserung':'Drainage',\n",
    "'regenwasser':'Rainwater',\n",
    "'entwasserung (regenwasser)':'drainage (rainwater)',\n",
    "'strassenreinigung':'Street_Cleaning',\n",
    "'mullabfuhr':'Garbage_Disposal',\n",
    "'hausreinigung':'House_Cleaning',\n",
    "'hausreinigung (dienstl)':'house cleaning (service)',\n",
    "'gartenpflege':'Garden_Maintenance',\n",
    "'gartenpflege (dienstl)':'garden maintenance (dienstl)',\n",
    "'stromkosten':'Electricity_Costs',\n",
    "'gebaudeversicherung':'Building_Insurance',\n",
    "'haftplichtgebaudeversicherung':'Liability_Building_Insurance',\n",
    "'wartung rauchschutz':'Maintenance_Smoke_Protection',\n",
    "'wartung prufung':'Maintenance_Check',\n",
    "'feuerloscherpufung':'Fire_Extinguisher_Test',\n",
    "'hauswartleist':'Caretaker',\n",
    "'heizkosten':'Heating_Costs',\n",
    "'kostenart':'Cost_Type',\n",
    "'umlageschlussel':'Turnover_Key',\n",
    "'nutzflache':'Usable_Area',\n",
    "'bemessung gesamt':'Overall_Dimensioning',\n",
    "'bemessung anteilig':'Measurement_Pro_Rata',\n",
    "'gesamt kosten':'Total_Cost',\n",
    "'ihre kosten':'Your_Costs'};\n",
    "Translate_Dict"
   ]
  },
  {
   "cell_type": "markdown",
   "id": "a7948556",
   "metadata": {},
   "source": [
    "# Collect Neu-Isenburg data"
   ]
  },
  {
   "cell_type": "markdown",
   "id": "a3bc5b59",
   "metadata": {},
   "source": [
    "### Read the electricity invoices for Neu-Isenburg into a pandas dataframe"
   ]
  },
  {
   "cell_type": "code",
   "execution_count": 4,
   "id": "d2e41bd0",
   "metadata": {},
   "outputs": [
    {
     "data": {
      "text/html": [
       "<div>\n",
       "<style scoped>\n",
       "    .dataframe tbody tr th:only-of-type {\n",
       "        vertical-align: middle;\n",
       "    }\n",
       "\n",
       "    .dataframe tbody tr th {\n",
       "        vertical-align: top;\n",
       "    }\n",
       "\n",
       "    .dataframe thead th {\n",
       "        text-align: right;\n",
       "    }\n",
       "</style>\n",
       "<table border=\"1\" class=\"dataframe\">\n",
       "  <thead>\n",
       "    <tr style=\"text-align: right;\">\n",
       "      <th></th>\n",
       "      <th>STROM</th>\n",
       "      <th>2018</th>\n",
       "      <th>2019</th>\n",
       "      <th>2020</th>\n",
       "    </tr>\n",
       "  </thead>\n",
       "  <tbody>\n",
       "    <tr>\n",
       "      <th>0</th>\n",
       "      <td>Januar</td>\n",
       "      <td>16210.0</td>\n",
       "      <td>16637.0</td>\n",
       "      <td>15140.0</td>\n",
       "    </tr>\n",
       "    <tr>\n",
       "      <th>1</th>\n",
       "      <td>Februar</td>\n",
       "      <td>14146.0</td>\n",
       "      <td>15135.0</td>\n",
       "      <td>14130.0</td>\n",
       "    </tr>\n",
       "    <tr>\n",
       "      <th>2</th>\n",
       "      <td>März</td>\n",
       "      <td>15374.0</td>\n",
       "      <td>16090.0</td>\n",
       "      <td>12952.0</td>\n",
       "    </tr>\n",
       "    <tr>\n",
       "      <th>3</th>\n",
       "      <td>April</td>\n",
       "      <td>14092.0</td>\n",
       "      <td>14468.0</td>\n",
       "      <td>10089.0</td>\n",
       "    </tr>\n",
       "    <tr>\n",
       "      <th>4</th>\n",
       "      <td>Mai</td>\n",
       "      <td>14173.0</td>\n",
       "      <td>14698.0</td>\n",
       "      <td>10542.0</td>\n",
       "    </tr>\n",
       "    <tr>\n",
       "      <th>5</th>\n",
       "      <td>Juni</td>\n",
       "      <td>14556.0</td>\n",
       "      <td>13564.0</td>\n",
       "      <td>10091.0</td>\n",
       "    </tr>\n",
       "    <tr>\n",
       "      <th>6</th>\n",
       "      <td>Juli</td>\n",
       "      <td>15208.0</td>\n",
       "      <td>15181.0</td>\n",
       "      <td>10571.0</td>\n",
       "    </tr>\n",
       "    <tr>\n",
       "      <th>7</th>\n",
       "      <td>August</td>\n",
       "      <td>15908.0</td>\n",
       "      <td>15058.0</td>\n",
       "      <td>10311.0</td>\n",
       "    </tr>\n",
       "    <tr>\n",
       "      <th>8</th>\n",
       "      <td>September</td>\n",
       "      <td>14237.0</td>\n",
       "      <td>14320.0</td>\n",
       "      <td>10249.0</td>\n",
       "    </tr>\n",
       "    <tr>\n",
       "      <th>9</th>\n",
       "      <td>Oktober</td>\n",
       "      <td>15829.0</td>\n",
       "      <td>15233.0</td>\n",
       "      <td>11502.0</td>\n",
       "    </tr>\n",
       "    <tr>\n",
       "      <th>10</th>\n",
       "      <td>November</td>\n",
       "      <td>16725.0</td>\n",
       "      <td>14886.0</td>\n",
       "      <td>10599.0</td>\n",
       "    </tr>\n",
       "    <tr>\n",
       "      <th>11</th>\n",
       "      <td>Dezember</td>\n",
       "      <td>15570.0</td>\n",
       "      <td>14387.0</td>\n",
       "      <td>10677.0</td>\n",
       "    </tr>\n",
       "    <tr>\n",
       "      <th>12</th>\n",
       "      <td>Jahresverbrauch</td>\n",
       "      <td>182028.0</td>\n",
       "      <td>179657.0</td>\n",
       "      <td>138873.0</td>\n",
       "    </tr>\n",
       "    <tr>\n",
       "      <th>13</th>\n",
       "      <td>NaN</td>\n",
       "      <td>NaN</td>\n",
       "      <td>NaN</td>\n",
       "      <td>NaN</td>\n",
       "    </tr>\n",
       "    <tr>\n",
       "      <th>14</th>\n",
       "      <td>Konferenz</td>\n",
       "      <td>6430.0</td>\n",
       "      <td>8375.0</td>\n",
       "      <td>7586.0</td>\n",
       "    </tr>\n",
       "    <tr>\n",
       "      <th>15</th>\n",
       "      <td>Workout</td>\n",
       "      <td>108.0</td>\n",
       "      <td>771.0</td>\n",
       "      <td>3.0</td>\n",
       "    </tr>\n",
       "    <tr>\n",
       "      <th>16</th>\n",
       "      <td>NaN</td>\n",
       "      <td>NaN</td>\n",
       "      <td>NaN</td>\n",
       "      <td>NaN</td>\n",
       "    </tr>\n",
       "    <tr>\n",
       "      <th>17</th>\n",
       "      <td>Gesamt</td>\n",
       "      <td>188566.0</td>\n",
       "      <td>188803.0</td>\n",
       "      <td>146462.0</td>\n",
       "    </tr>\n",
       "    <tr>\n",
       "      <th>18</th>\n",
       "      <td>NaN</td>\n",
       "      <td>NaN</td>\n",
       "      <td>NaN</td>\n",
       "      <td>NaN</td>\n",
       "    </tr>\n",
       "    <tr>\n",
       "      <th>19</th>\n",
       "      <td>NaN</td>\n",
       "      <td>NaN</td>\n",
       "      <td>NaN</td>\n",
       "      <td>NaN</td>\n",
       "    </tr>\n",
       "    <tr>\n",
       "      <th>20</th>\n",
       "      <td>NaN</td>\n",
       "      <td>NaN</td>\n",
       "      <td>NaN</td>\n",
       "      <td>NaN</td>\n",
       "    </tr>\n",
       "    <tr>\n",
       "      <th>21</th>\n",
       "      <td>CO2-Rechner | CO2-Emissionen berechnen (kliman...</td>\n",
       "      <td>NaN</td>\n",
       "      <td>NaN</td>\n",
       "      <td>NaN</td>\n",
       "    </tr>\n",
       "  </tbody>\n",
       "</table>\n",
       "</div>"
      ],
      "text/plain": [
       "                                                STROM      2018      2019  \\\n",
       "0                                              Januar   16210.0   16637.0   \n",
       "1                                             Februar   14146.0   15135.0   \n",
       "2                                                März   15374.0   16090.0   \n",
       "3                                               April   14092.0   14468.0   \n",
       "4                                                 Mai   14173.0   14698.0   \n",
       "5                                                Juni   14556.0   13564.0   \n",
       "6                                                Juli   15208.0   15181.0   \n",
       "7                                              August   15908.0   15058.0   \n",
       "8                                           September   14237.0   14320.0   \n",
       "9                                             Oktober   15829.0   15233.0   \n",
       "10                                           November   16725.0   14886.0   \n",
       "11                                           Dezember   15570.0   14387.0   \n",
       "12                                    Jahresverbrauch  182028.0  179657.0   \n",
       "13                                                NaN       NaN       NaN   \n",
       "14                                          Konferenz    6430.0    8375.0   \n",
       "15                                            Workout     108.0     771.0   \n",
       "16                                                NaN       NaN       NaN   \n",
       "17                                             Gesamt  188566.0  188803.0   \n",
       "18                                                NaN       NaN       NaN   \n",
       "19                                                NaN       NaN       NaN   \n",
       "20                                                NaN       NaN       NaN   \n",
       "21  CO2-Rechner | CO2-Emissionen berechnen (kliman...       NaN       NaN   \n",
       "\n",
       "        2020  \n",
       "0    15140.0  \n",
       "1    14130.0  \n",
       "2    12952.0  \n",
       "3    10089.0  \n",
       "4    10542.0  \n",
       "5    10091.0  \n",
       "6    10571.0  \n",
       "7    10311.0  \n",
       "8    10249.0  \n",
       "9    11502.0  \n",
       "10   10599.0  \n",
       "11   10677.0  \n",
       "12  138873.0  \n",
       "13       NaN  \n",
       "14    7586.0  \n",
       "15       3.0  \n",
       "16       NaN  \n",
       "17  146462.0  \n",
       "18       NaN  \n",
       "19       NaN  \n",
       "20       NaN  \n",
       "21       NaN  "
      ]
     },
     "execution_count": 4,
     "metadata": {},
     "output_type": "execute_result"
    }
   ],
   "source": [
    "NI_elec_data = os.path.join(NeuIsenburg_data,'Strom- und Wasserverbrauch 18-20.xlsx')\n",
    "df_NI_electricity = pd.read_excel(NI_elec_data,sheet_name='Tabelle1')\n",
    "df_NI_electricity"
   ]
  },
  {
   "cell_type": "code",
   "execution_count": 5,
   "id": "a4685305",
   "metadata": {},
   "outputs": [
    {
     "name": "stdout",
     "output_type": "stream",
     "text": [
      "['STROM', 2018, 2019, 2020]\n"
     ]
    }
   ],
   "source": [
    "# Check the colimn names\n",
    "print (df_NI_electricity.columns.values.tolist())"
   ]
  },
  {
   "cell_type": "code",
   "execution_count": 6,
   "id": "aee575ce",
   "metadata": {},
   "outputs": [
    {
     "name": "stdout",
     "output_type": "stream",
     "text": [
      "['STROM', '2018', '2019', '2020']\n"
     ]
    }
   ],
   "source": [
    "# The year columns have no quotes so will not appear in the index.\n",
    "\n",
    "# Create new columns and assign the existing values.\n",
    "df_NI_electricity['2018'] = df_NI_electricity[2018]\n",
    "df_NI_electricity['2019'] = df_NI_electricity[2019]\n",
    "df_NI_electricity['2020'] = df_NI_electricity[2020]\n",
    "\n",
    "# Drop the existing columns\n",
    "df_NI_electricity = df_NI_electricity.drop(columns=[2018,2019,2020])\n",
    "\n",
    "# Check the colimn names\n",
    "print (df_NI_electricity.columns.values.tolist())"
   ]
  },
  {
   "cell_type": "code",
   "execution_count": 7,
   "id": "34fb4cdf",
   "metadata": {},
   "outputs": [
    {
     "data": {
      "text/html": [
       "<div>\n",
       "<style scoped>\n",
       "    .dataframe tbody tr th:only-of-type {\n",
       "        vertical-align: middle;\n",
       "    }\n",
       "\n",
       "    .dataframe tbody tr th {\n",
       "        vertical-align: top;\n",
       "    }\n",
       "\n",
       "    .dataframe thead th {\n",
       "        text-align: right;\n",
       "    }\n",
       "</style>\n",
       "<table border=\"1\" class=\"dataframe\">\n",
       "  <thead>\n",
       "    <tr style=\"text-align: right;\">\n",
       "      <th></th>\n",
       "      <th>Month</th>\n",
       "      <th>2018</th>\n",
       "      <th>2019</th>\n",
       "      <th>2020</th>\n",
       "      <th>Metric</th>\n",
       "      <th>Measure</th>\n",
       "    </tr>\n",
       "  </thead>\n",
       "  <tbody>\n",
       "    <tr>\n",
       "      <th>0</th>\n",
       "      <td>1</td>\n",
       "      <td>16210.0</td>\n",
       "      <td>16637.0</td>\n",
       "      <td>15140.0</td>\n",
       "      <td>Electricity</td>\n",
       "      <td>Kilowatts</td>\n",
       "    </tr>\n",
       "    <tr>\n",
       "      <th>1</th>\n",
       "      <td>2</td>\n",
       "      <td>14146.0</td>\n",
       "      <td>15135.0</td>\n",
       "      <td>14130.0</td>\n",
       "      <td>Electricity</td>\n",
       "      <td>Kilowatts</td>\n",
       "    </tr>\n",
       "    <tr>\n",
       "      <th>2</th>\n",
       "      <td>3</td>\n",
       "      <td>15374.0</td>\n",
       "      <td>16090.0</td>\n",
       "      <td>12952.0</td>\n",
       "      <td>Electricity</td>\n",
       "      <td>Kilowatts</td>\n",
       "    </tr>\n",
       "    <tr>\n",
       "      <th>3</th>\n",
       "      <td>4</td>\n",
       "      <td>14092.0</td>\n",
       "      <td>14468.0</td>\n",
       "      <td>10089.0</td>\n",
       "      <td>Electricity</td>\n",
       "      <td>Kilowatts</td>\n",
       "    </tr>\n",
       "    <tr>\n",
       "      <th>4</th>\n",
       "      <td>5</td>\n",
       "      <td>14173.0</td>\n",
       "      <td>14698.0</td>\n",
       "      <td>10542.0</td>\n",
       "      <td>Electricity</td>\n",
       "      <td>Kilowatts</td>\n",
       "    </tr>\n",
       "  </tbody>\n",
       "</table>\n",
       "</div>"
      ],
      "text/plain": [
       "   Month     2018     2019     2020       Metric    Measure\n",
       "0      1  16210.0  16637.0  15140.0  Electricity  Kilowatts\n",
       "1      2  14146.0  15135.0  14130.0  Electricity  Kilowatts\n",
       "2      3  15374.0  16090.0  12952.0  Electricity  Kilowatts\n",
       "3      4  14092.0  14468.0  10089.0  Electricity  Kilowatts\n",
       "4      5  14173.0  14698.0  10542.0  Electricity  Kilowatts"
      ]
     },
     "execution_count": 7,
     "metadata": {},
     "output_type": "execute_result"
    }
   ],
   "source": [
    "# Drop the Nan rows.\n",
    "df_NI_electricity = df_NI_electricity.dropna()\n",
    "# Remove that last 4 rows.\n",
    "df_NI_electricity = df_NI_electricity.iloc[:-4]\n",
    "\n",
    "# Add a Mteric column.\n",
    "df_NI_electricity['Metric'] = 'Electricity'\n",
    "\n",
    "# Rename the columns to an english value.\n",
    "df_NI_electricity.rename(columns = {'STROM':'Month'}, inplace = True)\n",
    "\n",
    "# Convert the German months to numbers\n",
    "df_NI_electricity['Month'] = df_NI_electricity['Month'].map({'Januar': 1, \n",
    "                                                             'Februar': 2, \n",
    "                                                             'März': 3, \n",
    "                                                             'April': 4, \n",
    "                                                             'Mai': 5, \n",
    "                                                             'Juni': 6, \n",
    "                                                             'Juli': 7, \n",
    "                                                             'August': 8, \n",
    "                                                             'September': 9, \n",
    "                                                             'Oktober': 10, \n",
    "                                                             'November': 11, \n",
    "                                                             'Dezember': 12})\n",
    "df_NI_electricity['Measure'] = 'Kilowatts'\n",
    "df_NI_electricity.head()\n"
   ]
  },
  {
   "cell_type": "code",
   "execution_count": 8,
   "id": "8df5f7ee",
   "metadata": {},
   "outputs": [
    {
     "data": {
      "text/plain": [
       "Month        int64\n",
       "2018       float64\n",
       "2019       float64\n",
       "2020       float64\n",
       "Metric      object\n",
       "Measure     object\n",
       "dtype: object"
      ]
     },
     "execution_count": 8,
     "metadata": {},
     "output_type": "execute_result"
    }
   ],
   "source": [
    "# Look at the datatypes\n",
    "df_NI_electricity.dtypes"
   ]
  },
  {
   "cell_type": "markdown",
   "id": "98657d33",
   "metadata": {},
   "source": [
    "### Datatypes look correct.\n",
    "### The dataframe is almost in the correct format identified in the Identify_Data notebook. The only change is to summarise the years.\n",
    "\n",
    "### Read the general office invoices for Neu-Isenburg into a pandas dataframe"
   ]
  },
  {
   "cell_type": "code",
   "execution_count": 9,
   "id": "f9060f68",
   "metadata": {},
   "outputs": [
    {
     "data": {
      "text/html": [
       "<div>\n",
       "<style scoped>\n",
       "    .dataframe tbody tr th:only-of-type {\n",
       "        vertical-align: middle;\n",
       "    }\n",
       "\n",
       "    .dataframe tbody tr th {\n",
       "        vertical-align: top;\n",
       "    }\n",
       "\n",
       "    .dataframe thead th {\n",
       "        text-align: right;\n",
       "    }\n",
       "</style>\n",
       "<table border=\"1\" class=\"dataframe\">\n",
       "  <thead>\n",
       "    <tr style=\"text-align: right;\">\n",
       "      <th></th>\n",
       "      <th>kostenart</th>\n",
       "      <th>umlageschlussel</th>\n",
       "      <th>bemessung gesamt</th>\n",
       "      <th>bemessung anteilig</th>\n",
       "      <th>gesamt kosten</th>\n",
       "      <th>ihre kosten</th>\n",
       "    </tr>\n",
       "  </thead>\n",
       "  <tbody>\n",
       "    <tr>\n",
       "      <th>0</th>\n",
       "      <td>grundsteur</td>\n",
       "      <td>nutzflache</td>\n",
       "      <td>335.1</td>\n",
       "      <td>21.5625</td>\n",
       "      <td>647.0475</td>\n",
       "      <td>41.6325</td>\n",
       "    </tr>\n",
       "    <tr>\n",
       "      <th>1</th>\n",
       "      <td>wasser</td>\n",
       "      <td>nutzflache</td>\n",
       "      <td>335.1</td>\n",
       "      <td>21.5625</td>\n",
       "      <td>474.4275</td>\n",
       "      <td>30.5325</td>\n",
       "    </tr>\n",
       "    <tr>\n",
       "      <th>2</th>\n",
       "      <td>entwasserung</td>\n",
       "      <td>nutzflache</td>\n",
       "      <td>335.1</td>\n",
       "      <td>21.5625</td>\n",
       "      <td>703.2450</td>\n",
       "      <td>45.2550</td>\n",
       "    </tr>\n",
       "    <tr>\n",
       "      <th>3</th>\n",
       "      <td>entwasserung (regenwasser)</td>\n",
       "      <td>nutzflache</td>\n",
       "      <td>335.1</td>\n",
       "      <td>21.5625</td>\n",
       "      <td>249.0600</td>\n",
       "      <td>16.0275</td>\n",
       "    </tr>\n",
       "    <tr>\n",
       "      <th>4</th>\n",
       "      <td>strassenreinigung</td>\n",
       "      <td>nutzflache</td>\n",
       "      <td>335.1</td>\n",
       "      <td>21.5625</td>\n",
       "      <td>94.9500</td>\n",
       "      <td>6.1125</td>\n",
       "    </tr>\n",
       "  </tbody>\n",
       "</table>\n",
       "</div>"
      ],
      "text/plain": [
       "                    kostenart umlageschlussel  bemessung gesamt  \\\n",
       "0                  grundsteur      nutzflache             335.1   \n",
       "1                      wasser      nutzflache             335.1   \n",
       "2                entwasserung      nutzflache             335.1   \n",
       "3  entwasserung (regenwasser)      nutzflache             335.1   \n",
       "4           strassenreinigung      nutzflache             335.1   \n",
       "\n",
       "   bemessung anteilig  gesamt kosten  ihre kosten  \n",
       "0             21.5625       647.0475      41.6325  \n",
       "1             21.5625       474.4275      30.5325  \n",
       "2             21.5625       703.2450      45.2550  \n",
       "3             21.5625       249.0600      16.0275  \n",
       "4             21.5625        94.9500       6.1125  "
      ]
     },
     "execution_count": 9,
     "metadata": {},
     "output_type": "execute_result"
    }
   ],
   "source": [
    "# Read the NI general office invoice.  It will contain some non relevant data which will be filtered.\n",
    "NI_gen_data = os.path.join(NeuIsenburg_data,'20205716 Wohnbau.xlsx')\n",
    "df_NI_general_2018 = pd.read_excel(NI_gen_data,sheet_name='Sheet1')\n",
    "# Create a Year column.\n",
    "df_NI_general_2018.head()"
   ]
  },
  {
   "cell_type": "code",
   "execution_count": 10,
   "id": "30b0cb3d",
   "metadata": {},
   "outputs": [
    {
     "data": {
      "text/html": [
       "<div>\n",
       "<style scoped>\n",
       "    .dataframe tbody tr th:only-of-type {\n",
       "        vertical-align: middle;\n",
       "    }\n",
       "\n",
       "    .dataframe tbody tr th {\n",
       "        vertical-align: top;\n",
       "    }\n",
       "\n",
       "    .dataframe thead th {\n",
       "        text-align: right;\n",
       "    }\n",
       "</style>\n",
       "<table border=\"1\" class=\"dataframe\">\n",
       "  <thead>\n",
       "    <tr style=\"text-align: right;\">\n",
       "      <th></th>\n",
       "      <th>Cost_Type</th>\n",
       "      <th>Turnover_Key</th>\n",
       "      <th>Overall_Dimensioning</th>\n",
       "      <th>Measurement_Pro_Rata</th>\n",
       "      <th>Total_Cost</th>\n",
       "      <th>Your_Costs</th>\n",
       "    </tr>\n",
       "  </thead>\n",
       "  <tbody>\n",
       "    <tr>\n",
       "      <th>0</th>\n",
       "      <td>grundsteur</td>\n",
       "      <td>nutzflache</td>\n",
       "      <td>335.1</td>\n",
       "      <td>21.5625</td>\n",
       "      <td>647.0475</td>\n",
       "      <td>41.6325</td>\n",
       "    </tr>\n",
       "    <tr>\n",
       "      <th>1</th>\n",
       "      <td>wasser</td>\n",
       "      <td>nutzflache</td>\n",
       "      <td>335.1</td>\n",
       "      <td>21.5625</td>\n",
       "      <td>474.4275</td>\n",
       "      <td>30.5325</td>\n",
       "    </tr>\n",
       "    <tr>\n",
       "      <th>2</th>\n",
       "      <td>entwasserung</td>\n",
       "      <td>nutzflache</td>\n",
       "      <td>335.1</td>\n",
       "      <td>21.5625</td>\n",
       "      <td>703.2450</td>\n",
       "      <td>45.2550</td>\n",
       "    </tr>\n",
       "    <tr>\n",
       "      <th>3</th>\n",
       "      <td>entwasserung (regenwasser)</td>\n",
       "      <td>nutzflache</td>\n",
       "      <td>335.1</td>\n",
       "      <td>21.5625</td>\n",
       "      <td>249.0600</td>\n",
       "      <td>16.0275</td>\n",
       "    </tr>\n",
       "    <tr>\n",
       "      <th>4</th>\n",
       "      <td>strassenreinigung</td>\n",
       "      <td>nutzflache</td>\n",
       "      <td>335.1</td>\n",
       "      <td>21.5625</td>\n",
       "      <td>94.9500</td>\n",
       "      <td>6.1125</td>\n",
       "    </tr>\n",
       "  </tbody>\n",
       "</table>\n",
       "</div>"
      ],
      "text/plain": [
       "                    Cost_Type Turnover_Key  Overall_Dimensioning  \\\n",
       "0                  grundsteur   nutzflache                 335.1   \n",
       "1                      wasser   nutzflache                 335.1   \n",
       "2                entwasserung   nutzflache                 335.1   \n",
       "3  entwasserung (regenwasser)   nutzflache                 335.1   \n",
       "4           strassenreinigung   nutzflache                 335.1   \n",
       "\n",
       "   Measurement_Pro_Rata  Total_Cost  Your_Costs  \n",
       "0               21.5625    647.0475     41.6325  \n",
       "1               21.5625    474.4275     30.5325  \n",
       "2               21.5625    703.2450     45.2550  \n",
       "3               21.5625    249.0600     16.0275  \n",
       "4               21.5625     94.9500      6.1125  "
      ]
     },
     "execution_count": 10,
     "metadata": {},
     "output_type": "execute_result"
    }
   ],
   "source": [
    "# Rename the columns to an english value, using teh translation dictionaty.\n",
    "df_NI_general_2018.rename(columns = {'kostenart':(Translate_Dict.get(\"kostenart\"))}, inplace = True)\n",
    "df_NI_general_2018.rename(columns = {'umlageschlussel':(Translate_Dict.get(\"umlageschlussel\"))}, inplace = True)\n",
    "df_NI_general_2018.rename(columns = {'bemessung gesamt':(Translate_Dict.get(\"bemessung gesamt\"))}, inplace = True)\n",
    "df_NI_general_2018.rename(columns = {'bemessung anteilig':(Translate_Dict.get(\"bemessung anteilig\"))}, inplace = True)\n",
    "df_NI_general_2018.rename(columns = {'gesamt kosten':(Translate_Dict.get(\"gesamt kosten\"))}, inplace = True)\n",
    "df_NI_general_2018.rename(columns = {'ihre kosten':(Translate_Dict.get(\"ihre kosten\"))}, inplace = True)\n",
    "\n",
    "# Drop the Nan rows.  Anything without a value is not an invoice line item.\n",
    "df_NI_general_2018 = df_NI_general_2018.dropna()\n",
    "\n",
    "df_NI_general_2018.head()"
   ]
  },
  {
   "cell_type": "code",
   "execution_count": 11,
   "id": "2a768418",
   "metadata": {},
   "outputs": [
    {
     "data": {
      "text/html": [
       "<div>\n",
       "<style scoped>\n",
       "    .dataframe tbody tr th:only-of-type {\n",
       "        vertical-align: middle;\n",
       "    }\n",
       "\n",
       "    .dataframe tbody tr th {\n",
       "        vertical-align: top;\n",
       "    }\n",
       "\n",
       "    .dataframe thead th {\n",
       "        text-align: right;\n",
       "    }\n",
       "</style>\n",
       "<table border=\"1\" class=\"dataframe\">\n",
       "  <thead>\n",
       "    <tr style=\"text-align: right;\">\n",
       "      <th></th>\n",
       "      <th>Cost_Type</th>\n",
       "      <th>Turnover_Key</th>\n",
       "      <th>Overall_Dimensioning</th>\n",
       "      <th>Measurement_Pro_Rata</th>\n",
       "      <th>Total_Cost</th>\n",
       "      <th>Your_Costs</th>\n",
       "    </tr>\n",
       "  </thead>\n",
       "  <tbody>\n",
       "    <tr>\n",
       "      <th>0</th>\n",
       "      <td>Basic_Tax</td>\n",
       "      <td>Usable_Area</td>\n",
       "      <td>335.1</td>\n",
       "      <td>21.5625</td>\n",
       "      <td>647.0475</td>\n",
       "      <td>41.6325</td>\n",
       "    </tr>\n",
       "    <tr>\n",
       "      <th>1</th>\n",
       "      <td>Water</td>\n",
       "      <td>Usable_Area</td>\n",
       "      <td>335.1</td>\n",
       "      <td>21.5625</td>\n",
       "      <td>474.4275</td>\n",
       "      <td>30.5325</td>\n",
       "    </tr>\n",
       "    <tr>\n",
       "      <th>2</th>\n",
       "      <td>Drainage</td>\n",
       "      <td>Usable_Area</td>\n",
       "      <td>335.1</td>\n",
       "      <td>21.5625</td>\n",
       "      <td>703.2450</td>\n",
       "      <td>45.2550</td>\n",
       "    </tr>\n",
       "    <tr>\n",
       "      <th>3</th>\n",
       "      <td>drainage (rainwater)</td>\n",
       "      <td>Usable_Area</td>\n",
       "      <td>335.1</td>\n",
       "      <td>21.5625</td>\n",
       "      <td>249.0600</td>\n",
       "      <td>16.0275</td>\n",
       "    </tr>\n",
       "    <tr>\n",
       "      <th>4</th>\n",
       "      <td>Street_Cleaning</td>\n",
       "      <td>Usable_Area</td>\n",
       "      <td>335.1</td>\n",
       "      <td>21.5625</td>\n",
       "      <td>94.9500</td>\n",
       "      <td>6.1125</td>\n",
       "    </tr>\n",
       "  </tbody>\n",
       "</table>\n",
       "</div>"
      ],
      "text/plain": [
       "              Cost_Type Turnover_Key  Overall_Dimensioning  \\\n",
       "0             Basic_Tax  Usable_Area                 335.1   \n",
       "1                 Water  Usable_Area                 335.1   \n",
       "2              Drainage  Usable_Area                 335.1   \n",
       "3  drainage (rainwater)  Usable_Area                 335.1   \n",
       "4       Street_Cleaning  Usable_Area                 335.1   \n",
       "\n",
       "   Measurement_Pro_Rata  Total_Cost  Your_Costs  \n",
       "0               21.5625    647.0475     41.6325  \n",
       "1               21.5625    474.4275     30.5325  \n",
       "2               21.5625    703.2450     45.2550  \n",
       "3               21.5625    249.0600     16.0275  \n",
       "4               21.5625     94.9500      6.1125  "
      ]
     },
     "execution_count": 11,
     "metadata": {},
     "output_type": "execute_result"
    }
   ],
   "source": [
    "# Create a mask to use in translation of the Cost_Type column\n",
    "Cost_Type_mask = df_NI_general_2018['Cost_Type'].isin(Translate_Dict.keys())\n",
    "\n",
    "# Create a mask to use in translation of the Cost_Type column\n",
    "Turnover_Key_mask = df_NI_general_2018['Turnover_Key'].isin(Translate_Dict.keys())\n",
    "\n",
    "# Translate teh 2 columns with german data\n",
    "df_NI_general_2018.loc[Cost_Type_mask, 'Cost_Type'] = df_NI_general_2018.loc[Cost_Type_mask, 'Cost_Type'].map(Translate_Dict)\n",
    "df_NI_general_2018.loc[Turnover_Key_mask, 'Turnover_Key'] = df_NI_general_2018.loc[Turnover_Key_mask, 'Turnover_Key'].map(Translate_Dict)\n",
    "df_NI_general_2018.head()"
   ]
  },
  {
   "cell_type": "code",
   "execution_count": 12,
   "id": "757ca939",
   "metadata": {},
   "outputs": [
    {
     "data": {
      "text/html": [
       "<div>\n",
       "<style scoped>\n",
       "    .dataframe tbody tr th:only-of-type {\n",
       "        vertical-align: middle;\n",
       "    }\n",
       "\n",
       "    .dataframe tbody tr th {\n",
       "        vertical-align: top;\n",
       "    }\n",
       "\n",
       "    .dataframe thead th {\n",
       "        text-align: right;\n",
       "    }\n",
       "</style>\n",
       "<table border=\"1\" class=\"dataframe\">\n",
       "  <thead>\n",
       "    <tr style=\"text-align: right;\">\n",
       "      <th></th>\n",
       "      <th>Cost_Type</th>\n",
       "      <th>2018</th>\n",
       "    </tr>\n",
       "  </thead>\n",
       "  <tbody>\n",
       "    <tr>\n",
       "      <th>0</th>\n",
       "      <td>Basic_Tax</td>\n",
       "      <td>647.0475</td>\n",
       "    </tr>\n",
       "    <tr>\n",
       "      <th>1</th>\n",
       "      <td>Water</td>\n",
       "      <td>474.4275</td>\n",
       "    </tr>\n",
       "    <tr>\n",
       "      <th>2</th>\n",
       "      <td>Drainage</td>\n",
       "      <td>703.2450</td>\n",
       "    </tr>\n",
       "    <tr>\n",
       "      <th>3</th>\n",
       "      <td>drainage (rainwater)</td>\n",
       "      <td>249.0600</td>\n",
       "    </tr>\n",
       "    <tr>\n",
       "      <th>4</th>\n",
       "      <td>Street_Cleaning</td>\n",
       "      <td>94.9500</td>\n",
       "    </tr>\n",
       "    <tr>\n",
       "      <th>5</th>\n",
       "      <td>Garbage_Disposal</td>\n",
       "      <td>722.6850</td>\n",
       "    </tr>\n",
       "    <tr>\n",
       "      <th>6</th>\n",
       "      <td>House_Cleaning</td>\n",
       "      <td>44.5575</td>\n",
       "    </tr>\n",
       "    <tr>\n",
       "      <th>7</th>\n",
       "      <td>house cleaning (service)</td>\n",
       "      <td>400.7700</td>\n",
       "    </tr>\n",
       "    <tr>\n",
       "      <th>8</th>\n",
       "      <td>Garden_Maintenance</td>\n",
       "      <td>44.6625</td>\n",
       "    </tr>\n",
       "    <tr>\n",
       "      <th>9</th>\n",
       "      <td>garden maintenance (dienstl)</td>\n",
       "      <td>563.9850</td>\n",
       "    </tr>\n",
       "    <tr>\n",
       "      <th>10</th>\n",
       "      <td>Electricity_Costs</td>\n",
       "      <td>166.0350</td>\n",
       "    </tr>\n",
       "    <tr>\n",
       "      <th>11</th>\n",
       "      <td>Building_Insurance</td>\n",
       "      <td>478.2825</td>\n",
       "    </tr>\n",
       "    <tr>\n",
       "      <th>12</th>\n",
       "      <td>Liability_Building_Insurance</td>\n",
       "      <td>23.4300</td>\n",
       "    </tr>\n",
       "    <tr>\n",
       "      <th>13</th>\n",
       "      <td>Maintenance_Smoke_Protection</td>\n",
       "      <td>706.6800</td>\n",
       "    </tr>\n",
       "    <tr>\n",
       "      <th>14</th>\n",
       "      <td>Maintenance_Check</td>\n",
       "      <td>4603.0650</td>\n",
       "    </tr>\n",
       "    <tr>\n",
       "      <th>15</th>\n",
       "      <td>Fire_Extinguisher_Test</td>\n",
       "      <td>96.3075</td>\n",
       "    </tr>\n",
       "    <tr>\n",
       "      <th>16</th>\n",
       "      <td>Caretaker</td>\n",
       "      <td>451.7100</td>\n",
       "    </tr>\n",
       "  </tbody>\n",
       "</table>\n",
       "</div>"
      ],
      "text/plain": [
       "                       Cost_Type       2018\n",
       "0                      Basic_Tax   647.0475\n",
       "1                          Water   474.4275\n",
       "2                       Drainage   703.2450\n",
       "3           drainage (rainwater)   249.0600\n",
       "4                Street_Cleaning    94.9500\n",
       "5               Garbage_Disposal   722.6850\n",
       "6                 House_Cleaning    44.5575\n",
       "7       house cleaning (service)   400.7700\n",
       "8             Garden_Maintenance    44.6625\n",
       "9   garden maintenance (dienstl)   563.9850\n",
       "10             Electricity_Costs   166.0350\n",
       "11            Building_Insurance   478.2825\n",
       "12  Liability_Building_Insurance    23.4300\n",
       "13  Maintenance_Smoke_Protection   706.6800\n",
       "14             Maintenance_Check  4603.0650\n",
       "15        Fire_Extinguisher_Test    96.3075\n",
       "16                     Caretaker   451.7100"
      ]
     },
     "execution_count": 12,
     "metadata": {},
     "output_type": "execute_result"
    }
   ],
   "source": [
    "# Drop the columns we don't need\n",
    "df_NI_general_2018 = df_NI_general_2018.drop(columns=['Turnover_Key','Overall_Dimensioning','Measurement_Pro_Rata','Your_Costs'])\n",
    "\n",
    "df_NI_general_2018.rename(columns = {'Total_Cost':'2018'}, inplace = True)\n",
    "df_NI_general_2018"
   ]
  },
  {
   "cell_type": "markdown",
   "id": "df8a87ee",
   "metadata": {},
   "source": [
    "# Do the same for 2019 and 2020 and merge the dataframes at the end."
   ]
  },
  {
   "cell_type": "code",
   "execution_count": 13,
   "id": "f74780c3",
   "metadata": {},
   "outputs": [
    {
     "data": {
      "text/html": [
       "<div>\n",
       "<style scoped>\n",
       "    .dataframe tbody tr th:only-of-type {\n",
       "        vertical-align: middle;\n",
       "    }\n",
       "\n",
       "    .dataframe tbody tr th {\n",
       "        vertical-align: top;\n",
       "    }\n",
       "\n",
       "    .dataframe thead th {\n",
       "        text-align: right;\n",
       "    }\n",
       "</style>\n",
       "<table border=\"1\" class=\"dataframe\">\n",
       "  <thead>\n",
       "    <tr style=\"text-align: right;\">\n",
       "      <th></th>\n",
       "      <th>Cost_Type</th>\n",
       "      <th>2019</th>\n",
       "    </tr>\n",
       "  </thead>\n",
       "  <tbody>\n",
       "    <tr>\n",
       "      <th>0</th>\n",
       "      <td>Basic_Tax</td>\n",
       "      <td>458.002324</td>\n",
       "    </tr>\n",
       "    <tr>\n",
       "      <th>1</th>\n",
       "      <td>Water</td>\n",
       "      <td>335.815991</td>\n",
       "    </tr>\n",
       "    <tr>\n",
       "      <th>2</th>\n",
       "      <td>Drainage</td>\n",
       "      <td>497.780834</td>\n",
       "    </tr>\n",
       "    <tr>\n",
       "      <th>3</th>\n",
       "      <td>drainage (rainwater)</td>\n",
       "      <td>176.293176</td>\n",
       "    </tr>\n",
       "    <tr>\n",
       "      <th>4</th>\n",
       "      <td>Street_Cleaning</td>\n",
       "      <td>67.208853</td>\n",
       "    </tr>\n",
       "    <tr>\n",
       "      <th>5</th>\n",
       "      <td>Garbage_Disposal</td>\n",
       "      <td>465.037391</td>\n",
       "    </tr>\n",
       "    <tr>\n",
       "      <th>6</th>\n",
       "      <td>House_Cleaning</td>\n",
       "      <td>28.672110</td>\n",
       "    </tr>\n",
       "    <tr>\n",
       "      <th>7</th>\n",
       "      <td>house cleaning (service)</td>\n",
       "      <td>257.889724</td>\n",
       "    </tr>\n",
       "    <tr>\n",
       "      <th>8</th>\n",
       "      <td>Garden_Maintenance</td>\n",
       "      <td>28.739676</td>\n",
       "    </tr>\n",
       "    <tr>\n",
       "      <th>9</th>\n",
       "      <td>garden maintenance (dienstl)</td>\n",
       "      <td>362.916226</td>\n",
       "    </tr>\n",
       "    <tr>\n",
       "      <th>10</th>\n",
       "      <td>Electricity_Costs</td>\n",
       "      <td>106.841132</td>\n",
       "    </tr>\n",
       "    <tr>\n",
       "      <th>11</th>\n",
       "      <td>Building_Insurance</td>\n",
       "      <td>307.767901</td>\n",
       "    </tr>\n",
       "    <tr>\n",
       "      <th>12</th>\n",
       "      <td>Liability_Building_Insurance</td>\n",
       "      <td>18.657624</td>\n",
       "    </tr>\n",
       "    <tr>\n",
       "      <th>13</th>\n",
       "      <td>Maintenance_Smoke_Protection</td>\n",
       "      <td>562.738775</td>\n",
       "    </tr>\n",
       "    <tr>\n",
       "      <th>14</th>\n",
       "      <td>Maintenance_Check</td>\n",
       "      <td>3665.482479</td>\n",
       "    </tr>\n",
       "    <tr>\n",
       "      <th>15</th>\n",
       "      <td>Fire_Extinguisher_Test</td>\n",
       "      <td>76.690956</td>\n",
       "    </tr>\n",
       "    <tr>\n",
       "      <th>16</th>\n",
       "      <td>Caretaker</td>\n",
       "      <td>359.702739</td>\n",
       "    </tr>\n",
       "  </tbody>\n",
       "</table>\n",
       "</div>"
      ],
      "text/plain": [
       "                       Cost_Type         2019\n",
       "0                      Basic_Tax   458.002324\n",
       "1                          Water   335.815991\n",
       "2                       Drainage   497.780834\n",
       "3           drainage (rainwater)   176.293176\n",
       "4                Street_Cleaning    67.208853\n",
       "5               Garbage_Disposal   465.037391\n",
       "6                 House_Cleaning    28.672110\n",
       "7       house cleaning (service)   257.889724\n",
       "8             Garden_Maintenance    28.739676\n",
       "9   garden maintenance (dienstl)   362.916226\n",
       "10             Electricity_Costs   106.841132\n",
       "11            Building_Insurance   307.767901\n",
       "12  Liability_Building_Insurance    18.657624\n",
       "13  Maintenance_Smoke_Protection   562.738775\n",
       "14             Maintenance_Check  3665.482479\n",
       "15        Fire_Extinguisher_Test    76.690956\n",
       "16                     Caretaker   359.702739"
      ]
     },
     "execution_count": 13,
     "metadata": {},
     "output_type": "execute_result"
    }
   ],
   "source": [
    "NI_gen_data = os.path.join(NeuIsenburg_data,'20205717 Wohnbau.xlsx')\n",
    "df_NI_general_2019 = pd.read_excel(NI_gen_data,sheet_name='Sheet1')\n",
    "\n",
    "# Rename the columns to an english value, using teh translation dictionaty.\n",
    "df_NI_general_2019.rename(columns = {'kostenart':(Translate_Dict.get(\"kostenart\"))}, inplace = True)\n",
    "df_NI_general_2019.rename(columns = {'umlageschlussel':(Translate_Dict.get(\"umlageschlussel\"))}, inplace = True)\n",
    "df_NI_general_2019.rename(columns = {'bemessung gesamt':(Translate_Dict.get(\"bemessung gesamt\"))}, inplace = True)\n",
    "df_NI_general_2019.rename(columns = {'bemessung anteilig':(Translate_Dict.get(\"bemessung anteilig\"))}, inplace = True)\n",
    "df_NI_general_2019.rename(columns = {'gesamt kosten':(Translate_Dict.get(\"gesamt kosten\"))}, inplace = True)\n",
    "df_NI_general_2019.rename(columns = {'ihre kosten':(Translate_Dict.get(\"ihre kosten\"))}, inplace = True)\n",
    "\n",
    "# Drop the Nan rows.  Anything without a value is not an invoice line item.\n",
    "df_NI_general_2019 = df_NI_general_2019.dropna()\n",
    "\n",
    "# Translate teh 2 columns with german data\n",
    "df_NI_general_2019.loc[Cost_Type_mask, 'Cost_Type'] = df_NI_general_2019.loc[Cost_Type_mask, 'Cost_Type'].map(Translate_Dict)\n",
    "df_NI_general_2019.loc[Turnover_Key_mask, 'Turnover_Key'] = df_NI_general_2019.loc[Turnover_Key_mask, 'Turnover_Key'].map(Translate_Dict)\n",
    "\n",
    "# Drop the columns we don't need\n",
    "df_NI_general_2019 = df_NI_general_2019.drop(columns=['Turnover_Key','Overall_Dimensioning','Measurement_Pro_Rata','Your_Costs'])\n",
    "\n",
    "df_NI_general_2019.rename(columns = {'Total_Cost':'2019'}, inplace = True)\n",
    "df_NI_general_2019"
   ]
  },
  {
   "cell_type": "code",
   "execution_count": 14,
   "id": "46e61041",
   "metadata": {},
   "outputs": [
    {
     "data": {
      "text/html": [
       "<div>\n",
       "<style scoped>\n",
       "    .dataframe tbody tr th:only-of-type {\n",
       "        vertical-align: middle;\n",
       "    }\n",
       "\n",
       "    .dataframe tbody tr th {\n",
       "        vertical-align: top;\n",
       "    }\n",
       "\n",
       "    .dataframe thead th {\n",
       "        text-align: right;\n",
       "    }\n",
       "</style>\n",
       "<table border=\"1\" class=\"dataframe\">\n",
       "  <thead>\n",
       "    <tr style=\"text-align: right;\">\n",
       "      <th></th>\n",
       "      <th>Cost_Type</th>\n",
       "      <th>2020</th>\n",
       "    </tr>\n",
       "  </thead>\n",
       "  <tbody>\n",
       "    <tr>\n",
       "      <th>0</th>\n",
       "      <td>Basic_Tax</td>\n",
       "      <td>458.002324</td>\n",
       "    </tr>\n",
       "    <tr>\n",
       "      <th>1</th>\n",
       "      <td>Water</td>\n",
       "      <td>335.815991</td>\n",
       "    </tr>\n",
       "    <tr>\n",
       "      <th>2</th>\n",
       "      <td>Drainage</td>\n",
       "      <td>497.780834</td>\n",
       "    </tr>\n",
       "    <tr>\n",
       "      <th>3</th>\n",
       "      <td>drainage (rainwater)</td>\n",
       "      <td>176.293176</td>\n",
       "    </tr>\n",
       "    <tr>\n",
       "      <th>4</th>\n",
       "      <td>Street_Cleaning</td>\n",
       "      <td>67.208853</td>\n",
       "    </tr>\n",
       "    <tr>\n",
       "      <th>5</th>\n",
       "      <td>Garbage_Disposal</td>\n",
       "      <td>465.037391</td>\n",
       "    </tr>\n",
       "    <tr>\n",
       "      <th>6</th>\n",
       "      <td>House_Cleaning</td>\n",
       "      <td>28.672110</td>\n",
       "    </tr>\n",
       "    <tr>\n",
       "      <th>7</th>\n",
       "      <td>house cleaning (service)</td>\n",
       "      <td>257.889724</td>\n",
       "    </tr>\n",
       "    <tr>\n",
       "      <th>8</th>\n",
       "      <td>Garden_Maintenance</td>\n",
       "      <td>28.739676</td>\n",
       "    </tr>\n",
       "    <tr>\n",
       "      <th>9</th>\n",
       "      <td>garden maintenance (dienstl)</td>\n",
       "      <td>362.916226</td>\n",
       "    </tr>\n",
       "    <tr>\n",
       "      <th>10</th>\n",
       "      <td>Electricity_Costs</td>\n",
       "      <td>106.841132</td>\n",
       "    </tr>\n",
       "    <tr>\n",
       "      <th>11</th>\n",
       "      <td>Building_Insurance</td>\n",
       "      <td>307.767901</td>\n",
       "    </tr>\n",
       "    <tr>\n",
       "      <th>12</th>\n",
       "      <td>Liability_Building_Insurance</td>\n",
       "      <td>18.657624</td>\n",
       "    </tr>\n",
       "    <tr>\n",
       "      <th>13</th>\n",
       "      <td>Maintenance_Smoke_Protection</td>\n",
       "      <td>562.738775</td>\n",
       "    </tr>\n",
       "    <tr>\n",
       "      <th>14</th>\n",
       "      <td>Maintenance_Check</td>\n",
       "      <td>3665.482479</td>\n",
       "    </tr>\n",
       "    <tr>\n",
       "      <th>15</th>\n",
       "      <td>Fire_Extinguisher_Test</td>\n",
       "      <td>76.690956</td>\n",
       "    </tr>\n",
       "    <tr>\n",
       "      <th>16</th>\n",
       "      <td>Caretaker</td>\n",
       "      <td>359.702739</td>\n",
       "    </tr>\n",
       "  </tbody>\n",
       "</table>\n",
       "</div>"
      ],
      "text/plain": [
       "                       Cost_Type         2020\n",
       "0                      Basic_Tax   458.002324\n",
       "1                          Water   335.815991\n",
       "2                       Drainage   497.780834\n",
       "3           drainage (rainwater)   176.293176\n",
       "4                Street_Cleaning    67.208853\n",
       "5               Garbage_Disposal   465.037391\n",
       "6                 House_Cleaning    28.672110\n",
       "7       house cleaning (service)   257.889724\n",
       "8             Garden_Maintenance    28.739676\n",
       "9   garden maintenance (dienstl)   362.916226\n",
       "10             Electricity_Costs   106.841132\n",
       "11            Building_Insurance   307.767901\n",
       "12  Liability_Building_Insurance    18.657624\n",
       "13  Maintenance_Smoke_Protection   562.738775\n",
       "14             Maintenance_Check  3665.482479\n",
       "15        Fire_Extinguisher_Test    76.690956\n",
       "16                     Caretaker   359.702739"
      ]
     },
     "execution_count": 14,
     "metadata": {},
     "output_type": "execute_result"
    }
   ],
   "source": [
    "NI_gen_data = os.path.join(NeuIsenburg_data,'20205717 Wohnbau.xlsx')\n",
    "df_NI_general_2020 = pd.read_excel(NI_gen_data,sheet_name='Sheet1')\n",
    "\n",
    "# Rename the columns to an english value, using teh translation dictionaty.\n",
    "df_NI_general_2020.rename(columns = {'kostenart':(Translate_Dict.get(\"kostenart\"))}, inplace = True)\n",
    "df_NI_general_2020.rename(columns = {'umlageschlussel':(Translate_Dict.get(\"umlageschlussel\"))}, inplace = True)\n",
    "df_NI_general_2020.rename(columns = {'bemessung gesamt':(Translate_Dict.get(\"bemessung gesamt\"))}, inplace = True)\n",
    "df_NI_general_2020.rename(columns = {'bemessung anteilig':(Translate_Dict.get(\"bemessung anteilig\"))}, inplace = True)\n",
    "df_NI_general_2020.rename(columns = {'gesamt kosten':(Translate_Dict.get(\"gesamt kosten\"))}, inplace = True)\n",
    "df_NI_general_2020.rename(columns = {'ihre kosten':(Translate_Dict.get(\"ihre kosten\"))}, inplace = True)\n",
    "\n",
    "# Drop the Nan rows.  Anything without a value is not an invoice line item.\n",
    "df_NI_general_2020 = df_NI_general_2020.dropna()\n",
    "\n",
    "# Translate teh 2 columns with german data\n",
    "df_NI_general_2020.loc[Cost_Type_mask, 'Cost_Type'] = df_NI_general_2020.loc[Cost_Type_mask, 'Cost_Type'].map(Translate_Dict)\n",
    "df_NI_general_2020.loc[Turnover_Key_mask, 'Turnover_Key'] = df_NI_general_2020.loc[Turnover_Key_mask, 'Turnover_Key'].map(Translate_Dict)\n",
    "\n",
    "# Drop the columns we don't need\n",
    "df_NI_general_2020 = df_NI_general_2020.drop(columns=['Turnover_Key','Overall_Dimensioning','Measurement_Pro_Rata','Your_Costs'])\n",
    "\n",
    "df_NI_general_2020.rename(columns = {'Total_Cost':'2020'}, inplace = True)\n",
    "df_NI_general_2020"
   ]
  },
  {
   "cell_type": "markdown",
   "id": "394c897d",
   "metadata": {},
   "source": [
    "## Now merge the 3 annual Neu-Isenberg dataframes, remove rows and columns that are not needed and create a dataframe that will fit the desired visualisations."
   ]
  },
  {
   "cell_type": "code",
   "execution_count": 15,
   "id": "55fda919",
   "metadata": {},
   "outputs": [
    {
     "data": {
      "text/html": [
       "<div>\n",
       "<style scoped>\n",
       "    .dataframe tbody tr th:only-of-type {\n",
       "        vertical-align: middle;\n",
       "    }\n",
       "\n",
       "    .dataframe tbody tr th {\n",
       "        vertical-align: top;\n",
       "    }\n",
       "\n",
       "    .dataframe thead th {\n",
       "        text-align: right;\n",
       "    }\n",
       "</style>\n",
       "<table border=\"1\" class=\"dataframe\">\n",
       "  <thead>\n",
       "    <tr style=\"text-align: right;\">\n",
       "      <th></th>\n",
       "      <th>Cost_Type</th>\n",
       "      <th>2018</th>\n",
       "      <th>2019</th>\n",
       "      <th>2020</th>\n",
       "      <th>Location</th>\n",
       "    </tr>\n",
       "  </thead>\n",
       "  <tbody>\n",
       "    <tr>\n",
       "      <th>0</th>\n",
       "      <td>Basic_Tax</td>\n",
       "      <td>647.0475</td>\n",
       "      <td>458.002324</td>\n",
       "      <td>458.002324</td>\n",
       "      <td>Neu-Isenburg</td>\n",
       "    </tr>\n",
       "    <tr>\n",
       "      <th>1</th>\n",
       "      <td>Water</td>\n",
       "      <td>474.4275</td>\n",
       "      <td>335.815991</td>\n",
       "      <td>335.815991</td>\n",
       "      <td>Neu-Isenburg</td>\n",
       "    </tr>\n",
       "    <tr>\n",
       "      <th>2</th>\n",
       "      <td>Drainage</td>\n",
       "      <td>703.2450</td>\n",
       "      <td>497.780834</td>\n",
       "      <td>497.780834</td>\n",
       "      <td>Neu-Isenburg</td>\n",
       "    </tr>\n",
       "    <tr>\n",
       "      <th>3</th>\n",
       "      <td>drainage (rainwater)</td>\n",
       "      <td>249.0600</td>\n",
       "      <td>176.293176</td>\n",
       "      <td>176.293176</td>\n",
       "      <td>Neu-Isenburg</td>\n",
       "    </tr>\n",
       "    <tr>\n",
       "      <th>4</th>\n",
       "      <td>Street_Cleaning</td>\n",
       "      <td>94.9500</td>\n",
       "      <td>67.208853</td>\n",
       "      <td>67.208853</td>\n",
       "      <td>Neu-Isenburg</td>\n",
       "    </tr>\n",
       "    <tr>\n",
       "      <th>5</th>\n",
       "      <td>Garbage_Disposal</td>\n",
       "      <td>722.6850</td>\n",
       "      <td>465.037391</td>\n",
       "      <td>465.037391</td>\n",
       "      <td>Neu-Isenburg</td>\n",
       "    </tr>\n",
       "    <tr>\n",
       "      <th>6</th>\n",
       "      <td>House_Cleaning</td>\n",
       "      <td>44.5575</td>\n",
       "      <td>28.672110</td>\n",
       "      <td>28.672110</td>\n",
       "      <td>Neu-Isenburg</td>\n",
       "    </tr>\n",
       "    <tr>\n",
       "      <th>7</th>\n",
       "      <td>house cleaning (service)</td>\n",
       "      <td>400.7700</td>\n",
       "      <td>257.889724</td>\n",
       "      <td>257.889724</td>\n",
       "      <td>Neu-Isenburg</td>\n",
       "    </tr>\n",
       "    <tr>\n",
       "      <th>8</th>\n",
       "      <td>Garden_Maintenance</td>\n",
       "      <td>44.6625</td>\n",
       "      <td>28.739676</td>\n",
       "      <td>28.739676</td>\n",
       "      <td>Neu-Isenburg</td>\n",
       "    </tr>\n",
       "    <tr>\n",
       "      <th>9</th>\n",
       "      <td>garden maintenance (dienstl)</td>\n",
       "      <td>563.9850</td>\n",
       "      <td>362.916226</td>\n",
       "      <td>362.916226</td>\n",
       "      <td>Neu-Isenburg</td>\n",
       "    </tr>\n",
       "    <tr>\n",
       "      <th>10</th>\n",
       "      <td>Electricity_Costs</td>\n",
       "      <td>166.0350</td>\n",
       "      <td>106.841132</td>\n",
       "      <td>106.841132</td>\n",
       "      <td>Neu-Isenburg</td>\n",
       "    </tr>\n",
       "    <tr>\n",
       "      <th>11</th>\n",
       "      <td>Building_Insurance</td>\n",
       "      <td>478.2825</td>\n",
       "      <td>307.767901</td>\n",
       "      <td>307.767901</td>\n",
       "      <td>Neu-Isenburg</td>\n",
       "    </tr>\n",
       "    <tr>\n",
       "      <th>12</th>\n",
       "      <td>Liability_Building_Insurance</td>\n",
       "      <td>23.4300</td>\n",
       "      <td>18.657624</td>\n",
       "      <td>18.657624</td>\n",
       "      <td>Neu-Isenburg</td>\n",
       "    </tr>\n",
       "    <tr>\n",
       "      <th>13</th>\n",
       "      <td>Maintenance_Smoke_Protection</td>\n",
       "      <td>706.6800</td>\n",
       "      <td>562.738775</td>\n",
       "      <td>562.738775</td>\n",
       "      <td>Neu-Isenburg</td>\n",
       "    </tr>\n",
       "    <tr>\n",
       "      <th>14</th>\n",
       "      <td>Maintenance_Check</td>\n",
       "      <td>4603.0650</td>\n",
       "      <td>3665.482479</td>\n",
       "      <td>3665.482479</td>\n",
       "      <td>Neu-Isenburg</td>\n",
       "    </tr>\n",
       "    <tr>\n",
       "      <th>15</th>\n",
       "      <td>Fire_Extinguisher_Test</td>\n",
       "      <td>96.3075</td>\n",
       "      <td>76.690956</td>\n",
       "      <td>76.690956</td>\n",
       "      <td>Neu-Isenburg</td>\n",
       "    </tr>\n",
       "    <tr>\n",
       "      <th>16</th>\n",
       "      <td>Caretaker</td>\n",
       "      <td>451.7100</td>\n",
       "      <td>359.702739</td>\n",
       "      <td>359.702739</td>\n",
       "      <td>Neu-Isenburg</td>\n",
       "    </tr>\n",
       "  </tbody>\n",
       "</table>\n",
       "</div>"
      ],
      "text/plain": [
       "                       Cost_Type       2018         2019         2020  \\\n",
       "0                      Basic_Tax   647.0475   458.002324   458.002324   \n",
       "1                          Water   474.4275   335.815991   335.815991   \n",
       "2                       Drainage   703.2450   497.780834   497.780834   \n",
       "3           drainage (rainwater)   249.0600   176.293176   176.293176   \n",
       "4                Street_Cleaning    94.9500    67.208853    67.208853   \n",
       "5               Garbage_Disposal   722.6850   465.037391   465.037391   \n",
       "6                 House_Cleaning    44.5575    28.672110    28.672110   \n",
       "7       house cleaning (service)   400.7700   257.889724   257.889724   \n",
       "8             Garden_Maintenance    44.6625    28.739676    28.739676   \n",
       "9   garden maintenance (dienstl)   563.9850   362.916226   362.916226   \n",
       "10             Electricity_Costs   166.0350   106.841132   106.841132   \n",
       "11            Building_Insurance   478.2825   307.767901   307.767901   \n",
       "12  Liability_Building_Insurance    23.4300    18.657624    18.657624   \n",
       "13  Maintenance_Smoke_Protection   706.6800   562.738775   562.738775   \n",
       "14             Maintenance_Check  4603.0650  3665.482479  3665.482479   \n",
       "15        Fire_Extinguisher_Test    96.3075    76.690956    76.690956   \n",
       "16                     Caretaker   451.7100   359.702739   359.702739   \n",
       "\n",
       "        Location  \n",
       "0   Neu-Isenburg  \n",
       "1   Neu-Isenburg  \n",
       "2   Neu-Isenburg  \n",
       "3   Neu-Isenburg  \n",
       "4   Neu-Isenburg  \n",
       "5   Neu-Isenburg  \n",
       "6   Neu-Isenburg  \n",
       "7   Neu-Isenburg  \n",
       "8   Neu-Isenburg  \n",
       "9   Neu-Isenburg  \n",
       "10  Neu-Isenburg  \n",
       "11  Neu-Isenburg  \n",
       "12  Neu-Isenburg  \n",
       "13  Neu-Isenburg  \n",
       "14  Neu-Isenburg  \n",
       "15  Neu-Isenburg  \n",
       "16  Neu-Isenburg  "
      ]
     },
     "execution_count": 15,
     "metadata": {},
     "output_type": "execute_result"
    }
   ],
   "source": [
    "# Join 2018 and 2019\n",
    "df_inner = pd.merge(df_NI_general_2019, df_NI_general_2020, on='Cost_Type', how='inner')\n",
    "# Join the merged 2018/2019 to 2020\n",
    "df_NI_general = pd.merge(df_NI_general_2018, df_inner, on='Cost_Type', how='inner')\n",
    "df_NI_general['Location'] = 'Neu-Isenburg'\n",
    "\n",
    "df_NI_general"
   ]
  },
  {
   "cell_type": "code",
   "execution_count": 16,
   "id": "40c915dd",
   "metadata": {},
   "outputs": [
    {
     "data": {
      "text/html": [
       "<div>\n",
       "<style scoped>\n",
       "    .dataframe tbody tr th:only-of-type {\n",
       "        vertical-align: middle;\n",
       "    }\n",
       "\n",
       "    .dataframe tbody tr th {\n",
       "        vertical-align: top;\n",
       "    }\n",
       "\n",
       "    .dataframe thead th {\n",
       "        text-align: right;\n",
       "    }\n",
       "</style>\n",
       "<table border=\"1\" class=\"dataframe\">\n",
       "  <thead>\n",
       "    <tr style=\"text-align: right;\">\n",
       "      <th></th>\n",
       "      <th>Metric</th>\n",
       "      <th>2018</th>\n",
       "      <th>2019</th>\n",
       "      <th>2020</th>\n",
       "      <th>Location</th>\n",
       "      <th>Measure</th>\n",
       "    </tr>\n",
       "  </thead>\n",
       "  <tbody>\n",
       "    <tr>\n",
       "      <th>1</th>\n",
       "      <td>Water</td>\n",
       "      <td>474.4275</td>\n",
       "      <td>335.815991</td>\n",
       "      <td>335.815991</td>\n",
       "      <td>Neu-Isenburg</td>\n",
       "      <td></td>\n",
       "    </tr>\n",
       "    <tr>\n",
       "      <th>2</th>\n",
       "      <td>Drainage</td>\n",
       "      <td>703.2450</td>\n",
       "      <td>497.780834</td>\n",
       "      <td>497.780834</td>\n",
       "      <td>Neu-Isenburg</td>\n",
       "      <td></td>\n",
       "    </tr>\n",
       "    <tr>\n",
       "      <th>3</th>\n",
       "      <td>drainage (rainwater)</td>\n",
       "      <td>249.0600</td>\n",
       "      <td>176.293176</td>\n",
       "      <td>176.293176</td>\n",
       "      <td>Neu-Isenburg</td>\n",
       "      <td></td>\n",
       "    </tr>\n",
       "    <tr>\n",
       "      <th>5</th>\n",
       "      <td>Garbage_Disposal</td>\n",
       "      <td>722.6850</td>\n",
       "      <td>465.037391</td>\n",
       "      <td>465.037391</td>\n",
       "      <td>Neu-Isenburg</td>\n",
       "      <td></td>\n",
       "    </tr>\n",
       "    <tr>\n",
       "      <th>10</th>\n",
       "      <td>Electricity_Costs</td>\n",
       "      <td>166.0350</td>\n",
       "      <td>106.841132</td>\n",
       "      <td>106.841132</td>\n",
       "      <td>Neu-Isenburg</td>\n",
       "      <td></td>\n",
       "    </tr>\n",
       "  </tbody>\n",
       "</table>\n",
       "</div>"
      ],
      "text/plain": [
       "                  Metric      2018        2019        2020      Location  \\\n",
       "1                  Water  474.4275  335.815991  335.815991  Neu-Isenburg   \n",
       "2               Drainage  703.2450  497.780834  497.780834  Neu-Isenburg   \n",
       "3   drainage (rainwater)  249.0600  176.293176  176.293176  Neu-Isenburg   \n",
       "5       Garbage_Disposal  722.6850  465.037391  465.037391  Neu-Isenburg   \n",
       "10     Electricity_Costs  166.0350  106.841132  106.841132  Neu-Isenburg   \n",
       "\n",
       "   Measure  \n",
       "1           \n",
       "2           \n",
       "3           \n",
       "5           \n",
       "10          "
      ]
     },
     "execution_count": 16,
     "metadata": {},
     "output_type": "execute_result"
    }
   ],
   "source": [
    "# Drop the rows we don't need, that contain specific 'value' in 'column_name'\n",
    "df_NI_general = df_NI_general[df_NI_general.Cost_Type != 'Basic_Tax']\n",
    "df_NI_general = df_NI_general[df_NI_general.Cost_Type != 'Street_Cleaning']\n",
    "df_NI_general = df_NI_general[df_NI_general.Cost_Type != 'House_Cleaning']\n",
    "df_NI_general = df_NI_general[df_NI_general.Cost_Type != 'house cleaning (service)']\n",
    "df_NI_general = df_NI_general[df_NI_general.Cost_Type != 'Garden_Maintenance']\n",
    "df_NI_general = df_NI_general[df_NI_general.Cost_Type != 'garden maintenance (dienstl)']\n",
    "df_NI_general = df_NI_general[df_NI_general.Cost_Type != 'Building_Insurance']\n",
    "df_NI_general = df_NI_general[df_NI_general.Cost_Type != 'Liability_Building_Insurance']\n",
    "df_NI_general = df_NI_general[df_NI_general.Cost_Type != 'Maintenance_Smoke_Protection']\n",
    "df_NI_general = df_NI_general[df_NI_general.Cost_Type != 'Maintenance_Check']\n",
    "df_NI_general = df_NI_general[df_NI_general.Cost_Type != 'Fire_Extinguisher_Test']\n",
    "df_NI_general = df_NI_general[df_NI_general.Cost_Type != 'Caretaker']\n",
    "\n",
    "# Rename the columns to match the existing data.\n",
    "df_NI_general.rename(columns = {'Cost_Type':'Metric'}, inplace = True)\n",
    "\n",
    "# Create a measure column.\n",
    "df_NI_general['Measure'] = ''\n",
    "\n",
    "df_NI_general"
   ]
  },
  {
   "cell_type": "code",
   "execution_count": 17,
   "id": "7a8ce547",
   "metadata": {},
   "outputs": [
    {
     "data": {
      "text/html": [
       "<div>\n",
       "<style scoped>\n",
       "    .dataframe tbody tr th:only-of-type {\n",
       "        vertical-align: middle;\n",
       "    }\n",
       "\n",
       "    .dataframe tbody tr th {\n",
       "        vertical-align: top;\n",
       "    }\n",
       "\n",
       "    .dataframe thead th {\n",
       "        text-align: right;\n",
       "    }\n",
       "</style>\n",
       "<table border=\"1\" class=\"dataframe\">\n",
       "  <thead>\n",
       "    <tr style=\"text-align: right;\">\n",
       "      <th></th>\n",
       "      <th>Location</th>\n",
       "      <th>Measure</th>\n",
       "      <th>Metric</th>\n",
       "      <th>2018</th>\n",
       "      <th>2019</th>\n",
       "      <th>2020</th>\n",
       "    </tr>\n",
       "  </thead>\n",
       "  <tbody>\n",
       "    <tr>\n",
       "      <th>1</th>\n",
       "      <td>Neu-Isenburg</td>\n",
       "      <td>Kilo</td>\n",
       "      <td>Water</td>\n",
       "      <td>474.4275</td>\n",
       "      <td>335.815991</td>\n",
       "      <td>335.815991</td>\n",
       "    </tr>\n",
       "    <tr>\n",
       "      <th>2</th>\n",
       "      <td>Neu-Isenburg</td>\n",
       "      <td>Kilo</td>\n",
       "      <td>Waste</td>\n",
       "      <td>703.2450</td>\n",
       "      <td>497.780834</td>\n",
       "      <td>497.780834</td>\n",
       "    </tr>\n",
       "    <tr>\n",
       "      <th>3</th>\n",
       "      <td>Neu-Isenburg</td>\n",
       "      <td>Kilo</td>\n",
       "      <td>Waste</td>\n",
       "      <td>249.0600</td>\n",
       "      <td>176.293176</td>\n",
       "      <td>176.293176</td>\n",
       "    </tr>\n",
       "    <tr>\n",
       "      <th>5</th>\n",
       "      <td>Neu-Isenburg</td>\n",
       "      <td>Kilo</td>\n",
       "      <td>Waste</td>\n",
       "      <td>722.6850</td>\n",
       "      <td>465.037391</td>\n",
       "      <td>465.037391</td>\n",
       "    </tr>\n",
       "    <tr>\n",
       "      <th>10</th>\n",
       "      <td>Neu-Isenburg</td>\n",
       "      <td>Kilowatts</td>\n",
       "      <td>Electricity</td>\n",
       "      <td>166.0350</td>\n",
       "      <td>106.841132</td>\n",
       "      <td>106.841132</td>\n",
       "    </tr>\n",
       "  </tbody>\n",
       "</table>\n",
       "</div>"
      ],
      "text/plain": [
       "        Location    Measure       Metric      2018        2019        2020\n",
       "1   Neu-Isenburg       Kilo        Water  474.4275  335.815991  335.815991\n",
       "2   Neu-Isenburg       Kilo        Waste  703.2450  497.780834  497.780834\n",
       "3   Neu-Isenburg       Kilo        Waste  249.0600  176.293176  176.293176\n",
       "5   Neu-Isenburg       Kilo        Waste  722.6850  465.037391  465.037391\n",
       "10  Neu-Isenburg  Kilowatts  Electricity  166.0350  106.841132  106.841132"
      ]
     },
     "execution_count": 17,
     "metadata": {},
     "output_type": "execute_result"
    }
   ],
   "source": [
    "# Populate measure column.\n",
    "df_NI_general.loc[df_NI_general['Metric'] == 'Water', 'Measure'] = 'Kilo'\n",
    "df_NI_general.loc[df_NI_general['Metric'] == 'Drainage', 'Measure'] = 'Kilo'\n",
    "df_NI_general.loc[df_NI_general['Metric'] == 'drainage (rainwater)', 'Measure'] = 'Kilo'\n",
    "df_NI_general.loc[df_NI_general['Metric'] == 'Garbage_Disposal', 'Measure'] = 'Kilo'\n",
    "df_NI_general.loc[df_NI_general['Metric'] == 'Electricity_Costs', 'Measure'] = 'Kilowatts'\n",
    "df_NI_general.loc[df_NI_general['Metric'] == 'drainage (rainwater)', 'Measure'] = 'Kilo'\n",
    "\n",
    "# Rename the metrics\n",
    "df_NI_general.loc[df_NI_general['Metric'] == 'Electricity_Costs', 'Metric'] = 'Electricity'\n",
    "df_NI_general.loc[df_NI_general['Metric'] == 'Drainage', 'Metric'] = 'Waste'\n",
    "df_NI_general.loc[df_NI_general['Metric'] == 'drainage (rainwater)', 'Metric'] = 'Waste'\n",
    "df_NI_general.loc[df_NI_general['Metric'] == 'Garbage_Disposal', 'Metric'] = 'Waste'\n",
    "\n",
    "# Resequence\n",
    "df_NI_general = df_NI_general[['Location','Measure', 'Metric', '2018', '2019', '2020']]\n",
    "\n",
    "df_NI_general"
   ]
  },
  {
   "cell_type": "code",
   "execution_count": 18,
   "id": "a3457cc5",
   "metadata": {},
   "outputs": [
    {
     "data": {
      "text/html": [
       "<div>\n",
       "<style scoped>\n",
       "    .dataframe tbody tr th:only-of-type {\n",
       "        vertical-align: middle;\n",
       "    }\n",
       "\n",
       "    .dataframe tbody tr th {\n",
       "        vertical-align: top;\n",
       "    }\n",
       "\n",
       "    .dataframe thead th {\n",
       "        text-align: right;\n",
       "    }\n",
       "</style>\n",
       "<table border=\"1\" class=\"dataframe\">\n",
       "  <thead>\n",
       "    <tr style=\"text-align: right;\">\n",
       "      <th></th>\n",
       "      <th>Month</th>\n",
       "      <th>2018</th>\n",
       "      <th>2019</th>\n",
       "      <th>2020</th>\n",
       "      <th>Metric</th>\n",
       "      <th>Measure</th>\n",
       "    </tr>\n",
       "  </thead>\n",
       "  <tbody>\n",
       "    <tr>\n",
       "      <th>0</th>\n",
       "      <td>1</td>\n",
       "      <td>16210.0</td>\n",
       "      <td>16637.0</td>\n",
       "      <td>15140.0</td>\n",
       "      <td>Electricity</td>\n",
       "      <td>Kilowatts</td>\n",
       "    </tr>\n",
       "    <tr>\n",
       "      <th>1</th>\n",
       "      <td>2</td>\n",
       "      <td>14146.0</td>\n",
       "      <td>15135.0</td>\n",
       "      <td>14130.0</td>\n",
       "      <td>Electricity</td>\n",
       "      <td>Kilowatts</td>\n",
       "    </tr>\n",
       "    <tr>\n",
       "      <th>2</th>\n",
       "      <td>3</td>\n",
       "      <td>15374.0</td>\n",
       "      <td>16090.0</td>\n",
       "      <td>12952.0</td>\n",
       "      <td>Electricity</td>\n",
       "      <td>Kilowatts</td>\n",
       "    </tr>\n",
       "    <tr>\n",
       "      <th>3</th>\n",
       "      <td>4</td>\n",
       "      <td>14092.0</td>\n",
       "      <td>14468.0</td>\n",
       "      <td>10089.0</td>\n",
       "      <td>Electricity</td>\n",
       "      <td>Kilowatts</td>\n",
       "    </tr>\n",
       "    <tr>\n",
       "      <th>4</th>\n",
       "      <td>5</td>\n",
       "      <td>14173.0</td>\n",
       "      <td>14698.0</td>\n",
       "      <td>10542.0</td>\n",
       "      <td>Electricity</td>\n",
       "      <td>Kilowatts</td>\n",
       "    </tr>\n",
       "  </tbody>\n",
       "</table>\n",
       "</div>"
      ],
      "text/plain": [
       "   Month     2018     2019     2020       Metric    Measure\n",
       "0      1  16210.0  16637.0  15140.0  Electricity  Kilowatts\n",
       "1      2  14146.0  15135.0  14130.0  Electricity  Kilowatts\n",
       "2      3  15374.0  16090.0  12952.0  Electricity  Kilowatts\n",
       "3      4  14092.0  14468.0  10089.0  Electricity  Kilowatts\n",
       "4      5  14173.0  14698.0  10542.0  Electricity  Kilowatts"
      ]
     },
     "execution_count": 18,
     "metadata": {},
     "output_type": "execute_result"
    }
   ],
   "source": [
    "# Look at df_NI_electricity and reshape it to match df_NI_general\n",
    "df_NI_electricity.head()"
   ]
  },
  {
   "cell_type": "code",
   "execution_count": 19,
   "id": "9ae76bb4",
   "metadata": {},
   "outputs": [
    {
     "data": {
      "text/html": [
       "<div>\n",
       "<style scoped>\n",
       "    .dataframe tbody tr th:only-of-type {\n",
       "        vertical-align: middle;\n",
       "    }\n",
       "\n",
       "    .dataframe tbody tr th {\n",
       "        vertical-align: top;\n",
       "    }\n",
       "\n",
       "    .dataframe thead th {\n",
       "        text-align: right;\n",
       "    }\n",
       "</style>\n",
       "<table border=\"1\" class=\"dataframe\">\n",
       "  <thead>\n",
       "    <tr style=\"text-align: right;\">\n",
       "      <th></th>\n",
       "      <th>Month</th>\n",
       "      <th>2018</th>\n",
       "      <th>2019</th>\n",
       "      <th>2020</th>\n",
       "      <th>Metric</th>\n",
       "      <th>Measure</th>\n",
       "      <th>Location</th>\n",
       "    </tr>\n",
       "  </thead>\n",
       "  <tbody>\n",
       "    <tr>\n",
       "      <th>0</th>\n",
       "      <td>1</td>\n",
       "      <td>16210.0</td>\n",
       "      <td>16637.0</td>\n",
       "      <td>15140.0</td>\n",
       "      <td>Electricity</td>\n",
       "      <td>Kilowatts</td>\n",
       "      <td>Neu-Isenburg</td>\n",
       "    </tr>\n",
       "    <tr>\n",
       "      <th>1</th>\n",
       "      <td>2</td>\n",
       "      <td>14146.0</td>\n",
       "      <td>15135.0</td>\n",
       "      <td>14130.0</td>\n",
       "      <td>Electricity</td>\n",
       "      <td>Kilowatts</td>\n",
       "      <td>Neu-Isenburg</td>\n",
       "    </tr>\n",
       "    <tr>\n",
       "      <th>2</th>\n",
       "      <td>3</td>\n",
       "      <td>15374.0</td>\n",
       "      <td>16090.0</td>\n",
       "      <td>12952.0</td>\n",
       "      <td>Electricity</td>\n",
       "      <td>Kilowatts</td>\n",
       "      <td>Neu-Isenburg</td>\n",
       "    </tr>\n",
       "    <tr>\n",
       "      <th>3</th>\n",
       "      <td>4</td>\n",
       "      <td>14092.0</td>\n",
       "      <td>14468.0</td>\n",
       "      <td>10089.0</td>\n",
       "      <td>Electricity</td>\n",
       "      <td>Kilowatts</td>\n",
       "      <td>Neu-Isenburg</td>\n",
       "    </tr>\n",
       "    <tr>\n",
       "      <th>4</th>\n",
       "      <td>5</td>\n",
       "      <td>14173.0</td>\n",
       "      <td>14698.0</td>\n",
       "      <td>10542.0</td>\n",
       "      <td>Electricity</td>\n",
       "      <td>Kilowatts</td>\n",
       "      <td>Neu-Isenburg</td>\n",
       "    </tr>\n",
       "    <tr>\n",
       "      <th>5</th>\n",
       "      <td>6</td>\n",
       "      <td>14556.0</td>\n",
       "      <td>13564.0</td>\n",
       "      <td>10091.0</td>\n",
       "      <td>Electricity</td>\n",
       "      <td>Kilowatts</td>\n",
       "      <td>Neu-Isenburg</td>\n",
       "    </tr>\n",
       "    <tr>\n",
       "      <th>6</th>\n",
       "      <td>7</td>\n",
       "      <td>15208.0</td>\n",
       "      <td>15181.0</td>\n",
       "      <td>10571.0</td>\n",
       "      <td>Electricity</td>\n",
       "      <td>Kilowatts</td>\n",
       "      <td>Neu-Isenburg</td>\n",
       "    </tr>\n",
       "    <tr>\n",
       "      <th>7</th>\n",
       "      <td>8</td>\n",
       "      <td>15908.0</td>\n",
       "      <td>15058.0</td>\n",
       "      <td>10311.0</td>\n",
       "      <td>Electricity</td>\n",
       "      <td>Kilowatts</td>\n",
       "      <td>Neu-Isenburg</td>\n",
       "    </tr>\n",
       "    <tr>\n",
       "      <th>8</th>\n",
       "      <td>9</td>\n",
       "      <td>14237.0</td>\n",
       "      <td>14320.0</td>\n",
       "      <td>10249.0</td>\n",
       "      <td>Electricity</td>\n",
       "      <td>Kilowatts</td>\n",
       "      <td>Neu-Isenburg</td>\n",
       "    </tr>\n",
       "    <tr>\n",
       "      <th>9</th>\n",
       "      <td>10</td>\n",
       "      <td>15829.0</td>\n",
       "      <td>15233.0</td>\n",
       "      <td>11502.0</td>\n",
       "      <td>Electricity</td>\n",
       "      <td>Kilowatts</td>\n",
       "      <td>Neu-Isenburg</td>\n",
       "    </tr>\n",
       "    <tr>\n",
       "      <th>10</th>\n",
       "      <td>11</td>\n",
       "      <td>16725.0</td>\n",
       "      <td>14886.0</td>\n",
       "      <td>10599.0</td>\n",
       "      <td>Electricity</td>\n",
       "      <td>Kilowatts</td>\n",
       "      <td>Neu-Isenburg</td>\n",
       "    </tr>\n",
       "    <tr>\n",
       "      <th>11</th>\n",
       "      <td>12</td>\n",
       "      <td>15570.0</td>\n",
       "      <td>14387.0</td>\n",
       "      <td>10677.0</td>\n",
       "      <td>Electricity</td>\n",
       "      <td>Kilowatts</td>\n",
       "      <td>Neu-Isenburg</td>\n",
       "    </tr>\n",
       "  </tbody>\n",
       "</table>\n",
       "</div>"
      ],
      "text/plain": [
       "    Month     2018     2019     2020       Metric    Measure      Location\n",
       "0       1  16210.0  16637.0  15140.0  Electricity  Kilowatts  Neu-Isenburg\n",
       "1       2  14146.0  15135.0  14130.0  Electricity  Kilowatts  Neu-Isenburg\n",
       "2       3  15374.0  16090.0  12952.0  Electricity  Kilowatts  Neu-Isenburg\n",
       "3       4  14092.0  14468.0  10089.0  Electricity  Kilowatts  Neu-Isenburg\n",
       "4       5  14173.0  14698.0  10542.0  Electricity  Kilowatts  Neu-Isenburg\n",
       "5       6  14556.0  13564.0  10091.0  Electricity  Kilowatts  Neu-Isenburg\n",
       "6       7  15208.0  15181.0  10571.0  Electricity  Kilowatts  Neu-Isenburg\n",
       "7       8  15908.0  15058.0  10311.0  Electricity  Kilowatts  Neu-Isenburg\n",
       "8       9  14237.0  14320.0  10249.0  Electricity  Kilowatts  Neu-Isenburg\n",
       "9      10  15829.0  15233.0  11502.0  Electricity  Kilowatts  Neu-Isenburg\n",
       "10     11  16725.0  14886.0  10599.0  Electricity  Kilowatts  Neu-Isenburg\n",
       "11     12  15570.0  14387.0  10677.0  Electricity  Kilowatts  Neu-Isenburg"
      ]
     },
     "execution_count": 19,
     "metadata": {},
     "output_type": "execute_result"
    }
   ],
   "source": [
    "# Add a location\n",
    "df_NI_electricity['Location'] = 'Neu-Isenburg'\n",
    "df_NI_electricity"
   ]
  },
  {
   "cell_type": "code",
   "execution_count": 20,
   "id": "a31a74c0",
   "metadata": {},
   "outputs": [],
   "source": [
    "# Group the NI electricity data by location"
   ]
  },
  {
   "cell_type": "code",
   "execution_count": 21,
   "id": "e314e822",
   "metadata": {},
   "outputs": [
    {
     "data": {
      "text/html": [
       "<div>\n",
       "<style scoped>\n",
       "    .dataframe tbody tr th:only-of-type {\n",
       "        vertical-align: middle;\n",
       "    }\n",
       "\n",
       "    .dataframe tbody tr th {\n",
       "        vertical-align: top;\n",
       "    }\n",
       "\n",
       "    .dataframe thead th {\n",
       "        text-align: right;\n",
       "    }\n",
       "</style>\n",
       "<table border=\"1\" class=\"dataframe\">\n",
       "  <thead>\n",
       "    <tr style=\"text-align: right;\">\n",
       "      <th></th>\n",
       "      <th>Location</th>\n",
       "      <th>Measure</th>\n",
       "      <th>Metric</th>\n",
       "      <th>Month</th>\n",
       "      <th>2018</th>\n",
       "      <th>2019</th>\n",
       "      <th>2020</th>\n",
       "    </tr>\n",
       "  </thead>\n",
       "  <tbody>\n",
       "    <tr>\n",
       "      <th>0</th>\n",
       "      <td>Neu-Isenburg</td>\n",
       "      <td>Kilowatts</td>\n",
       "      <td>Electricity</td>\n",
       "      <td>78</td>\n",
       "      <td>182028.0</td>\n",
       "      <td>179657.0</td>\n",
       "      <td>136853.0</td>\n",
       "    </tr>\n",
       "  </tbody>\n",
       "</table>\n",
       "</div>"
      ],
      "text/plain": [
       "       Location    Measure       Metric  Month      2018      2019      2020\n",
       "0  Neu-Isenburg  Kilowatts  Electricity     78  182028.0  179657.0  136853.0"
      ]
     },
     "execution_count": 21,
     "metadata": {},
     "output_type": "execute_result"
    }
   ],
   "source": [
    "#df_electricity_summ = df_combined.groupby(['Location','Measure','Metric']).sum()\n",
    "df_NI_electricity_summ = df_NI_electricity.groupby(['Location','Measure','Metric'], as_index=False).sum()\n",
    "df_NI_electricity_summ"
   ]
  },
  {
   "cell_type": "markdown",
   "id": "b285ee51",
   "metadata": {},
   "source": [
    "## Merge all NI data into 1 dataframe"
   ]
  },
  {
   "cell_type": "code",
   "execution_count": 22,
   "id": "49c0ab25",
   "metadata": {},
   "outputs": [
    {
     "data": {
      "text/html": [
       "<div>\n",
       "<style scoped>\n",
       "    .dataframe tbody tr th:only-of-type {\n",
       "        vertical-align: middle;\n",
       "    }\n",
       "\n",
       "    .dataframe tbody tr th {\n",
       "        vertical-align: top;\n",
       "    }\n",
       "\n",
       "    .dataframe thead th {\n",
       "        text-align: right;\n",
       "    }\n",
       "</style>\n",
       "<table border=\"1\" class=\"dataframe\">\n",
       "  <thead>\n",
       "    <tr style=\"text-align: right;\">\n",
       "      <th></th>\n",
       "      <th>Location</th>\n",
       "      <th>Measure</th>\n",
       "      <th>Metric</th>\n",
       "      <th>2018</th>\n",
       "      <th>2019</th>\n",
       "      <th>2020</th>\n",
       "    </tr>\n",
       "  </thead>\n",
       "  <tbody>\n",
       "    <tr>\n",
       "      <th>0</th>\n",
       "      <td>Neu-Isenburg</td>\n",
       "      <td>Kilo</td>\n",
       "      <td>Waste</td>\n",
       "      <td>1674.9900</td>\n",
       "      <td>1139.111401</td>\n",
       "      <td>1139.111401</td>\n",
       "    </tr>\n",
       "    <tr>\n",
       "      <th>1</th>\n",
       "      <td>Neu-Isenburg</td>\n",
       "      <td>Kilo</td>\n",
       "      <td>Water</td>\n",
       "      <td>474.4275</td>\n",
       "      <td>335.815991</td>\n",
       "      <td>335.815991</td>\n",
       "    </tr>\n",
       "    <tr>\n",
       "      <th>2</th>\n",
       "      <td>Neu-Isenburg</td>\n",
       "      <td>Kilowatts</td>\n",
       "      <td>Electricity</td>\n",
       "      <td>182194.0350</td>\n",
       "      <td>179763.841132</td>\n",
       "      <td>136959.841132</td>\n",
       "    </tr>\n",
       "  </tbody>\n",
       "</table>\n",
       "</div>"
      ],
      "text/plain": [
       "       Location    Measure       Metric         2018           2019  \\\n",
       "0  Neu-Isenburg       Kilo        Waste    1674.9900    1139.111401   \n",
       "1  Neu-Isenburg       Kilo        Water     474.4275     335.815991   \n",
       "2  Neu-Isenburg  Kilowatts  Electricity  182194.0350  179763.841132   \n",
       "\n",
       "            2020  \n",
       "0    1139.111401  \n",
       "1     335.815991  \n",
       "2  136959.841132  "
      ]
     },
     "execution_count": 22,
     "metadata": {},
     "output_type": "execute_result"
    }
   ],
   "source": [
    "# Resequence df_NI_electricity and merge it with the general dataframe\n",
    "df_NI_electricity_summ = df_NI_electricity_summ[['Location','Measure', 'Metric', '2018', '2019', '2020']]\n",
    "\n",
    "#combined = pd.concat([df_Köln_elec_summ, df_NI_electricity_summ], ignore_index=True)\n",
    "df_NI_all = pd.concat([df_NI_general, df_NI_electricity_summ])\n",
    "df_NI_all = df_NI_all.groupby(['Location','Measure','Metric'], as_index=False).sum()\n",
    "\n",
    "df_NI_all"
   ]
  },
  {
   "cell_type": "markdown",
   "id": "ef8f65b6",
   "metadata": {},
   "source": [
    "# Collect Köln data"
   ]
  },
  {
   "cell_type": "markdown",
   "id": "382b3f08",
   "metadata": {},
   "source": [
    "### Read the electricity invoices for Cologne into a pandas dataframe"
   ]
  },
  {
   "cell_type": "code",
   "execution_count": 23,
   "id": "41b325d5",
   "metadata": {},
   "outputs": [
    {
     "data": {
      "text/html": [
       "<div>\n",
       "<style scoped>\n",
       "    .dataframe tbody tr th:only-of-type {\n",
       "        vertical-align: middle;\n",
       "    }\n",
       "\n",
       "    .dataframe tbody tr th {\n",
       "        vertical-align: top;\n",
       "    }\n",
       "\n",
       "    .dataframe thead th {\n",
       "        text-align: right;\n",
       "    }\n",
       "</style>\n",
       "<table border=\"1\" class=\"dataframe\">\n",
       "  <thead>\n",
       "    <tr style=\"text-align: right;\">\n",
       "      <th></th>\n",
       "      <th>Lieferstelle</th>\n",
       "      <th>kWh Strom</th>\n",
       "      <th>Unnamed: 2</th>\n",
       "      <th>jahre</th>\n",
       "      <th>monat</th>\n",
       "      <th>Unnamed: 5</th>\n",
       "      <th>Unnamed: 6</th>\n",
       "      <th>Unnamed: 7</th>\n",
       "      <th>Unnamed: 8</th>\n",
       "      <th>Unnamed: 9</th>\n",
       "      <th>Unnamed: 10</th>\n",
       "      <th>Unnamed: 11</th>\n",
       "      <th>Unnamed: 12</th>\n",
       "    </tr>\n",
       "  </thead>\n",
       "  <tbody>\n",
       "    <tr>\n",
       "      <th>0</th>\n",
       "      <td>11478802.0</td>\n",
       "      <td>615.131</td>\n",
       "      <td>NaN</td>\n",
       "      <td>2019.0</td>\n",
       "      <td>1.0</td>\n",
       "      <td>NaN</td>\n",
       "      <td>NaN</td>\n",
       "      <td>NaN</td>\n",
       "      <td>NaN</td>\n",
       "      <td>NaN</td>\n",
       "      <td>NaN</td>\n",
       "      <td>NaN</td>\n",
       "      <td>NaN</td>\n",
       "    </tr>\n",
       "    <tr>\n",
       "      <th>1</th>\n",
       "      <td>11478803.0</td>\n",
       "      <td>674.138</td>\n",
       "      <td>NaN</td>\n",
       "      <td>2019.0</td>\n",
       "      <td>2.0</td>\n",
       "      <td>NaN</td>\n",
       "      <td>NaN</td>\n",
       "      <td>NaN</td>\n",
       "      <td>NaN</td>\n",
       "      <td>NaN</td>\n",
       "      <td>NaN</td>\n",
       "      <td>NaN</td>\n",
       "      <td>NaN</td>\n",
       "    </tr>\n",
       "    <tr>\n",
       "      <th>2</th>\n",
       "      <td>11478804.0</td>\n",
       "      <td>2431.338</td>\n",
       "      <td>NaN</td>\n",
       "      <td>2019.0</td>\n",
       "      <td>3.0</td>\n",
       "      <td>NaN</td>\n",
       "      <td>NaN</td>\n",
       "      <td>NaN</td>\n",
       "      <td>NaN</td>\n",
       "      <td>NaN</td>\n",
       "      <td>NaN</td>\n",
       "      <td>NaN</td>\n",
       "      <td>NaN</td>\n",
       "    </tr>\n",
       "    <tr>\n",
       "      <th>3</th>\n",
       "      <td>11478808.0</td>\n",
       "      <td>796.910</td>\n",
       "      <td>NaN</td>\n",
       "      <td>2019.0</td>\n",
       "      <td>4.0</td>\n",
       "      <td>NaN</td>\n",
       "      <td>NaN</td>\n",
       "      <td>NaN</td>\n",
       "      <td>NaN</td>\n",
       "      <td>NaN</td>\n",
       "      <td>NaN</td>\n",
       "      <td>NaN</td>\n",
       "      <td>NaN</td>\n",
       "    </tr>\n",
       "    <tr>\n",
       "      <th>4</th>\n",
       "      <td>11478809.0</td>\n",
       "      <td>8034.455</td>\n",
       "      <td>NaN</td>\n",
       "      <td>2019.0</td>\n",
       "      <td>5.0</td>\n",
       "      <td>NaN</td>\n",
       "      <td>NaN</td>\n",
       "      <td>NaN</td>\n",
       "      <td>NaN</td>\n",
       "      <td>NaN</td>\n",
       "      <td>NaN</td>\n",
       "      <td>NaN</td>\n",
       "      <td>NaN</td>\n",
       "    </tr>\n",
       "  </tbody>\n",
       "</table>\n",
       "</div>"
      ],
      "text/plain": [
       "   Lieferstelle  kWh Strom  Unnamed: 2   jahre  monat  Unnamed: 5  Unnamed: 6  \\\n",
       "0    11478802.0    615.131         NaN  2019.0    1.0         NaN         NaN   \n",
       "1    11478803.0    674.138         NaN  2019.0    2.0         NaN         NaN   \n",
       "2    11478804.0   2431.338         NaN  2019.0    3.0         NaN         NaN   \n",
       "3    11478808.0    796.910         NaN  2019.0    4.0         NaN         NaN   \n",
       "4    11478809.0   8034.455         NaN  2019.0    5.0         NaN         NaN   \n",
       "\n",
       "   Unnamed: 7  Unnamed: 8  Unnamed: 9  Unnamed: 10  Unnamed: 11 Unnamed: 12  \n",
       "0         NaN         NaN         NaN          NaN          NaN         NaN  \n",
       "1         NaN         NaN         NaN          NaN          NaN         NaN  \n",
       "2         NaN         NaN         NaN          NaN          NaN         NaN  \n",
       "3         NaN         NaN         NaN          NaN          NaN         NaN  \n",
       "4         NaN         NaN         NaN          NaN          NaN         NaN  "
      ]
     },
     "execution_count": 23,
     "metadata": {},
     "output_type": "execute_result"
    }
   ],
   "source": [
    "Köln_elec_data = os.path.join(Köln_directory,'Stromkosten 2019-20.xlsx')\n",
    "df_Köln_electricity = pd.read_excel(Köln_elec_data,sheet_name='Tabelle1')\n",
    "df_Köln_electricity.head()"
   ]
  },
  {
   "cell_type": "code",
   "execution_count": 24,
   "id": "a2ad7680",
   "metadata": {},
   "outputs": [
    {
     "data": {
      "text/html": [
       "<div>\n",
       "<style scoped>\n",
       "    .dataframe tbody tr th:only-of-type {\n",
       "        vertical-align: middle;\n",
       "    }\n",
       "\n",
       "    .dataframe tbody tr th {\n",
       "        vertical-align: top;\n",
       "    }\n",
       "\n",
       "    .dataframe thead th {\n",
       "        text-align: right;\n",
       "    }\n",
       "</style>\n",
       "<table border=\"1\" class=\"dataframe\">\n",
       "  <thead>\n",
       "    <tr style=\"text-align: right;\">\n",
       "      <th></th>\n",
       "      <th>kWh Strom</th>\n",
       "      <th>jahre</th>\n",
       "      <th>monat</th>\n",
       "    </tr>\n",
       "  </thead>\n",
       "  <tbody>\n",
       "    <tr>\n",
       "      <th>0</th>\n",
       "      <td>615.131</td>\n",
       "      <td>2019</td>\n",
       "      <td>1</td>\n",
       "    </tr>\n",
       "    <tr>\n",
       "      <th>1</th>\n",
       "      <td>674.138</td>\n",
       "      <td>2019</td>\n",
       "      <td>2</td>\n",
       "    </tr>\n",
       "    <tr>\n",
       "      <th>2</th>\n",
       "      <td>2431.338</td>\n",
       "      <td>2019</td>\n",
       "      <td>3</td>\n",
       "    </tr>\n",
       "    <tr>\n",
       "      <th>3</th>\n",
       "      <td>796.910</td>\n",
       "      <td>2019</td>\n",
       "      <td>4</td>\n",
       "    </tr>\n",
       "    <tr>\n",
       "      <th>4</th>\n",
       "      <td>8034.455</td>\n",
       "      <td>2019</td>\n",
       "      <td>5</td>\n",
       "    </tr>\n",
       "  </tbody>\n",
       "</table>\n",
       "</div>"
      ],
      "text/plain": [
       "   kWh Strom  jahre  monat\n",
       "0    615.131   2019      1\n",
       "1    674.138   2019      2\n",
       "2   2431.338   2019      3\n",
       "3    796.910   2019      4\n",
       "4   8034.455   2019      5"
      ]
     },
     "execution_count": 24,
     "metadata": {},
     "output_type": "execute_result"
    }
   ],
   "source": [
    "# Delete unused column from the dataframe\n",
    "df_Köln_electricity = df_Köln_electricity.drop(columns=[\"Lieferstelle\",\"Unnamed: 2\",\"Unnamed: 5\",\"Unnamed: 6\",\n",
    "                                               \"Unnamed: 7\",\"Unnamed: 8\",\"Unnamed: 9\",\n",
    "                                               \"Unnamed: 10\",\"Unnamed: 11\",\"Unnamed: 12\"])\n",
    "# Drop the Nan rows.\n",
    "df_Köln_electricity = df_Köln_electricity.dropna()\n",
    "\n",
    "# Turn off chained assignments warning.\n",
    "pd.options.mode.chained_assignment = None\n",
    "\n",
    "# Convert the year and month columns to integers\n",
    "df_Köln_electricity['jahre'] = df_Köln_electricity['jahre'].apply(int)\n",
    "df_Köln_electricity['monat'] = df_Köln_electricity['monat'].apply(int)\n",
    "\n",
    "df_Köln_electricity.head()"
   ]
  },
  {
   "cell_type": "code",
   "execution_count": 25,
   "id": "7fd6cf90",
   "metadata": {},
   "outputs": [
    {
     "data": {
      "text/html": [
       "<div>\n",
       "<style scoped>\n",
       "    .dataframe tbody tr th:only-of-type {\n",
       "        vertical-align: middle;\n",
       "    }\n",
       "\n",
       "    .dataframe tbody tr th {\n",
       "        vertical-align: top;\n",
       "    }\n",
       "\n",
       "    .dataframe thead th {\n",
       "        text-align: right;\n",
       "    }\n",
       "</style>\n",
       "<table border=\"1\" class=\"dataframe\">\n",
       "  <thead>\n",
       "    <tr style=\"text-align: right;\">\n",
       "      <th></th>\n",
       "      <th>Kilowatts</th>\n",
       "      <th>Year</th>\n",
       "      <th>Month</th>\n",
       "      <th>Metric</th>\n",
       "      <th>Measure</th>\n",
       "    </tr>\n",
       "  </thead>\n",
       "  <tbody>\n",
       "    <tr>\n",
       "      <th>0</th>\n",
       "      <td>615.131</td>\n",
       "      <td>2019</td>\n",
       "      <td>1</td>\n",
       "      <td>Electricity</td>\n",
       "      <td>Kilowatts</td>\n",
       "    </tr>\n",
       "    <tr>\n",
       "      <th>1</th>\n",
       "      <td>674.138</td>\n",
       "      <td>2019</td>\n",
       "      <td>2</td>\n",
       "      <td>Electricity</td>\n",
       "      <td>Kilowatts</td>\n",
       "    </tr>\n",
       "    <tr>\n",
       "      <th>2</th>\n",
       "      <td>2431.338</td>\n",
       "      <td>2019</td>\n",
       "      <td>3</td>\n",
       "      <td>Electricity</td>\n",
       "      <td>Kilowatts</td>\n",
       "    </tr>\n",
       "    <tr>\n",
       "      <th>3</th>\n",
       "      <td>796.910</td>\n",
       "      <td>2019</td>\n",
       "      <td>4</td>\n",
       "      <td>Electricity</td>\n",
       "      <td>Kilowatts</td>\n",
       "    </tr>\n",
       "    <tr>\n",
       "      <th>4</th>\n",
       "      <td>8034.455</td>\n",
       "      <td>2019</td>\n",
       "      <td>5</td>\n",
       "      <td>Electricity</td>\n",
       "      <td>Kilowatts</td>\n",
       "    </tr>\n",
       "  </tbody>\n",
       "</table>\n",
       "</div>"
      ],
      "text/plain": [
       "   Kilowatts  Year  Month       Metric    Measure\n",
       "0    615.131  2019      1  Electricity  Kilowatts\n",
       "1    674.138  2019      2  Electricity  Kilowatts\n",
       "2   2431.338  2019      3  Electricity  Kilowatts\n",
       "3    796.910  2019      4  Electricity  Kilowatts\n",
       "4   8034.455  2019      5  Electricity  Kilowatts"
      ]
     },
     "execution_count": 25,
     "metadata": {},
     "output_type": "execute_result"
    }
   ],
   "source": [
    "# Rename the columns to an english value.\n",
    "df_Köln_electricity.rename(columns = {'kWh Strom':'Kilowatts','jahre':'Year','monat':'Month'}, inplace = True)\n",
    "\n",
    "# The dataframe is now a slice of teh original so write to a new dataframe.\n",
    "df_Köln_elec = df_Köln_electricity\n",
    "df_Köln_elec['Metric'] = 'Electricity'\n",
    "df_Köln_elec['Measure'] = 'Kilowatts'\n",
    "df_Köln_elec.head()\n"
   ]
  },
  {
   "cell_type": "code",
   "execution_count": 26,
   "id": "cafc2143",
   "metadata": {},
   "outputs": [
    {
     "data": {
      "text/html": [
       "<div>\n",
       "<style scoped>\n",
       "    .dataframe tbody tr th:only-of-type {\n",
       "        vertical-align: middle;\n",
       "    }\n",
       "\n",
       "    .dataframe tbody tr th {\n",
       "        vertical-align: top;\n",
       "    }\n",
       "\n",
       "    .dataframe thead th {\n",
       "        text-align: right;\n",
       "    }\n",
       "</style>\n",
       "<table border=\"1\" class=\"dataframe\">\n",
       "  <thead>\n",
       "    <tr style=\"text-align: right;\">\n",
       "      <th></th>\n",
       "      <th>Month</th>\n",
       "      <th>Metric</th>\n",
       "      <th>Measure</th>\n",
       "      <th>2018</th>\n",
       "      <th>2019</th>\n",
       "      <th>2020</th>\n",
       "    </tr>\n",
       "  </thead>\n",
       "  <tbody>\n",
       "    <tr>\n",
       "      <th>0</th>\n",
       "      <td>1</td>\n",
       "      <td>Electricity</td>\n",
       "      <td>Kilowatts</td>\n",
       "      <td>0.0</td>\n",
       "      <td>615.131</td>\n",
       "      <td>0.0</td>\n",
       "    </tr>\n",
       "    <tr>\n",
       "      <th>1</th>\n",
       "      <td>2</td>\n",
       "      <td>Electricity</td>\n",
       "      <td>Kilowatts</td>\n",
       "      <td>0.0</td>\n",
       "      <td>674.138</td>\n",
       "      <td>0.0</td>\n",
       "    </tr>\n",
       "    <tr>\n",
       "      <th>2</th>\n",
       "      <td>3</td>\n",
       "      <td>Electricity</td>\n",
       "      <td>Kilowatts</td>\n",
       "      <td>0.0</td>\n",
       "      <td>2431.338</td>\n",
       "      <td>0.0</td>\n",
       "    </tr>\n",
       "    <tr>\n",
       "      <th>3</th>\n",
       "      <td>4</td>\n",
       "      <td>Electricity</td>\n",
       "      <td>Kilowatts</td>\n",
       "      <td>0.0</td>\n",
       "      <td>796.910</td>\n",
       "      <td>0.0</td>\n",
       "    </tr>\n",
       "    <tr>\n",
       "      <th>4</th>\n",
       "      <td>5</td>\n",
       "      <td>Electricity</td>\n",
       "      <td>Kilowatts</td>\n",
       "      <td>0.0</td>\n",
       "      <td>8034.455</td>\n",
       "      <td>0.0</td>\n",
       "    </tr>\n",
       "  </tbody>\n",
       "</table>\n",
       "</div>"
      ],
      "text/plain": [
       "   Month       Metric    Measure  2018      2019  2020\n",
       "0      1  Electricity  Kilowatts   0.0   615.131   0.0\n",
       "1      2  Electricity  Kilowatts   0.0   674.138   0.0\n",
       "2      3  Electricity  Kilowatts   0.0  2431.338   0.0\n",
       "3      4  Electricity  Kilowatts   0.0   796.910   0.0\n",
       "4      5  Electricity  Kilowatts   0.0  8034.455   0.0"
      ]
     },
     "execution_count": 26,
     "metadata": {},
     "output_type": "execute_result"
    }
   ],
   "source": [
    "# Add year columns to match the NI data\n",
    "df_Köln_elec['2018'] = np.NaN\n",
    "df_Köln_elec['2019'] = np.NaN\n",
    "df_Köln_elec['2020'] = np.NaN\n",
    "\n",
    "# Move the kilowatt data to the new columns\n",
    "df_Köln_elec['2018'] = df_Köln_elec.apply(lambda x: x['Kilowatts'] if x['Year']==2018 else 0.00, axis=1)\n",
    "df_Köln_elec['2019'] = df_Köln_elec.apply(lambda x: x['Kilowatts'] if x['Year']==2019 else 0.00, axis=1)\n",
    "df_Köln_elec['2020'] = df_Köln_elec.apply(lambda x: x['Kilowatts'] if x['Year']==2020 else 0.00, axis=1)\n",
    "\n",
    "# Drop the kilowatt and Year column and reorganise the colimns to match the NI data.\n",
    "df_Köln_elec = df_Köln_elec.drop(columns=[\"Kilowatts\",\"Year\"])\n",
    "\n",
    "# Resequence\n",
    "#df_Köln_elec = df_Köln_elec[['Measure', 'Metric', '2018', '2019', '2020','Month']]\n",
    "df_Köln_elec.head()"
   ]
  },
  {
   "cell_type": "code",
   "execution_count": 27,
   "id": "dc4317ed",
   "metadata": {},
   "outputs": [
    {
     "data": {
      "text/html": [
       "<div>\n",
       "<style scoped>\n",
       "    .dataframe tbody tr th:only-of-type {\n",
       "        vertical-align: middle;\n",
       "    }\n",
       "\n",
       "    .dataframe tbody tr th {\n",
       "        vertical-align: top;\n",
       "    }\n",
       "\n",
       "    .dataframe thead th {\n",
       "        text-align: right;\n",
       "    }\n",
       "</style>\n",
       "<table border=\"1\" class=\"dataframe\">\n",
       "  <thead>\n",
       "    <tr style=\"text-align: right;\">\n",
       "      <th></th>\n",
       "      <th>Location</th>\n",
       "      <th>Measure</th>\n",
       "      <th>Metric</th>\n",
       "      <th>2018</th>\n",
       "      <th>2019</th>\n",
       "      <th>2020</th>\n",
       "      <th>Month</th>\n",
       "    </tr>\n",
       "  </thead>\n",
       "  <tbody>\n",
       "    <tr>\n",
       "      <th>0</th>\n",
       "      <td>Köln</td>\n",
       "      <td>Kilowatts</td>\n",
       "      <td>Electricity</td>\n",
       "      <td>0.0</td>\n",
       "      <td>615.131</td>\n",
       "      <td>0.000</td>\n",
       "      <td>1</td>\n",
       "    </tr>\n",
       "    <tr>\n",
       "      <th>1</th>\n",
       "      <td>Köln</td>\n",
       "      <td>Kilowatts</td>\n",
       "      <td>Electricity</td>\n",
       "      <td>0.0</td>\n",
       "      <td>674.138</td>\n",
       "      <td>0.000</td>\n",
       "      <td>2</td>\n",
       "    </tr>\n",
       "    <tr>\n",
       "      <th>2</th>\n",
       "      <td>Köln</td>\n",
       "      <td>Kilowatts</td>\n",
       "      <td>Electricity</td>\n",
       "      <td>0.0</td>\n",
       "      <td>2431.338</td>\n",
       "      <td>0.000</td>\n",
       "      <td>3</td>\n",
       "    </tr>\n",
       "    <tr>\n",
       "      <th>3</th>\n",
       "      <td>Köln</td>\n",
       "      <td>Kilowatts</td>\n",
       "      <td>Electricity</td>\n",
       "      <td>0.0</td>\n",
       "      <td>796.910</td>\n",
       "      <td>0.000</td>\n",
       "      <td>4</td>\n",
       "    </tr>\n",
       "    <tr>\n",
       "      <th>4</th>\n",
       "      <td>Köln</td>\n",
       "      <td>Kilowatts</td>\n",
       "      <td>Electricity</td>\n",
       "      <td>0.0</td>\n",
       "      <td>8034.455</td>\n",
       "      <td>0.000</td>\n",
       "      <td>5</td>\n",
       "    </tr>\n",
       "    <tr>\n",
       "      <th>5</th>\n",
       "      <td>Köln</td>\n",
       "      <td>Kilowatts</td>\n",
       "      <td>Electricity</td>\n",
       "      <td>0.0</td>\n",
       "      <td>189.710</td>\n",
       "      <td>0.000</td>\n",
       "      <td>6</td>\n",
       "    </tr>\n",
       "    <tr>\n",
       "      <th>6</th>\n",
       "      <td>Köln</td>\n",
       "      <td>Kilowatts</td>\n",
       "      <td>Electricity</td>\n",
       "      <td>0.0</td>\n",
       "      <td>353.156</td>\n",
       "      <td>0.000</td>\n",
       "      <td>7</td>\n",
       "    </tr>\n",
       "    <tr>\n",
       "      <th>7</th>\n",
       "      <td>Köln</td>\n",
       "      <td>Kilowatts</td>\n",
       "      <td>Electricity</td>\n",
       "      <td>0.0</td>\n",
       "      <td>5047.869</td>\n",
       "      <td>0.000</td>\n",
       "      <td>8</td>\n",
       "    </tr>\n",
       "    <tr>\n",
       "      <th>8</th>\n",
       "      <td>Köln</td>\n",
       "      <td>Kilowatts</td>\n",
       "      <td>Electricity</td>\n",
       "      <td>0.0</td>\n",
       "      <td>3708.862</td>\n",
       "      <td>0.000</td>\n",
       "      <td>9</td>\n",
       "    </tr>\n",
       "    <tr>\n",
       "      <th>9</th>\n",
       "      <td>Köln</td>\n",
       "      <td>Kilowatts</td>\n",
       "      <td>Electricity</td>\n",
       "      <td>0.0</td>\n",
       "      <td>8666.662</td>\n",
       "      <td>0.000</td>\n",
       "      <td>10</td>\n",
       "    </tr>\n",
       "    <tr>\n",
       "      <th>10</th>\n",
       "      <td>Köln</td>\n",
       "      <td>Kilowatts</td>\n",
       "      <td>Electricity</td>\n",
       "      <td>0.0</td>\n",
       "      <td>3709.000</td>\n",
       "      <td>0.000</td>\n",
       "      <td>11</td>\n",
       "    </tr>\n",
       "    <tr>\n",
       "      <th>11</th>\n",
       "      <td>Köln</td>\n",
       "      <td>Kilowatts</td>\n",
       "      <td>Electricity</td>\n",
       "      <td>0.0</td>\n",
       "      <td>3590.000</td>\n",
       "      <td>0.000</td>\n",
       "      <td>12</td>\n",
       "    </tr>\n",
       "    <tr>\n",
       "      <th>12</th>\n",
       "      <td>Köln</td>\n",
       "      <td>Kilowatts</td>\n",
       "      <td>Electricity</td>\n",
       "      <td>0.0</td>\n",
       "      <td>0.000</td>\n",
       "      <td>6275.000</td>\n",
       "      <td>1</td>\n",
       "    </tr>\n",
       "    <tr>\n",
       "      <th>13</th>\n",
       "      <td>Köln</td>\n",
       "      <td>Kilowatts</td>\n",
       "      <td>Electricity</td>\n",
       "      <td>0.0</td>\n",
       "      <td>0.000</td>\n",
       "      <td>3771.090</td>\n",
       "      <td>2</td>\n",
       "    </tr>\n",
       "    <tr>\n",
       "      <th>14</th>\n",
       "      <td>Köln</td>\n",
       "      <td>Kilowatts</td>\n",
       "      <td>Electricity</td>\n",
       "      <td>0.0</td>\n",
       "      <td>0.000</td>\n",
       "      <td>30337.545</td>\n",
       "      <td>3</td>\n",
       "    </tr>\n",
       "    <tr>\n",
       "      <th>15</th>\n",
       "      <td>Köln</td>\n",
       "      <td>Kilowatts</td>\n",
       "      <td>Electricity</td>\n",
       "      <td>0.0</td>\n",
       "      <td>0.000</td>\n",
       "      <td>2890.290</td>\n",
       "      <td>4</td>\n",
       "    </tr>\n",
       "    <tr>\n",
       "      <th>16</th>\n",
       "      <td>Köln</td>\n",
       "      <td>Kilowatts</td>\n",
       "      <td>Electricity</td>\n",
       "      <td>0.0</td>\n",
       "      <td>0.000</td>\n",
       "      <td>25929.000</td>\n",
       "      <td>5</td>\n",
       "    </tr>\n",
       "    <tr>\n",
       "      <th>17</th>\n",
       "      <td>Köln</td>\n",
       "      <td>Kilowatts</td>\n",
       "      <td>Electricity</td>\n",
       "      <td>0.0</td>\n",
       "      <td>0.000</td>\n",
       "      <td>3773.844</td>\n",
       "      <td>6</td>\n",
       "    </tr>\n",
       "    <tr>\n",
       "      <th>18</th>\n",
       "      <td>Köln</td>\n",
       "      <td>Kilowatts</td>\n",
       "      <td>Electricity</td>\n",
       "      <td>0.0</td>\n",
       "      <td>0.000</td>\n",
       "      <td>1171.000</td>\n",
       "      <td>7</td>\n",
       "    </tr>\n",
       "    <tr>\n",
       "      <th>19</th>\n",
       "      <td>Köln</td>\n",
       "      <td>Kilowatts</td>\n",
       "      <td>Electricity</td>\n",
       "      <td>0.0</td>\n",
       "      <td>0.000</td>\n",
       "      <td>272.561</td>\n",
       "      <td>8</td>\n",
       "    </tr>\n",
       "    <tr>\n",
       "      <th>20</th>\n",
       "      <td>Köln</td>\n",
       "      <td>Kilowatts</td>\n",
       "      <td>Electricity</td>\n",
       "      <td>0.0</td>\n",
       "      <td>0.000</td>\n",
       "      <td>192.598</td>\n",
       "      <td>9</td>\n",
       "    </tr>\n",
       "    <tr>\n",
       "      <th>21</th>\n",
       "      <td>Köln</td>\n",
       "      <td>Kilowatts</td>\n",
       "      <td>Electricity</td>\n",
       "      <td>0.0</td>\n",
       "      <td>0.000</td>\n",
       "      <td>192.598</td>\n",
       "      <td>10</td>\n",
       "    </tr>\n",
       "    <tr>\n",
       "      <th>22</th>\n",
       "      <td>Köln</td>\n",
       "      <td>Kilowatts</td>\n",
       "      <td>Electricity</td>\n",
       "      <td>0.0</td>\n",
       "      <td>0.000</td>\n",
       "      <td>192.598</td>\n",
       "      <td>11</td>\n",
       "    </tr>\n",
       "    <tr>\n",
       "      <th>23</th>\n",
       "      <td>Köln</td>\n",
       "      <td>Kilowatts</td>\n",
       "      <td>Electricity</td>\n",
       "      <td>0.0</td>\n",
       "      <td>0.000</td>\n",
       "      <td>192.598</td>\n",
       "      <td>12</td>\n",
       "    </tr>\n",
       "  </tbody>\n",
       "</table>\n",
       "</div>"
      ],
      "text/plain": [
       "   Location    Measure       Metric  2018      2019       2020  Month\n",
       "0      Köln  Kilowatts  Electricity   0.0   615.131      0.000      1\n",
       "1      Köln  Kilowatts  Electricity   0.0   674.138      0.000      2\n",
       "2      Köln  Kilowatts  Electricity   0.0  2431.338      0.000      3\n",
       "3      Köln  Kilowatts  Electricity   0.0   796.910      0.000      4\n",
       "4      Köln  Kilowatts  Electricity   0.0  8034.455      0.000      5\n",
       "5      Köln  Kilowatts  Electricity   0.0   189.710      0.000      6\n",
       "6      Köln  Kilowatts  Electricity   0.0   353.156      0.000      7\n",
       "7      Köln  Kilowatts  Electricity   0.0  5047.869      0.000      8\n",
       "8      Köln  Kilowatts  Electricity   0.0  3708.862      0.000      9\n",
       "9      Köln  Kilowatts  Electricity   0.0  8666.662      0.000     10\n",
       "10     Köln  Kilowatts  Electricity   0.0  3709.000      0.000     11\n",
       "11     Köln  Kilowatts  Electricity   0.0  3590.000      0.000     12\n",
       "12     Köln  Kilowatts  Electricity   0.0     0.000   6275.000      1\n",
       "13     Köln  Kilowatts  Electricity   0.0     0.000   3771.090      2\n",
       "14     Köln  Kilowatts  Electricity   0.0     0.000  30337.545      3\n",
       "15     Köln  Kilowatts  Electricity   0.0     0.000   2890.290      4\n",
       "16     Köln  Kilowatts  Electricity   0.0     0.000  25929.000      5\n",
       "17     Köln  Kilowatts  Electricity   0.0     0.000   3773.844      6\n",
       "18     Köln  Kilowatts  Electricity   0.0     0.000   1171.000      7\n",
       "19     Köln  Kilowatts  Electricity   0.0     0.000    272.561      8\n",
       "20     Köln  Kilowatts  Electricity   0.0     0.000    192.598      9\n",
       "21     Köln  Kilowatts  Electricity   0.0     0.000    192.598     10\n",
       "22     Köln  Kilowatts  Electricity   0.0     0.000    192.598     11\n",
       "23     Köln  Kilowatts  Electricity   0.0     0.000    192.598     12"
      ]
     },
     "execution_count": 27,
     "metadata": {},
     "output_type": "execute_result"
    }
   ],
   "source": [
    "# Resequence\n",
    "df_Köln_elec['Location'] = 'Köln'\n",
    "df_Köln_elec = df_Köln_elec[['Location','Measure', 'Metric', '2018', '2019', '2020','Month']]\n",
    "df_Köln_elec"
   ]
  },
  {
   "cell_type": "code",
   "execution_count": 28,
   "id": "666a3321",
   "metadata": {},
   "outputs": [
    {
     "data": {
      "text/html": [
       "<div>\n",
       "<style scoped>\n",
       "    .dataframe tbody tr th:only-of-type {\n",
       "        vertical-align: middle;\n",
       "    }\n",
       "\n",
       "    .dataframe tbody tr th {\n",
       "        vertical-align: top;\n",
       "    }\n",
       "\n",
       "    .dataframe thead th {\n",
       "        text-align: right;\n",
       "    }\n",
       "</style>\n",
       "<table border=\"1\" class=\"dataframe\">\n",
       "  <thead>\n",
       "    <tr style=\"text-align: right;\">\n",
       "      <th></th>\n",
       "      <th>Location</th>\n",
       "      <th>Measure</th>\n",
       "      <th>Metric</th>\n",
       "      <th>2018</th>\n",
       "      <th>2019</th>\n",
       "      <th>2020</th>\n",
       "      <th>Month</th>\n",
       "    </tr>\n",
       "  </thead>\n",
       "  <tbody>\n",
       "    <tr>\n",
       "      <th>0</th>\n",
       "      <td>Köln</td>\n",
       "      <td>Kilowatts</td>\n",
       "      <td>Electricity</td>\n",
       "      <td>0.0</td>\n",
       "      <td>37817.231</td>\n",
       "      <td>75190.722</td>\n",
       "      <td>156</td>\n",
       "    </tr>\n",
       "  </tbody>\n",
       "</table>\n",
       "</div>"
      ],
      "text/plain": [
       "  Location    Measure       Metric  2018       2019       2020  Month\n",
       "0     Köln  Kilowatts  Electricity   0.0  37817.231  75190.722    156"
      ]
     },
     "execution_count": 28,
     "metadata": {},
     "output_type": "execute_result"
    }
   ],
   "source": [
    "df_Köln_elec_summ = df_Köln_elec.groupby(['Location','Measure','Metric'], as_index=False).sum()\n",
    "df_Köln_elec_summ.head()"
   ]
  },
  {
   "cell_type": "markdown",
   "id": "efa21ad3",
   "metadata": {},
   "source": [
    "## Now read the Köln general invoices into pandas dataframes."
   ]
  },
  {
   "cell_type": "code",
   "execution_count": 29,
   "id": "3688e5d2",
   "metadata": {},
   "outputs": [
    {
     "data": {
      "text/html": [
       "<div>\n",
       "<style scoped>\n",
       "    .dataframe tbody tr th:only-of-type {\n",
       "        vertical-align: middle;\n",
       "    }\n",
       "\n",
       "    .dataframe tbody tr th {\n",
       "        vertical-align: top;\n",
       "    }\n",
       "\n",
       "    .dataframe thead th {\n",
       "        text-align: right;\n",
       "    }\n",
       "</style>\n",
       "<table border=\"1\" class=\"dataframe\">\n",
       "  <thead>\n",
       "    <tr style=\"text-align: right;\">\n",
       "      <th></th>\n",
       "      <th>kostenart</th>\n",
       "      <th>umlageschlussel</th>\n",
       "      <th>bemessung gesamt</th>\n",
       "      <th>bemessung anteilig</th>\n",
       "      <th>gesamt kosten</th>\n",
       "      <th>ihre kosten</th>\n",
       "    </tr>\n",
       "  </thead>\n",
       "  <tbody>\n",
       "    <tr>\n",
       "      <th>0</th>\n",
       "      <td>grundsteur</td>\n",
       "      <td>nutzflache</td>\n",
       "      <td>446.8</td>\n",
       "      <td>28.75</td>\n",
       "      <td>862.73</td>\n",
       "      <td>55.51</td>\n",
       "    </tr>\n",
       "    <tr>\n",
       "      <th>1</th>\n",
       "      <td>wasser</td>\n",
       "      <td>nutzflache</td>\n",
       "      <td>446.8</td>\n",
       "      <td>28.75</td>\n",
       "      <td>632.57</td>\n",
       "      <td>40.71</td>\n",
       "    </tr>\n",
       "    <tr>\n",
       "      <th>2</th>\n",
       "      <td>entwasserung</td>\n",
       "      <td>nutzflache</td>\n",
       "      <td>446.8</td>\n",
       "      <td>28.75</td>\n",
       "      <td>937.66</td>\n",
       "      <td>60.34</td>\n",
       "    </tr>\n",
       "    <tr>\n",
       "      <th>3</th>\n",
       "      <td>entwasserung (regenwasser)</td>\n",
       "      <td>nutzflache</td>\n",
       "      <td>446.8</td>\n",
       "      <td>28.75</td>\n",
       "      <td>332.08</td>\n",
       "      <td>21.37</td>\n",
       "    </tr>\n",
       "    <tr>\n",
       "      <th>4</th>\n",
       "      <td>strassenreinigung</td>\n",
       "      <td>nutzflache</td>\n",
       "      <td>446.8</td>\n",
       "      <td>28.75</td>\n",
       "      <td>126.60</td>\n",
       "      <td>8.15</td>\n",
       "    </tr>\n",
       "    <tr>\n",
       "      <th>5</th>\n",
       "      <td>mullabfuhr</td>\n",
       "      <td>nutzflache</td>\n",
       "      <td>446.8</td>\n",
       "      <td>28.75</td>\n",
       "      <td>963.58</td>\n",
       "      <td>62.00</td>\n",
       "    </tr>\n",
       "    <tr>\n",
       "      <th>6</th>\n",
       "      <td>hausreinigung</td>\n",
       "      <td>nutzflache</td>\n",
       "      <td>446.8</td>\n",
       "      <td>28.75</td>\n",
       "      <td>59.41</td>\n",
       "      <td>3.82</td>\n",
       "    </tr>\n",
       "    <tr>\n",
       "      <th>7</th>\n",
       "      <td>hausreinigung (dienstl)</td>\n",
       "      <td>nutzflache</td>\n",
       "      <td>446.8</td>\n",
       "      <td>28.75</td>\n",
       "      <td>534.36</td>\n",
       "      <td>34.38</td>\n",
       "    </tr>\n",
       "    <tr>\n",
       "      <th>8</th>\n",
       "      <td>gartenpflege</td>\n",
       "      <td>nutzflache</td>\n",
       "      <td>446.8</td>\n",
       "      <td>28.75</td>\n",
       "      <td>59.55</td>\n",
       "      <td>3.83</td>\n",
       "    </tr>\n",
       "    <tr>\n",
       "      <th>9</th>\n",
       "      <td>gartenpflege (dienstl)</td>\n",
       "      <td>nutzflache</td>\n",
       "      <td>446.8</td>\n",
       "      <td>28.75</td>\n",
       "      <td>751.98</td>\n",
       "      <td>48.39</td>\n",
       "    </tr>\n",
       "    <tr>\n",
       "      <th>10</th>\n",
       "      <td>stromkosten</td>\n",
       "      <td>nutzflache</td>\n",
       "      <td>446.8</td>\n",
       "      <td>28.75</td>\n",
       "      <td>221.38</td>\n",
       "      <td>14.25</td>\n",
       "    </tr>\n",
       "    <tr>\n",
       "      <th>11</th>\n",
       "      <td>gebaudeversicherung</td>\n",
       "      <td>nutzflache</td>\n",
       "      <td>446.8</td>\n",
       "      <td>28.75</td>\n",
       "      <td>637.71</td>\n",
       "      <td>41.03</td>\n",
       "    </tr>\n",
       "    <tr>\n",
       "      <th>12</th>\n",
       "      <td>haftplichtgebaudeversicherung</td>\n",
       "      <td>nutzflache</td>\n",
       "      <td>446.8</td>\n",
       "      <td>28.75</td>\n",
       "      <td>31.24</td>\n",
       "      <td>2.01</td>\n",
       "    </tr>\n",
       "    <tr>\n",
       "      <th>13</th>\n",
       "      <td>wartung rauchschutz</td>\n",
       "      <td>nutzflache</td>\n",
       "      <td>11.094.08</td>\n",
       "      <td>28.75</td>\n",
       "      <td>942.24</td>\n",
       "      <td>2.44</td>\n",
       "    </tr>\n",
       "    <tr>\n",
       "      <th>14</th>\n",
       "      <td>wartung prufung</td>\n",
       "      <td>nutzflache</td>\n",
       "      <td>11.094.08</td>\n",
       "      <td>28.75</td>\n",
       "      <td>6137.42</td>\n",
       "      <td>15.91</td>\n",
       "    </tr>\n",
       "    <tr>\n",
       "      <th>15</th>\n",
       "      <td>feuerloscherpufung</td>\n",
       "      <td>nutzflache</td>\n",
       "      <td>11.094.08</td>\n",
       "      <td>28.75</td>\n",
       "      <td>128.41</td>\n",
       "      <td>0.33</td>\n",
       "    </tr>\n",
       "    <tr>\n",
       "      <th>16</th>\n",
       "      <td>hauswartleist</td>\n",
       "      <td>nutzflache</td>\n",
       "      <td>446.8</td>\n",
       "      <td>28.75</td>\n",
       "      <td>602.28</td>\n",
       "      <td>38.75</td>\n",
       "    </tr>\n",
       "    <tr>\n",
       "      <th>17</th>\n",
       "      <td>heizkosten</td>\n",
       "      <td>il. Abrechnung</td>\n",
       "      <td>NaN</td>\n",
       "      <td>NaN</td>\n",
       "      <td>NaN</td>\n",
       "      <td>206.38</td>\n",
       "    </tr>\n",
       "    <tr>\n",
       "      <th>18</th>\n",
       "      <td>NaN</td>\n",
       "      <td>NaN</td>\n",
       "      <td>NaN</td>\n",
       "      <td>NaN</td>\n",
       "      <td>NaN</td>\n",
       "      <td>NaN</td>\n",
       "    </tr>\n",
       "    <tr>\n",
       "      <th>19</th>\n",
       "      <td>gesamtkosten</td>\n",
       "      <td>NaN</td>\n",
       "      <td>NaN</td>\n",
       "      <td>NaN</td>\n",
       "      <td>13961.20</td>\n",
       "      <td>659.60</td>\n",
       "    </tr>\n",
       "    <tr>\n",
       "      <th>20</th>\n",
       "      <td>NaN</td>\n",
       "      <td>NaN</td>\n",
       "      <td>NaN</td>\n",
       "      <td>NaN</td>\n",
       "      <td>NaN</td>\n",
       "      <td>NaN</td>\n",
       "    </tr>\n",
       "    <tr>\n",
       "      <th>21</th>\n",
       "      <td>ihre gesamtvorauszahlungen</td>\n",
       "      <td>NaN</td>\n",
       "      <td>NaN</td>\n",
       "      <td>NaN</td>\n",
       "      <td>NaN</td>\n",
       "      <td>453.22</td>\n",
       "    </tr>\n",
       "    <tr>\n",
       "      <th>22</th>\n",
       "      <td>NaN</td>\n",
       "      <td>NaN</td>\n",
       "      <td>NaN</td>\n",
       "      <td>NaN</td>\n",
       "      <td>NaN</td>\n",
       "      <td>NaN</td>\n",
       "    </tr>\n",
       "    <tr>\n",
       "      <th>23</th>\n",
       "      <td>nachzahlung</td>\n",
       "      <td>NaN</td>\n",
       "      <td>NaN</td>\n",
       "      <td>NaN</td>\n",
       "      <td>NaN</td>\n",
       "      <td>203.60</td>\n",
       "    </tr>\n",
       "  </tbody>\n",
       "</table>\n",
       "</div>"
      ],
      "text/plain": [
       "                        kostenart umlageschlussel bemessung gesamt  \\\n",
       "0                      grundsteur      nutzflache            446.8   \n",
       "1                          wasser      nutzflache            446.8   \n",
       "2                    entwasserung      nutzflache            446.8   \n",
       "3      entwasserung (regenwasser)      nutzflache            446.8   \n",
       "4               strassenreinigung      nutzflache            446.8   \n",
       "5                      mullabfuhr      nutzflache            446.8   \n",
       "6                   hausreinigung      nutzflache            446.8   \n",
       "7         hausreinigung (dienstl)      nutzflache            446.8   \n",
       "8                    gartenpflege      nutzflache            446.8   \n",
       "9          gartenpflege (dienstl)      nutzflache            446.8   \n",
       "10                    stromkosten      nutzflache            446.8   \n",
       "11            gebaudeversicherung      nutzflache            446.8   \n",
       "12  haftplichtgebaudeversicherung      nutzflache            446.8   \n",
       "13            wartung rauchschutz      nutzflache        11.094.08   \n",
       "14                wartung prufung      nutzflache        11.094.08   \n",
       "15             feuerloscherpufung      nutzflache        11.094.08   \n",
       "16                  hauswartleist      nutzflache            446.8   \n",
       "17                     heizkosten  il. Abrechnung              NaN   \n",
       "18                            NaN             NaN              NaN   \n",
       "19                   gesamtkosten             NaN              NaN   \n",
       "20                            NaN             NaN              NaN   \n",
       "21     ihre gesamtvorauszahlungen             NaN              NaN   \n",
       "22                            NaN             NaN              NaN   \n",
       "23                    nachzahlung             NaN              NaN   \n",
       "\n",
       "    bemessung anteilig  gesamt kosten  ihre kosten  \n",
       "0                28.75         862.73        55.51  \n",
       "1                28.75         632.57        40.71  \n",
       "2                28.75         937.66        60.34  \n",
       "3                28.75         332.08        21.37  \n",
       "4                28.75         126.60         8.15  \n",
       "5                28.75         963.58        62.00  \n",
       "6                28.75          59.41         3.82  \n",
       "7                28.75         534.36        34.38  \n",
       "8                28.75          59.55         3.83  \n",
       "9                28.75         751.98        48.39  \n",
       "10               28.75         221.38        14.25  \n",
       "11               28.75         637.71        41.03  \n",
       "12               28.75          31.24         2.01  \n",
       "13               28.75         942.24         2.44  \n",
       "14               28.75        6137.42        15.91  \n",
       "15               28.75         128.41         0.33  \n",
       "16               28.75         602.28        38.75  \n",
       "17                 NaN            NaN       206.38  \n",
       "18                 NaN            NaN          NaN  \n",
       "19                 NaN       13961.20       659.60  \n",
       "20                 NaN            NaN          NaN  \n",
       "21                 NaN            NaN       453.22  \n",
       "22                 NaN            NaN          NaN  \n",
       "23                 NaN            NaN       203.60  "
      ]
     },
     "execution_count": 29,
     "metadata": {},
     "output_type": "execute_result"
    }
   ],
   "source": [
    "Köln_gen_data = os.path.join(Köln_directory,'20205586 Wohnbau.xlsx')\n",
    "df_Köln_general_2018 = pd.read_excel(Köln_gen_data,sheet_name='Sheet1')\n",
    "# Create a Year column.\n",
    "df_Köln_general_2018"
   ]
  },
  {
   "cell_type": "code",
   "execution_count": 30,
   "id": "a8e943c1",
   "metadata": {},
   "outputs": [
    {
     "data": {
      "text/html": [
       "<div>\n",
       "<style scoped>\n",
       "    .dataframe tbody tr th:only-of-type {\n",
       "        vertical-align: middle;\n",
       "    }\n",
       "\n",
       "    .dataframe tbody tr th {\n",
       "        vertical-align: top;\n",
       "    }\n",
       "\n",
       "    .dataframe thead th {\n",
       "        text-align: right;\n",
       "    }\n",
       "</style>\n",
       "<table border=\"1\" class=\"dataframe\">\n",
       "  <thead>\n",
       "    <tr style=\"text-align: right;\">\n",
       "      <th></th>\n",
       "      <th>Cost_Type</th>\n",
       "      <th>2018</th>\n",
       "    </tr>\n",
       "  </thead>\n",
       "  <tbody>\n",
       "    <tr>\n",
       "      <th>0</th>\n",
       "      <td>Basic_Tax</td>\n",
       "      <td>862.73</td>\n",
       "    </tr>\n",
       "    <tr>\n",
       "      <th>1</th>\n",
       "      <td>Water</td>\n",
       "      <td>632.57</td>\n",
       "    </tr>\n",
       "    <tr>\n",
       "      <th>2</th>\n",
       "      <td>Drainage</td>\n",
       "      <td>937.66</td>\n",
       "    </tr>\n",
       "    <tr>\n",
       "      <th>3</th>\n",
       "      <td>drainage (rainwater)</td>\n",
       "      <td>332.08</td>\n",
       "    </tr>\n",
       "    <tr>\n",
       "      <th>4</th>\n",
       "      <td>Street_Cleaning</td>\n",
       "      <td>126.60</td>\n",
       "    </tr>\n",
       "    <tr>\n",
       "      <th>5</th>\n",
       "      <td>Garbage_Disposal</td>\n",
       "      <td>963.58</td>\n",
       "    </tr>\n",
       "    <tr>\n",
       "      <th>6</th>\n",
       "      <td>House_Cleaning</td>\n",
       "      <td>59.41</td>\n",
       "    </tr>\n",
       "    <tr>\n",
       "      <th>7</th>\n",
       "      <td>house cleaning (service)</td>\n",
       "      <td>534.36</td>\n",
       "    </tr>\n",
       "    <tr>\n",
       "      <th>8</th>\n",
       "      <td>Garden_Maintenance</td>\n",
       "      <td>59.55</td>\n",
       "    </tr>\n",
       "    <tr>\n",
       "      <th>9</th>\n",
       "      <td>garden maintenance (dienstl)</td>\n",
       "      <td>751.98</td>\n",
       "    </tr>\n",
       "    <tr>\n",
       "      <th>10</th>\n",
       "      <td>Electricity_Costs</td>\n",
       "      <td>221.38</td>\n",
       "    </tr>\n",
       "    <tr>\n",
       "      <th>11</th>\n",
       "      <td>Building_Insurance</td>\n",
       "      <td>637.71</td>\n",
       "    </tr>\n",
       "    <tr>\n",
       "      <th>12</th>\n",
       "      <td>Liability_Building_Insurance</td>\n",
       "      <td>31.24</td>\n",
       "    </tr>\n",
       "    <tr>\n",
       "      <th>13</th>\n",
       "      <td>Maintenance_Smoke_Protection</td>\n",
       "      <td>942.24</td>\n",
       "    </tr>\n",
       "    <tr>\n",
       "      <th>14</th>\n",
       "      <td>Maintenance_Check</td>\n",
       "      <td>6137.42</td>\n",
       "    </tr>\n",
       "    <tr>\n",
       "      <th>15</th>\n",
       "      <td>Fire_Extinguisher_Test</td>\n",
       "      <td>128.41</td>\n",
       "    </tr>\n",
       "    <tr>\n",
       "      <th>16</th>\n",
       "      <td>Caretaker</td>\n",
       "      <td>602.28</td>\n",
       "    </tr>\n",
       "  </tbody>\n",
       "</table>\n",
       "</div>"
      ],
      "text/plain": [
       "                       Cost_Type     2018\n",
       "0                      Basic_Tax   862.73\n",
       "1                          Water   632.57\n",
       "2                       Drainage   937.66\n",
       "3           drainage (rainwater)   332.08\n",
       "4                Street_Cleaning   126.60\n",
       "5               Garbage_Disposal   963.58\n",
       "6                 House_Cleaning    59.41\n",
       "7       house cleaning (service)   534.36\n",
       "8             Garden_Maintenance    59.55\n",
       "9   garden maintenance (dienstl)   751.98\n",
       "10             Electricity_Costs   221.38\n",
       "11            Building_Insurance   637.71\n",
       "12  Liability_Building_Insurance    31.24\n",
       "13  Maintenance_Smoke_Protection   942.24\n",
       "14             Maintenance_Check  6137.42\n",
       "15        Fire_Extinguisher_Test   128.41\n",
       "16                     Caretaker   602.28"
      ]
     },
     "execution_count": 30,
     "metadata": {},
     "output_type": "execute_result"
    }
   ],
   "source": [
    "# Rename the columns to an english value, using teh translation dictionaty.\n",
    "df_Köln_general_2018.rename(columns = {'kostenart':(Translate_Dict.get(\"kostenart\"))}, inplace = True)\n",
    "df_Köln_general_2018.rename(columns = {'umlageschlussel':(Translate_Dict.get(\"umlageschlussel\"))}, inplace = True)\n",
    "df_Köln_general_2018.rename(columns = {'bemessung gesamt':(Translate_Dict.get(\"bemessung gesamt\"))}, inplace = True)\n",
    "df_Köln_general_2018.rename(columns = {'bemessung anteilig':(Translate_Dict.get(\"bemessung anteilig\"))}, inplace = True)\n",
    "df_Köln_general_2018.rename(columns = {'gesamt kosten':(Translate_Dict.get(\"gesamt kosten\"))}, inplace = True)\n",
    "df_Köln_general_2018.rename(columns = {'ihre kosten':(Translate_Dict.get(\"ihre kosten\"))}, inplace = True)\n",
    "\n",
    "# Drop the Nan rows.  Anything without a value is not an invoice line item.\n",
    "df_Köln_general_2018 = df_Köln_general_2018.dropna()\n",
    "\n",
    "# Create a mask to use in translation of the Cost_Type column\n",
    "Cost_Type_mask = df_Köln_general_2018['Cost_Type'].isin(Translate_Dict.keys())\n",
    "\n",
    "# Create a mask to use in translation of the Cost_Type column\n",
    "Turnover_Key_mask = df_Köln_general_2018['Turnover_Key'].isin(Translate_Dict.keys())\n",
    "\n",
    "# Translate teh 2 columns with german data\n",
    "df_Köln_general_2018.loc[Cost_Type_mask, 'Cost_Type'] = df_Köln_general_2018.loc[Cost_Type_mask, 'Cost_Type'].map(Translate_Dict)\n",
    "df_Köln_general_2018.loc[Turnover_Key_mask, 'Turnover_Key'] = df_Köln_general_2018.loc[Turnover_Key_mask, 'Turnover_Key'].map(Translate_Dict)\n",
    "\n",
    "# Drop the columns we don't need\n",
    "df_Köln_general_2018 = df_Köln_general_2018.drop(columns=['Turnover_Key','Overall_Dimensioning','Measurement_Pro_Rata','Your_Costs'])\n",
    "\n",
    "df_Köln_general_2018.rename(columns = {'Total_Cost':'2018'}, inplace = True)\n",
    "df_Köln_general_2018\n"
   ]
  },
  {
   "cell_type": "code",
   "execution_count": 31,
   "id": "63be783b",
   "metadata": {},
   "outputs": [
    {
     "data": {
      "text/html": [
       "<div>\n",
       "<style scoped>\n",
       "    .dataframe tbody tr th:only-of-type {\n",
       "        vertical-align: middle;\n",
       "    }\n",
       "\n",
       "    .dataframe tbody tr th {\n",
       "        vertical-align: top;\n",
       "    }\n",
       "\n",
       "    .dataframe thead th {\n",
       "        text-align: right;\n",
       "    }\n",
       "</style>\n",
       "<table border=\"1\" class=\"dataframe\">\n",
       "  <thead>\n",
       "    <tr style=\"text-align: right;\">\n",
       "      <th></th>\n",
       "      <th>Cost_Type</th>\n",
       "      <th>2019</th>\n",
       "    </tr>\n",
       "  </thead>\n",
       "  <tbody>\n",
       "    <tr>\n",
       "      <th>0</th>\n",
       "      <td>Basic_Tax</td>\n",
       "      <td>693.942915</td>\n",
       "    </tr>\n",
       "    <tr>\n",
       "      <th>1</th>\n",
       "      <td>Water</td>\n",
       "      <td>508.812107</td>\n",
       "    </tr>\n",
       "    <tr>\n",
       "      <th>2</th>\n",
       "      <td>Drainage</td>\n",
       "      <td>754.213385</td>\n",
       "    </tr>\n",
       "    <tr>\n",
       "      <th>3</th>\n",
       "      <td>drainage (rainwater)</td>\n",
       "      <td>267.110873</td>\n",
       "    </tr>\n",
       "    <tr>\n",
       "      <th>4</th>\n",
       "      <td>Street_Cleaning</td>\n",
       "      <td>101.831596</td>\n",
       "    </tr>\n",
       "    <tr>\n",
       "      <th>5</th>\n",
       "      <td>Garbage_Disposal</td>\n",
       "      <td>775.062318</td>\n",
       "    </tr>\n",
       "    <tr>\n",
       "      <th>6</th>\n",
       "      <td>House_Cleaning</td>\n",
       "      <td>47.786849</td>\n",
       "    </tr>\n",
       "    <tr>\n",
       "      <th>7</th>\n",
       "      <td>house cleaning (service)</td>\n",
       "      <td>429.816207</td>\n",
       "    </tr>\n",
       "    <tr>\n",
       "      <th>8</th>\n",
       "      <td>Garden_Maintenance</td>\n",
       "      <td>47.899459</td>\n",
       "    </tr>\n",
       "    <tr>\n",
       "      <th>9</th>\n",
       "      <td>garden maintenance (dienstl)</td>\n",
       "      <td>604.860377</td>\n",
       "    </tr>\n",
       "    <tr>\n",
       "      <th>10</th>\n",
       "      <td>Electricity_Costs</td>\n",
       "      <td>178.068553</td>\n",
       "    </tr>\n",
       "    <tr>\n",
       "      <th>11</th>\n",
       "      <td>Building_Insurance</td>\n",
       "      <td>512.946502</td>\n",
       "    </tr>\n",
       "    <tr>\n",
       "      <th>12</th>\n",
       "      <td>Liability_Building_Insurance</td>\n",
       "      <td>25.128113</td>\n",
       "    </tr>\n",
       "    <tr>\n",
       "      <th>13</th>\n",
       "      <td>Maintenance_Smoke_Protection</td>\n",
       "      <td>757.897340</td>\n",
       "    </tr>\n",
       "    <tr>\n",
       "      <th>14</th>\n",
       "      <td>Maintenance_Check</td>\n",
       "      <td>4936.676739</td>\n",
       "    </tr>\n",
       "    <tr>\n",
       "      <th>15</th>\n",
       "      <td>Fire_Extinguisher_Test</td>\n",
       "      <td>103.287482</td>\n",
       "    </tr>\n",
       "    <tr>\n",
       "      <th>16</th>\n",
       "      <td>Caretaker</td>\n",
       "      <td>484.448134</td>\n",
       "    </tr>\n",
       "  </tbody>\n",
       "</table>\n",
       "</div>"
      ],
      "text/plain": [
       "                       Cost_Type         2019\n",
       "0                      Basic_Tax   693.942915\n",
       "1                          Water   508.812107\n",
       "2                       Drainage   754.213385\n",
       "3           drainage (rainwater)   267.110873\n",
       "4                Street_Cleaning   101.831596\n",
       "5               Garbage_Disposal   775.062318\n",
       "6                 House_Cleaning    47.786849\n",
       "7       house cleaning (service)   429.816207\n",
       "8             Garden_Maintenance    47.899459\n",
       "9   garden maintenance (dienstl)   604.860377\n",
       "10             Electricity_Costs   178.068553\n",
       "11            Building_Insurance   512.946502\n",
       "12  Liability_Building_Insurance    25.128113\n",
       "13  Maintenance_Smoke_Protection   757.897340\n",
       "14             Maintenance_Check  4936.676739\n",
       "15        Fire_Extinguisher_Test   103.287482\n",
       "16                     Caretaker   484.448134"
      ]
     },
     "execution_count": 31,
     "metadata": {},
     "output_type": "execute_result"
    }
   ],
   "source": [
    "Köln_gen_data = os.path.join(Köln_directory,'20205587 Wohnbau.xlsx')\n",
    "df_Köln_general_2019 = pd.read_excel(Köln_gen_data,sheet_name='Sheet1')\n",
    "\n",
    "# Rename the columns to an english value, using teh translation dictionaty.\n",
    "df_Köln_general_2019.rename(columns = {'kostenart':(Translate_Dict.get(\"kostenart\"))}, inplace = True)\n",
    "df_Köln_general_2019.rename(columns = {'umlageschlussel':(Translate_Dict.get(\"umlageschlussel\"))}, inplace = True)\n",
    "df_Köln_general_2019.rename(columns = {'bemessung gesamt':(Translate_Dict.get(\"bemessung gesamt\"))}, inplace = True)\n",
    "df_Köln_general_2019.rename(columns = {'bemessung anteilig':(Translate_Dict.get(\"bemessung anteilig\"))}, inplace = True)\n",
    "df_Köln_general_2019.rename(columns = {'gesamt kosten':(Translate_Dict.get(\"gesamt kosten\"))}, inplace = True)\n",
    "df_Köln_general_2019.rename(columns = {'ihre kosten':(Translate_Dict.get(\"ihre kosten\"))}, inplace = True)\n",
    "\n",
    "# Drop the Nan rows.  Anything without a value is not an invoice line item.\n",
    "df_Köln_general_2019 = df_Köln_general_2019.dropna()\n",
    "\n",
    "# Translate teh 2 columns with german data\n",
    "df_Köln_general_2019.loc[Cost_Type_mask, 'Cost_Type'] = df_Köln_general_2019.loc[Cost_Type_mask, 'Cost_Type'].map(Translate_Dict)\n",
    "df_Köln_general_2019.loc[Turnover_Key_mask, 'Turnover_Key'] = df_Köln_general_2019.loc[Turnover_Key_mask, 'Turnover_Key'].map(Translate_Dict)\n",
    "\n",
    "# Drop the columns we don't need\n",
    "df_Köln_general_2019 = df_Köln_general_2019.drop(columns=['Turnover_Key','Overall_Dimensioning','Measurement_Pro_Rata','Your_Costs'])\n",
    "\n",
    "df_Köln_general_2019.rename(columns = {'Total_Cost':'2019'}, inplace = True)\n",
    "df_Köln_general_2019\n"
   ]
  },
  {
   "cell_type": "code",
   "execution_count": 32,
   "id": "0ee664e9",
   "metadata": {},
   "outputs": [
    {
     "data": {
      "text/html": [
       "<div>\n",
       "<style scoped>\n",
       "    .dataframe tbody tr th:only-of-type {\n",
       "        vertical-align: middle;\n",
       "    }\n",
       "\n",
       "    .dataframe tbody tr th {\n",
       "        vertical-align: top;\n",
       "    }\n",
       "\n",
       "    .dataframe thead th {\n",
       "        text-align: right;\n",
       "    }\n",
       "</style>\n",
       "<table border=\"1\" class=\"dataframe\">\n",
       "  <thead>\n",
       "    <tr style=\"text-align: right;\">\n",
       "      <th></th>\n",
       "      <th>Cost_Type</th>\n",
       "      <th>2020</th>\n",
       "    </tr>\n",
       "  </thead>\n",
       "  <tbody>\n",
       "    <tr>\n",
       "      <th>0</th>\n",
       "      <td>Basic_Tax</td>\n",
       "      <td>610.669765</td>\n",
       "    </tr>\n",
       "    <tr>\n",
       "      <th>1</th>\n",
       "      <td>Water</td>\n",
       "      <td>447.754655</td>\n",
       "    </tr>\n",
       "    <tr>\n",
       "      <th>2</th>\n",
       "      <td>Drainage</td>\n",
       "      <td>663.707778</td>\n",
       "    </tr>\n",
       "    <tr>\n",
       "      <th>3</th>\n",
       "      <td>drainage (rainwater)</td>\n",
       "      <td>235.057568</td>\n",
       "    </tr>\n",
       "    <tr>\n",
       "      <th>4</th>\n",
       "      <td>Street_Cleaning</td>\n",
       "      <td>89.611805</td>\n",
       "    </tr>\n",
       "    <tr>\n",
       "      <th>5</th>\n",
       "      <td>Garbage_Disposal</td>\n",
       "      <td>620.049854</td>\n",
       "    </tr>\n",
       "    <tr>\n",
       "      <th>6</th>\n",
       "      <td>House_Cleaning</td>\n",
       "      <td>38.229479</td>\n",
       "    </tr>\n",
       "    <tr>\n",
       "      <th>7</th>\n",
       "      <td>house cleaning (service)</td>\n",
       "      <td>343.852965</td>\n",
       "    </tr>\n",
       "    <tr>\n",
       "      <th>8</th>\n",
       "      <td>Garden_Maintenance</td>\n",
       "      <td>38.319567</td>\n",
       "    </tr>\n",
       "    <tr>\n",
       "      <th>9</th>\n",
       "      <td>garden maintenance (dienstl)</td>\n",
       "      <td>483.888301</td>\n",
       "    </tr>\n",
       "    <tr>\n",
       "      <th>10</th>\n",
       "      <td>Electricity_Costs</td>\n",
       "      <td>142.454842</td>\n",
       "    </tr>\n",
       "    <tr>\n",
       "      <th>11</th>\n",
       "      <td>Building_Insurance</td>\n",
       "      <td>410.357202</td>\n",
       "    </tr>\n",
       "    <tr>\n",
       "      <th>12</th>\n",
       "      <td>Liability_Building_Insurance</td>\n",
       "      <td>24.876832</td>\n",
       "    </tr>\n",
       "    <tr>\n",
       "      <th>13</th>\n",
       "      <td>Maintenance_Smoke_Protection</td>\n",
       "      <td>750.318366</td>\n",
       "    </tr>\n",
       "    <tr>\n",
       "      <th>14</th>\n",
       "      <td>Maintenance_Check</td>\n",
       "      <td>4887.309972</td>\n",
       "    </tr>\n",
       "    <tr>\n",
       "      <th>15</th>\n",
       "      <td>Fire_Extinguisher_Test</td>\n",
       "      <td>102.254608</td>\n",
       "    </tr>\n",
       "    <tr>\n",
       "      <th>16</th>\n",
       "      <td>Caretaker</td>\n",
       "      <td>479.603653</td>\n",
       "    </tr>\n",
       "  </tbody>\n",
       "</table>\n",
       "</div>"
      ],
      "text/plain": [
       "                       Cost_Type         2020\n",
       "0                      Basic_Tax   610.669765\n",
       "1                          Water   447.754655\n",
       "2                       Drainage   663.707778\n",
       "3           drainage (rainwater)   235.057568\n",
       "4                Street_Cleaning    89.611805\n",
       "5               Garbage_Disposal   620.049854\n",
       "6                 House_Cleaning    38.229479\n",
       "7       house cleaning (service)   343.852965\n",
       "8             Garden_Maintenance    38.319567\n",
       "9   garden maintenance (dienstl)   483.888301\n",
       "10             Electricity_Costs   142.454842\n",
       "11            Building_Insurance   410.357202\n",
       "12  Liability_Building_Insurance    24.876832\n",
       "13  Maintenance_Smoke_Protection   750.318366\n",
       "14             Maintenance_Check  4887.309972\n",
       "15        Fire_Extinguisher_Test   102.254608\n",
       "16                     Caretaker   479.603653"
      ]
     },
     "execution_count": 32,
     "metadata": {},
     "output_type": "execute_result"
    }
   ],
   "source": [
    "Köln_gen_data = os.path.join(Köln_directory,'20205588 Wohnbau.xlsx')\n",
    "df_Köln_general_2020 = pd.read_excel(Köln_gen_data,sheet_name='Sheet1')\n",
    "\n",
    "# Rename the columns to an english value, using teh translation dictionaty.\n",
    "df_Köln_general_2020.rename(columns = {'kostenart':(Translate_Dict.get(\"kostenart\"))}, inplace = True)\n",
    "df_Köln_general_2020.rename(columns = {'umlageschlussel':(Translate_Dict.get(\"umlageschlussel\"))}, inplace = True)\n",
    "df_Köln_general_2020.rename(columns = {'bemessung gesamt':(Translate_Dict.get(\"bemessung gesamt\"))}, inplace = True)\n",
    "df_Köln_general_2020.rename(columns = {'bemessung anteilig':(Translate_Dict.get(\"bemessung anteilig\"))}, inplace = True)\n",
    "df_Köln_general_2020.rename(columns = {'gesamt kosten':(Translate_Dict.get(\"gesamt kosten\"))}, inplace = True)\n",
    "df_Köln_general_2020.rename(columns = {'ihre kosten':(Translate_Dict.get(\"ihre kosten\"))}, inplace = True)\n",
    "\n",
    "# Drop the Nan rows.  Anything without a value is not an invoice line item.\n",
    "df_Köln_general_2020 = df_Köln_general_2020.dropna()\n",
    "\n",
    "# Translate teh 2 columns with german data\n",
    "df_Köln_general_2020.loc[Cost_Type_mask, 'Cost_Type'] = df_Köln_general_2020.loc[Cost_Type_mask, 'Cost_Type'].map(Translate_Dict)\n",
    "df_Köln_general_2020.loc[Turnover_Key_mask, 'Turnover_Key'] = df_Köln_general_2020.loc[Turnover_Key_mask, 'Turnover_Key'].map(Translate_Dict)\n",
    "\n",
    "# Drop the columns we don't need\n",
    "df_Köln_general_2020 = df_Köln_general_2020.drop(columns=['Turnover_Key','Overall_Dimensioning','Measurement_Pro_Rata','Your_Costs'])\n",
    "\n",
    "df_Köln_general_2020.rename(columns = {'Total_Cost':'2020'}, inplace = True)\n",
    "df_Köln_general_2020"
   ]
  },
  {
   "cell_type": "code",
   "execution_count": 33,
   "id": "376db3b8",
   "metadata": {},
   "outputs": [
    {
     "data": {
      "text/html": [
       "<div>\n",
       "<style scoped>\n",
       "    .dataframe tbody tr th:only-of-type {\n",
       "        vertical-align: middle;\n",
       "    }\n",
       "\n",
       "    .dataframe tbody tr th {\n",
       "        vertical-align: top;\n",
       "    }\n",
       "\n",
       "    .dataframe thead th {\n",
       "        text-align: right;\n",
       "    }\n",
       "</style>\n",
       "<table border=\"1\" class=\"dataframe\">\n",
       "  <thead>\n",
       "    <tr style=\"text-align: right;\">\n",
       "      <th></th>\n",
       "      <th>Cost_Type</th>\n",
       "      <th>2018</th>\n",
       "      <th>2019</th>\n",
       "      <th>2020</th>\n",
       "      <th>Location</th>\n",
       "    </tr>\n",
       "  </thead>\n",
       "  <tbody>\n",
       "    <tr>\n",
       "      <th>0</th>\n",
       "      <td>Basic_Tax</td>\n",
       "      <td>862.73</td>\n",
       "      <td>693.942915</td>\n",
       "      <td>610.669765</td>\n",
       "      <td>Köln</td>\n",
       "    </tr>\n",
       "    <tr>\n",
       "      <th>1</th>\n",
       "      <td>Water</td>\n",
       "      <td>632.57</td>\n",
       "      <td>508.812107</td>\n",
       "      <td>447.754655</td>\n",
       "      <td>Köln</td>\n",
       "    </tr>\n",
       "    <tr>\n",
       "      <th>2</th>\n",
       "      <td>Drainage</td>\n",
       "      <td>937.66</td>\n",
       "      <td>754.213385</td>\n",
       "      <td>663.707778</td>\n",
       "      <td>Köln</td>\n",
       "    </tr>\n",
       "    <tr>\n",
       "      <th>3</th>\n",
       "      <td>drainage (rainwater)</td>\n",
       "      <td>332.08</td>\n",
       "      <td>267.110873</td>\n",
       "      <td>235.057568</td>\n",
       "      <td>Köln</td>\n",
       "    </tr>\n",
       "    <tr>\n",
       "      <th>4</th>\n",
       "      <td>Street_Cleaning</td>\n",
       "      <td>126.60</td>\n",
       "      <td>101.831596</td>\n",
       "      <td>89.611805</td>\n",
       "      <td>Köln</td>\n",
       "    </tr>\n",
       "    <tr>\n",
       "      <th>5</th>\n",
       "      <td>Garbage_Disposal</td>\n",
       "      <td>963.58</td>\n",
       "      <td>775.062318</td>\n",
       "      <td>620.049854</td>\n",
       "      <td>Köln</td>\n",
       "    </tr>\n",
       "    <tr>\n",
       "      <th>6</th>\n",
       "      <td>House_Cleaning</td>\n",
       "      <td>59.41</td>\n",
       "      <td>47.786849</td>\n",
       "      <td>38.229479</td>\n",
       "      <td>Köln</td>\n",
       "    </tr>\n",
       "    <tr>\n",
       "      <th>7</th>\n",
       "      <td>house cleaning (service)</td>\n",
       "      <td>534.36</td>\n",
       "      <td>429.816207</td>\n",
       "      <td>343.852965</td>\n",
       "      <td>Köln</td>\n",
       "    </tr>\n",
       "    <tr>\n",
       "      <th>8</th>\n",
       "      <td>Garden_Maintenance</td>\n",
       "      <td>59.55</td>\n",
       "      <td>47.899459</td>\n",
       "      <td>38.319567</td>\n",
       "      <td>Köln</td>\n",
       "    </tr>\n",
       "    <tr>\n",
       "      <th>9</th>\n",
       "      <td>garden maintenance (dienstl)</td>\n",
       "      <td>751.98</td>\n",
       "      <td>604.860377</td>\n",
       "      <td>483.888301</td>\n",
       "      <td>Köln</td>\n",
       "    </tr>\n",
       "    <tr>\n",
       "      <th>10</th>\n",
       "      <td>Electricity_Costs</td>\n",
       "      <td>221.38</td>\n",
       "      <td>178.068553</td>\n",
       "      <td>142.454842</td>\n",
       "      <td>Köln</td>\n",
       "    </tr>\n",
       "    <tr>\n",
       "      <th>11</th>\n",
       "      <td>Building_Insurance</td>\n",
       "      <td>637.71</td>\n",
       "      <td>512.946502</td>\n",
       "      <td>410.357202</td>\n",
       "      <td>Köln</td>\n",
       "    </tr>\n",
       "    <tr>\n",
       "      <th>12</th>\n",
       "      <td>Liability_Building_Insurance</td>\n",
       "      <td>31.24</td>\n",
       "      <td>25.128113</td>\n",
       "      <td>24.876832</td>\n",
       "      <td>Köln</td>\n",
       "    </tr>\n",
       "    <tr>\n",
       "      <th>13</th>\n",
       "      <td>Maintenance_Smoke_Protection</td>\n",
       "      <td>942.24</td>\n",
       "      <td>757.897340</td>\n",
       "      <td>750.318366</td>\n",
       "      <td>Köln</td>\n",
       "    </tr>\n",
       "    <tr>\n",
       "      <th>14</th>\n",
       "      <td>Maintenance_Check</td>\n",
       "      <td>6137.42</td>\n",
       "      <td>4936.676739</td>\n",
       "      <td>4887.309972</td>\n",
       "      <td>Köln</td>\n",
       "    </tr>\n",
       "    <tr>\n",
       "      <th>15</th>\n",
       "      <td>Fire_Extinguisher_Test</td>\n",
       "      <td>128.41</td>\n",
       "      <td>103.287482</td>\n",
       "      <td>102.254608</td>\n",
       "      <td>Köln</td>\n",
       "    </tr>\n",
       "    <tr>\n",
       "      <th>16</th>\n",
       "      <td>Caretaker</td>\n",
       "      <td>602.28</td>\n",
       "      <td>484.448134</td>\n",
       "      <td>479.603653</td>\n",
       "      <td>Köln</td>\n",
       "    </tr>\n",
       "  </tbody>\n",
       "</table>\n",
       "</div>"
      ],
      "text/plain": [
       "                       Cost_Type     2018         2019         2020 Location\n",
       "0                      Basic_Tax   862.73   693.942915   610.669765     Köln\n",
       "1                          Water   632.57   508.812107   447.754655     Köln\n",
       "2                       Drainage   937.66   754.213385   663.707778     Köln\n",
       "3           drainage (rainwater)   332.08   267.110873   235.057568     Köln\n",
       "4                Street_Cleaning   126.60   101.831596    89.611805     Köln\n",
       "5               Garbage_Disposal   963.58   775.062318   620.049854     Köln\n",
       "6                 House_Cleaning    59.41    47.786849    38.229479     Köln\n",
       "7       house cleaning (service)   534.36   429.816207   343.852965     Köln\n",
       "8             Garden_Maintenance    59.55    47.899459    38.319567     Köln\n",
       "9   garden maintenance (dienstl)   751.98   604.860377   483.888301     Köln\n",
       "10             Electricity_Costs   221.38   178.068553   142.454842     Köln\n",
       "11            Building_Insurance   637.71   512.946502   410.357202     Köln\n",
       "12  Liability_Building_Insurance    31.24    25.128113    24.876832     Köln\n",
       "13  Maintenance_Smoke_Protection   942.24   757.897340   750.318366     Köln\n",
       "14             Maintenance_Check  6137.42  4936.676739  4887.309972     Köln\n",
       "15        Fire_Extinguisher_Test   128.41   103.287482   102.254608     Köln\n",
       "16                     Caretaker   602.28   484.448134   479.603653     Köln"
      ]
     },
     "execution_count": 33,
     "metadata": {},
     "output_type": "execute_result"
    }
   ],
   "source": [
    "df_inner = pd.merge(df_Köln_general_2019, df_Köln_general_2020, on='Cost_Type', how='inner')\n",
    "df_Köln_general = pd.merge(df_Köln_general_2018, df_inner, on='Cost_Type', how='inner')\n",
    "df_Köln_general['Location'] = 'Köln'\n",
    "df_Köln_general"
   ]
  },
  {
   "cell_type": "code",
   "execution_count": 34,
   "id": "d3f353db",
   "metadata": {},
   "outputs": [
    {
     "data": {
      "text/html": [
       "<div>\n",
       "<style scoped>\n",
       "    .dataframe tbody tr th:only-of-type {\n",
       "        vertical-align: middle;\n",
       "    }\n",
       "\n",
       "    .dataframe tbody tr th {\n",
       "        vertical-align: top;\n",
       "    }\n",
       "\n",
       "    .dataframe thead th {\n",
       "        text-align: right;\n",
       "    }\n",
       "</style>\n",
       "<table border=\"1\" class=\"dataframe\">\n",
       "  <thead>\n",
       "    <tr style=\"text-align: right;\">\n",
       "      <th></th>\n",
       "      <th>Location</th>\n",
       "      <th>Measure</th>\n",
       "      <th>Metric</th>\n",
       "      <th>2018</th>\n",
       "      <th>2019</th>\n",
       "      <th>2020</th>\n",
       "    </tr>\n",
       "  </thead>\n",
       "  <tbody>\n",
       "    <tr>\n",
       "      <th>1</th>\n",
       "      <td>Köln</td>\n",
       "      <td>Kilo</td>\n",
       "      <td>Water</td>\n",
       "      <td>632.57</td>\n",
       "      <td>508.812107</td>\n",
       "      <td>447.754655</td>\n",
       "    </tr>\n",
       "    <tr>\n",
       "      <th>2</th>\n",
       "      <td>Köln</td>\n",
       "      <td>Kilo</td>\n",
       "      <td>Waste</td>\n",
       "      <td>937.66</td>\n",
       "      <td>754.213385</td>\n",
       "      <td>663.707778</td>\n",
       "    </tr>\n",
       "    <tr>\n",
       "      <th>3</th>\n",
       "      <td>Köln</td>\n",
       "      <td>Kilo</td>\n",
       "      <td>Waste</td>\n",
       "      <td>332.08</td>\n",
       "      <td>267.110873</td>\n",
       "      <td>235.057568</td>\n",
       "    </tr>\n",
       "    <tr>\n",
       "      <th>5</th>\n",
       "      <td>Köln</td>\n",
       "      <td>Kilo</td>\n",
       "      <td>Waste</td>\n",
       "      <td>963.58</td>\n",
       "      <td>775.062318</td>\n",
       "      <td>620.049854</td>\n",
       "    </tr>\n",
       "    <tr>\n",
       "      <th>10</th>\n",
       "      <td>Köln</td>\n",
       "      <td>Kilowatts</td>\n",
       "      <td>Electricity</td>\n",
       "      <td>221.38</td>\n",
       "      <td>178.068553</td>\n",
       "      <td>142.454842</td>\n",
       "    </tr>\n",
       "  </tbody>\n",
       "</table>\n",
       "</div>"
      ],
      "text/plain": [
       "   Location    Measure       Metric    2018        2019        2020\n",
       "1      Köln       Kilo        Water  632.57  508.812107  447.754655\n",
       "2      Köln       Kilo        Waste  937.66  754.213385  663.707778\n",
       "3      Köln       Kilo        Waste  332.08  267.110873  235.057568\n",
       "5      Köln       Kilo        Waste  963.58  775.062318  620.049854\n",
       "10     Köln  Kilowatts  Electricity  221.38  178.068553  142.454842"
      ]
     },
     "execution_count": 34,
     "metadata": {},
     "output_type": "execute_result"
    }
   ],
   "source": [
    "# Drop the rows we don't need, that contain specific 'value' in 'column_name'\n",
    "df_Köln_general = df_Köln_general[df_Köln_general.Cost_Type != 'Basic_Tax']\n",
    "df_Köln_general = df_Köln_general[df_Köln_general.Cost_Type != 'Street_Cleaning']\n",
    "df_Köln_general = df_Köln_general[df_Köln_general.Cost_Type != 'House_Cleaning']\n",
    "df_Köln_general = df_Köln_general[df_Köln_general.Cost_Type != 'house cleaning (service)']\n",
    "df_Köln_general = df_Köln_general[df_Köln_general.Cost_Type != 'Garden_Maintenance']\n",
    "df_Köln_general = df_Köln_general[df_Köln_general.Cost_Type != 'garden maintenance (dienstl)']\n",
    "df_Köln_general = df_Köln_general[df_Köln_general.Cost_Type != 'Building_Insurance']\n",
    "df_Köln_general = df_Köln_general[df_Köln_general.Cost_Type != 'Liability_Building_Insurance']\n",
    "df_Köln_general = df_Köln_general[df_Köln_general.Cost_Type != 'Maintenance_Smoke_Protection']\n",
    "df_Köln_general = df_Köln_general[df_Köln_general.Cost_Type != 'Maintenance_Check']\n",
    "df_Köln_general = df_Köln_general[df_Köln_general.Cost_Type != 'Fire_Extinguisher_Test']\n",
    "df_Köln_general = df_Köln_general[df_Köln_general.Cost_Type != 'Caretaker']\n",
    "\n",
    "# Rename the columns to match the existing data.\n",
    "df_Köln_general.rename(columns = {'Cost_Type':'Metric'}, inplace = True)\n",
    "\n",
    "# Create a measure column.\n",
    "df_Köln_general['Measure'] = ''\n",
    "\n",
    "# Populate measure column.\n",
    "df_Köln_general.loc[df_Köln_general['Metric'] == 'Water', 'Measure'] = 'Kilo'\n",
    "df_Köln_general.loc[df_Köln_general['Metric'] == 'Drainage', 'Measure'] = 'Kilo'\n",
    "df_Köln_general.loc[df_Köln_general['Metric'] == 'drainage (rainwater)', 'Measure'] = 'Kilo'\n",
    "df_Köln_general.loc[df_Köln_general['Metric'] == 'Garbage_Disposal', 'Measure'] = 'Kilo'\n",
    "df_Köln_general.loc[df_Köln_general['Metric'] == 'Electricity_Costs', 'Measure'] = 'Kilowatts'\n",
    "df_Köln_general.loc[df_Köln_general['Metric'] == 'drainage (rainwater)', 'Measure'] = 'Kilo'\n",
    "\n",
    "# Rename the metrics\n",
    "df_Köln_general.loc[df_Köln_general['Metric'] == 'Electricity_Costs', 'Metric'] = 'Electricity'\n",
    "df_Köln_general.loc[df_Köln_general['Metric'] == 'Drainage', 'Metric'] = 'Waste'\n",
    "df_Köln_general.loc[df_Köln_general['Metric'] == 'drainage (rainwater)', 'Metric'] = 'Waste'\n",
    "df_Köln_general.loc[df_Köln_general['Metric'] == 'Garbage_Disposal', 'Metric'] = 'Waste'\n",
    "\n",
    "# Resequence\n",
    "df_Köln_general = df_Köln_general[['Location','Measure', 'Metric', '2018', '2019', '2020']]\n",
    "\n",
    "df_Köln_general"
   ]
  },
  {
   "cell_type": "code",
   "execution_count": 35,
   "id": "ada30637",
   "metadata": {},
   "outputs": [
    {
     "data": {
      "text/html": [
       "<div>\n",
       "<style scoped>\n",
       "    .dataframe tbody tr th:only-of-type {\n",
       "        vertical-align: middle;\n",
       "    }\n",
       "\n",
       "    .dataframe tbody tr th {\n",
       "        vertical-align: top;\n",
       "    }\n",
       "\n",
       "    .dataframe thead th {\n",
       "        text-align: right;\n",
       "    }\n",
       "</style>\n",
       "<table border=\"1\" class=\"dataframe\">\n",
       "  <thead>\n",
       "    <tr style=\"text-align: right;\">\n",
       "      <th></th>\n",
       "      <th>Location</th>\n",
       "      <th>Measure</th>\n",
       "      <th>Metric</th>\n",
       "      <th>2018</th>\n",
       "      <th>2019</th>\n",
       "      <th>2020</th>\n",
       "      <th>Month</th>\n",
       "    </tr>\n",
       "  </thead>\n",
       "  <tbody>\n",
       "    <tr>\n",
       "      <th>0</th>\n",
       "      <td>Köln</td>\n",
       "      <td>Kilowatts</td>\n",
       "      <td>Electricity</td>\n",
       "      <td>0.0</td>\n",
       "      <td>615.131</td>\n",
       "      <td>0.000</td>\n",
       "      <td>1</td>\n",
       "    </tr>\n",
       "    <tr>\n",
       "      <th>1</th>\n",
       "      <td>Köln</td>\n",
       "      <td>Kilowatts</td>\n",
       "      <td>Electricity</td>\n",
       "      <td>0.0</td>\n",
       "      <td>674.138</td>\n",
       "      <td>0.000</td>\n",
       "      <td>2</td>\n",
       "    </tr>\n",
       "    <tr>\n",
       "      <th>2</th>\n",
       "      <td>Köln</td>\n",
       "      <td>Kilowatts</td>\n",
       "      <td>Electricity</td>\n",
       "      <td>0.0</td>\n",
       "      <td>2431.338</td>\n",
       "      <td>0.000</td>\n",
       "      <td>3</td>\n",
       "    </tr>\n",
       "    <tr>\n",
       "      <th>3</th>\n",
       "      <td>Köln</td>\n",
       "      <td>Kilowatts</td>\n",
       "      <td>Electricity</td>\n",
       "      <td>0.0</td>\n",
       "      <td>796.910</td>\n",
       "      <td>0.000</td>\n",
       "      <td>4</td>\n",
       "    </tr>\n",
       "    <tr>\n",
       "      <th>4</th>\n",
       "      <td>Köln</td>\n",
       "      <td>Kilowatts</td>\n",
       "      <td>Electricity</td>\n",
       "      <td>0.0</td>\n",
       "      <td>8034.455</td>\n",
       "      <td>0.000</td>\n",
       "      <td>5</td>\n",
       "    </tr>\n",
       "    <tr>\n",
       "      <th>5</th>\n",
       "      <td>Köln</td>\n",
       "      <td>Kilowatts</td>\n",
       "      <td>Electricity</td>\n",
       "      <td>0.0</td>\n",
       "      <td>189.710</td>\n",
       "      <td>0.000</td>\n",
       "      <td>6</td>\n",
       "    </tr>\n",
       "    <tr>\n",
       "      <th>6</th>\n",
       "      <td>Köln</td>\n",
       "      <td>Kilowatts</td>\n",
       "      <td>Electricity</td>\n",
       "      <td>0.0</td>\n",
       "      <td>353.156</td>\n",
       "      <td>0.000</td>\n",
       "      <td>7</td>\n",
       "    </tr>\n",
       "    <tr>\n",
       "      <th>7</th>\n",
       "      <td>Köln</td>\n",
       "      <td>Kilowatts</td>\n",
       "      <td>Electricity</td>\n",
       "      <td>0.0</td>\n",
       "      <td>5047.869</td>\n",
       "      <td>0.000</td>\n",
       "      <td>8</td>\n",
       "    </tr>\n",
       "    <tr>\n",
       "      <th>8</th>\n",
       "      <td>Köln</td>\n",
       "      <td>Kilowatts</td>\n",
       "      <td>Electricity</td>\n",
       "      <td>0.0</td>\n",
       "      <td>3708.862</td>\n",
       "      <td>0.000</td>\n",
       "      <td>9</td>\n",
       "    </tr>\n",
       "    <tr>\n",
       "      <th>9</th>\n",
       "      <td>Köln</td>\n",
       "      <td>Kilowatts</td>\n",
       "      <td>Electricity</td>\n",
       "      <td>0.0</td>\n",
       "      <td>8666.662</td>\n",
       "      <td>0.000</td>\n",
       "      <td>10</td>\n",
       "    </tr>\n",
       "    <tr>\n",
       "      <th>10</th>\n",
       "      <td>Köln</td>\n",
       "      <td>Kilowatts</td>\n",
       "      <td>Electricity</td>\n",
       "      <td>0.0</td>\n",
       "      <td>3709.000</td>\n",
       "      <td>0.000</td>\n",
       "      <td>11</td>\n",
       "    </tr>\n",
       "    <tr>\n",
       "      <th>11</th>\n",
       "      <td>Köln</td>\n",
       "      <td>Kilowatts</td>\n",
       "      <td>Electricity</td>\n",
       "      <td>0.0</td>\n",
       "      <td>3590.000</td>\n",
       "      <td>0.000</td>\n",
       "      <td>12</td>\n",
       "    </tr>\n",
       "    <tr>\n",
       "      <th>12</th>\n",
       "      <td>Köln</td>\n",
       "      <td>Kilowatts</td>\n",
       "      <td>Electricity</td>\n",
       "      <td>0.0</td>\n",
       "      <td>0.000</td>\n",
       "      <td>6275.000</td>\n",
       "      <td>1</td>\n",
       "    </tr>\n",
       "    <tr>\n",
       "      <th>13</th>\n",
       "      <td>Köln</td>\n",
       "      <td>Kilowatts</td>\n",
       "      <td>Electricity</td>\n",
       "      <td>0.0</td>\n",
       "      <td>0.000</td>\n",
       "      <td>3771.090</td>\n",
       "      <td>2</td>\n",
       "    </tr>\n",
       "    <tr>\n",
       "      <th>14</th>\n",
       "      <td>Köln</td>\n",
       "      <td>Kilowatts</td>\n",
       "      <td>Electricity</td>\n",
       "      <td>0.0</td>\n",
       "      <td>0.000</td>\n",
       "      <td>30337.545</td>\n",
       "      <td>3</td>\n",
       "    </tr>\n",
       "    <tr>\n",
       "      <th>15</th>\n",
       "      <td>Köln</td>\n",
       "      <td>Kilowatts</td>\n",
       "      <td>Electricity</td>\n",
       "      <td>0.0</td>\n",
       "      <td>0.000</td>\n",
       "      <td>2890.290</td>\n",
       "      <td>4</td>\n",
       "    </tr>\n",
       "    <tr>\n",
       "      <th>16</th>\n",
       "      <td>Köln</td>\n",
       "      <td>Kilowatts</td>\n",
       "      <td>Electricity</td>\n",
       "      <td>0.0</td>\n",
       "      <td>0.000</td>\n",
       "      <td>25929.000</td>\n",
       "      <td>5</td>\n",
       "    </tr>\n",
       "    <tr>\n",
       "      <th>17</th>\n",
       "      <td>Köln</td>\n",
       "      <td>Kilowatts</td>\n",
       "      <td>Electricity</td>\n",
       "      <td>0.0</td>\n",
       "      <td>0.000</td>\n",
       "      <td>3773.844</td>\n",
       "      <td>6</td>\n",
       "    </tr>\n",
       "    <tr>\n",
       "      <th>18</th>\n",
       "      <td>Köln</td>\n",
       "      <td>Kilowatts</td>\n",
       "      <td>Electricity</td>\n",
       "      <td>0.0</td>\n",
       "      <td>0.000</td>\n",
       "      <td>1171.000</td>\n",
       "      <td>7</td>\n",
       "    </tr>\n",
       "    <tr>\n",
       "      <th>19</th>\n",
       "      <td>Köln</td>\n",
       "      <td>Kilowatts</td>\n",
       "      <td>Electricity</td>\n",
       "      <td>0.0</td>\n",
       "      <td>0.000</td>\n",
       "      <td>272.561</td>\n",
       "      <td>8</td>\n",
       "    </tr>\n",
       "    <tr>\n",
       "      <th>20</th>\n",
       "      <td>Köln</td>\n",
       "      <td>Kilowatts</td>\n",
       "      <td>Electricity</td>\n",
       "      <td>0.0</td>\n",
       "      <td>0.000</td>\n",
       "      <td>192.598</td>\n",
       "      <td>9</td>\n",
       "    </tr>\n",
       "    <tr>\n",
       "      <th>21</th>\n",
       "      <td>Köln</td>\n",
       "      <td>Kilowatts</td>\n",
       "      <td>Electricity</td>\n",
       "      <td>0.0</td>\n",
       "      <td>0.000</td>\n",
       "      <td>192.598</td>\n",
       "      <td>10</td>\n",
       "    </tr>\n",
       "    <tr>\n",
       "      <th>22</th>\n",
       "      <td>Köln</td>\n",
       "      <td>Kilowatts</td>\n",
       "      <td>Electricity</td>\n",
       "      <td>0.0</td>\n",
       "      <td>0.000</td>\n",
       "      <td>192.598</td>\n",
       "      <td>11</td>\n",
       "    </tr>\n",
       "    <tr>\n",
       "      <th>23</th>\n",
       "      <td>Köln</td>\n",
       "      <td>Kilowatts</td>\n",
       "      <td>Electricity</td>\n",
       "      <td>0.0</td>\n",
       "      <td>0.000</td>\n",
       "      <td>192.598</td>\n",
       "      <td>12</td>\n",
       "    </tr>\n",
       "  </tbody>\n",
       "</table>\n",
       "</div>"
      ],
      "text/plain": [
       "   Location    Measure       Metric  2018      2019       2020  Month\n",
       "0      Köln  Kilowatts  Electricity   0.0   615.131      0.000      1\n",
       "1      Köln  Kilowatts  Electricity   0.0   674.138      0.000      2\n",
       "2      Köln  Kilowatts  Electricity   0.0  2431.338      0.000      3\n",
       "3      Köln  Kilowatts  Electricity   0.0   796.910      0.000      4\n",
       "4      Köln  Kilowatts  Electricity   0.0  8034.455      0.000      5\n",
       "5      Köln  Kilowatts  Electricity   0.0   189.710      0.000      6\n",
       "6      Köln  Kilowatts  Electricity   0.0   353.156      0.000      7\n",
       "7      Köln  Kilowatts  Electricity   0.0  5047.869      0.000      8\n",
       "8      Köln  Kilowatts  Electricity   0.0  3708.862      0.000      9\n",
       "9      Köln  Kilowatts  Electricity   0.0  8666.662      0.000     10\n",
       "10     Köln  Kilowatts  Electricity   0.0  3709.000      0.000     11\n",
       "11     Köln  Kilowatts  Electricity   0.0  3590.000      0.000     12\n",
       "12     Köln  Kilowatts  Electricity   0.0     0.000   6275.000      1\n",
       "13     Köln  Kilowatts  Electricity   0.0     0.000   3771.090      2\n",
       "14     Köln  Kilowatts  Electricity   0.0     0.000  30337.545      3\n",
       "15     Köln  Kilowatts  Electricity   0.0     0.000   2890.290      4\n",
       "16     Köln  Kilowatts  Electricity   0.0     0.000  25929.000      5\n",
       "17     Köln  Kilowatts  Electricity   0.0     0.000   3773.844      6\n",
       "18     Köln  Kilowatts  Electricity   0.0     0.000   1171.000      7\n",
       "19     Köln  Kilowatts  Electricity   0.0     0.000    272.561      8\n",
       "20     Köln  Kilowatts  Electricity   0.0     0.000    192.598      9\n",
       "21     Köln  Kilowatts  Electricity   0.0     0.000    192.598     10\n",
       "22     Köln  Kilowatts  Electricity   0.0     0.000    192.598     11\n",
       "23     Köln  Kilowatts  Electricity   0.0     0.000    192.598     12"
      ]
     },
     "execution_count": 35,
     "metadata": {},
     "output_type": "execute_result"
    }
   ],
   "source": [
    "df_Köln_elec"
   ]
  },
  {
   "cell_type": "code",
   "execution_count": 36,
   "id": "2d2af9a7",
   "metadata": {},
   "outputs": [
    {
     "data": {
      "text/html": [
       "<div>\n",
       "<style scoped>\n",
       "    .dataframe tbody tr th:only-of-type {\n",
       "        vertical-align: middle;\n",
       "    }\n",
       "\n",
       "    .dataframe tbody tr th {\n",
       "        vertical-align: top;\n",
       "    }\n",
       "\n",
       "    .dataframe thead th {\n",
       "        text-align: right;\n",
       "    }\n",
       "</style>\n",
       "<table border=\"1\" class=\"dataframe\">\n",
       "  <thead>\n",
       "    <tr style=\"text-align: right;\">\n",
       "      <th></th>\n",
       "      <th>Location</th>\n",
       "      <th>Measure</th>\n",
       "      <th>Metric</th>\n",
       "      <th>2018</th>\n",
       "      <th>2019</th>\n",
       "      <th>2020</th>\n",
       "      <th>Month</th>\n",
       "    </tr>\n",
       "  </thead>\n",
       "  <tbody>\n",
       "    <tr>\n",
       "      <th>0</th>\n",
       "      <td>Köln</td>\n",
       "      <td>Kilowatts</td>\n",
       "      <td>Electricity</td>\n",
       "      <td>0.0</td>\n",
       "      <td>37817.231</td>\n",
       "      <td>75190.722</td>\n",
       "      <td>156</td>\n",
       "    </tr>\n",
       "  </tbody>\n",
       "</table>\n",
       "</div>"
      ],
      "text/plain": [
       "  Location    Measure       Metric  2018       2019       2020  Month\n",
       "0     Köln  Kilowatts  Electricity   0.0  37817.231  75190.722    156"
      ]
     },
     "execution_count": 36,
     "metadata": {},
     "output_type": "execute_result"
    }
   ],
   "source": [
    "#df_electricity_summ = df_combined.groupby(['Location','Measure','Metric']).sum()\n",
    "df_Köln_elec_summ = df_Köln_elec.groupby(['Location','Measure','Metric'], as_index=False).sum()\n",
    "df_Köln_elec_summ"
   ]
  },
  {
   "cell_type": "markdown",
   "id": "c72c1f25",
   "metadata": {},
   "source": [
    "## Merge all Köln data into 1 dataframe"
   ]
  },
  {
   "cell_type": "code",
   "execution_count": 37,
   "id": "9a3c42ea",
   "metadata": {},
   "outputs": [
    {
     "data": {
      "text/html": [
       "<div>\n",
       "<style scoped>\n",
       "    .dataframe tbody tr th:only-of-type {\n",
       "        vertical-align: middle;\n",
       "    }\n",
       "\n",
       "    .dataframe tbody tr th {\n",
       "        vertical-align: top;\n",
       "    }\n",
       "\n",
       "    .dataframe thead th {\n",
       "        text-align: right;\n",
       "    }\n",
       "</style>\n",
       "<table border=\"1\" class=\"dataframe\">\n",
       "  <thead>\n",
       "    <tr style=\"text-align: right;\">\n",
       "      <th></th>\n",
       "      <th>Location</th>\n",
       "      <th>Measure</th>\n",
       "      <th>Metric</th>\n",
       "      <th>2018</th>\n",
       "      <th>2019</th>\n",
       "      <th>2020</th>\n",
       "    </tr>\n",
       "  </thead>\n",
       "  <tbody>\n",
       "    <tr>\n",
       "      <th>0</th>\n",
       "      <td>Köln</td>\n",
       "      <td>Kilo</td>\n",
       "      <td>Waste</td>\n",
       "      <td>2233.32</td>\n",
       "      <td>1796.386575</td>\n",
       "      <td>1518.815201</td>\n",
       "    </tr>\n",
       "    <tr>\n",
       "      <th>1</th>\n",
       "      <td>Köln</td>\n",
       "      <td>Kilo</td>\n",
       "      <td>Water</td>\n",
       "      <td>632.57</td>\n",
       "      <td>508.812107</td>\n",
       "      <td>447.754655</td>\n",
       "    </tr>\n",
       "    <tr>\n",
       "      <th>2</th>\n",
       "      <td>Köln</td>\n",
       "      <td>Kilowatts</td>\n",
       "      <td>Electricity</td>\n",
       "      <td>221.38</td>\n",
       "      <td>37995.299553</td>\n",
       "      <td>75333.176842</td>\n",
       "    </tr>\n",
       "  </tbody>\n",
       "</table>\n",
       "</div>"
      ],
      "text/plain": [
       "  Location    Measure       Metric     2018          2019          2020\n",
       "0     Köln       Kilo        Waste  2233.32   1796.386575   1518.815201\n",
       "1     Köln       Kilo        Water   632.57    508.812107    447.754655\n",
       "2     Köln  Kilowatts  Electricity   221.38  37995.299553  75333.176842"
      ]
     },
     "execution_count": 37,
     "metadata": {},
     "output_type": "execute_result"
    }
   ],
   "source": [
    "#  \n",
    "df_Köln_all = pd.concat([df_Köln_general, df_Köln_elec_summ])\n",
    "df_Köln_all = df_Köln_all.groupby(['Location','Measure','Metric'], as_index=False).sum()\n",
    "df_Köln_all = df_Köln_all.drop(columns=['Month'])\n",
    "\n",
    "df_Köln_all"
   ]
  },
  {
   "cell_type": "markdown",
   "id": "307979bc",
   "metadata": {},
   "source": [
    "## Now merge the Köln and NI data into 1 dataframe"
   ]
  },
  {
   "cell_type": "code",
   "execution_count": 38,
   "id": "deb93127",
   "metadata": {},
   "outputs": [
    {
     "data": {
      "text/html": [
       "<div>\n",
       "<style scoped>\n",
       "    .dataframe tbody tr th:only-of-type {\n",
       "        vertical-align: middle;\n",
       "    }\n",
       "\n",
       "    .dataframe tbody tr th {\n",
       "        vertical-align: top;\n",
       "    }\n",
       "\n",
       "    .dataframe thead th {\n",
       "        text-align: right;\n",
       "    }\n",
       "</style>\n",
       "<table border=\"1\" class=\"dataframe\">\n",
       "  <thead>\n",
       "    <tr style=\"text-align: right;\">\n",
       "      <th></th>\n",
       "      <th>Location</th>\n",
       "      <th>Measure</th>\n",
       "      <th>Metric</th>\n",
       "      <th>2018</th>\n",
       "      <th>2019</th>\n",
       "      <th>2020</th>\n",
       "    </tr>\n",
       "  </thead>\n",
       "  <tbody>\n",
       "    <tr>\n",
       "      <th>0</th>\n",
       "      <td>Köln</td>\n",
       "      <td>Kilo</td>\n",
       "      <td>Waste</td>\n",
       "      <td>2233.3200</td>\n",
       "      <td>1796.386575</td>\n",
       "      <td>1518.815201</td>\n",
       "    </tr>\n",
       "    <tr>\n",
       "      <th>1</th>\n",
       "      <td>Köln</td>\n",
       "      <td>Kilo</td>\n",
       "      <td>Water</td>\n",
       "      <td>632.5700</td>\n",
       "      <td>508.812107</td>\n",
       "      <td>447.754655</td>\n",
       "    </tr>\n",
       "    <tr>\n",
       "      <th>2</th>\n",
       "      <td>Köln</td>\n",
       "      <td>Kilowatts</td>\n",
       "      <td>Electricity</td>\n",
       "      <td>221.3800</td>\n",
       "      <td>37995.299553</td>\n",
       "      <td>75333.176842</td>\n",
       "    </tr>\n",
       "    <tr>\n",
       "      <th>0</th>\n",
       "      <td>Neu-Isenburg</td>\n",
       "      <td>Kilo</td>\n",
       "      <td>Waste</td>\n",
       "      <td>1674.9900</td>\n",
       "      <td>1139.111401</td>\n",
       "      <td>1139.111401</td>\n",
       "    </tr>\n",
       "    <tr>\n",
       "      <th>1</th>\n",
       "      <td>Neu-Isenburg</td>\n",
       "      <td>Kilo</td>\n",
       "      <td>Water</td>\n",
       "      <td>474.4275</td>\n",
       "      <td>335.815991</td>\n",
       "      <td>335.815991</td>\n",
       "    </tr>\n",
       "    <tr>\n",
       "      <th>2</th>\n",
       "      <td>Neu-Isenburg</td>\n",
       "      <td>Kilowatts</td>\n",
       "      <td>Electricity</td>\n",
       "      <td>182194.0350</td>\n",
       "      <td>179763.841132</td>\n",
       "      <td>136959.841132</td>\n",
       "    </tr>\n",
       "  </tbody>\n",
       "</table>\n",
       "</div>"
      ],
      "text/plain": [
       "       Location    Measure       Metric         2018           2019  \\\n",
       "0          Köln       Kilo        Waste    2233.3200    1796.386575   \n",
       "1          Köln       Kilo        Water     632.5700     508.812107   \n",
       "2          Köln  Kilowatts  Electricity     221.3800   37995.299553   \n",
       "0  Neu-Isenburg       Kilo        Waste    1674.9900    1139.111401   \n",
       "1  Neu-Isenburg       Kilo        Water     474.4275     335.815991   \n",
       "2  Neu-Isenburg  Kilowatts  Electricity  182194.0350  179763.841132   \n",
       "\n",
       "            2020  \n",
       "0    1518.815201  \n",
       "1     447.754655  \n",
       "2   75333.176842  \n",
       "0    1139.111401  \n",
       "1     335.815991  \n",
       "2  136959.841132  "
      ]
     },
     "execution_count": 38,
     "metadata": {},
     "output_type": "execute_result"
    }
   ],
   "source": [
    "#combined = pd.concat([df_Köln_elec_summ, df_NI_electricity_summ], ignore_index=True)\n",
    "df_all = pd.concat([df_Köln_all, df_NI_all])\n",
    "df_all"
   ]
  },
  {
   "cell_type": "markdown",
   "id": "a641a525",
   "metadata": {},
   "source": [
    "## Write the dataframe out to an excel sheet for use in the next notebook\n"
   ]
  },
  {
   "cell_type": "markdown",
   "id": "01d67295",
   "metadata": {},
   "source": [
    "#### Open the Excel Writer."
   ]
  },
  {
   "cell_type": "code",
   "execution_count": 39,
   "id": "48c0503d",
   "metadata": {},
   "outputs": [],
   "source": [
    "# Writing the data into the excel sheet\n",
    "writer_obj = pd.ExcelWriter(Output_xls_file,engine='xlsxwriter') \n",
    "\n",
    "# Write the final spreadsheet out to the data filder.\n",
    "df_all.to_excel(writer_obj, sheet_name='Location_Measure')"
   ]
  },
  {
   "cell_type": "code",
   "execution_count": 40,
   "id": "c3e9ed93",
   "metadata": {},
   "outputs": [
    {
     "data": {
      "text/html": [
       "<div>\n",
       "<style scoped>\n",
       "    .dataframe tbody tr th:only-of-type {\n",
       "        vertical-align: middle;\n",
       "    }\n",
       "\n",
       "    .dataframe tbody tr th {\n",
       "        vertical-align: top;\n",
       "    }\n",
       "\n",
       "    .dataframe thead th {\n",
       "        text-align: right;\n",
       "    }\n",
       "</style>\n",
       "<table border=\"1\" class=\"dataframe\">\n",
       "  <thead>\n",
       "    <tr style=\"text-align: right;\">\n",
       "      <th></th>\n",
       "      <th>Location</th>\n",
       "      <th>2018</th>\n",
       "      <th>2019</th>\n",
       "      <th>2020</th>\n",
       "    </tr>\n",
       "  </thead>\n",
       "  <tbody>\n",
       "    <tr>\n",
       "      <th>0</th>\n",
       "      <td>Köln</td>\n",
       "      <td>3087.2700</td>\n",
       "      <td>40300.498235</td>\n",
       "      <td>77299.746697</td>\n",
       "    </tr>\n",
       "    <tr>\n",
       "      <th>1</th>\n",
       "      <td>Neu-Isenburg</td>\n",
       "      <td>184343.4525</td>\n",
       "      <td>181238.768523</td>\n",
       "      <td>138434.768523</td>\n",
       "    </tr>\n",
       "  </tbody>\n",
       "</table>\n",
       "</div>"
      ],
      "text/plain": [
       "       Location         2018           2019           2020\n",
       "0          Köln    3087.2700   40300.498235   77299.746697\n",
       "1  Neu-Isenburg  184343.4525  181238.768523  138434.768523"
      ]
     },
     "execution_count": 40,
     "metadata": {},
     "output_type": "execute_result"
    }
   ],
   "source": [
    "# Summarise teh data by location.\n",
    "df_all_summ = df_all.groupby(['Location'], as_index=False).sum()\n",
    "df_all_summ\n"
   ]
  },
  {
   "cell_type": "code",
   "execution_count": 41,
   "id": "235886e3",
   "metadata": {},
   "outputs": [
    {
     "data": {
      "text/html": [
       "<div>\n",
       "<style scoped>\n",
       "    .dataframe tbody tr th:only-of-type {\n",
       "        vertical-align: middle;\n",
       "    }\n",
       "\n",
       "    .dataframe tbody tr th {\n",
       "        vertical-align: top;\n",
       "    }\n",
       "\n",
       "    .dataframe thead th {\n",
       "        text-align: right;\n",
       "    }\n",
       "</style>\n",
       "<table border=\"1\" class=\"dataframe\">\n",
       "  <thead>\n",
       "    <tr style=\"text-align: right;\">\n",
       "      <th></th>\n",
       "      <th>Year</th>\n",
       "      <th>Köln</th>\n",
       "      <th>Neu-Isenburg</th>\n",
       "    </tr>\n",
       "  </thead>\n",
       "  <tbody>\n",
       "    <tr>\n",
       "      <th>1</th>\n",
       "      <td>2018</td>\n",
       "      <td>3087.27</td>\n",
       "      <td>184343.4525</td>\n",
       "    </tr>\n",
       "    <tr>\n",
       "      <th>2</th>\n",
       "      <td>2019</td>\n",
       "      <td>40300.498235</td>\n",
       "      <td>181238.768523</td>\n",
       "    </tr>\n",
       "    <tr>\n",
       "      <th>3</th>\n",
       "      <td>2020</td>\n",
       "      <td>77299.746697</td>\n",
       "      <td>138434.768523</td>\n",
       "    </tr>\n",
       "  </tbody>\n",
       "</table>\n",
       "</div>"
      ],
      "text/plain": [
       "0  Year          Köln   Neu-Isenburg\n",
       "1  2018       3087.27    184343.4525\n",
       "2  2019  40300.498235  181238.768523\n",
       "3  2020  77299.746697  138434.768523"
      ]
     },
     "execution_count": 41,
     "metadata": {},
     "output_type": "execute_result"
    }
   ],
   "source": [
    "# Transpose the data.\n",
    "df_transposed_data = df_all_summ.T \n",
    "\n",
    "# Create a new index and make the existing index the Year column\n",
    "df_transposed_data.reset_index(inplace=True)\n",
    "df_transposed_data = df_transposed_data.rename(columns = {'index':'Year'})\n",
    "df_transposed_data.columns = df_transposed_data.iloc[0] \n",
    "\n",
    "df_transposed_data = df_transposed_data[1:]\n",
    "df_transposed_data.rename(columns = {'Location':'Year'}, inplace = True)\n",
    "df_transposed_data"
   ]
  },
  {
   "cell_type": "code",
   "execution_count": 42,
   "id": "77156803",
   "metadata": {},
   "outputs": [],
   "source": [
    "# Write the final spreadsheet out to the data filder.\n",
    "df_transposed_data.to_excel(writer_obj, sheet_name='Location')\n",
    "writer_obj.save()"
   ]
  },
  {
   "cell_type": "markdown",
   "id": "78a92ebb",
   "metadata": {},
   "source": [
    "## Because there are gaps in the data, we will mock up data for display purposes\n",
    "\n",
    "### There is no data for Dublin so we will create it based on percentages of the Cologne data.\n",
    "\n",
    "### There is no data for Heating, Business Travel or Paper so we will mock up data for these, for the purpose of visualisation"
   ]
  },
  {
   "cell_type": "code",
   "execution_count": 43,
   "id": "8c344604",
   "metadata": {},
   "outputs": [
    {
     "data": {
      "text/html": [
       "<div>\n",
       "<style scoped>\n",
       "    .dataframe tbody tr th:only-of-type {\n",
       "        vertical-align: middle;\n",
       "    }\n",
       "\n",
       "    .dataframe tbody tr th {\n",
       "        vertical-align: top;\n",
       "    }\n",
       "\n",
       "    .dataframe thead th {\n",
       "        text-align: right;\n",
       "    }\n",
       "</style>\n",
       "<table border=\"1\" class=\"dataframe\">\n",
       "  <thead>\n",
       "    <tr style=\"text-align: right;\">\n",
       "      <th></th>\n",
       "      <th>Location</th>\n",
       "      <th>Measure</th>\n",
       "      <th>Metric</th>\n",
       "      <th>2018</th>\n",
       "      <th>2019</th>\n",
       "      <th>2020</th>\n",
       "    </tr>\n",
       "  </thead>\n",
       "  <tbody>\n",
       "    <tr>\n",
       "      <th>0</th>\n",
       "      <td>Köln</td>\n",
       "      <td>Kilo</td>\n",
       "      <td>Waste</td>\n",
       "      <td>2233.32</td>\n",
       "      <td>1796.386575</td>\n",
       "      <td>1518.815201</td>\n",
       "    </tr>\n",
       "    <tr>\n",
       "      <th>1</th>\n",
       "      <td>Köln</td>\n",
       "      <td>Kilo</td>\n",
       "      <td>Water</td>\n",
       "      <td>632.57</td>\n",
       "      <td>508.812107</td>\n",
       "      <td>447.754655</td>\n",
       "    </tr>\n",
       "    <tr>\n",
       "      <th>2</th>\n",
       "      <td>Köln</td>\n",
       "      <td>Kilowatts</td>\n",
       "      <td>Electricity</td>\n",
       "      <td>221.38</td>\n",
       "      <td>37995.299553</td>\n",
       "      <td>75333.176842</td>\n",
       "    </tr>\n",
       "  </tbody>\n",
       "</table>\n",
       "</div>"
      ],
      "text/plain": [
       "  Location    Measure       Metric     2018          2019          2020\n",
       "0     Köln       Kilo        Waste  2233.32   1796.386575   1518.815201\n",
       "1     Köln       Kilo        Water   632.57    508.812107    447.754655\n",
       "2     Köln  Kilowatts  Electricity   221.38  37995.299553  75333.176842"
      ]
     },
     "execution_count": 43,
     "metadata": {},
     "output_type": "execute_result"
    }
   ],
   "source": [
    "df_mock_data = df_Köln_all\n",
    "df_mock_data"
   ]
  },
  {
   "cell_type": "code",
   "execution_count": 44,
   "id": "1567eb6b",
   "metadata": {},
   "outputs": [],
   "source": [
    "df_mock_data['Location'] = 'Dublin'"
   ]
  },
  {
   "cell_type": "code",
   "execution_count": 45,
   "id": "93d6c0e3",
   "metadata": {},
   "outputs": [
    {
     "data": {
      "text/html": [
       "<div>\n",
       "<style scoped>\n",
       "    .dataframe tbody tr th:only-of-type {\n",
       "        vertical-align: middle;\n",
       "    }\n",
       "\n",
       "    .dataframe tbody tr th {\n",
       "        vertical-align: top;\n",
       "    }\n",
       "\n",
       "    .dataframe thead th {\n",
       "        text-align: right;\n",
       "    }\n",
       "</style>\n",
       "<table border=\"1\" class=\"dataframe\">\n",
       "  <thead>\n",
       "    <tr style=\"text-align: right;\">\n",
       "      <th></th>\n",
       "      <th>Location</th>\n",
       "      <th>Measure</th>\n",
       "      <th>Metric</th>\n",
       "      <th>2018</th>\n",
       "      <th>2019</th>\n",
       "      <th>2020</th>\n",
       "    </tr>\n",
       "  </thead>\n",
       "  <tbody>\n",
       "    <tr>\n",
       "      <th>0</th>\n",
       "      <td>Dublin</td>\n",
       "      <td>Kilo</td>\n",
       "      <td>Waste</td>\n",
       "      <td>2456.652</td>\n",
       "      <td>2947.9824</td>\n",
       "      <td>2210.9868</td>\n",
       "    </tr>\n",
       "    <tr>\n",
       "      <th>1</th>\n",
       "      <td>Dublin</td>\n",
       "      <td>Kilo</td>\n",
       "      <td>Water</td>\n",
       "      <td>695.827</td>\n",
       "      <td>834.9924</td>\n",
       "      <td>626.2443</td>\n",
       "    </tr>\n",
       "    <tr>\n",
       "      <th>2</th>\n",
       "      <td>Dublin</td>\n",
       "      <td>Kilowatts</td>\n",
       "      <td>Electricity</td>\n",
       "      <td>243.518</td>\n",
       "      <td>292.2216</td>\n",
       "      <td>219.1662</td>\n",
       "    </tr>\n",
       "  </tbody>\n",
       "</table>\n",
       "</div>"
      ],
      "text/plain": [
       "  Location    Measure       Metric      2018       2019       2020\n",
       "0   Dublin       Kilo        Waste  2456.652  2947.9824  2210.9868\n",
       "1   Dublin       Kilo        Water   695.827   834.9924   626.2443\n",
       "2   Dublin  Kilowatts  Electricity   243.518   292.2216   219.1662"
      ]
     },
     "execution_count": 45,
     "metadata": {},
     "output_type": "execute_result"
    }
   ],
   "source": [
    "df_mock_data['2018'] = df_mock_data['2018'].apply(lambda x: x*1.1)\n",
    "df_mock_data['2019'] = df_mock_data['2018'].apply(lambda x: x*1.2)\n",
    "df_mock_data['2020'] = df_mock_data['2018'].apply(lambda x: x*0.9)\n",
    "df_mock_data"
   ]
  },
  {
   "cell_type": "code",
   "execution_count": 46,
   "id": "1d011cea",
   "metadata": {},
   "outputs": [],
   "source": [
    "#append row to the dataframe\n",
    "new_row = {'Location':'Dublin', 'Measure':'Kilo', 'Metric':'Heating', '2018':1997, '2019':1901, '2020':1800}\n",
    "df_mock_data = df_mock_data.append(new_row, ignore_index=True)\n",
    "#append row to the dataframe\n",
    "new_row = {'Location':'Dublin', 'Measure':'Litre', 'Metric':'Business Travel', '2018':171997, '2019':161899, '2020':11358}\n",
    "df_mock_data = df_mock_data.append(new_row, ignore_index=True)\n",
    "#append row to the dataframe\n",
    "new_row = {'Location':'Dublin', 'Measure':'Kilo', 'Metric':'Paper', '2018':667, '2019':225, '2020':180}\n",
    "df_mock_data = df_mock_data.append(new_row, ignore_index=True)\n"
   ]
  },
  {
   "cell_type": "code",
   "execution_count": 47,
   "id": "1c4f6d8b",
   "metadata": {},
   "outputs": [
    {
     "data": {
      "text/html": [
       "<div>\n",
       "<style scoped>\n",
       "    .dataframe tbody tr th:only-of-type {\n",
       "        vertical-align: middle;\n",
       "    }\n",
       "\n",
       "    .dataframe tbody tr th {\n",
       "        vertical-align: top;\n",
       "    }\n",
       "\n",
       "    .dataframe thead th {\n",
       "        text-align: right;\n",
       "    }\n",
       "</style>\n",
       "<table border=\"1\" class=\"dataframe\">\n",
       "  <thead>\n",
       "    <tr style=\"text-align: right;\">\n",
       "      <th></th>\n",
       "      <th>Location</th>\n",
       "      <th>Measure</th>\n",
       "      <th>Metric</th>\n",
       "      <th>2018</th>\n",
       "      <th>2019</th>\n",
       "      <th>2020</th>\n",
       "    </tr>\n",
       "  </thead>\n",
       "  <tbody>\n",
       "    <tr>\n",
       "      <th>0</th>\n",
       "      <td>Dublin</td>\n",
       "      <td>Kilo</td>\n",
       "      <td>Waste</td>\n",
       "      <td>2456.652</td>\n",
       "      <td>2947.9824</td>\n",
       "      <td>2210.9868</td>\n",
       "    </tr>\n",
       "    <tr>\n",
       "      <th>1</th>\n",
       "      <td>Dublin</td>\n",
       "      <td>Kilo</td>\n",
       "      <td>Water</td>\n",
       "      <td>695.827</td>\n",
       "      <td>834.9924</td>\n",
       "      <td>626.2443</td>\n",
       "    </tr>\n",
       "    <tr>\n",
       "      <th>2</th>\n",
       "      <td>Dublin</td>\n",
       "      <td>Kilowatts</td>\n",
       "      <td>Electricity</td>\n",
       "      <td>243.518</td>\n",
       "      <td>292.2216</td>\n",
       "      <td>219.1662</td>\n",
       "    </tr>\n",
       "    <tr>\n",
       "      <th>3</th>\n",
       "      <td>Dublin</td>\n",
       "      <td>Kilo</td>\n",
       "      <td>Heating</td>\n",
       "      <td>1997.000</td>\n",
       "      <td>1901.0000</td>\n",
       "      <td>1800.0000</td>\n",
       "    </tr>\n",
       "    <tr>\n",
       "      <th>4</th>\n",
       "      <td>Dublin</td>\n",
       "      <td>Litre</td>\n",
       "      <td>Business Travel</td>\n",
       "      <td>171997.000</td>\n",
       "      <td>161899.0000</td>\n",
       "      <td>11358.0000</td>\n",
       "    </tr>\n",
       "    <tr>\n",
       "      <th>5</th>\n",
       "      <td>Dublin</td>\n",
       "      <td>Kilo</td>\n",
       "      <td>Paper</td>\n",
       "      <td>667.000</td>\n",
       "      <td>225.0000</td>\n",
       "      <td>180.0000</td>\n",
       "    </tr>\n",
       "  </tbody>\n",
       "</table>\n",
       "</div>"
      ],
      "text/plain": [
       "  Location    Measure           Metric        2018         2019        2020\n",
       "0   Dublin       Kilo            Waste    2456.652    2947.9824   2210.9868\n",
       "1   Dublin       Kilo            Water     695.827     834.9924    626.2443\n",
       "2   Dublin  Kilowatts      Electricity     243.518     292.2216    219.1662\n",
       "3   Dublin       Kilo          Heating    1997.000    1901.0000   1800.0000\n",
       "4   Dublin      Litre  Business Travel  171997.000  161899.0000  11358.0000\n",
       "5   Dublin       Kilo            Paper     667.000     225.0000    180.0000"
      ]
     },
     "execution_count": 47,
     "metadata": {},
     "output_type": "execute_result"
    }
   ],
   "source": [
    "df_mock_data"
   ]
  },
  {
   "cell_type": "code",
   "execution_count": null,
   "id": "b80c7b25",
   "metadata": {},
   "outputs": [],
   "source": []
  },
  {
   "cell_type": "code",
   "execution_count": 48,
   "id": "f5c2901a",
   "metadata": {},
   "outputs": [
    {
     "data": {
      "text/html": [
       "<div>\n",
       "<style scoped>\n",
       "    .dataframe tbody tr th:only-of-type {\n",
       "        vertical-align: middle;\n",
       "    }\n",
       "\n",
       "    .dataframe tbody tr th {\n",
       "        vertical-align: top;\n",
       "    }\n",
       "\n",
       "    .dataframe thead th {\n",
       "        text-align: right;\n",
       "    }\n",
       "</style>\n",
       "<table border=\"1\" class=\"dataframe\">\n",
       "  <thead>\n",
       "    <tr style=\"text-align: right;\">\n",
       "      <th></th>\n",
       "      <th>Location</th>\n",
       "      <th>Measure</th>\n",
       "      <th>Metric</th>\n",
       "      <th>2018</th>\n",
       "      <th>2019</th>\n",
       "      <th>2020</th>\n",
       "    </tr>\n",
       "  </thead>\n",
       "  <tbody>\n",
       "    <tr>\n",
       "      <th>0</th>\n",
       "      <td>Dublin</td>\n",
       "      <td>Kilo</td>\n",
       "      <td>Waste</td>\n",
       "      <td>2456.652</td>\n",
       "      <td>2947.9824</td>\n",
       "      <td>2210.9868</td>\n",
       "    </tr>\n",
       "    <tr>\n",
       "      <th>1</th>\n",
       "      <td>Dublin</td>\n",
       "      <td>Kilo</td>\n",
       "      <td>Water</td>\n",
       "      <td>695.827</td>\n",
       "      <td>834.9924</td>\n",
       "      <td>626.2443</td>\n",
       "    </tr>\n",
       "    <tr>\n",
       "      <th>2</th>\n",
       "      <td>Dublin</td>\n",
       "      <td>Kilowatts</td>\n",
       "      <td>Electricity</td>\n",
       "      <td>243.518</td>\n",
       "      <td>292.2216</td>\n",
       "      <td>219.1662</td>\n",
       "    </tr>\n",
       "    <tr>\n",
       "      <th>3</th>\n",
       "      <td>Dublin</td>\n",
       "      <td>Kilo</td>\n",
       "      <td>Heating</td>\n",
       "      <td>1997.000</td>\n",
       "      <td>1901.0000</td>\n",
       "      <td>1800.0000</td>\n",
       "    </tr>\n",
       "    <tr>\n",
       "      <th>4</th>\n",
       "      <td>Dublin</td>\n",
       "      <td>Litre</td>\n",
       "      <td>Business Travel</td>\n",
       "      <td>171997.000</td>\n",
       "      <td>161899.0000</td>\n",
       "      <td>11358.0000</td>\n",
       "    </tr>\n",
       "    <tr>\n",
       "      <th>5</th>\n",
       "      <td>Dublin</td>\n",
       "      <td>Kilo</td>\n",
       "      <td>Paper</td>\n",
       "      <td>667.000</td>\n",
       "      <td>225.0000</td>\n",
       "      <td>180.0000</td>\n",
       "    </tr>\n",
       "    <tr>\n",
       "      <th>6</th>\n",
       "      <td>Dublin</td>\n",
       "      <td>Kilo</td>\n",
       "      <td>Heating</td>\n",
       "      <td>1997.000</td>\n",
       "      <td>1901.0000</td>\n",
       "      <td>1800.0000</td>\n",
       "    </tr>\n",
       "    <tr>\n",
       "      <th>7</th>\n",
       "      <td>Dublin</td>\n",
       "      <td>Litre</td>\n",
       "      <td>Business Travel</td>\n",
       "      <td>171997.000</td>\n",
       "      <td>161899.0000</td>\n",
       "      <td>11358.0000</td>\n",
       "    </tr>\n",
       "    <tr>\n",
       "      <th>8</th>\n",
       "      <td>Dublin</td>\n",
       "      <td>Kilo</td>\n",
       "      <td>Paper</td>\n",
       "      <td>667.000</td>\n",
       "      <td>225.0000</td>\n",
       "      <td>180.0000</td>\n",
       "    </tr>\n",
       "    <tr>\n",
       "      <th>9</th>\n",
       "      <td>Neu-Isenburg</td>\n",
       "      <td>Kilo</td>\n",
       "      <td>Heating</td>\n",
       "      <td>12997.000</td>\n",
       "      <td>13301.0000</td>\n",
       "      <td>1000.0000</td>\n",
       "    </tr>\n",
       "    <tr>\n",
       "      <th>10</th>\n",
       "      <td>Neu-Isenburg</td>\n",
       "      <td>Litre</td>\n",
       "      <td>Business Travel</td>\n",
       "      <td>111997.000</td>\n",
       "      <td>161199.0000</td>\n",
       "      <td>19358.0000</td>\n",
       "    </tr>\n",
       "    <tr>\n",
       "      <th>11</th>\n",
       "      <td>Neu-Isenburg</td>\n",
       "      <td>Kilo</td>\n",
       "      <td>Paper</td>\n",
       "      <td>1667.000</td>\n",
       "      <td>1225.0000</td>\n",
       "      <td>1180.0000</td>\n",
       "    </tr>\n",
       "    <tr>\n",
       "      <th>12</th>\n",
       "      <td>Köln</td>\n",
       "      <td>Kilo</td>\n",
       "      <td>Heating</td>\n",
       "      <td>21997.000</td>\n",
       "      <td>21901.0000</td>\n",
       "      <td>21800.0000</td>\n",
       "    </tr>\n",
       "    <tr>\n",
       "      <th>13</th>\n",
       "      <td>Köln</td>\n",
       "      <td>Litre</td>\n",
       "      <td>Business Travel</td>\n",
       "      <td>11997.000</td>\n",
       "      <td>11899.0000</td>\n",
       "      <td>1358.0000</td>\n",
       "    </tr>\n",
       "    <tr>\n",
       "      <th>14</th>\n",
       "      <td>Köln</td>\n",
       "      <td>Kilo</td>\n",
       "      <td>Paper</td>\n",
       "      <td>1667.000</td>\n",
       "      <td>1225.0000</td>\n",
       "      <td>1180.0000</td>\n",
       "    </tr>\n",
       "  </tbody>\n",
       "</table>\n",
       "</div>"
      ],
      "text/plain": [
       "        Location    Measure           Metric        2018         2019  \\\n",
       "0         Dublin       Kilo            Waste    2456.652    2947.9824   \n",
       "1         Dublin       Kilo            Water     695.827     834.9924   \n",
       "2         Dublin  Kilowatts      Electricity     243.518     292.2216   \n",
       "3         Dublin       Kilo          Heating    1997.000    1901.0000   \n",
       "4         Dublin      Litre  Business Travel  171997.000  161899.0000   \n",
       "5         Dublin       Kilo            Paper     667.000     225.0000   \n",
       "6         Dublin       Kilo          Heating    1997.000    1901.0000   \n",
       "7         Dublin      Litre  Business Travel  171997.000  161899.0000   \n",
       "8         Dublin       Kilo            Paper     667.000     225.0000   \n",
       "9   Neu-Isenburg       Kilo          Heating   12997.000   13301.0000   \n",
       "10  Neu-Isenburg      Litre  Business Travel  111997.000  161199.0000   \n",
       "11  Neu-Isenburg       Kilo            Paper    1667.000    1225.0000   \n",
       "12          Köln       Kilo          Heating   21997.000   21901.0000   \n",
       "13          Köln      Litre  Business Travel   11997.000   11899.0000   \n",
       "14          Köln       Kilo            Paper    1667.000    1225.0000   \n",
       "\n",
       "          2020  \n",
       "0    2210.9868  \n",
       "1     626.2443  \n",
       "2     219.1662  \n",
       "3    1800.0000  \n",
       "4   11358.0000  \n",
       "5     180.0000  \n",
       "6    1800.0000  \n",
       "7   11358.0000  \n",
       "8     180.0000  \n",
       "9    1000.0000  \n",
       "10  19358.0000  \n",
       "11   1180.0000  \n",
       "12  21800.0000  \n",
       "13   1358.0000  \n",
       "14   1180.0000  "
      ]
     },
     "execution_count": 48,
     "metadata": {},
     "output_type": "execute_result"
    }
   ],
   "source": [
    "\n",
    "\n",
    "#append row to the dataframe\n",
    "new_row = {'Location':'Dublin', 'Measure':'Kilo', 'Metric':'Heating', '2018':1997, '2019':1901, '2020':1800}\n",
    "df_mock_data = df_mock_data.append(new_row, ignore_index=True)\n",
    "#append row to the dataframe\n",
    "new_row = {'Location':'Dublin', 'Measure':'Litre', 'Metric':'Business Travel', '2018':171997, '2019':161899, '2020':11358}\n",
    "df_mock_data = df_mock_data.append(new_row, ignore_index=True)\n",
    "#append row to the dataframe\n",
    "new_row = {'Location':'Dublin', 'Measure':'Kilo', 'Metric':'Paper', '2018':667, '2019':225, '2020':180}\n",
    "df_mock_data = df_mock_data.append(new_row, ignore_index=True)\n",
    "\n",
    "#append row to the dataframe\n",
    "new_row = {'Location':'Neu-Isenburg', 'Measure':'Kilo', 'Metric':'Heating', '2018':12997, '2019':13301, '2020':1000}\n",
    "df_mock_data = df_mock_data.append(new_row, ignore_index=True)\n",
    "#append row to the dataframe\n",
    "new_row = {'Location':'Neu-Isenburg', 'Measure':'Litre', 'Metric':'Business Travel', '2018':111997, '2019':161199, '2020':19358}\n",
    "df_mock_data = df_mock_data.append(new_row, ignore_index=True)\n",
    "#append row to the dataframe\n",
    "new_row = {'Location':'Neu-Isenburg', 'Measure':'Kilo', 'Metric':'Paper', '2018':1667, '2019':1225, '2020':1180}\n",
    "df_mock_data = df_mock_data.append(new_row, ignore_index=True)\n",
    "\n",
    "#append row to the dataframe\n",
    "new_row = {'Location':'Köln', 'Measure':'Kilo', 'Metric':'Heating', '2018':21997, '2019':21901, '2020':21800}\n",
    "df_mock_data = df_mock_data.append(new_row, ignore_index=True)\n",
    "#append row to the dataframe\n",
    "new_row = {'Location':'Köln', 'Measure':'Litre', 'Metric':'Business Travel', '2018':11997, '2019':11899, '2020':1358}\n",
    "df_mock_data = df_mock_data.append(new_row, ignore_index=True)\n",
    "#append row to the dataframe\n",
    "new_row = {'Location':'Köln', 'Measure':'Kilo', 'Metric':'Paper', '2018':1667, '2019':1225, '2020':1180}\n",
    "df_mock_data = df_mock_data.append(new_row, ignore_index=True)\n",
    "df_mock_data"
   ]
  },
  {
   "cell_type": "code",
   "execution_count": 49,
   "id": "ebf1b157",
   "metadata": {},
   "outputs": [
    {
     "data": {
      "text/html": [
       "<div>\n",
       "<style scoped>\n",
       "    .dataframe tbody tr th:only-of-type {\n",
       "        vertical-align: middle;\n",
       "    }\n",
       "\n",
       "    .dataframe tbody tr th {\n",
       "        vertical-align: top;\n",
       "    }\n",
       "\n",
       "    .dataframe thead th {\n",
       "        text-align: right;\n",
       "    }\n",
       "</style>\n",
       "<table border=\"1\" class=\"dataframe\">\n",
       "  <thead>\n",
       "    <tr style=\"text-align: right;\">\n",
       "      <th></th>\n",
       "      <th>Location</th>\n",
       "      <th>Measure</th>\n",
       "      <th>Metric</th>\n",
       "      <th>2018</th>\n",
       "      <th>2019</th>\n",
       "      <th>2020</th>\n",
       "    </tr>\n",
       "  </thead>\n",
       "  <tbody>\n",
       "    <tr>\n",
       "      <th>0</th>\n",
       "      <td>Dublin</td>\n",
       "      <td>Kilo</td>\n",
       "      <td>Waste</td>\n",
       "      <td>2456.6520</td>\n",
       "      <td>2947.982400</td>\n",
       "      <td>2210.986800</td>\n",
       "    </tr>\n",
       "    <tr>\n",
       "      <th>1</th>\n",
       "      <td>Dublin</td>\n",
       "      <td>Kilo</td>\n",
       "      <td>Water</td>\n",
       "      <td>695.8270</td>\n",
       "      <td>834.992400</td>\n",
       "      <td>626.244300</td>\n",
       "    </tr>\n",
       "    <tr>\n",
       "      <th>2</th>\n",
       "      <td>Dublin</td>\n",
       "      <td>Kilowatts</td>\n",
       "      <td>Electricity</td>\n",
       "      <td>243.5180</td>\n",
       "      <td>292.221600</td>\n",
       "      <td>219.166200</td>\n",
       "    </tr>\n",
       "    <tr>\n",
       "      <th>3</th>\n",
       "      <td>Dublin</td>\n",
       "      <td>Kilo</td>\n",
       "      <td>Heating</td>\n",
       "      <td>1997.0000</td>\n",
       "      <td>1901.000000</td>\n",
       "      <td>1800.000000</td>\n",
       "    </tr>\n",
       "    <tr>\n",
       "      <th>4</th>\n",
       "      <td>Dublin</td>\n",
       "      <td>Litre</td>\n",
       "      <td>Business Travel</td>\n",
       "      <td>171997.0000</td>\n",
       "      <td>161899.000000</td>\n",
       "      <td>11358.000000</td>\n",
       "    </tr>\n",
       "    <tr>\n",
       "      <th>5</th>\n",
       "      <td>Dublin</td>\n",
       "      <td>Kilo</td>\n",
       "      <td>Paper</td>\n",
       "      <td>667.0000</td>\n",
       "      <td>225.000000</td>\n",
       "      <td>180.000000</td>\n",
       "    </tr>\n",
       "    <tr>\n",
       "      <th>6</th>\n",
       "      <td>Dublin</td>\n",
       "      <td>Kilo</td>\n",
       "      <td>Heating</td>\n",
       "      <td>1997.0000</td>\n",
       "      <td>1901.000000</td>\n",
       "      <td>1800.000000</td>\n",
       "    </tr>\n",
       "    <tr>\n",
       "      <th>7</th>\n",
       "      <td>Dublin</td>\n",
       "      <td>Litre</td>\n",
       "      <td>Business Travel</td>\n",
       "      <td>171997.0000</td>\n",
       "      <td>161899.000000</td>\n",
       "      <td>11358.000000</td>\n",
       "    </tr>\n",
       "    <tr>\n",
       "      <th>8</th>\n",
       "      <td>Dublin</td>\n",
       "      <td>Kilo</td>\n",
       "      <td>Paper</td>\n",
       "      <td>667.0000</td>\n",
       "      <td>225.000000</td>\n",
       "      <td>180.000000</td>\n",
       "    </tr>\n",
       "    <tr>\n",
       "      <th>9</th>\n",
       "      <td>Neu-Isenburg</td>\n",
       "      <td>Kilo</td>\n",
       "      <td>Heating</td>\n",
       "      <td>12997.0000</td>\n",
       "      <td>13301.000000</td>\n",
       "      <td>1000.000000</td>\n",
       "    </tr>\n",
       "    <tr>\n",
       "      <th>10</th>\n",
       "      <td>Neu-Isenburg</td>\n",
       "      <td>Litre</td>\n",
       "      <td>Business Travel</td>\n",
       "      <td>111997.0000</td>\n",
       "      <td>161199.000000</td>\n",
       "      <td>19358.000000</td>\n",
       "    </tr>\n",
       "    <tr>\n",
       "      <th>11</th>\n",
       "      <td>Neu-Isenburg</td>\n",
       "      <td>Kilo</td>\n",
       "      <td>Paper</td>\n",
       "      <td>1667.0000</td>\n",
       "      <td>1225.000000</td>\n",
       "      <td>1180.000000</td>\n",
       "    </tr>\n",
       "    <tr>\n",
       "      <th>12</th>\n",
       "      <td>Köln</td>\n",
       "      <td>Kilo</td>\n",
       "      <td>Heating</td>\n",
       "      <td>21997.0000</td>\n",
       "      <td>21901.000000</td>\n",
       "      <td>21800.000000</td>\n",
       "    </tr>\n",
       "    <tr>\n",
       "      <th>13</th>\n",
       "      <td>Köln</td>\n",
       "      <td>Litre</td>\n",
       "      <td>Business Travel</td>\n",
       "      <td>11997.0000</td>\n",
       "      <td>11899.000000</td>\n",
       "      <td>1358.000000</td>\n",
       "    </tr>\n",
       "    <tr>\n",
       "      <th>14</th>\n",
       "      <td>Köln</td>\n",
       "      <td>Kilo</td>\n",
       "      <td>Paper</td>\n",
       "      <td>1667.0000</td>\n",
       "      <td>1225.000000</td>\n",
       "      <td>1180.000000</td>\n",
       "    </tr>\n",
       "    <tr>\n",
       "      <th>0</th>\n",
       "      <td>Köln</td>\n",
       "      <td>Kilo</td>\n",
       "      <td>Waste</td>\n",
       "      <td>2233.3200</td>\n",
       "      <td>1796.386575</td>\n",
       "      <td>1518.815201</td>\n",
       "    </tr>\n",
       "    <tr>\n",
       "      <th>1</th>\n",
       "      <td>Köln</td>\n",
       "      <td>Kilo</td>\n",
       "      <td>Water</td>\n",
       "      <td>632.5700</td>\n",
       "      <td>508.812107</td>\n",
       "      <td>447.754655</td>\n",
       "    </tr>\n",
       "    <tr>\n",
       "      <th>2</th>\n",
       "      <td>Köln</td>\n",
       "      <td>Kilowatts</td>\n",
       "      <td>Electricity</td>\n",
       "      <td>221.3800</td>\n",
       "      <td>37995.299553</td>\n",
       "      <td>75333.176842</td>\n",
       "    </tr>\n",
       "    <tr>\n",
       "      <th>0</th>\n",
       "      <td>Neu-Isenburg</td>\n",
       "      <td>Kilo</td>\n",
       "      <td>Waste</td>\n",
       "      <td>1674.9900</td>\n",
       "      <td>1139.111401</td>\n",
       "      <td>1139.111401</td>\n",
       "    </tr>\n",
       "    <tr>\n",
       "      <th>1</th>\n",
       "      <td>Neu-Isenburg</td>\n",
       "      <td>Kilo</td>\n",
       "      <td>Water</td>\n",
       "      <td>474.4275</td>\n",
       "      <td>335.815991</td>\n",
       "      <td>335.815991</td>\n",
       "    </tr>\n",
       "    <tr>\n",
       "      <th>2</th>\n",
       "      <td>Neu-Isenburg</td>\n",
       "      <td>Kilowatts</td>\n",
       "      <td>Electricity</td>\n",
       "      <td>182194.0350</td>\n",
       "      <td>179763.841132</td>\n",
       "      <td>136959.841132</td>\n",
       "    </tr>\n",
       "  </tbody>\n",
       "</table>\n",
       "</div>"
      ],
      "text/plain": [
       "        Location    Measure           Metric         2018           2019  \\\n",
       "0         Dublin       Kilo            Waste    2456.6520    2947.982400   \n",
       "1         Dublin       Kilo            Water     695.8270     834.992400   \n",
       "2         Dublin  Kilowatts      Electricity     243.5180     292.221600   \n",
       "3         Dublin       Kilo          Heating    1997.0000    1901.000000   \n",
       "4         Dublin      Litre  Business Travel  171997.0000  161899.000000   \n",
       "5         Dublin       Kilo            Paper     667.0000     225.000000   \n",
       "6         Dublin       Kilo          Heating    1997.0000    1901.000000   \n",
       "7         Dublin      Litre  Business Travel  171997.0000  161899.000000   \n",
       "8         Dublin       Kilo            Paper     667.0000     225.000000   \n",
       "9   Neu-Isenburg       Kilo          Heating   12997.0000   13301.000000   \n",
       "10  Neu-Isenburg      Litre  Business Travel  111997.0000  161199.000000   \n",
       "11  Neu-Isenburg       Kilo            Paper    1667.0000    1225.000000   \n",
       "12          Köln       Kilo          Heating   21997.0000   21901.000000   \n",
       "13          Köln      Litre  Business Travel   11997.0000   11899.000000   \n",
       "14          Köln       Kilo            Paper    1667.0000    1225.000000   \n",
       "0           Köln       Kilo            Waste    2233.3200    1796.386575   \n",
       "1           Köln       Kilo            Water     632.5700     508.812107   \n",
       "2           Köln  Kilowatts      Electricity     221.3800   37995.299553   \n",
       "0   Neu-Isenburg       Kilo            Waste    1674.9900    1139.111401   \n",
       "1   Neu-Isenburg       Kilo            Water     474.4275     335.815991   \n",
       "2   Neu-Isenburg  Kilowatts      Electricity  182194.0350  179763.841132   \n",
       "\n",
       "             2020  \n",
       "0     2210.986800  \n",
       "1      626.244300  \n",
       "2      219.166200  \n",
       "3     1800.000000  \n",
       "4    11358.000000  \n",
       "5      180.000000  \n",
       "6     1800.000000  \n",
       "7    11358.000000  \n",
       "8      180.000000  \n",
       "9     1000.000000  \n",
       "10   19358.000000  \n",
       "11    1180.000000  \n",
       "12   21800.000000  \n",
       "13    1358.000000  \n",
       "14    1180.000000  \n",
       "0     1518.815201  \n",
       "1      447.754655  \n",
       "2    75333.176842  \n",
       "0     1139.111401  \n",
       "1      335.815991  \n",
       "2   136959.841132  "
      ]
     },
     "execution_count": 49,
     "metadata": {},
     "output_type": "execute_result"
    }
   ],
   "source": [
    "#combined = pd.concat([df_Köln_elec_summ, df_NI_electricity_summ], ignore_index=True)\n",
    "df_mock_data_all = pd.concat([df_mock_data, df_all])\n",
    "df_mock_data_all"
   ]
  },
  {
   "cell_type": "markdown",
   "id": "0359ccb9",
   "metadata": {},
   "source": [
    "### Write the mocked dataset to Excel"
   ]
  },
  {
   "cell_type": "code",
   "execution_count": 50,
   "id": "fc175923",
   "metadata": {},
   "outputs": [],
   "source": [
    "# Writing the data into the excel sheet\n",
    "writer_obj = pd.ExcelWriter(Mock_output_xls_file,engine='xlsxwriter') \n",
    "\n",
    "# Write the final spreadsheet out to the data filder.\n",
    "df_mock_data_all.to_excel(writer_obj, sheet_name='Location_Measure')\n"
   ]
  },
  {
   "cell_type": "code",
   "execution_count": 51,
   "id": "2d627cdc",
   "metadata": {},
   "outputs": [],
   "source": [
    "#labels = [\"Electricity\", \"Heating\", \"Business Travel\", \"Paper\", \"Water\", \"Waste\"]\n",
    "labels = df_mock_data_all['Location']"
   ]
  },
  {
   "cell_type": "markdown",
   "id": "642be9d9",
   "metadata": {},
   "source": [
    "# Try out the donut pie chart with the mocked up data."
   ]
  },
  {
   "cell_type": "code",
   "execution_count": 60,
   "id": "a34eb778",
   "metadata": {},
   "outputs": [
    {
     "data": {
      "application/vnd.plotly.v1+json": {
       "config": {
        "plotlyServerURL": "https://plot.ly"
       },
       "data": [
        {
         "domain": {
          "x": [
           0.55,
           1
          ],
          "y": [
           0,
           1
          ]
         },
         "hole": 0.7,
         "hoverinfo": "label+percent+name",
         "labels": [
          "Dublin",
          "Dublin",
          "Dublin",
          "Dublin",
          "Dublin",
          "Dublin",
          "Dublin",
          "Dublin",
          "Dublin",
          "Neu-Isenburg",
          "Neu-Isenburg",
          "Neu-Isenburg",
          "Köln",
          "Köln",
          "Köln",
          "Köln",
          "Köln",
          "Köln",
          "Neu-Isenburg",
          "Neu-Isenburg",
          "Neu-Isenburg"
         ],
         "name": "CO2 Emissions",
         "textinfo": "none",
         "type": "pie",
         "values": [
          2210.9868000000006,
          626.2443000000001,
          219.1662,
          1800,
          11358,
          180,
          1800,
          11358,
          180,
          1000,
          19358,
          1180,
          21800,
          1358,
          1180,
          1518.8152007664003,
          447.7546545912001,
          75333.17684212798,
          1139.1114005748002,
          335.8159909434001,
          136959.841131596
         ]
        }
       ],
       "layout": {
        "annotations": [
         {
          "font": {
           "size": 20
          },
          "showarrow": false,
          "text": "CO2",
          "x": 0.82,
          "y": 0.5
         }
        ],
        "template": {
         "data": {
          "bar": [
           {
            "error_x": {
             "color": "#2a3f5f"
            },
            "error_y": {
             "color": "#2a3f5f"
            },
            "marker": {
             "line": {
              "color": "#E5ECF6",
              "width": 0.5
             },
             "pattern": {
              "fillmode": "overlay",
              "size": 10,
              "solidity": 0.2
             }
            },
            "type": "bar"
           }
          ],
          "barpolar": [
           {
            "marker": {
             "line": {
              "color": "#E5ECF6",
              "width": 0.5
             },
             "pattern": {
              "fillmode": "overlay",
              "size": 10,
              "solidity": 0.2
             }
            },
            "type": "barpolar"
           }
          ],
          "carpet": [
           {
            "aaxis": {
             "endlinecolor": "#2a3f5f",
             "gridcolor": "white",
             "linecolor": "white",
             "minorgridcolor": "white",
             "startlinecolor": "#2a3f5f"
            },
            "baxis": {
             "endlinecolor": "#2a3f5f",
             "gridcolor": "white",
             "linecolor": "white",
             "minorgridcolor": "white",
             "startlinecolor": "#2a3f5f"
            },
            "type": "carpet"
           }
          ],
          "choropleth": [
           {
            "colorbar": {
             "outlinewidth": 0,
             "ticks": ""
            },
            "type": "choropleth"
           }
          ],
          "contour": [
           {
            "colorbar": {
             "outlinewidth": 0,
             "ticks": ""
            },
            "colorscale": [
             [
              0,
              "#0d0887"
             ],
             [
              0.1111111111111111,
              "#46039f"
             ],
             [
              0.2222222222222222,
              "#7201a8"
             ],
             [
              0.3333333333333333,
              "#9c179e"
             ],
             [
              0.4444444444444444,
              "#bd3786"
             ],
             [
              0.5555555555555556,
              "#d8576b"
             ],
             [
              0.6666666666666666,
              "#ed7953"
             ],
             [
              0.7777777777777778,
              "#fb9f3a"
             ],
             [
              0.8888888888888888,
              "#fdca26"
             ],
             [
              1,
              "#f0f921"
             ]
            ],
            "type": "contour"
           }
          ],
          "contourcarpet": [
           {
            "colorbar": {
             "outlinewidth": 0,
             "ticks": ""
            },
            "type": "contourcarpet"
           }
          ],
          "heatmap": [
           {
            "colorbar": {
             "outlinewidth": 0,
             "ticks": ""
            },
            "colorscale": [
             [
              0,
              "#0d0887"
             ],
             [
              0.1111111111111111,
              "#46039f"
             ],
             [
              0.2222222222222222,
              "#7201a8"
             ],
             [
              0.3333333333333333,
              "#9c179e"
             ],
             [
              0.4444444444444444,
              "#bd3786"
             ],
             [
              0.5555555555555556,
              "#d8576b"
             ],
             [
              0.6666666666666666,
              "#ed7953"
             ],
             [
              0.7777777777777778,
              "#fb9f3a"
             ],
             [
              0.8888888888888888,
              "#fdca26"
             ],
             [
              1,
              "#f0f921"
             ]
            ],
            "type": "heatmap"
           }
          ],
          "heatmapgl": [
           {
            "colorbar": {
             "outlinewidth": 0,
             "ticks": ""
            },
            "colorscale": [
             [
              0,
              "#0d0887"
             ],
             [
              0.1111111111111111,
              "#46039f"
             ],
             [
              0.2222222222222222,
              "#7201a8"
             ],
             [
              0.3333333333333333,
              "#9c179e"
             ],
             [
              0.4444444444444444,
              "#bd3786"
             ],
             [
              0.5555555555555556,
              "#d8576b"
             ],
             [
              0.6666666666666666,
              "#ed7953"
             ],
             [
              0.7777777777777778,
              "#fb9f3a"
             ],
             [
              0.8888888888888888,
              "#fdca26"
             ],
             [
              1,
              "#f0f921"
             ]
            ],
            "type": "heatmapgl"
           }
          ],
          "histogram": [
           {
            "marker": {
             "pattern": {
              "fillmode": "overlay",
              "size": 10,
              "solidity": 0.2
             }
            },
            "type": "histogram"
           }
          ],
          "histogram2d": [
           {
            "colorbar": {
             "outlinewidth": 0,
             "ticks": ""
            },
            "colorscale": [
             [
              0,
              "#0d0887"
             ],
             [
              0.1111111111111111,
              "#46039f"
             ],
             [
              0.2222222222222222,
              "#7201a8"
             ],
             [
              0.3333333333333333,
              "#9c179e"
             ],
             [
              0.4444444444444444,
              "#bd3786"
             ],
             [
              0.5555555555555556,
              "#d8576b"
             ],
             [
              0.6666666666666666,
              "#ed7953"
             ],
             [
              0.7777777777777778,
              "#fb9f3a"
             ],
             [
              0.8888888888888888,
              "#fdca26"
             ],
             [
              1,
              "#f0f921"
             ]
            ],
            "type": "histogram2d"
           }
          ],
          "histogram2dcontour": [
           {
            "colorbar": {
             "outlinewidth": 0,
             "ticks": ""
            },
            "colorscale": [
             [
              0,
              "#0d0887"
             ],
             [
              0.1111111111111111,
              "#46039f"
             ],
             [
              0.2222222222222222,
              "#7201a8"
             ],
             [
              0.3333333333333333,
              "#9c179e"
             ],
             [
              0.4444444444444444,
              "#bd3786"
             ],
             [
              0.5555555555555556,
              "#d8576b"
             ],
             [
              0.6666666666666666,
              "#ed7953"
             ],
             [
              0.7777777777777778,
              "#fb9f3a"
             ],
             [
              0.8888888888888888,
              "#fdca26"
             ],
             [
              1,
              "#f0f921"
             ]
            ],
            "type": "histogram2dcontour"
           }
          ],
          "mesh3d": [
           {
            "colorbar": {
             "outlinewidth": 0,
             "ticks": ""
            },
            "type": "mesh3d"
           }
          ],
          "parcoords": [
           {
            "line": {
             "colorbar": {
              "outlinewidth": 0,
              "ticks": ""
             }
            },
            "type": "parcoords"
           }
          ],
          "pie": [
           {
            "automargin": true,
            "type": "pie"
           }
          ],
          "scatter": [
           {
            "marker": {
             "colorbar": {
              "outlinewidth": 0,
              "ticks": ""
             }
            },
            "type": "scatter"
           }
          ],
          "scatter3d": [
           {
            "line": {
             "colorbar": {
              "outlinewidth": 0,
              "ticks": ""
             }
            },
            "marker": {
             "colorbar": {
              "outlinewidth": 0,
              "ticks": ""
             }
            },
            "type": "scatter3d"
           }
          ],
          "scattercarpet": [
           {
            "marker": {
             "colorbar": {
              "outlinewidth": 0,
              "ticks": ""
             }
            },
            "type": "scattercarpet"
           }
          ],
          "scattergeo": [
           {
            "marker": {
             "colorbar": {
              "outlinewidth": 0,
              "ticks": ""
             }
            },
            "type": "scattergeo"
           }
          ],
          "scattergl": [
           {
            "marker": {
             "colorbar": {
              "outlinewidth": 0,
              "ticks": ""
             }
            },
            "type": "scattergl"
           }
          ],
          "scattermapbox": [
           {
            "marker": {
             "colorbar": {
              "outlinewidth": 0,
              "ticks": ""
             }
            },
            "type": "scattermapbox"
           }
          ],
          "scatterpolar": [
           {
            "marker": {
             "colorbar": {
              "outlinewidth": 0,
              "ticks": ""
             }
            },
            "type": "scatterpolar"
           }
          ],
          "scatterpolargl": [
           {
            "marker": {
             "colorbar": {
              "outlinewidth": 0,
              "ticks": ""
             }
            },
            "type": "scatterpolargl"
           }
          ],
          "scatterternary": [
           {
            "marker": {
             "colorbar": {
              "outlinewidth": 0,
              "ticks": ""
             }
            },
            "type": "scatterternary"
           }
          ],
          "surface": [
           {
            "colorbar": {
             "outlinewidth": 0,
             "ticks": ""
            },
            "colorscale": [
             [
              0,
              "#0d0887"
             ],
             [
              0.1111111111111111,
              "#46039f"
             ],
             [
              0.2222222222222222,
              "#7201a8"
             ],
             [
              0.3333333333333333,
              "#9c179e"
             ],
             [
              0.4444444444444444,
              "#bd3786"
             ],
             [
              0.5555555555555556,
              "#d8576b"
             ],
             [
              0.6666666666666666,
              "#ed7953"
             ],
             [
              0.7777777777777778,
              "#fb9f3a"
             ],
             [
              0.8888888888888888,
              "#fdca26"
             ],
             [
              1,
              "#f0f921"
             ]
            ],
            "type": "surface"
           }
          ],
          "table": [
           {
            "cells": {
             "fill": {
              "color": "#EBF0F8"
             },
             "line": {
              "color": "white"
             }
            },
            "header": {
             "fill": {
              "color": "#C8D4E3"
             },
             "line": {
              "color": "white"
             }
            },
            "type": "table"
           }
          ]
         },
         "layout": {
          "annotationdefaults": {
           "arrowcolor": "#2a3f5f",
           "arrowhead": 0,
           "arrowwidth": 1
          },
          "autotypenumbers": "strict",
          "coloraxis": {
           "colorbar": {
            "outlinewidth": 0,
            "ticks": ""
           }
          },
          "colorscale": {
           "diverging": [
            [
             0,
             "#8e0152"
            ],
            [
             0.1,
             "#c51b7d"
            ],
            [
             0.2,
             "#de77ae"
            ],
            [
             0.3,
             "#f1b6da"
            ],
            [
             0.4,
             "#fde0ef"
            ],
            [
             0.5,
             "#f7f7f7"
            ],
            [
             0.6,
             "#e6f5d0"
            ],
            [
             0.7,
             "#b8e186"
            ],
            [
             0.8,
             "#7fbc41"
            ],
            [
             0.9,
             "#4d9221"
            ],
            [
             1,
             "#276419"
            ]
           ],
           "sequential": [
            [
             0,
             "#0d0887"
            ],
            [
             0.1111111111111111,
             "#46039f"
            ],
            [
             0.2222222222222222,
             "#7201a8"
            ],
            [
             0.3333333333333333,
             "#9c179e"
            ],
            [
             0.4444444444444444,
             "#bd3786"
            ],
            [
             0.5555555555555556,
             "#d8576b"
            ],
            [
             0.6666666666666666,
             "#ed7953"
            ],
            [
             0.7777777777777778,
             "#fb9f3a"
            ],
            [
             0.8888888888888888,
             "#fdca26"
            ],
            [
             1,
             "#f0f921"
            ]
           ],
           "sequentialminus": [
            [
             0,
             "#0d0887"
            ],
            [
             0.1111111111111111,
             "#46039f"
            ],
            [
             0.2222222222222222,
             "#7201a8"
            ],
            [
             0.3333333333333333,
             "#9c179e"
            ],
            [
             0.4444444444444444,
             "#bd3786"
            ],
            [
             0.5555555555555556,
             "#d8576b"
            ],
            [
             0.6666666666666666,
             "#ed7953"
            ],
            [
             0.7777777777777778,
             "#fb9f3a"
            ],
            [
             0.8888888888888888,
             "#fdca26"
            ],
            [
             1,
             "#f0f921"
            ]
           ]
          },
          "colorway": [
           "#636efa",
           "#EF553B",
           "#00cc96",
           "#ab63fa",
           "#FFA15A",
           "#19d3f3",
           "#FF6692",
           "#B6E880",
           "#FF97FF",
           "#FECB52"
          ],
          "font": {
           "color": "#2a3f5f"
          },
          "geo": {
           "bgcolor": "white",
           "lakecolor": "white",
           "landcolor": "#E5ECF6",
           "showlakes": true,
           "showland": true,
           "subunitcolor": "white"
          },
          "hoverlabel": {
           "align": "left"
          },
          "hovermode": "closest",
          "mapbox": {
           "style": "light"
          },
          "paper_bgcolor": "white",
          "plot_bgcolor": "#E5ECF6",
          "polar": {
           "angularaxis": {
            "gridcolor": "white",
            "linecolor": "white",
            "ticks": ""
           },
           "bgcolor": "#E5ECF6",
           "radialaxis": {
            "gridcolor": "white",
            "linecolor": "white",
            "ticks": ""
           }
          },
          "scene": {
           "xaxis": {
            "backgroundcolor": "#E5ECF6",
            "gridcolor": "white",
            "gridwidth": 2,
            "linecolor": "white",
            "showbackground": true,
            "ticks": "",
            "zerolinecolor": "white"
           },
           "yaxis": {
            "backgroundcolor": "#E5ECF6",
            "gridcolor": "white",
            "gridwidth": 2,
            "linecolor": "white",
            "showbackground": true,
            "ticks": "",
            "zerolinecolor": "white"
           },
           "zaxis": {
            "backgroundcolor": "#E5ECF6",
            "gridcolor": "white",
            "gridwidth": 2,
            "linecolor": "white",
            "showbackground": true,
            "ticks": "",
            "zerolinecolor": "white"
           }
          },
          "shapedefaults": {
           "line": {
            "color": "#2a3f5f"
           }
          },
          "ternary": {
           "aaxis": {
            "gridcolor": "white",
            "linecolor": "white",
            "ticks": ""
           },
           "baxis": {
            "gridcolor": "white",
            "linecolor": "white",
            "ticks": ""
           },
           "bgcolor": "#E5ECF6",
           "caxis": {
            "gridcolor": "white",
            "linecolor": "white",
            "ticks": ""
           }
          },
          "title": {
           "x": 0.05
          },
          "xaxis": {
           "automargin": true,
           "gridcolor": "white",
           "linecolor": "white",
           "ticks": "",
           "title": {
            "standoff": 15
           },
           "zerolinecolor": "white",
           "zerolinewidth": 2
          },
          "yaxis": {
           "automargin": true,
           "gridcolor": "white",
           "linecolor": "white",
           "ticks": "",
           "title": {
            "standoff": 15
           },
           "zerolinecolor": "white",
           "zerolinewidth": 2
          }
         }
        },
        "title": {
         "text": "Company X Emissions for 2020"
        }
       }
      },
      "text/html": [
       "<div>                            <div id=\"61c3253f-5b28-4370-9a69-35deabdb9e76\" class=\"plotly-graph-div\" style=\"height:525px; width:100%;\"></div>            <script type=\"text/javascript\">                require([\"plotly\"], function(Plotly) {                    window.PLOTLYENV=window.PLOTLYENV || {};                                    if (document.getElementById(\"61c3253f-5b28-4370-9a69-35deabdb9e76\")) {                    Plotly.newPlot(                        \"61c3253f-5b28-4370-9a69-35deabdb9e76\",                        [{\"domain\":{\"x\":[0.55,1.0],\"y\":[0.0,1.0]},\"hole\":0.7,\"hoverinfo\":\"label+percent+name\",\"labels\":[\"Dublin\",\"Dublin\",\"Dublin\",\"Dublin\",\"Dublin\",\"Dublin\",\"Dublin\",\"Dublin\",\"Dublin\",\"Neu-Isenburg\",\"Neu-Isenburg\",\"Neu-Isenburg\",\"K\\u00f6ln\",\"K\\u00f6ln\",\"K\\u00f6ln\",\"K\\u00f6ln\",\"K\\u00f6ln\",\"K\\u00f6ln\",\"Neu-Isenburg\",\"Neu-Isenburg\",\"Neu-Isenburg\"],\"name\":\"CO2 Emissions\",\"textinfo\":\"none\",\"type\":\"pie\",\"values\":[2210.9868000000006,626.2443000000001,219.1662,1800.0,11358.0,180.0,1800.0,11358.0,180.0,1000.0,19358.0,1180.0,21800.0,1358.0,1180.0,1518.8152007664003,447.7546545912001,75333.17684212798,1139.1114005748002,335.8159909434001,136959.841131596]}],                        {\"annotations\":[{\"font\":{\"size\":20},\"showarrow\":false,\"text\":\"CO2\",\"x\":0.82,\"y\":0.5}],\"template\":{\"data\":{\"bar\":[{\"error_x\":{\"color\":\"#2a3f5f\"},\"error_y\":{\"color\":\"#2a3f5f\"},\"marker\":{\"line\":{\"color\":\"#E5ECF6\",\"width\":0.5},\"pattern\":{\"fillmode\":\"overlay\",\"size\":10,\"solidity\":0.2}},\"type\":\"bar\"}],\"barpolar\":[{\"marker\":{\"line\":{\"color\":\"#E5ECF6\",\"width\":0.5},\"pattern\":{\"fillmode\":\"overlay\",\"size\":10,\"solidity\":0.2}},\"type\":\"barpolar\"}],\"carpet\":[{\"aaxis\":{\"endlinecolor\":\"#2a3f5f\",\"gridcolor\":\"white\",\"linecolor\":\"white\",\"minorgridcolor\":\"white\",\"startlinecolor\":\"#2a3f5f\"},\"baxis\":{\"endlinecolor\":\"#2a3f5f\",\"gridcolor\":\"white\",\"linecolor\":\"white\",\"minorgridcolor\":\"white\",\"startlinecolor\":\"#2a3f5f\"},\"type\":\"carpet\"}],\"choropleth\":[{\"colorbar\":{\"outlinewidth\":0,\"ticks\":\"\"},\"type\":\"choropleth\"}],\"contour\":[{\"colorbar\":{\"outlinewidth\":0,\"ticks\":\"\"},\"colorscale\":[[0.0,\"#0d0887\"],[0.1111111111111111,\"#46039f\"],[0.2222222222222222,\"#7201a8\"],[0.3333333333333333,\"#9c179e\"],[0.4444444444444444,\"#bd3786\"],[0.5555555555555556,\"#d8576b\"],[0.6666666666666666,\"#ed7953\"],[0.7777777777777778,\"#fb9f3a\"],[0.8888888888888888,\"#fdca26\"],[1.0,\"#f0f921\"]],\"type\":\"contour\"}],\"contourcarpet\":[{\"colorbar\":{\"outlinewidth\":0,\"ticks\":\"\"},\"type\":\"contourcarpet\"}],\"heatmap\":[{\"colorbar\":{\"outlinewidth\":0,\"ticks\":\"\"},\"colorscale\":[[0.0,\"#0d0887\"],[0.1111111111111111,\"#46039f\"],[0.2222222222222222,\"#7201a8\"],[0.3333333333333333,\"#9c179e\"],[0.4444444444444444,\"#bd3786\"],[0.5555555555555556,\"#d8576b\"],[0.6666666666666666,\"#ed7953\"],[0.7777777777777778,\"#fb9f3a\"],[0.8888888888888888,\"#fdca26\"],[1.0,\"#f0f921\"]],\"type\":\"heatmap\"}],\"heatmapgl\":[{\"colorbar\":{\"outlinewidth\":0,\"ticks\":\"\"},\"colorscale\":[[0.0,\"#0d0887\"],[0.1111111111111111,\"#46039f\"],[0.2222222222222222,\"#7201a8\"],[0.3333333333333333,\"#9c179e\"],[0.4444444444444444,\"#bd3786\"],[0.5555555555555556,\"#d8576b\"],[0.6666666666666666,\"#ed7953\"],[0.7777777777777778,\"#fb9f3a\"],[0.8888888888888888,\"#fdca26\"],[1.0,\"#f0f921\"]],\"type\":\"heatmapgl\"}],\"histogram\":[{\"marker\":{\"pattern\":{\"fillmode\":\"overlay\",\"size\":10,\"solidity\":0.2}},\"type\":\"histogram\"}],\"histogram2d\":[{\"colorbar\":{\"outlinewidth\":0,\"ticks\":\"\"},\"colorscale\":[[0.0,\"#0d0887\"],[0.1111111111111111,\"#46039f\"],[0.2222222222222222,\"#7201a8\"],[0.3333333333333333,\"#9c179e\"],[0.4444444444444444,\"#bd3786\"],[0.5555555555555556,\"#d8576b\"],[0.6666666666666666,\"#ed7953\"],[0.7777777777777778,\"#fb9f3a\"],[0.8888888888888888,\"#fdca26\"],[1.0,\"#f0f921\"]],\"type\":\"histogram2d\"}],\"histogram2dcontour\":[{\"colorbar\":{\"outlinewidth\":0,\"ticks\":\"\"},\"colorscale\":[[0.0,\"#0d0887\"],[0.1111111111111111,\"#46039f\"],[0.2222222222222222,\"#7201a8\"],[0.3333333333333333,\"#9c179e\"],[0.4444444444444444,\"#bd3786\"],[0.5555555555555556,\"#d8576b\"],[0.6666666666666666,\"#ed7953\"],[0.7777777777777778,\"#fb9f3a\"],[0.8888888888888888,\"#fdca26\"],[1.0,\"#f0f921\"]],\"type\":\"histogram2dcontour\"}],\"mesh3d\":[{\"colorbar\":{\"outlinewidth\":0,\"ticks\":\"\"},\"type\":\"mesh3d\"}],\"parcoords\":[{\"line\":{\"colorbar\":{\"outlinewidth\":0,\"ticks\":\"\"}},\"type\":\"parcoords\"}],\"pie\":[{\"automargin\":true,\"type\":\"pie\"}],\"scatter\":[{\"marker\":{\"colorbar\":{\"outlinewidth\":0,\"ticks\":\"\"}},\"type\":\"scatter\"}],\"scatter3d\":[{\"line\":{\"colorbar\":{\"outlinewidth\":0,\"ticks\":\"\"}},\"marker\":{\"colorbar\":{\"outlinewidth\":0,\"ticks\":\"\"}},\"type\":\"scatter3d\"}],\"scattercarpet\":[{\"marker\":{\"colorbar\":{\"outlinewidth\":0,\"ticks\":\"\"}},\"type\":\"scattercarpet\"}],\"scattergeo\":[{\"marker\":{\"colorbar\":{\"outlinewidth\":0,\"ticks\":\"\"}},\"type\":\"scattergeo\"}],\"scattergl\":[{\"marker\":{\"colorbar\":{\"outlinewidth\":0,\"ticks\":\"\"}},\"type\":\"scattergl\"}],\"scattermapbox\":[{\"marker\":{\"colorbar\":{\"outlinewidth\":0,\"ticks\":\"\"}},\"type\":\"scattermapbox\"}],\"scatterpolar\":[{\"marker\":{\"colorbar\":{\"outlinewidth\":0,\"ticks\":\"\"}},\"type\":\"scatterpolar\"}],\"scatterpolargl\":[{\"marker\":{\"colorbar\":{\"outlinewidth\":0,\"ticks\":\"\"}},\"type\":\"scatterpolargl\"}],\"scatterternary\":[{\"marker\":{\"colorbar\":{\"outlinewidth\":0,\"ticks\":\"\"}},\"type\":\"scatterternary\"}],\"surface\":[{\"colorbar\":{\"outlinewidth\":0,\"ticks\":\"\"},\"colorscale\":[[0.0,\"#0d0887\"],[0.1111111111111111,\"#46039f\"],[0.2222222222222222,\"#7201a8\"],[0.3333333333333333,\"#9c179e\"],[0.4444444444444444,\"#bd3786\"],[0.5555555555555556,\"#d8576b\"],[0.6666666666666666,\"#ed7953\"],[0.7777777777777778,\"#fb9f3a\"],[0.8888888888888888,\"#fdca26\"],[1.0,\"#f0f921\"]],\"type\":\"surface\"}],\"table\":[{\"cells\":{\"fill\":{\"color\":\"#EBF0F8\"},\"line\":{\"color\":\"white\"}},\"header\":{\"fill\":{\"color\":\"#C8D4E3\"},\"line\":{\"color\":\"white\"}},\"type\":\"table\"}]},\"layout\":{\"annotationdefaults\":{\"arrowcolor\":\"#2a3f5f\",\"arrowhead\":0,\"arrowwidth\":1},\"autotypenumbers\":\"strict\",\"coloraxis\":{\"colorbar\":{\"outlinewidth\":0,\"ticks\":\"\"}},\"colorscale\":{\"diverging\":[[0,\"#8e0152\"],[0.1,\"#c51b7d\"],[0.2,\"#de77ae\"],[0.3,\"#f1b6da\"],[0.4,\"#fde0ef\"],[0.5,\"#f7f7f7\"],[0.6,\"#e6f5d0\"],[0.7,\"#b8e186\"],[0.8,\"#7fbc41\"],[0.9,\"#4d9221\"],[1,\"#276419\"]],\"sequential\":[[0.0,\"#0d0887\"],[0.1111111111111111,\"#46039f\"],[0.2222222222222222,\"#7201a8\"],[0.3333333333333333,\"#9c179e\"],[0.4444444444444444,\"#bd3786\"],[0.5555555555555556,\"#d8576b\"],[0.6666666666666666,\"#ed7953\"],[0.7777777777777778,\"#fb9f3a\"],[0.8888888888888888,\"#fdca26\"],[1.0,\"#f0f921\"]],\"sequentialminus\":[[0.0,\"#0d0887\"],[0.1111111111111111,\"#46039f\"],[0.2222222222222222,\"#7201a8\"],[0.3333333333333333,\"#9c179e\"],[0.4444444444444444,\"#bd3786\"],[0.5555555555555556,\"#d8576b\"],[0.6666666666666666,\"#ed7953\"],[0.7777777777777778,\"#fb9f3a\"],[0.8888888888888888,\"#fdca26\"],[1.0,\"#f0f921\"]]},\"colorway\":[\"#636efa\",\"#EF553B\",\"#00cc96\",\"#ab63fa\",\"#FFA15A\",\"#19d3f3\",\"#FF6692\",\"#B6E880\",\"#FF97FF\",\"#FECB52\"],\"font\":{\"color\":\"#2a3f5f\"},\"geo\":{\"bgcolor\":\"white\",\"lakecolor\":\"white\",\"landcolor\":\"#E5ECF6\",\"showlakes\":true,\"showland\":true,\"subunitcolor\":\"white\"},\"hoverlabel\":{\"align\":\"left\"},\"hovermode\":\"closest\",\"mapbox\":{\"style\":\"light\"},\"paper_bgcolor\":\"white\",\"plot_bgcolor\":\"#E5ECF6\",\"polar\":{\"angularaxis\":{\"gridcolor\":\"white\",\"linecolor\":\"white\",\"ticks\":\"\"},\"bgcolor\":\"#E5ECF6\",\"radialaxis\":{\"gridcolor\":\"white\",\"linecolor\":\"white\",\"ticks\":\"\"}},\"scene\":{\"xaxis\":{\"backgroundcolor\":\"#E5ECF6\",\"gridcolor\":\"white\",\"gridwidth\":2,\"linecolor\":\"white\",\"showbackground\":true,\"ticks\":\"\",\"zerolinecolor\":\"white\"},\"yaxis\":{\"backgroundcolor\":\"#E5ECF6\",\"gridcolor\":\"white\",\"gridwidth\":2,\"linecolor\":\"white\",\"showbackground\":true,\"ticks\":\"\",\"zerolinecolor\":\"white\"},\"zaxis\":{\"backgroundcolor\":\"#E5ECF6\",\"gridcolor\":\"white\",\"gridwidth\":2,\"linecolor\":\"white\",\"showbackground\":true,\"ticks\":\"\",\"zerolinecolor\":\"white\"}},\"shapedefaults\":{\"line\":{\"color\":\"#2a3f5f\"}},\"ternary\":{\"aaxis\":{\"gridcolor\":\"white\",\"linecolor\":\"white\",\"ticks\":\"\"},\"baxis\":{\"gridcolor\":\"white\",\"linecolor\":\"white\",\"ticks\":\"\"},\"bgcolor\":\"#E5ECF6\",\"caxis\":{\"gridcolor\":\"white\",\"linecolor\":\"white\",\"ticks\":\"\"}},\"title\":{\"x\":0.05},\"xaxis\":{\"automargin\":true,\"gridcolor\":\"white\",\"linecolor\":\"white\",\"ticks\":\"\",\"title\":{\"standoff\":15},\"zerolinecolor\":\"white\",\"zerolinewidth\":2},\"yaxis\":{\"automargin\":true,\"gridcolor\":\"white\",\"linecolor\":\"white\",\"ticks\":\"\",\"title\":{\"standoff\":15},\"zerolinecolor\":\"white\",\"zerolinewidth\":2}}},\"title\":{\"text\":\"Company X Emissions for 2020\"}},                        {\"responsive\": true}                    ).then(function(){\n",
       "                            \n",
       "var gd = document.getElementById('61c3253f-5b28-4370-9a69-35deabdb9e76');\n",
       "var x = new MutationObserver(function (mutations, observer) {{\n",
       "        var display = window.getComputedStyle(gd).display;\n",
       "        if (!display || display === 'none') {{\n",
       "            console.log([gd, 'removed!']);\n",
       "            Plotly.purge(gd);\n",
       "            observer.disconnect();\n",
       "        }}\n",
       "}});\n",
       "\n",
       "// Listen for the removal of the full notebook cells\n",
       "var notebookContainer = gd.closest('#notebook-container');\n",
       "if (notebookContainer) {{\n",
       "    x.observe(notebookContainer, {childList: true});\n",
       "}}\n",
       "\n",
       "// Listen for the clearing of the current output cell\n",
       "var outputEl = gd.closest('.output');\n",
       "if (outputEl) {{\n",
       "    x.observe(outputEl, {childList: true});\n",
       "}}\n",
       "\n",
       "                        })                };                });            </script>        </div>"
      ]
     },
     "metadata": {},
     "output_type": "display_data"
    }
   ],
   "source": [
    "#labels = [\"Electricity\", \"Heating\", \"Business Travel\", \"Paper\", \"Water\", \"Waste\"]\n",
    "labels = df_mock_data_all['Location']\n",
    "\n",
    "# Create subplots: use 'domain' type for Pie subplot\n",
    "fig = make_subplots(rows=1, cols=2, specs=[[{'type':'domain'}, {'type':'domain'}]])\n",
    " \n",
    "fig.add_trace(go.Pie(labels=labels,textinfo='none', values = df_mock_data_all['2020'], name=\"CO2 Emissions\"),1, 2)\n",
    "\n",
    "# Use `hole` to create a donut-like pie chart\n",
    "fig.update_traces(hole=.7, hoverinfo=\"label+percent+name\")\n",
    "fig.update_layout(\n",
    "    title_text=(\"Company X Emissions for 2020\" ), \n",
    "    # Add annotations in the center of the donut pies.\n",
    "    annotations=[dict(text='CO2', x=0.82, y=0.5, font_size=20, showarrow=False)])\n",
    "\n",
    "fig.show()"
   ]
  },
  {
   "cell_type": "markdown",
   "id": "dfc5cd16",
   "metadata": {},
   "source": [
    "# Try Plotly express."
   ]
  },
  {
   "cell_type": "code",
   "execution_count": 106,
   "id": "d8afce09",
   "metadata": {},
   "outputs": [
    {
     "data": {
      "application/vnd.plotly.v1+json": {
       "config": {
        "plotlyServerURL": "https://plot.ly"
       },
       "data": [
        {
         "customdata": [
          [
           "Dublin"
          ],
          [
           "Dublin"
          ],
          [
           "Dublin"
          ],
          [
           "Dublin"
          ],
          [
           "Dublin"
          ],
          [
           "Dublin"
          ],
          [
           "Dublin"
          ],
          [
           "Dublin"
          ],
          [
           "Dublin"
          ],
          [
           "Neu-Isenburg"
          ],
          [
           "Neu-Isenburg"
          ],
          [
           "Neu-Isenburg"
          ],
          [
           "Köln"
          ],
          [
           "Köln"
          ],
          [
           "Köln"
          ],
          [
           "Köln"
          ],
          [
           "Köln"
          ],
          [
           "Köln"
          ],
          [
           "Neu-Isenburg"
          ],
          [
           "Neu-Isenburg"
          ],
          [
           "Neu-Isenburg"
          ]
         ],
         "domain": {
          "x": [
           0,
           1
          ],
          "y": [
           0,
           1
          ]
         },
         "hole": 0.5,
         "hoverinfo": "label+percent",
         "hovertemplate": "label=%{label}<br>value=%{value}<br>color=%{customdata[0]}<extra></extra>",
         "labels": [
          "Dublin",
          "Dublin",
          "Dublin",
          "Dublin",
          "Dublin",
          "Dublin",
          "Dublin",
          "Dublin",
          "Dublin",
          "Neu-Isenburg",
          "Neu-Isenburg",
          "Neu-Isenburg",
          "Köln",
          "Köln",
          "Köln",
          "Köln",
          "Köln",
          "Köln",
          "Neu-Isenburg",
          "Neu-Isenburg",
          "Neu-Isenburg"
         ],
         "legendgroup": "",
         "marker": {
          "colors": [
           "red",
           "red",
           "red",
           "red",
           "red",
           "red",
           "red",
           "red",
           "red",
           "blue",
           "blue",
           "blue",
           "orange",
           "orange",
           "orange",
           "orange",
           "orange",
           "orange",
           "blue",
           "blue",
           "blue"
          ]
         },
         "name": "",
         "showlegend": true,
         "textfont": {
          "size": 20
         },
         "textinfo": "percent",
         "title": {
          "font": {
           "color": "darkred",
           "family": "Verdana",
           "size": 35
          }
         },
         "type": "pie",
         "values": [
          2210.9868000000006,
          626.2443000000001,
          219.1662,
          1800,
          11358,
          180,
          1800,
          11358,
          180,
          1000,
          19358,
          1180,
          21800,
          1358,
          1180,
          1518.8152007664003,
          447.7546545912001,
          75333.17684212798,
          1139.1114005748002,
          335.8159909434001,
          136959.841131596
         ]
        }
       ],
       "layout": {
        "annotations": [
         {
          "font": {
           "color": "black",
           "family": "Verdana",
           "size": 20
          },
          "showarrow": false,
          "text": "CO2",
          "x": 0.5,
          "y": 0.5
         }
        ],
        "legend": {
         "tracegroupgap": 0
        },
        "template": {
         "data": {
          "bar": [
           {
            "error_x": {
             "color": "#2a3f5f"
            },
            "error_y": {
             "color": "#2a3f5f"
            },
            "marker": {
             "line": {
              "color": "#E5ECF6",
              "width": 0.5
             },
             "pattern": {
              "fillmode": "overlay",
              "size": 10,
              "solidity": 0.2
             }
            },
            "type": "bar"
           }
          ],
          "barpolar": [
           {
            "marker": {
             "line": {
              "color": "#E5ECF6",
              "width": 0.5
             },
             "pattern": {
              "fillmode": "overlay",
              "size": 10,
              "solidity": 0.2
             }
            },
            "type": "barpolar"
           }
          ],
          "carpet": [
           {
            "aaxis": {
             "endlinecolor": "#2a3f5f",
             "gridcolor": "white",
             "linecolor": "white",
             "minorgridcolor": "white",
             "startlinecolor": "#2a3f5f"
            },
            "baxis": {
             "endlinecolor": "#2a3f5f",
             "gridcolor": "white",
             "linecolor": "white",
             "minorgridcolor": "white",
             "startlinecolor": "#2a3f5f"
            },
            "type": "carpet"
           }
          ],
          "choropleth": [
           {
            "colorbar": {
             "outlinewidth": 0,
             "ticks": ""
            },
            "type": "choropleth"
           }
          ],
          "contour": [
           {
            "colorbar": {
             "outlinewidth": 0,
             "ticks": ""
            },
            "colorscale": [
             [
              0,
              "#0d0887"
             ],
             [
              0.1111111111111111,
              "#46039f"
             ],
             [
              0.2222222222222222,
              "#7201a8"
             ],
             [
              0.3333333333333333,
              "#9c179e"
             ],
             [
              0.4444444444444444,
              "#bd3786"
             ],
             [
              0.5555555555555556,
              "#d8576b"
             ],
             [
              0.6666666666666666,
              "#ed7953"
             ],
             [
              0.7777777777777778,
              "#fb9f3a"
             ],
             [
              0.8888888888888888,
              "#fdca26"
             ],
             [
              1,
              "#f0f921"
             ]
            ],
            "type": "contour"
           }
          ],
          "contourcarpet": [
           {
            "colorbar": {
             "outlinewidth": 0,
             "ticks": ""
            },
            "type": "contourcarpet"
           }
          ],
          "heatmap": [
           {
            "colorbar": {
             "outlinewidth": 0,
             "ticks": ""
            },
            "colorscale": [
             [
              0,
              "#0d0887"
             ],
             [
              0.1111111111111111,
              "#46039f"
             ],
             [
              0.2222222222222222,
              "#7201a8"
             ],
             [
              0.3333333333333333,
              "#9c179e"
             ],
             [
              0.4444444444444444,
              "#bd3786"
             ],
             [
              0.5555555555555556,
              "#d8576b"
             ],
             [
              0.6666666666666666,
              "#ed7953"
             ],
             [
              0.7777777777777778,
              "#fb9f3a"
             ],
             [
              0.8888888888888888,
              "#fdca26"
             ],
             [
              1,
              "#f0f921"
             ]
            ],
            "type": "heatmap"
           }
          ],
          "heatmapgl": [
           {
            "colorbar": {
             "outlinewidth": 0,
             "ticks": ""
            },
            "colorscale": [
             [
              0,
              "#0d0887"
             ],
             [
              0.1111111111111111,
              "#46039f"
             ],
             [
              0.2222222222222222,
              "#7201a8"
             ],
             [
              0.3333333333333333,
              "#9c179e"
             ],
             [
              0.4444444444444444,
              "#bd3786"
             ],
             [
              0.5555555555555556,
              "#d8576b"
             ],
             [
              0.6666666666666666,
              "#ed7953"
             ],
             [
              0.7777777777777778,
              "#fb9f3a"
             ],
             [
              0.8888888888888888,
              "#fdca26"
             ],
             [
              1,
              "#f0f921"
             ]
            ],
            "type": "heatmapgl"
           }
          ],
          "histogram": [
           {
            "marker": {
             "pattern": {
              "fillmode": "overlay",
              "size": 10,
              "solidity": 0.2
             }
            },
            "type": "histogram"
           }
          ],
          "histogram2d": [
           {
            "colorbar": {
             "outlinewidth": 0,
             "ticks": ""
            },
            "colorscale": [
             [
              0,
              "#0d0887"
             ],
             [
              0.1111111111111111,
              "#46039f"
             ],
             [
              0.2222222222222222,
              "#7201a8"
             ],
             [
              0.3333333333333333,
              "#9c179e"
             ],
             [
              0.4444444444444444,
              "#bd3786"
             ],
             [
              0.5555555555555556,
              "#d8576b"
             ],
             [
              0.6666666666666666,
              "#ed7953"
             ],
             [
              0.7777777777777778,
              "#fb9f3a"
             ],
             [
              0.8888888888888888,
              "#fdca26"
             ],
             [
              1,
              "#f0f921"
             ]
            ],
            "type": "histogram2d"
           }
          ],
          "histogram2dcontour": [
           {
            "colorbar": {
             "outlinewidth": 0,
             "ticks": ""
            },
            "colorscale": [
             [
              0,
              "#0d0887"
             ],
             [
              0.1111111111111111,
              "#46039f"
             ],
             [
              0.2222222222222222,
              "#7201a8"
             ],
             [
              0.3333333333333333,
              "#9c179e"
             ],
             [
              0.4444444444444444,
              "#bd3786"
             ],
             [
              0.5555555555555556,
              "#d8576b"
             ],
             [
              0.6666666666666666,
              "#ed7953"
             ],
             [
              0.7777777777777778,
              "#fb9f3a"
             ],
             [
              0.8888888888888888,
              "#fdca26"
             ],
             [
              1,
              "#f0f921"
             ]
            ],
            "type": "histogram2dcontour"
           }
          ],
          "mesh3d": [
           {
            "colorbar": {
             "outlinewidth": 0,
             "ticks": ""
            },
            "type": "mesh3d"
           }
          ],
          "parcoords": [
           {
            "line": {
             "colorbar": {
              "outlinewidth": 0,
              "ticks": ""
             }
            },
            "type": "parcoords"
           }
          ],
          "pie": [
           {
            "automargin": true,
            "type": "pie"
           }
          ],
          "scatter": [
           {
            "marker": {
             "colorbar": {
              "outlinewidth": 0,
              "ticks": ""
             }
            },
            "type": "scatter"
           }
          ],
          "scatter3d": [
           {
            "line": {
             "colorbar": {
              "outlinewidth": 0,
              "ticks": ""
             }
            },
            "marker": {
             "colorbar": {
              "outlinewidth": 0,
              "ticks": ""
             }
            },
            "type": "scatter3d"
           }
          ],
          "scattercarpet": [
           {
            "marker": {
             "colorbar": {
              "outlinewidth": 0,
              "ticks": ""
             }
            },
            "type": "scattercarpet"
           }
          ],
          "scattergeo": [
           {
            "marker": {
             "colorbar": {
              "outlinewidth": 0,
              "ticks": ""
             }
            },
            "type": "scattergeo"
           }
          ],
          "scattergl": [
           {
            "marker": {
             "colorbar": {
              "outlinewidth": 0,
              "ticks": ""
             }
            },
            "type": "scattergl"
           }
          ],
          "scattermapbox": [
           {
            "marker": {
             "colorbar": {
              "outlinewidth": 0,
              "ticks": ""
             }
            },
            "type": "scattermapbox"
           }
          ],
          "scatterpolar": [
           {
            "marker": {
             "colorbar": {
              "outlinewidth": 0,
              "ticks": ""
             }
            },
            "type": "scatterpolar"
           }
          ],
          "scatterpolargl": [
           {
            "marker": {
             "colorbar": {
              "outlinewidth": 0,
              "ticks": ""
             }
            },
            "type": "scatterpolargl"
           }
          ],
          "scatterternary": [
           {
            "marker": {
             "colorbar": {
              "outlinewidth": 0,
              "ticks": ""
             }
            },
            "type": "scatterternary"
           }
          ],
          "surface": [
           {
            "colorbar": {
             "outlinewidth": 0,
             "ticks": ""
            },
            "colorscale": [
             [
              0,
              "#0d0887"
             ],
             [
              0.1111111111111111,
              "#46039f"
             ],
             [
              0.2222222222222222,
              "#7201a8"
             ],
             [
              0.3333333333333333,
              "#9c179e"
             ],
             [
              0.4444444444444444,
              "#bd3786"
             ],
             [
              0.5555555555555556,
              "#d8576b"
             ],
             [
              0.6666666666666666,
              "#ed7953"
             ],
             [
              0.7777777777777778,
              "#fb9f3a"
             ],
             [
              0.8888888888888888,
              "#fdca26"
             ],
             [
              1,
              "#f0f921"
             ]
            ],
            "type": "surface"
           }
          ],
          "table": [
           {
            "cells": {
             "fill": {
              "color": "#EBF0F8"
             },
             "line": {
              "color": "white"
             }
            },
            "header": {
             "fill": {
              "color": "#C8D4E3"
             },
             "line": {
              "color": "white"
             }
            },
            "type": "table"
           }
          ]
         },
         "layout": {
          "annotationdefaults": {
           "arrowcolor": "#2a3f5f",
           "arrowhead": 0,
           "arrowwidth": 1
          },
          "autotypenumbers": "strict",
          "coloraxis": {
           "colorbar": {
            "outlinewidth": 0,
            "ticks": ""
           }
          },
          "colorscale": {
           "diverging": [
            [
             0,
             "#8e0152"
            ],
            [
             0.1,
             "#c51b7d"
            ],
            [
             0.2,
             "#de77ae"
            ],
            [
             0.3,
             "#f1b6da"
            ],
            [
             0.4,
             "#fde0ef"
            ],
            [
             0.5,
             "#f7f7f7"
            ],
            [
             0.6,
             "#e6f5d0"
            ],
            [
             0.7,
             "#b8e186"
            ],
            [
             0.8,
             "#7fbc41"
            ],
            [
             0.9,
             "#4d9221"
            ],
            [
             1,
             "#276419"
            ]
           ],
           "sequential": [
            [
             0,
             "#0d0887"
            ],
            [
             0.1111111111111111,
             "#46039f"
            ],
            [
             0.2222222222222222,
             "#7201a8"
            ],
            [
             0.3333333333333333,
             "#9c179e"
            ],
            [
             0.4444444444444444,
             "#bd3786"
            ],
            [
             0.5555555555555556,
             "#d8576b"
            ],
            [
             0.6666666666666666,
             "#ed7953"
            ],
            [
             0.7777777777777778,
             "#fb9f3a"
            ],
            [
             0.8888888888888888,
             "#fdca26"
            ],
            [
             1,
             "#f0f921"
            ]
           ],
           "sequentialminus": [
            [
             0,
             "#0d0887"
            ],
            [
             0.1111111111111111,
             "#46039f"
            ],
            [
             0.2222222222222222,
             "#7201a8"
            ],
            [
             0.3333333333333333,
             "#9c179e"
            ],
            [
             0.4444444444444444,
             "#bd3786"
            ],
            [
             0.5555555555555556,
             "#d8576b"
            ],
            [
             0.6666666666666666,
             "#ed7953"
            ],
            [
             0.7777777777777778,
             "#fb9f3a"
            ],
            [
             0.8888888888888888,
             "#fdca26"
            ],
            [
             1,
             "#f0f921"
            ]
           ]
          },
          "colorway": [
           "#636efa",
           "#EF553B",
           "#00cc96",
           "#ab63fa",
           "#FFA15A",
           "#19d3f3",
           "#FF6692",
           "#B6E880",
           "#FF97FF",
           "#FECB52"
          ],
          "font": {
           "color": "#2a3f5f"
          },
          "geo": {
           "bgcolor": "white",
           "lakecolor": "white",
           "landcolor": "#E5ECF6",
           "showlakes": true,
           "showland": true,
           "subunitcolor": "white"
          },
          "hoverlabel": {
           "align": "left"
          },
          "hovermode": "closest",
          "mapbox": {
           "style": "light"
          },
          "paper_bgcolor": "white",
          "plot_bgcolor": "#E5ECF6",
          "polar": {
           "angularaxis": {
            "gridcolor": "white",
            "linecolor": "white",
            "ticks": ""
           },
           "bgcolor": "#E5ECF6",
           "radialaxis": {
            "gridcolor": "white",
            "linecolor": "white",
            "ticks": ""
           }
          },
          "scene": {
           "xaxis": {
            "backgroundcolor": "#E5ECF6",
            "gridcolor": "white",
            "gridwidth": 2,
            "linecolor": "white",
            "showbackground": true,
            "ticks": "",
            "zerolinecolor": "white"
           },
           "yaxis": {
            "backgroundcolor": "#E5ECF6",
            "gridcolor": "white",
            "gridwidth": 2,
            "linecolor": "white",
            "showbackground": true,
            "ticks": "",
            "zerolinecolor": "white"
           },
           "zaxis": {
            "backgroundcolor": "#E5ECF6",
            "gridcolor": "white",
            "gridwidth": 2,
            "linecolor": "white",
            "showbackground": true,
            "ticks": "",
            "zerolinecolor": "white"
           }
          },
          "shapedefaults": {
           "line": {
            "color": "#2a3f5f"
           }
          },
          "ternary": {
           "aaxis": {
            "gridcolor": "white",
            "linecolor": "white",
            "ticks": ""
           },
           "baxis": {
            "gridcolor": "white",
            "linecolor": "white",
            "ticks": ""
           },
           "bgcolor": "#E5ECF6",
           "caxis": {
            "gridcolor": "white",
            "linecolor": "white",
            "ticks": ""
           }
          },
          "title": {
           "x": 0.05
          },
          "xaxis": {
           "automargin": true,
           "gridcolor": "white",
           "linecolor": "white",
           "ticks": "",
           "title": {
            "standoff": 15
           },
           "zerolinecolor": "white",
           "zerolinewidth": 2
          },
          "yaxis": {
           "automargin": true,
           "gridcolor": "white",
           "linecolor": "white",
           "ticks": "",
           "title": {
            "standoff": 15
           },
           "zerolinecolor": "white",
           "zerolinewidth": 2
          }
         }
        },
        "title": {
         "text": "Company X Emissions for 2020"
        }
       }
      },
      "text/html": [
       "<div>                            <div id=\"39f0dcab-e383-4352-ad44-118ad0a7c55a\" class=\"plotly-graph-div\" style=\"height:525px; width:100%;\"></div>            <script type=\"text/javascript\">                require([\"plotly\"], function(Plotly) {                    window.PLOTLYENV=window.PLOTLYENV || {};                                    if (document.getElementById(\"39f0dcab-e383-4352-ad44-118ad0a7c55a\")) {                    Plotly.newPlot(                        \"39f0dcab-e383-4352-ad44-118ad0a7c55a\",                        [{\"customdata\":[[\"Dublin\"],[\"Dublin\"],[\"Dublin\"],[\"Dublin\"],[\"Dublin\"],[\"Dublin\"],[\"Dublin\"],[\"Dublin\"],[\"Dublin\"],[\"Neu-Isenburg\"],[\"Neu-Isenburg\"],[\"Neu-Isenburg\"],[\"K\\u00f6ln\"],[\"K\\u00f6ln\"],[\"K\\u00f6ln\"],[\"K\\u00f6ln\"],[\"K\\u00f6ln\"],[\"K\\u00f6ln\"],[\"Neu-Isenburg\"],[\"Neu-Isenburg\"],[\"Neu-Isenburg\"]],\"domain\":{\"x\":[0.0,1.0],\"y\":[0.0,1.0]},\"hole\":0.5,\"hoverinfo\":\"label+percent\",\"hovertemplate\":\"label=%{label}<br>value=%{value}<br>color=%{customdata[0]}<extra></extra>\",\"labels\":[\"Dublin\",\"Dublin\",\"Dublin\",\"Dublin\",\"Dublin\",\"Dublin\",\"Dublin\",\"Dublin\",\"Dublin\",\"Neu-Isenburg\",\"Neu-Isenburg\",\"Neu-Isenburg\",\"K\\u00f6ln\",\"K\\u00f6ln\",\"K\\u00f6ln\",\"K\\u00f6ln\",\"K\\u00f6ln\",\"K\\u00f6ln\",\"Neu-Isenburg\",\"Neu-Isenburg\",\"Neu-Isenburg\"],\"legendgroup\":\"\",\"marker\":{\"colors\":[\"red\",\"red\",\"red\",\"red\",\"red\",\"red\",\"red\",\"red\",\"red\",\"blue\",\"blue\",\"blue\",\"orange\",\"orange\",\"orange\",\"orange\",\"orange\",\"orange\",\"blue\",\"blue\",\"blue\"]},\"name\":\"\",\"showlegend\":true,\"textfont\":{\"size\":20},\"textinfo\":\"percent\",\"title\":{\"font\":{\"color\":\"darkred\",\"family\":\"Verdana\",\"size\":35}},\"type\":\"pie\",\"values\":[2210.9868000000006,626.2443000000001,219.1662,1800.0,11358.0,180.0,1800.0,11358.0,180.0,1000.0,19358.0,1180.0,21800.0,1358.0,1180.0,1518.8152007664003,447.7546545912001,75333.17684212798,1139.1114005748002,335.8159909434001,136959.841131596]}],                        {\"annotations\":[{\"font\":{\"color\":\"black\",\"family\":\"Verdana\",\"size\":20},\"showarrow\":false,\"text\":\"CO2\",\"x\":0.5,\"y\":0.5}],\"legend\":{\"tracegroupgap\":0},\"template\":{\"data\":{\"bar\":[{\"error_x\":{\"color\":\"#2a3f5f\"},\"error_y\":{\"color\":\"#2a3f5f\"},\"marker\":{\"line\":{\"color\":\"#E5ECF6\",\"width\":0.5},\"pattern\":{\"fillmode\":\"overlay\",\"size\":10,\"solidity\":0.2}},\"type\":\"bar\"}],\"barpolar\":[{\"marker\":{\"line\":{\"color\":\"#E5ECF6\",\"width\":0.5},\"pattern\":{\"fillmode\":\"overlay\",\"size\":10,\"solidity\":0.2}},\"type\":\"barpolar\"}],\"carpet\":[{\"aaxis\":{\"endlinecolor\":\"#2a3f5f\",\"gridcolor\":\"white\",\"linecolor\":\"white\",\"minorgridcolor\":\"white\",\"startlinecolor\":\"#2a3f5f\"},\"baxis\":{\"endlinecolor\":\"#2a3f5f\",\"gridcolor\":\"white\",\"linecolor\":\"white\",\"minorgridcolor\":\"white\",\"startlinecolor\":\"#2a3f5f\"},\"type\":\"carpet\"}],\"choropleth\":[{\"colorbar\":{\"outlinewidth\":0,\"ticks\":\"\"},\"type\":\"choropleth\"}],\"contour\":[{\"colorbar\":{\"outlinewidth\":0,\"ticks\":\"\"},\"colorscale\":[[0.0,\"#0d0887\"],[0.1111111111111111,\"#46039f\"],[0.2222222222222222,\"#7201a8\"],[0.3333333333333333,\"#9c179e\"],[0.4444444444444444,\"#bd3786\"],[0.5555555555555556,\"#d8576b\"],[0.6666666666666666,\"#ed7953\"],[0.7777777777777778,\"#fb9f3a\"],[0.8888888888888888,\"#fdca26\"],[1.0,\"#f0f921\"]],\"type\":\"contour\"}],\"contourcarpet\":[{\"colorbar\":{\"outlinewidth\":0,\"ticks\":\"\"},\"type\":\"contourcarpet\"}],\"heatmap\":[{\"colorbar\":{\"outlinewidth\":0,\"ticks\":\"\"},\"colorscale\":[[0.0,\"#0d0887\"],[0.1111111111111111,\"#46039f\"],[0.2222222222222222,\"#7201a8\"],[0.3333333333333333,\"#9c179e\"],[0.4444444444444444,\"#bd3786\"],[0.5555555555555556,\"#d8576b\"],[0.6666666666666666,\"#ed7953\"],[0.7777777777777778,\"#fb9f3a\"],[0.8888888888888888,\"#fdca26\"],[1.0,\"#f0f921\"]],\"type\":\"heatmap\"}],\"heatmapgl\":[{\"colorbar\":{\"outlinewidth\":0,\"ticks\":\"\"},\"colorscale\":[[0.0,\"#0d0887\"],[0.1111111111111111,\"#46039f\"],[0.2222222222222222,\"#7201a8\"],[0.3333333333333333,\"#9c179e\"],[0.4444444444444444,\"#bd3786\"],[0.5555555555555556,\"#d8576b\"],[0.6666666666666666,\"#ed7953\"],[0.7777777777777778,\"#fb9f3a\"],[0.8888888888888888,\"#fdca26\"],[1.0,\"#f0f921\"]],\"type\":\"heatmapgl\"}],\"histogram\":[{\"marker\":{\"pattern\":{\"fillmode\":\"overlay\",\"size\":10,\"solidity\":0.2}},\"type\":\"histogram\"}],\"histogram2d\":[{\"colorbar\":{\"outlinewidth\":0,\"ticks\":\"\"},\"colorscale\":[[0.0,\"#0d0887\"],[0.1111111111111111,\"#46039f\"],[0.2222222222222222,\"#7201a8\"],[0.3333333333333333,\"#9c179e\"],[0.4444444444444444,\"#bd3786\"],[0.5555555555555556,\"#d8576b\"],[0.6666666666666666,\"#ed7953\"],[0.7777777777777778,\"#fb9f3a\"],[0.8888888888888888,\"#fdca26\"],[1.0,\"#f0f921\"]],\"type\":\"histogram2d\"}],\"histogram2dcontour\":[{\"colorbar\":{\"outlinewidth\":0,\"ticks\":\"\"},\"colorscale\":[[0.0,\"#0d0887\"],[0.1111111111111111,\"#46039f\"],[0.2222222222222222,\"#7201a8\"],[0.3333333333333333,\"#9c179e\"],[0.4444444444444444,\"#bd3786\"],[0.5555555555555556,\"#d8576b\"],[0.6666666666666666,\"#ed7953\"],[0.7777777777777778,\"#fb9f3a\"],[0.8888888888888888,\"#fdca26\"],[1.0,\"#f0f921\"]],\"type\":\"histogram2dcontour\"}],\"mesh3d\":[{\"colorbar\":{\"outlinewidth\":0,\"ticks\":\"\"},\"type\":\"mesh3d\"}],\"parcoords\":[{\"line\":{\"colorbar\":{\"outlinewidth\":0,\"ticks\":\"\"}},\"type\":\"parcoords\"}],\"pie\":[{\"automargin\":true,\"type\":\"pie\"}],\"scatter\":[{\"marker\":{\"colorbar\":{\"outlinewidth\":0,\"ticks\":\"\"}},\"type\":\"scatter\"}],\"scatter3d\":[{\"line\":{\"colorbar\":{\"outlinewidth\":0,\"ticks\":\"\"}},\"marker\":{\"colorbar\":{\"outlinewidth\":0,\"ticks\":\"\"}},\"type\":\"scatter3d\"}],\"scattercarpet\":[{\"marker\":{\"colorbar\":{\"outlinewidth\":0,\"ticks\":\"\"}},\"type\":\"scattercarpet\"}],\"scattergeo\":[{\"marker\":{\"colorbar\":{\"outlinewidth\":0,\"ticks\":\"\"}},\"type\":\"scattergeo\"}],\"scattergl\":[{\"marker\":{\"colorbar\":{\"outlinewidth\":0,\"ticks\":\"\"}},\"type\":\"scattergl\"}],\"scattermapbox\":[{\"marker\":{\"colorbar\":{\"outlinewidth\":0,\"ticks\":\"\"}},\"type\":\"scattermapbox\"}],\"scatterpolar\":[{\"marker\":{\"colorbar\":{\"outlinewidth\":0,\"ticks\":\"\"}},\"type\":\"scatterpolar\"}],\"scatterpolargl\":[{\"marker\":{\"colorbar\":{\"outlinewidth\":0,\"ticks\":\"\"}},\"type\":\"scatterpolargl\"}],\"scatterternary\":[{\"marker\":{\"colorbar\":{\"outlinewidth\":0,\"ticks\":\"\"}},\"type\":\"scatterternary\"}],\"surface\":[{\"colorbar\":{\"outlinewidth\":0,\"ticks\":\"\"},\"colorscale\":[[0.0,\"#0d0887\"],[0.1111111111111111,\"#46039f\"],[0.2222222222222222,\"#7201a8\"],[0.3333333333333333,\"#9c179e\"],[0.4444444444444444,\"#bd3786\"],[0.5555555555555556,\"#d8576b\"],[0.6666666666666666,\"#ed7953\"],[0.7777777777777778,\"#fb9f3a\"],[0.8888888888888888,\"#fdca26\"],[1.0,\"#f0f921\"]],\"type\":\"surface\"}],\"table\":[{\"cells\":{\"fill\":{\"color\":\"#EBF0F8\"},\"line\":{\"color\":\"white\"}},\"header\":{\"fill\":{\"color\":\"#C8D4E3\"},\"line\":{\"color\":\"white\"}},\"type\":\"table\"}]},\"layout\":{\"annotationdefaults\":{\"arrowcolor\":\"#2a3f5f\",\"arrowhead\":0,\"arrowwidth\":1},\"autotypenumbers\":\"strict\",\"coloraxis\":{\"colorbar\":{\"outlinewidth\":0,\"ticks\":\"\"}},\"colorscale\":{\"diverging\":[[0,\"#8e0152\"],[0.1,\"#c51b7d\"],[0.2,\"#de77ae\"],[0.3,\"#f1b6da\"],[0.4,\"#fde0ef\"],[0.5,\"#f7f7f7\"],[0.6,\"#e6f5d0\"],[0.7,\"#b8e186\"],[0.8,\"#7fbc41\"],[0.9,\"#4d9221\"],[1,\"#276419\"]],\"sequential\":[[0.0,\"#0d0887\"],[0.1111111111111111,\"#46039f\"],[0.2222222222222222,\"#7201a8\"],[0.3333333333333333,\"#9c179e\"],[0.4444444444444444,\"#bd3786\"],[0.5555555555555556,\"#d8576b\"],[0.6666666666666666,\"#ed7953\"],[0.7777777777777778,\"#fb9f3a\"],[0.8888888888888888,\"#fdca26\"],[1.0,\"#f0f921\"]],\"sequentialminus\":[[0.0,\"#0d0887\"],[0.1111111111111111,\"#46039f\"],[0.2222222222222222,\"#7201a8\"],[0.3333333333333333,\"#9c179e\"],[0.4444444444444444,\"#bd3786\"],[0.5555555555555556,\"#d8576b\"],[0.6666666666666666,\"#ed7953\"],[0.7777777777777778,\"#fb9f3a\"],[0.8888888888888888,\"#fdca26\"],[1.0,\"#f0f921\"]]},\"colorway\":[\"#636efa\",\"#EF553B\",\"#00cc96\",\"#ab63fa\",\"#FFA15A\",\"#19d3f3\",\"#FF6692\",\"#B6E880\",\"#FF97FF\",\"#FECB52\"],\"font\":{\"color\":\"#2a3f5f\"},\"geo\":{\"bgcolor\":\"white\",\"lakecolor\":\"white\",\"landcolor\":\"#E5ECF6\",\"showlakes\":true,\"showland\":true,\"subunitcolor\":\"white\"},\"hoverlabel\":{\"align\":\"left\"},\"hovermode\":\"closest\",\"mapbox\":{\"style\":\"light\"},\"paper_bgcolor\":\"white\",\"plot_bgcolor\":\"#E5ECF6\",\"polar\":{\"angularaxis\":{\"gridcolor\":\"white\",\"linecolor\":\"white\",\"ticks\":\"\"},\"bgcolor\":\"#E5ECF6\",\"radialaxis\":{\"gridcolor\":\"white\",\"linecolor\":\"white\",\"ticks\":\"\"}},\"scene\":{\"xaxis\":{\"backgroundcolor\":\"#E5ECF6\",\"gridcolor\":\"white\",\"gridwidth\":2,\"linecolor\":\"white\",\"showbackground\":true,\"ticks\":\"\",\"zerolinecolor\":\"white\"},\"yaxis\":{\"backgroundcolor\":\"#E5ECF6\",\"gridcolor\":\"white\",\"gridwidth\":2,\"linecolor\":\"white\",\"showbackground\":true,\"ticks\":\"\",\"zerolinecolor\":\"white\"},\"zaxis\":{\"backgroundcolor\":\"#E5ECF6\",\"gridcolor\":\"white\",\"gridwidth\":2,\"linecolor\":\"white\",\"showbackground\":true,\"ticks\":\"\",\"zerolinecolor\":\"white\"}},\"shapedefaults\":{\"line\":{\"color\":\"#2a3f5f\"}},\"ternary\":{\"aaxis\":{\"gridcolor\":\"white\",\"linecolor\":\"white\",\"ticks\":\"\"},\"baxis\":{\"gridcolor\":\"white\",\"linecolor\":\"white\",\"ticks\":\"\"},\"bgcolor\":\"#E5ECF6\",\"caxis\":{\"gridcolor\":\"white\",\"linecolor\":\"white\",\"ticks\":\"\"}},\"title\":{\"x\":0.05},\"xaxis\":{\"automargin\":true,\"gridcolor\":\"white\",\"linecolor\":\"white\",\"ticks\":\"\",\"title\":{\"standoff\":15},\"zerolinecolor\":\"white\",\"zerolinewidth\":2},\"yaxis\":{\"automargin\":true,\"gridcolor\":\"white\",\"linecolor\":\"white\",\"ticks\":\"\",\"title\":{\"standoff\":15},\"zerolinecolor\":\"white\",\"zerolinewidth\":2}}},\"title\":{\"text\":\"Company X Emissions for 2020\"}},                        {\"responsive\": true}                    ).then(function(){\n",
       "                            \n",
       "var gd = document.getElementById('39f0dcab-e383-4352-ad44-118ad0a7c55a');\n",
       "var x = new MutationObserver(function (mutations, observer) {{\n",
       "        var display = window.getComputedStyle(gd).display;\n",
       "        if (!display || display === 'none') {{\n",
       "            console.log([gd, 'removed!']);\n",
       "            Plotly.purge(gd);\n",
       "            observer.disconnect();\n",
       "        }}\n",
       "}});\n",
       "\n",
       "// Listen for the removal of the full notebook cells\n",
       "var notebookContainer = gd.closest('#notebook-container');\n",
       "if (notebookContainer) {{\n",
       "    x.observe(notebookContainer, {childList: true});\n",
       "}}\n",
       "\n",
       "// Listen for the clearing of the current output cell\n",
       "var outputEl = gd.closest('.output');\n",
       "if (outputEl) {{\n",
       "    x.observe(outputEl, {childList: true});\n",
       "}}\n",
       "\n",
       "                        })                };                });            </script>        </div>"
      ]
     },
     "metadata": {},
     "output_type": "display_data"
    }
   ],
   "source": [
    "labels = df_mock_data_all['Location']\n",
    "values = df_mock_data_all['2020']\n",
    "\n",
    "fig4 = px.pie(labels, values = values, hole = 0.5,\n",
    "              names = labels, color = labels,\n",
    "              title = 'Company X Emissions for 2020',\n",
    "              color_discrete_map = {'Neu-Isenburg':'blue', \n",
    "                                    'Dublin': 'red',\n",
    "                                    'Köln':'orange'\n",
    "             })\n",
    "fig4.update_traces(\n",
    "                   title_font = dict(size=35,family='Verdana', \n",
    "                                     color='darkred'),\n",
    "                   hoverinfo='label+percent',\n",
    "                   textinfo='percent', textfont_size=20)\n",
    "fig4.add_annotation(x= 0.5, y = 0.5,\n",
    "                    text = 'CO2',\n",
    "                    font = dict(size=20,family='Verdana', \n",
    "                                color='black'),\n",
    "                    showarrow = False)\n",
    "\n",
    "fig4.update_traces(hoverinfo='label+percent',textinfo='percent', textfont_size=20)\n",
    "\n",
    "fig4.show()"
   ]
  },
  {
   "cell_type": "markdown",
   "id": "42f65a32",
   "metadata": {},
   "source": [
    "# Add percentage to the sectors and decrease the font size."
   ]
  },
  {
   "cell_type": "code",
   "execution_count": 107,
   "id": "e5832bb4",
   "metadata": {
    "scrolled": true
   },
   "outputs": [
    {
     "data": {
      "application/vnd.plotly.v1+json": {
       "config": {
        "plotlyServerURL": "https://plot.ly"
       },
       "data": [
        {
         "customdata": [
          [
           "Dublin"
          ],
          [
           "Dublin"
          ],
          [
           "Dublin"
          ],
          [
           "Dublin"
          ],
          [
           "Dublin"
          ],
          [
           "Dublin"
          ],
          [
           "Dublin"
          ],
          [
           "Dublin"
          ],
          [
           "Dublin"
          ],
          [
           "Neu-Isenburg"
          ],
          [
           "Neu-Isenburg"
          ],
          [
           "Neu-Isenburg"
          ],
          [
           "Köln"
          ],
          [
           "Köln"
          ],
          [
           "Köln"
          ],
          [
           "Köln"
          ],
          [
           "Köln"
          ],
          [
           "Köln"
          ],
          [
           "Neu-Isenburg"
          ],
          [
           "Neu-Isenburg"
          ],
          [
           "Neu-Isenburg"
          ]
         ],
         "domain": {
          "x": [
           0,
           1
          ],
          "y": [
           0,
           1
          ]
         },
         "hole": 0.5,
         "hoverinfo": "label+percent",
         "hovertemplate": "label=%{label}<br>value=%{value}<br>color=%{customdata[0]}<extra></extra>",
         "labels": [
          "Dublin",
          "Dublin",
          "Dublin",
          "Dublin",
          "Dublin",
          "Dublin",
          "Dublin",
          "Dublin",
          "Dublin",
          "Neu-Isenburg",
          "Neu-Isenburg",
          "Neu-Isenburg",
          "Köln",
          "Köln",
          "Köln",
          "Köln",
          "Köln",
          "Köln",
          "Neu-Isenburg",
          "Neu-Isenburg",
          "Neu-Isenburg"
         ],
         "legendgroup": "",
         "marker": {
          "colors": [
           "red",
           "red",
           "red",
           "red",
           "red",
           "red",
           "red",
           "red",
           "red",
           "blue",
           "blue",
           "blue",
           "orange",
           "orange",
           "orange",
           "orange",
           "orange",
           "orange",
           "blue",
           "blue",
           "blue"
          ]
         },
         "name": "",
         "showlegend": true,
         "textfont": {
          "size": 15
         },
         "textinfo": "percent",
         "title": {
          "font": {
           "color": "darkred",
           "family": "Verdana",
           "size": 35
          }
         },
         "type": "pie",
         "values": [
          2210.9868000000006,
          626.2443000000001,
          219.1662,
          1800,
          11358,
          180,
          1800,
          11358,
          180,
          1000,
          19358,
          1180,
          21800,
          1358,
          1180,
          1518.8152007664003,
          447.7546545912001,
          75333.17684212798,
          1139.1114005748002,
          335.8159909434001,
          136959.841131596
         ]
        }
       ],
       "layout": {
        "annotations": [
         {
          "font": {
           "color": "black",
           "family": "Verdana",
           "size": 20
          },
          "showarrow": false,
          "text": "CO2",
          "x": 0.5,
          "y": 0.5
         }
        ],
        "legend": {
         "tracegroupgap": 0
        },
        "template": {
         "data": {
          "bar": [
           {
            "error_x": {
             "color": "#2a3f5f"
            },
            "error_y": {
             "color": "#2a3f5f"
            },
            "marker": {
             "line": {
              "color": "#E5ECF6",
              "width": 0.5
             },
             "pattern": {
              "fillmode": "overlay",
              "size": 10,
              "solidity": 0.2
             }
            },
            "type": "bar"
           }
          ],
          "barpolar": [
           {
            "marker": {
             "line": {
              "color": "#E5ECF6",
              "width": 0.5
             },
             "pattern": {
              "fillmode": "overlay",
              "size": 10,
              "solidity": 0.2
             }
            },
            "type": "barpolar"
           }
          ],
          "carpet": [
           {
            "aaxis": {
             "endlinecolor": "#2a3f5f",
             "gridcolor": "white",
             "linecolor": "white",
             "minorgridcolor": "white",
             "startlinecolor": "#2a3f5f"
            },
            "baxis": {
             "endlinecolor": "#2a3f5f",
             "gridcolor": "white",
             "linecolor": "white",
             "minorgridcolor": "white",
             "startlinecolor": "#2a3f5f"
            },
            "type": "carpet"
           }
          ],
          "choropleth": [
           {
            "colorbar": {
             "outlinewidth": 0,
             "ticks": ""
            },
            "type": "choropleth"
           }
          ],
          "contour": [
           {
            "colorbar": {
             "outlinewidth": 0,
             "ticks": ""
            },
            "colorscale": [
             [
              0,
              "#0d0887"
             ],
             [
              0.1111111111111111,
              "#46039f"
             ],
             [
              0.2222222222222222,
              "#7201a8"
             ],
             [
              0.3333333333333333,
              "#9c179e"
             ],
             [
              0.4444444444444444,
              "#bd3786"
             ],
             [
              0.5555555555555556,
              "#d8576b"
             ],
             [
              0.6666666666666666,
              "#ed7953"
             ],
             [
              0.7777777777777778,
              "#fb9f3a"
             ],
             [
              0.8888888888888888,
              "#fdca26"
             ],
             [
              1,
              "#f0f921"
             ]
            ],
            "type": "contour"
           }
          ],
          "contourcarpet": [
           {
            "colorbar": {
             "outlinewidth": 0,
             "ticks": ""
            },
            "type": "contourcarpet"
           }
          ],
          "heatmap": [
           {
            "colorbar": {
             "outlinewidth": 0,
             "ticks": ""
            },
            "colorscale": [
             [
              0,
              "#0d0887"
             ],
             [
              0.1111111111111111,
              "#46039f"
             ],
             [
              0.2222222222222222,
              "#7201a8"
             ],
             [
              0.3333333333333333,
              "#9c179e"
             ],
             [
              0.4444444444444444,
              "#bd3786"
             ],
             [
              0.5555555555555556,
              "#d8576b"
             ],
             [
              0.6666666666666666,
              "#ed7953"
             ],
             [
              0.7777777777777778,
              "#fb9f3a"
             ],
             [
              0.8888888888888888,
              "#fdca26"
             ],
             [
              1,
              "#f0f921"
             ]
            ],
            "type": "heatmap"
           }
          ],
          "heatmapgl": [
           {
            "colorbar": {
             "outlinewidth": 0,
             "ticks": ""
            },
            "colorscale": [
             [
              0,
              "#0d0887"
             ],
             [
              0.1111111111111111,
              "#46039f"
             ],
             [
              0.2222222222222222,
              "#7201a8"
             ],
             [
              0.3333333333333333,
              "#9c179e"
             ],
             [
              0.4444444444444444,
              "#bd3786"
             ],
             [
              0.5555555555555556,
              "#d8576b"
             ],
             [
              0.6666666666666666,
              "#ed7953"
             ],
             [
              0.7777777777777778,
              "#fb9f3a"
             ],
             [
              0.8888888888888888,
              "#fdca26"
             ],
             [
              1,
              "#f0f921"
             ]
            ],
            "type": "heatmapgl"
           }
          ],
          "histogram": [
           {
            "marker": {
             "pattern": {
              "fillmode": "overlay",
              "size": 10,
              "solidity": 0.2
             }
            },
            "type": "histogram"
           }
          ],
          "histogram2d": [
           {
            "colorbar": {
             "outlinewidth": 0,
             "ticks": ""
            },
            "colorscale": [
             [
              0,
              "#0d0887"
             ],
             [
              0.1111111111111111,
              "#46039f"
             ],
             [
              0.2222222222222222,
              "#7201a8"
             ],
             [
              0.3333333333333333,
              "#9c179e"
             ],
             [
              0.4444444444444444,
              "#bd3786"
             ],
             [
              0.5555555555555556,
              "#d8576b"
             ],
             [
              0.6666666666666666,
              "#ed7953"
             ],
             [
              0.7777777777777778,
              "#fb9f3a"
             ],
             [
              0.8888888888888888,
              "#fdca26"
             ],
             [
              1,
              "#f0f921"
             ]
            ],
            "type": "histogram2d"
           }
          ],
          "histogram2dcontour": [
           {
            "colorbar": {
             "outlinewidth": 0,
             "ticks": ""
            },
            "colorscale": [
             [
              0,
              "#0d0887"
             ],
             [
              0.1111111111111111,
              "#46039f"
             ],
             [
              0.2222222222222222,
              "#7201a8"
             ],
             [
              0.3333333333333333,
              "#9c179e"
             ],
             [
              0.4444444444444444,
              "#bd3786"
             ],
             [
              0.5555555555555556,
              "#d8576b"
             ],
             [
              0.6666666666666666,
              "#ed7953"
             ],
             [
              0.7777777777777778,
              "#fb9f3a"
             ],
             [
              0.8888888888888888,
              "#fdca26"
             ],
             [
              1,
              "#f0f921"
             ]
            ],
            "type": "histogram2dcontour"
           }
          ],
          "mesh3d": [
           {
            "colorbar": {
             "outlinewidth": 0,
             "ticks": ""
            },
            "type": "mesh3d"
           }
          ],
          "parcoords": [
           {
            "line": {
             "colorbar": {
              "outlinewidth": 0,
              "ticks": ""
             }
            },
            "type": "parcoords"
           }
          ],
          "pie": [
           {
            "automargin": true,
            "type": "pie"
           }
          ],
          "scatter": [
           {
            "marker": {
             "colorbar": {
              "outlinewidth": 0,
              "ticks": ""
             }
            },
            "type": "scatter"
           }
          ],
          "scatter3d": [
           {
            "line": {
             "colorbar": {
              "outlinewidth": 0,
              "ticks": ""
             }
            },
            "marker": {
             "colorbar": {
              "outlinewidth": 0,
              "ticks": ""
             }
            },
            "type": "scatter3d"
           }
          ],
          "scattercarpet": [
           {
            "marker": {
             "colorbar": {
              "outlinewidth": 0,
              "ticks": ""
             }
            },
            "type": "scattercarpet"
           }
          ],
          "scattergeo": [
           {
            "marker": {
             "colorbar": {
              "outlinewidth": 0,
              "ticks": ""
             }
            },
            "type": "scattergeo"
           }
          ],
          "scattergl": [
           {
            "marker": {
             "colorbar": {
              "outlinewidth": 0,
              "ticks": ""
             }
            },
            "type": "scattergl"
           }
          ],
          "scattermapbox": [
           {
            "marker": {
             "colorbar": {
              "outlinewidth": 0,
              "ticks": ""
             }
            },
            "type": "scattermapbox"
           }
          ],
          "scatterpolar": [
           {
            "marker": {
             "colorbar": {
              "outlinewidth": 0,
              "ticks": ""
             }
            },
            "type": "scatterpolar"
           }
          ],
          "scatterpolargl": [
           {
            "marker": {
             "colorbar": {
              "outlinewidth": 0,
              "ticks": ""
             }
            },
            "type": "scatterpolargl"
           }
          ],
          "scatterternary": [
           {
            "marker": {
             "colorbar": {
              "outlinewidth": 0,
              "ticks": ""
             }
            },
            "type": "scatterternary"
           }
          ],
          "surface": [
           {
            "colorbar": {
             "outlinewidth": 0,
             "ticks": ""
            },
            "colorscale": [
             [
              0,
              "#0d0887"
             ],
             [
              0.1111111111111111,
              "#46039f"
             ],
             [
              0.2222222222222222,
              "#7201a8"
             ],
             [
              0.3333333333333333,
              "#9c179e"
             ],
             [
              0.4444444444444444,
              "#bd3786"
             ],
             [
              0.5555555555555556,
              "#d8576b"
             ],
             [
              0.6666666666666666,
              "#ed7953"
             ],
             [
              0.7777777777777778,
              "#fb9f3a"
             ],
             [
              0.8888888888888888,
              "#fdca26"
             ],
             [
              1,
              "#f0f921"
             ]
            ],
            "type": "surface"
           }
          ],
          "table": [
           {
            "cells": {
             "fill": {
              "color": "#EBF0F8"
             },
             "line": {
              "color": "white"
             }
            },
            "header": {
             "fill": {
              "color": "#C8D4E3"
             },
             "line": {
              "color": "white"
             }
            },
            "type": "table"
           }
          ]
         },
         "layout": {
          "annotationdefaults": {
           "arrowcolor": "#2a3f5f",
           "arrowhead": 0,
           "arrowwidth": 1
          },
          "autotypenumbers": "strict",
          "coloraxis": {
           "colorbar": {
            "outlinewidth": 0,
            "ticks": ""
           }
          },
          "colorscale": {
           "diverging": [
            [
             0,
             "#8e0152"
            ],
            [
             0.1,
             "#c51b7d"
            ],
            [
             0.2,
             "#de77ae"
            ],
            [
             0.3,
             "#f1b6da"
            ],
            [
             0.4,
             "#fde0ef"
            ],
            [
             0.5,
             "#f7f7f7"
            ],
            [
             0.6,
             "#e6f5d0"
            ],
            [
             0.7,
             "#b8e186"
            ],
            [
             0.8,
             "#7fbc41"
            ],
            [
             0.9,
             "#4d9221"
            ],
            [
             1,
             "#276419"
            ]
           ],
           "sequential": [
            [
             0,
             "#0d0887"
            ],
            [
             0.1111111111111111,
             "#46039f"
            ],
            [
             0.2222222222222222,
             "#7201a8"
            ],
            [
             0.3333333333333333,
             "#9c179e"
            ],
            [
             0.4444444444444444,
             "#bd3786"
            ],
            [
             0.5555555555555556,
             "#d8576b"
            ],
            [
             0.6666666666666666,
             "#ed7953"
            ],
            [
             0.7777777777777778,
             "#fb9f3a"
            ],
            [
             0.8888888888888888,
             "#fdca26"
            ],
            [
             1,
             "#f0f921"
            ]
           ],
           "sequentialminus": [
            [
             0,
             "#0d0887"
            ],
            [
             0.1111111111111111,
             "#46039f"
            ],
            [
             0.2222222222222222,
             "#7201a8"
            ],
            [
             0.3333333333333333,
             "#9c179e"
            ],
            [
             0.4444444444444444,
             "#bd3786"
            ],
            [
             0.5555555555555556,
             "#d8576b"
            ],
            [
             0.6666666666666666,
             "#ed7953"
            ],
            [
             0.7777777777777778,
             "#fb9f3a"
            ],
            [
             0.8888888888888888,
             "#fdca26"
            ],
            [
             1,
             "#f0f921"
            ]
           ]
          },
          "colorway": [
           "#636efa",
           "#EF553B",
           "#00cc96",
           "#ab63fa",
           "#FFA15A",
           "#19d3f3",
           "#FF6692",
           "#B6E880",
           "#FF97FF",
           "#FECB52"
          ],
          "font": {
           "color": "#2a3f5f"
          },
          "geo": {
           "bgcolor": "white",
           "lakecolor": "white",
           "landcolor": "#E5ECF6",
           "showlakes": true,
           "showland": true,
           "subunitcolor": "white"
          },
          "hoverlabel": {
           "align": "left"
          },
          "hovermode": "closest",
          "mapbox": {
           "style": "light"
          },
          "paper_bgcolor": "white",
          "plot_bgcolor": "#E5ECF6",
          "polar": {
           "angularaxis": {
            "gridcolor": "white",
            "linecolor": "white",
            "ticks": ""
           },
           "bgcolor": "#E5ECF6",
           "radialaxis": {
            "gridcolor": "white",
            "linecolor": "white",
            "ticks": ""
           }
          },
          "scene": {
           "xaxis": {
            "backgroundcolor": "#E5ECF6",
            "gridcolor": "white",
            "gridwidth": 2,
            "linecolor": "white",
            "showbackground": true,
            "ticks": "",
            "zerolinecolor": "white"
           },
           "yaxis": {
            "backgroundcolor": "#E5ECF6",
            "gridcolor": "white",
            "gridwidth": 2,
            "linecolor": "white",
            "showbackground": true,
            "ticks": "",
            "zerolinecolor": "white"
           },
           "zaxis": {
            "backgroundcolor": "#E5ECF6",
            "gridcolor": "white",
            "gridwidth": 2,
            "linecolor": "white",
            "showbackground": true,
            "ticks": "",
            "zerolinecolor": "white"
           }
          },
          "shapedefaults": {
           "line": {
            "color": "#2a3f5f"
           }
          },
          "ternary": {
           "aaxis": {
            "gridcolor": "white",
            "linecolor": "white",
            "ticks": ""
           },
           "baxis": {
            "gridcolor": "white",
            "linecolor": "white",
            "ticks": ""
           },
           "bgcolor": "#E5ECF6",
           "caxis": {
            "gridcolor": "white",
            "linecolor": "white",
            "ticks": ""
           }
          },
          "title": {
           "x": 0.05
          },
          "xaxis": {
           "automargin": true,
           "gridcolor": "white",
           "linecolor": "white",
           "ticks": "",
           "title": {
            "standoff": 15
           },
           "zerolinecolor": "white",
           "zerolinewidth": 2
          },
          "yaxis": {
           "automargin": true,
           "gridcolor": "white",
           "linecolor": "white",
           "ticks": "",
           "title": {
            "standoff": 15
           },
           "zerolinecolor": "white",
           "zerolinewidth": 2
          }
         }
        },
        "title": {
         "text": "Company X Emissions for 2020"
        }
       }
      },
      "text/html": [
       "<div>                            <div id=\"91569193-b24d-49d0-bb80-ed26e67625bd\" class=\"plotly-graph-div\" style=\"height:525px; width:100%;\"></div>            <script type=\"text/javascript\">                require([\"plotly\"], function(Plotly) {                    window.PLOTLYENV=window.PLOTLYENV || {};                                    if (document.getElementById(\"91569193-b24d-49d0-bb80-ed26e67625bd\")) {                    Plotly.newPlot(                        \"91569193-b24d-49d0-bb80-ed26e67625bd\",                        [{\"customdata\":[[\"Dublin\"],[\"Dublin\"],[\"Dublin\"],[\"Dublin\"],[\"Dublin\"],[\"Dublin\"],[\"Dublin\"],[\"Dublin\"],[\"Dublin\"],[\"Neu-Isenburg\"],[\"Neu-Isenburg\"],[\"Neu-Isenburg\"],[\"K\\u00f6ln\"],[\"K\\u00f6ln\"],[\"K\\u00f6ln\"],[\"K\\u00f6ln\"],[\"K\\u00f6ln\"],[\"K\\u00f6ln\"],[\"Neu-Isenburg\"],[\"Neu-Isenburg\"],[\"Neu-Isenburg\"]],\"domain\":{\"x\":[0.0,1.0],\"y\":[0.0,1.0]},\"hole\":0.5,\"hoverinfo\":\"label+percent\",\"hovertemplate\":\"label=%{label}<br>value=%{value}<br>color=%{customdata[0]}<extra></extra>\",\"labels\":[\"Dublin\",\"Dublin\",\"Dublin\",\"Dublin\",\"Dublin\",\"Dublin\",\"Dublin\",\"Dublin\",\"Dublin\",\"Neu-Isenburg\",\"Neu-Isenburg\",\"Neu-Isenburg\",\"K\\u00f6ln\",\"K\\u00f6ln\",\"K\\u00f6ln\",\"K\\u00f6ln\",\"K\\u00f6ln\",\"K\\u00f6ln\",\"Neu-Isenburg\",\"Neu-Isenburg\",\"Neu-Isenburg\"],\"legendgroup\":\"\",\"marker\":{\"colors\":[\"red\",\"red\",\"red\",\"red\",\"red\",\"red\",\"red\",\"red\",\"red\",\"blue\",\"blue\",\"blue\",\"orange\",\"orange\",\"orange\",\"orange\",\"orange\",\"orange\",\"blue\",\"blue\",\"blue\"]},\"name\":\"\",\"showlegend\":true,\"textfont\":{\"size\":15},\"textinfo\":\"percent\",\"title\":{\"font\":{\"color\":\"darkred\",\"family\":\"Verdana\",\"size\":35}},\"type\":\"pie\",\"values\":[2210.9868000000006,626.2443000000001,219.1662,1800.0,11358.0,180.0,1800.0,11358.0,180.0,1000.0,19358.0,1180.0,21800.0,1358.0,1180.0,1518.8152007664003,447.7546545912001,75333.17684212798,1139.1114005748002,335.8159909434001,136959.841131596]}],                        {\"annotations\":[{\"font\":{\"color\":\"black\",\"family\":\"Verdana\",\"size\":20},\"showarrow\":false,\"text\":\"CO2\",\"x\":0.5,\"y\":0.5}],\"legend\":{\"tracegroupgap\":0},\"template\":{\"data\":{\"bar\":[{\"error_x\":{\"color\":\"#2a3f5f\"},\"error_y\":{\"color\":\"#2a3f5f\"},\"marker\":{\"line\":{\"color\":\"#E5ECF6\",\"width\":0.5},\"pattern\":{\"fillmode\":\"overlay\",\"size\":10,\"solidity\":0.2}},\"type\":\"bar\"}],\"barpolar\":[{\"marker\":{\"line\":{\"color\":\"#E5ECF6\",\"width\":0.5},\"pattern\":{\"fillmode\":\"overlay\",\"size\":10,\"solidity\":0.2}},\"type\":\"barpolar\"}],\"carpet\":[{\"aaxis\":{\"endlinecolor\":\"#2a3f5f\",\"gridcolor\":\"white\",\"linecolor\":\"white\",\"minorgridcolor\":\"white\",\"startlinecolor\":\"#2a3f5f\"},\"baxis\":{\"endlinecolor\":\"#2a3f5f\",\"gridcolor\":\"white\",\"linecolor\":\"white\",\"minorgridcolor\":\"white\",\"startlinecolor\":\"#2a3f5f\"},\"type\":\"carpet\"}],\"choropleth\":[{\"colorbar\":{\"outlinewidth\":0,\"ticks\":\"\"},\"type\":\"choropleth\"}],\"contour\":[{\"colorbar\":{\"outlinewidth\":0,\"ticks\":\"\"},\"colorscale\":[[0.0,\"#0d0887\"],[0.1111111111111111,\"#46039f\"],[0.2222222222222222,\"#7201a8\"],[0.3333333333333333,\"#9c179e\"],[0.4444444444444444,\"#bd3786\"],[0.5555555555555556,\"#d8576b\"],[0.6666666666666666,\"#ed7953\"],[0.7777777777777778,\"#fb9f3a\"],[0.8888888888888888,\"#fdca26\"],[1.0,\"#f0f921\"]],\"type\":\"contour\"}],\"contourcarpet\":[{\"colorbar\":{\"outlinewidth\":0,\"ticks\":\"\"},\"type\":\"contourcarpet\"}],\"heatmap\":[{\"colorbar\":{\"outlinewidth\":0,\"ticks\":\"\"},\"colorscale\":[[0.0,\"#0d0887\"],[0.1111111111111111,\"#46039f\"],[0.2222222222222222,\"#7201a8\"],[0.3333333333333333,\"#9c179e\"],[0.4444444444444444,\"#bd3786\"],[0.5555555555555556,\"#d8576b\"],[0.6666666666666666,\"#ed7953\"],[0.7777777777777778,\"#fb9f3a\"],[0.8888888888888888,\"#fdca26\"],[1.0,\"#f0f921\"]],\"type\":\"heatmap\"}],\"heatmapgl\":[{\"colorbar\":{\"outlinewidth\":0,\"ticks\":\"\"},\"colorscale\":[[0.0,\"#0d0887\"],[0.1111111111111111,\"#46039f\"],[0.2222222222222222,\"#7201a8\"],[0.3333333333333333,\"#9c179e\"],[0.4444444444444444,\"#bd3786\"],[0.5555555555555556,\"#d8576b\"],[0.6666666666666666,\"#ed7953\"],[0.7777777777777778,\"#fb9f3a\"],[0.8888888888888888,\"#fdca26\"],[1.0,\"#f0f921\"]],\"type\":\"heatmapgl\"}],\"histogram\":[{\"marker\":{\"pattern\":{\"fillmode\":\"overlay\",\"size\":10,\"solidity\":0.2}},\"type\":\"histogram\"}],\"histogram2d\":[{\"colorbar\":{\"outlinewidth\":0,\"ticks\":\"\"},\"colorscale\":[[0.0,\"#0d0887\"],[0.1111111111111111,\"#46039f\"],[0.2222222222222222,\"#7201a8\"],[0.3333333333333333,\"#9c179e\"],[0.4444444444444444,\"#bd3786\"],[0.5555555555555556,\"#d8576b\"],[0.6666666666666666,\"#ed7953\"],[0.7777777777777778,\"#fb9f3a\"],[0.8888888888888888,\"#fdca26\"],[1.0,\"#f0f921\"]],\"type\":\"histogram2d\"}],\"histogram2dcontour\":[{\"colorbar\":{\"outlinewidth\":0,\"ticks\":\"\"},\"colorscale\":[[0.0,\"#0d0887\"],[0.1111111111111111,\"#46039f\"],[0.2222222222222222,\"#7201a8\"],[0.3333333333333333,\"#9c179e\"],[0.4444444444444444,\"#bd3786\"],[0.5555555555555556,\"#d8576b\"],[0.6666666666666666,\"#ed7953\"],[0.7777777777777778,\"#fb9f3a\"],[0.8888888888888888,\"#fdca26\"],[1.0,\"#f0f921\"]],\"type\":\"histogram2dcontour\"}],\"mesh3d\":[{\"colorbar\":{\"outlinewidth\":0,\"ticks\":\"\"},\"type\":\"mesh3d\"}],\"parcoords\":[{\"line\":{\"colorbar\":{\"outlinewidth\":0,\"ticks\":\"\"}},\"type\":\"parcoords\"}],\"pie\":[{\"automargin\":true,\"type\":\"pie\"}],\"scatter\":[{\"marker\":{\"colorbar\":{\"outlinewidth\":0,\"ticks\":\"\"}},\"type\":\"scatter\"}],\"scatter3d\":[{\"line\":{\"colorbar\":{\"outlinewidth\":0,\"ticks\":\"\"}},\"marker\":{\"colorbar\":{\"outlinewidth\":0,\"ticks\":\"\"}},\"type\":\"scatter3d\"}],\"scattercarpet\":[{\"marker\":{\"colorbar\":{\"outlinewidth\":0,\"ticks\":\"\"}},\"type\":\"scattercarpet\"}],\"scattergeo\":[{\"marker\":{\"colorbar\":{\"outlinewidth\":0,\"ticks\":\"\"}},\"type\":\"scattergeo\"}],\"scattergl\":[{\"marker\":{\"colorbar\":{\"outlinewidth\":0,\"ticks\":\"\"}},\"type\":\"scattergl\"}],\"scattermapbox\":[{\"marker\":{\"colorbar\":{\"outlinewidth\":0,\"ticks\":\"\"}},\"type\":\"scattermapbox\"}],\"scatterpolar\":[{\"marker\":{\"colorbar\":{\"outlinewidth\":0,\"ticks\":\"\"}},\"type\":\"scatterpolar\"}],\"scatterpolargl\":[{\"marker\":{\"colorbar\":{\"outlinewidth\":0,\"ticks\":\"\"}},\"type\":\"scatterpolargl\"}],\"scatterternary\":[{\"marker\":{\"colorbar\":{\"outlinewidth\":0,\"ticks\":\"\"}},\"type\":\"scatterternary\"}],\"surface\":[{\"colorbar\":{\"outlinewidth\":0,\"ticks\":\"\"},\"colorscale\":[[0.0,\"#0d0887\"],[0.1111111111111111,\"#46039f\"],[0.2222222222222222,\"#7201a8\"],[0.3333333333333333,\"#9c179e\"],[0.4444444444444444,\"#bd3786\"],[0.5555555555555556,\"#d8576b\"],[0.6666666666666666,\"#ed7953\"],[0.7777777777777778,\"#fb9f3a\"],[0.8888888888888888,\"#fdca26\"],[1.0,\"#f0f921\"]],\"type\":\"surface\"}],\"table\":[{\"cells\":{\"fill\":{\"color\":\"#EBF0F8\"},\"line\":{\"color\":\"white\"}},\"header\":{\"fill\":{\"color\":\"#C8D4E3\"},\"line\":{\"color\":\"white\"}},\"type\":\"table\"}]},\"layout\":{\"annotationdefaults\":{\"arrowcolor\":\"#2a3f5f\",\"arrowhead\":0,\"arrowwidth\":1},\"autotypenumbers\":\"strict\",\"coloraxis\":{\"colorbar\":{\"outlinewidth\":0,\"ticks\":\"\"}},\"colorscale\":{\"diverging\":[[0,\"#8e0152\"],[0.1,\"#c51b7d\"],[0.2,\"#de77ae\"],[0.3,\"#f1b6da\"],[0.4,\"#fde0ef\"],[0.5,\"#f7f7f7\"],[0.6,\"#e6f5d0\"],[0.7,\"#b8e186\"],[0.8,\"#7fbc41\"],[0.9,\"#4d9221\"],[1,\"#276419\"]],\"sequential\":[[0.0,\"#0d0887\"],[0.1111111111111111,\"#46039f\"],[0.2222222222222222,\"#7201a8\"],[0.3333333333333333,\"#9c179e\"],[0.4444444444444444,\"#bd3786\"],[0.5555555555555556,\"#d8576b\"],[0.6666666666666666,\"#ed7953\"],[0.7777777777777778,\"#fb9f3a\"],[0.8888888888888888,\"#fdca26\"],[1.0,\"#f0f921\"]],\"sequentialminus\":[[0.0,\"#0d0887\"],[0.1111111111111111,\"#46039f\"],[0.2222222222222222,\"#7201a8\"],[0.3333333333333333,\"#9c179e\"],[0.4444444444444444,\"#bd3786\"],[0.5555555555555556,\"#d8576b\"],[0.6666666666666666,\"#ed7953\"],[0.7777777777777778,\"#fb9f3a\"],[0.8888888888888888,\"#fdca26\"],[1.0,\"#f0f921\"]]},\"colorway\":[\"#636efa\",\"#EF553B\",\"#00cc96\",\"#ab63fa\",\"#FFA15A\",\"#19d3f3\",\"#FF6692\",\"#B6E880\",\"#FF97FF\",\"#FECB52\"],\"font\":{\"color\":\"#2a3f5f\"},\"geo\":{\"bgcolor\":\"white\",\"lakecolor\":\"white\",\"landcolor\":\"#E5ECF6\",\"showlakes\":true,\"showland\":true,\"subunitcolor\":\"white\"},\"hoverlabel\":{\"align\":\"left\"},\"hovermode\":\"closest\",\"mapbox\":{\"style\":\"light\"},\"paper_bgcolor\":\"white\",\"plot_bgcolor\":\"#E5ECF6\",\"polar\":{\"angularaxis\":{\"gridcolor\":\"white\",\"linecolor\":\"white\",\"ticks\":\"\"},\"bgcolor\":\"#E5ECF6\",\"radialaxis\":{\"gridcolor\":\"white\",\"linecolor\":\"white\",\"ticks\":\"\"}},\"scene\":{\"xaxis\":{\"backgroundcolor\":\"#E5ECF6\",\"gridcolor\":\"white\",\"gridwidth\":2,\"linecolor\":\"white\",\"showbackground\":true,\"ticks\":\"\",\"zerolinecolor\":\"white\"},\"yaxis\":{\"backgroundcolor\":\"#E5ECF6\",\"gridcolor\":\"white\",\"gridwidth\":2,\"linecolor\":\"white\",\"showbackground\":true,\"ticks\":\"\",\"zerolinecolor\":\"white\"},\"zaxis\":{\"backgroundcolor\":\"#E5ECF6\",\"gridcolor\":\"white\",\"gridwidth\":2,\"linecolor\":\"white\",\"showbackground\":true,\"ticks\":\"\",\"zerolinecolor\":\"white\"}},\"shapedefaults\":{\"line\":{\"color\":\"#2a3f5f\"}},\"ternary\":{\"aaxis\":{\"gridcolor\":\"white\",\"linecolor\":\"white\",\"ticks\":\"\"},\"baxis\":{\"gridcolor\":\"white\",\"linecolor\":\"white\",\"ticks\":\"\"},\"bgcolor\":\"#E5ECF6\",\"caxis\":{\"gridcolor\":\"white\",\"linecolor\":\"white\",\"ticks\":\"\"}},\"title\":{\"x\":0.05},\"xaxis\":{\"automargin\":true,\"gridcolor\":\"white\",\"linecolor\":\"white\",\"ticks\":\"\",\"title\":{\"standoff\":15},\"zerolinecolor\":\"white\",\"zerolinewidth\":2},\"yaxis\":{\"automargin\":true,\"gridcolor\":\"white\",\"linecolor\":\"white\",\"ticks\":\"\",\"title\":{\"standoff\":15},\"zerolinecolor\":\"white\",\"zerolinewidth\":2}}},\"title\":{\"text\":\"Company X Emissions for 2020\"}},                        {\"responsive\": true}                    ).then(function(){\n",
       "                            \n",
       "var gd = document.getElementById('91569193-b24d-49d0-bb80-ed26e67625bd');\n",
       "var x = new MutationObserver(function (mutations, observer) {{\n",
       "        var display = window.getComputedStyle(gd).display;\n",
       "        if (!display || display === 'none') {{\n",
       "            console.log([gd, 'removed!']);\n",
       "            Plotly.purge(gd);\n",
       "            observer.disconnect();\n",
       "        }}\n",
       "}});\n",
       "\n",
       "// Listen for the removal of the full notebook cells\n",
       "var notebookContainer = gd.closest('#notebook-container');\n",
       "if (notebookContainer) {{\n",
       "    x.observe(notebookContainer, {childList: true});\n",
       "}}\n",
       "\n",
       "// Listen for the clearing of the current output cell\n",
       "var outputEl = gd.closest('.output');\n",
       "if (outputEl) {{\n",
       "    x.observe(outputEl, {childList: true});\n",
       "}}\n",
       "\n",
       "                        })                };                });            </script>        </div>"
      ]
     },
     "metadata": {},
     "output_type": "display_data"
    }
   ],
   "source": [
    "fig4.update_traces(textinfo='percent', textfont_size=15)\n",
    "fig4.show()"
   ]
  },
  {
   "cell_type": "markdown",
   "id": "c012e9e2",
   "metadata": {},
   "source": [
    "# Make title bigger and change font."
   ]
  },
  {
   "cell_type": "code",
   "execution_count": 104,
   "id": "0457d0c4",
   "metadata": {},
   "outputs": [
    {
     "data": {
      "application/vnd.plotly.v1+json": {
       "config": {
        "plotlyServerURL": "https://plot.ly"
       },
       "data": [
        {
         "customdata": [
          [
           "Dublin"
          ],
          [
           "Dublin"
          ],
          [
           "Dublin"
          ],
          [
           "Dublin"
          ],
          [
           "Dublin"
          ],
          [
           "Dublin"
          ],
          [
           "Dublin"
          ],
          [
           "Dublin"
          ],
          [
           "Dublin"
          ],
          [
           "Neu-Isenburg"
          ],
          [
           "Neu-Isenburg"
          ],
          [
           "Neu-Isenburg"
          ],
          [
           "Köln"
          ],
          [
           "Köln"
          ],
          [
           "Köln"
          ],
          [
           "Köln"
          ],
          [
           "Köln"
          ],
          [
           "Köln"
          ],
          [
           "Neu-Isenburg"
          ],
          [
           "Neu-Isenburg"
          ],
          [
           "Neu-Isenburg"
          ]
         ],
         "domain": {
          "x": [
           0,
           1
          ],
          "y": [
           0,
           1
          ]
         },
         "hole": 0.5,
         "hoverinfo": "label+percent",
         "hovertemplate": "label=%{label}<br>value=%{value}<br>color=%{customdata[0]}<extra></extra>",
         "labels": [
          "Dublin",
          "Dublin",
          "Dublin",
          "Dublin",
          "Dublin",
          "Dublin",
          "Dublin",
          "Dublin",
          "Dublin",
          "Neu-Isenburg",
          "Neu-Isenburg",
          "Neu-Isenburg",
          "Köln",
          "Köln",
          "Köln",
          "Köln",
          "Köln",
          "Köln",
          "Neu-Isenburg",
          "Neu-Isenburg",
          "Neu-Isenburg"
         ],
         "legendgroup": "",
         "marker": {
          "colors": [
           "red",
           "red",
           "red",
           "red",
           "red",
           "red",
           "red",
           "red",
           "red",
           "blue",
           "blue",
           "blue",
           "orange",
           "orange",
           "orange",
           "orange",
           "orange",
           "orange",
           "blue",
           "blue",
           "blue"
          ]
         },
         "name": "",
         "showlegend": true,
         "textfont": {
          "size": 20
         },
         "textinfo": "percent",
         "title": {
          "font": {
           "color": "darkred",
           "family": "Verdana",
           "size": 35
          }
         },
         "type": "pie",
         "values": [
          2210.9868000000006,
          626.2443000000001,
          219.1662,
          1800,
          11358,
          180,
          1800,
          11358,
          180,
          1000,
          19358,
          1180,
          21800,
          1358,
          1180,
          1518.8152007664003,
          447.7546545912001,
          75333.17684212798,
          1139.1114005748002,
          335.8159909434001,
          136959.841131596
         ]
        }
       ],
       "layout": {
        "annotations": [
         {
          "font": {
           "color": "black",
           "family": "Verdana",
           "size": 20
          },
          "showarrow": false,
          "text": "CO2",
          "x": 0.5,
          "y": 0.5
         }
        ],
        "legend": {
         "tracegroupgap": 0
        },
        "template": {
         "data": {
          "bar": [
           {
            "error_x": {
             "color": "#2a3f5f"
            },
            "error_y": {
             "color": "#2a3f5f"
            },
            "marker": {
             "line": {
              "color": "#E5ECF6",
              "width": 0.5
             },
             "pattern": {
              "fillmode": "overlay",
              "size": 10,
              "solidity": 0.2
             }
            },
            "type": "bar"
           }
          ],
          "barpolar": [
           {
            "marker": {
             "line": {
              "color": "#E5ECF6",
              "width": 0.5
             },
             "pattern": {
              "fillmode": "overlay",
              "size": 10,
              "solidity": 0.2
             }
            },
            "type": "barpolar"
           }
          ],
          "carpet": [
           {
            "aaxis": {
             "endlinecolor": "#2a3f5f",
             "gridcolor": "white",
             "linecolor": "white",
             "minorgridcolor": "white",
             "startlinecolor": "#2a3f5f"
            },
            "baxis": {
             "endlinecolor": "#2a3f5f",
             "gridcolor": "white",
             "linecolor": "white",
             "minorgridcolor": "white",
             "startlinecolor": "#2a3f5f"
            },
            "type": "carpet"
           }
          ],
          "choropleth": [
           {
            "colorbar": {
             "outlinewidth": 0,
             "ticks": ""
            },
            "type": "choropleth"
           }
          ],
          "contour": [
           {
            "colorbar": {
             "outlinewidth": 0,
             "ticks": ""
            },
            "colorscale": [
             [
              0,
              "#0d0887"
             ],
             [
              0.1111111111111111,
              "#46039f"
             ],
             [
              0.2222222222222222,
              "#7201a8"
             ],
             [
              0.3333333333333333,
              "#9c179e"
             ],
             [
              0.4444444444444444,
              "#bd3786"
             ],
             [
              0.5555555555555556,
              "#d8576b"
             ],
             [
              0.6666666666666666,
              "#ed7953"
             ],
             [
              0.7777777777777778,
              "#fb9f3a"
             ],
             [
              0.8888888888888888,
              "#fdca26"
             ],
             [
              1,
              "#f0f921"
             ]
            ],
            "type": "contour"
           }
          ],
          "contourcarpet": [
           {
            "colorbar": {
             "outlinewidth": 0,
             "ticks": ""
            },
            "type": "contourcarpet"
           }
          ],
          "heatmap": [
           {
            "colorbar": {
             "outlinewidth": 0,
             "ticks": ""
            },
            "colorscale": [
             [
              0,
              "#0d0887"
             ],
             [
              0.1111111111111111,
              "#46039f"
             ],
             [
              0.2222222222222222,
              "#7201a8"
             ],
             [
              0.3333333333333333,
              "#9c179e"
             ],
             [
              0.4444444444444444,
              "#bd3786"
             ],
             [
              0.5555555555555556,
              "#d8576b"
             ],
             [
              0.6666666666666666,
              "#ed7953"
             ],
             [
              0.7777777777777778,
              "#fb9f3a"
             ],
             [
              0.8888888888888888,
              "#fdca26"
             ],
             [
              1,
              "#f0f921"
             ]
            ],
            "type": "heatmap"
           }
          ],
          "heatmapgl": [
           {
            "colorbar": {
             "outlinewidth": 0,
             "ticks": ""
            },
            "colorscale": [
             [
              0,
              "#0d0887"
             ],
             [
              0.1111111111111111,
              "#46039f"
             ],
             [
              0.2222222222222222,
              "#7201a8"
             ],
             [
              0.3333333333333333,
              "#9c179e"
             ],
             [
              0.4444444444444444,
              "#bd3786"
             ],
             [
              0.5555555555555556,
              "#d8576b"
             ],
             [
              0.6666666666666666,
              "#ed7953"
             ],
             [
              0.7777777777777778,
              "#fb9f3a"
             ],
             [
              0.8888888888888888,
              "#fdca26"
             ],
             [
              1,
              "#f0f921"
             ]
            ],
            "type": "heatmapgl"
           }
          ],
          "histogram": [
           {
            "marker": {
             "pattern": {
              "fillmode": "overlay",
              "size": 10,
              "solidity": 0.2
             }
            },
            "type": "histogram"
           }
          ],
          "histogram2d": [
           {
            "colorbar": {
             "outlinewidth": 0,
             "ticks": ""
            },
            "colorscale": [
             [
              0,
              "#0d0887"
             ],
             [
              0.1111111111111111,
              "#46039f"
             ],
             [
              0.2222222222222222,
              "#7201a8"
             ],
             [
              0.3333333333333333,
              "#9c179e"
             ],
             [
              0.4444444444444444,
              "#bd3786"
             ],
             [
              0.5555555555555556,
              "#d8576b"
             ],
             [
              0.6666666666666666,
              "#ed7953"
             ],
             [
              0.7777777777777778,
              "#fb9f3a"
             ],
             [
              0.8888888888888888,
              "#fdca26"
             ],
             [
              1,
              "#f0f921"
             ]
            ],
            "type": "histogram2d"
           }
          ],
          "histogram2dcontour": [
           {
            "colorbar": {
             "outlinewidth": 0,
             "ticks": ""
            },
            "colorscale": [
             [
              0,
              "#0d0887"
             ],
             [
              0.1111111111111111,
              "#46039f"
             ],
             [
              0.2222222222222222,
              "#7201a8"
             ],
             [
              0.3333333333333333,
              "#9c179e"
             ],
             [
              0.4444444444444444,
              "#bd3786"
             ],
             [
              0.5555555555555556,
              "#d8576b"
             ],
             [
              0.6666666666666666,
              "#ed7953"
             ],
             [
              0.7777777777777778,
              "#fb9f3a"
             ],
             [
              0.8888888888888888,
              "#fdca26"
             ],
             [
              1,
              "#f0f921"
             ]
            ],
            "type": "histogram2dcontour"
           }
          ],
          "mesh3d": [
           {
            "colorbar": {
             "outlinewidth": 0,
             "ticks": ""
            },
            "type": "mesh3d"
           }
          ],
          "parcoords": [
           {
            "line": {
             "colorbar": {
              "outlinewidth": 0,
              "ticks": ""
             }
            },
            "type": "parcoords"
           }
          ],
          "pie": [
           {
            "automargin": true,
            "type": "pie"
           }
          ],
          "scatter": [
           {
            "marker": {
             "colorbar": {
              "outlinewidth": 0,
              "ticks": ""
             }
            },
            "type": "scatter"
           }
          ],
          "scatter3d": [
           {
            "line": {
             "colorbar": {
              "outlinewidth": 0,
              "ticks": ""
             }
            },
            "marker": {
             "colorbar": {
              "outlinewidth": 0,
              "ticks": ""
             }
            },
            "type": "scatter3d"
           }
          ],
          "scattercarpet": [
           {
            "marker": {
             "colorbar": {
              "outlinewidth": 0,
              "ticks": ""
             }
            },
            "type": "scattercarpet"
           }
          ],
          "scattergeo": [
           {
            "marker": {
             "colorbar": {
              "outlinewidth": 0,
              "ticks": ""
             }
            },
            "type": "scattergeo"
           }
          ],
          "scattergl": [
           {
            "marker": {
             "colorbar": {
              "outlinewidth": 0,
              "ticks": ""
             }
            },
            "type": "scattergl"
           }
          ],
          "scattermapbox": [
           {
            "marker": {
             "colorbar": {
              "outlinewidth": 0,
              "ticks": ""
             }
            },
            "type": "scattermapbox"
           }
          ],
          "scatterpolar": [
           {
            "marker": {
             "colorbar": {
              "outlinewidth": 0,
              "ticks": ""
             }
            },
            "type": "scatterpolar"
           }
          ],
          "scatterpolargl": [
           {
            "marker": {
             "colorbar": {
              "outlinewidth": 0,
              "ticks": ""
             }
            },
            "type": "scatterpolargl"
           }
          ],
          "scatterternary": [
           {
            "marker": {
             "colorbar": {
              "outlinewidth": 0,
              "ticks": ""
             }
            },
            "type": "scatterternary"
           }
          ],
          "surface": [
           {
            "colorbar": {
             "outlinewidth": 0,
             "ticks": ""
            },
            "colorscale": [
             [
              0,
              "#0d0887"
             ],
             [
              0.1111111111111111,
              "#46039f"
             ],
             [
              0.2222222222222222,
              "#7201a8"
             ],
             [
              0.3333333333333333,
              "#9c179e"
             ],
             [
              0.4444444444444444,
              "#bd3786"
             ],
             [
              0.5555555555555556,
              "#d8576b"
             ],
             [
              0.6666666666666666,
              "#ed7953"
             ],
             [
              0.7777777777777778,
              "#fb9f3a"
             ],
             [
              0.8888888888888888,
              "#fdca26"
             ],
             [
              1,
              "#f0f921"
             ]
            ],
            "type": "surface"
           }
          ],
          "table": [
           {
            "cells": {
             "fill": {
              "color": "#EBF0F8"
             },
             "line": {
              "color": "white"
             }
            },
            "header": {
             "fill": {
              "color": "#C8D4E3"
             },
             "line": {
              "color": "white"
             }
            },
            "type": "table"
           }
          ]
         },
         "layout": {
          "annotationdefaults": {
           "arrowcolor": "#2a3f5f",
           "arrowhead": 0,
           "arrowwidth": 1
          },
          "autotypenumbers": "strict",
          "coloraxis": {
           "colorbar": {
            "outlinewidth": 0,
            "ticks": ""
           }
          },
          "colorscale": {
           "diverging": [
            [
             0,
             "#8e0152"
            ],
            [
             0.1,
             "#c51b7d"
            ],
            [
             0.2,
             "#de77ae"
            ],
            [
             0.3,
             "#f1b6da"
            ],
            [
             0.4,
             "#fde0ef"
            ],
            [
             0.5,
             "#f7f7f7"
            ],
            [
             0.6,
             "#e6f5d0"
            ],
            [
             0.7,
             "#b8e186"
            ],
            [
             0.8,
             "#7fbc41"
            ],
            [
             0.9,
             "#4d9221"
            ],
            [
             1,
             "#276419"
            ]
           ],
           "sequential": [
            [
             0,
             "#0d0887"
            ],
            [
             0.1111111111111111,
             "#46039f"
            ],
            [
             0.2222222222222222,
             "#7201a8"
            ],
            [
             0.3333333333333333,
             "#9c179e"
            ],
            [
             0.4444444444444444,
             "#bd3786"
            ],
            [
             0.5555555555555556,
             "#d8576b"
            ],
            [
             0.6666666666666666,
             "#ed7953"
            ],
            [
             0.7777777777777778,
             "#fb9f3a"
            ],
            [
             0.8888888888888888,
             "#fdca26"
            ],
            [
             1,
             "#f0f921"
            ]
           ],
           "sequentialminus": [
            [
             0,
             "#0d0887"
            ],
            [
             0.1111111111111111,
             "#46039f"
            ],
            [
             0.2222222222222222,
             "#7201a8"
            ],
            [
             0.3333333333333333,
             "#9c179e"
            ],
            [
             0.4444444444444444,
             "#bd3786"
            ],
            [
             0.5555555555555556,
             "#d8576b"
            ],
            [
             0.6666666666666666,
             "#ed7953"
            ],
            [
             0.7777777777777778,
             "#fb9f3a"
            ],
            [
             0.8888888888888888,
             "#fdca26"
            ],
            [
             1,
             "#f0f921"
            ]
           ]
          },
          "colorway": [
           "#636efa",
           "#EF553B",
           "#00cc96",
           "#ab63fa",
           "#FFA15A",
           "#19d3f3",
           "#FF6692",
           "#B6E880",
           "#FF97FF",
           "#FECB52"
          ],
          "font": {
           "color": "#2a3f5f"
          },
          "geo": {
           "bgcolor": "white",
           "lakecolor": "white",
           "landcolor": "#E5ECF6",
           "showlakes": true,
           "showland": true,
           "subunitcolor": "white"
          },
          "hoverlabel": {
           "align": "left"
          },
          "hovermode": "closest",
          "mapbox": {
           "style": "light"
          },
          "paper_bgcolor": "white",
          "plot_bgcolor": "#E5ECF6",
          "polar": {
           "angularaxis": {
            "gridcolor": "white",
            "linecolor": "white",
            "ticks": ""
           },
           "bgcolor": "#E5ECF6",
           "radialaxis": {
            "gridcolor": "white",
            "linecolor": "white",
            "ticks": ""
           }
          },
          "scene": {
           "xaxis": {
            "backgroundcolor": "#E5ECF6",
            "gridcolor": "white",
            "gridwidth": 2,
            "linecolor": "white",
            "showbackground": true,
            "ticks": "",
            "zerolinecolor": "white"
           },
           "yaxis": {
            "backgroundcolor": "#E5ECF6",
            "gridcolor": "white",
            "gridwidth": 2,
            "linecolor": "white",
            "showbackground": true,
            "ticks": "",
            "zerolinecolor": "white"
           },
           "zaxis": {
            "backgroundcolor": "#E5ECF6",
            "gridcolor": "white",
            "gridwidth": 2,
            "linecolor": "white",
            "showbackground": true,
            "ticks": "",
            "zerolinecolor": "white"
           }
          },
          "shapedefaults": {
           "line": {
            "color": "#2a3f5f"
           }
          },
          "ternary": {
           "aaxis": {
            "gridcolor": "white",
            "linecolor": "white",
            "ticks": ""
           },
           "baxis": {
            "gridcolor": "white",
            "linecolor": "white",
            "ticks": ""
           },
           "bgcolor": "#E5ECF6",
           "caxis": {
            "gridcolor": "white",
            "linecolor": "white",
            "ticks": ""
           }
          },
          "title": {
           "x": 0.05
          },
          "xaxis": {
           "automargin": true,
           "gridcolor": "white",
           "linecolor": "white",
           "ticks": "",
           "title": {
            "standoff": 15
           },
           "zerolinecolor": "white",
           "zerolinewidth": 2
          },
          "yaxis": {
           "automargin": true,
           "gridcolor": "white",
           "linecolor": "white",
           "ticks": "",
           "title": {
            "standoff": 15
           },
           "zerolinecolor": "white",
           "zerolinewidth": 2
          }
         }
        },
        "title": {
         "font": {
          "color": "darkred",
          "family": "Verdana",
          "size": 25
         },
         "text": "Company X Emissions for 2020"
        }
       }
      },
      "text/html": [
       "<div>                            <div id=\"58991c4b-06cc-468a-ac88-c1f85ecda4c3\" class=\"plotly-graph-div\" style=\"height:525px; width:100%;\"></div>            <script type=\"text/javascript\">                require([\"plotly\"], function(Plotly) {                    window.PLOTLYENV=window.PLOTLYENV || {};                                    if (document.getElementById(\"58991c4b-06cc-468a-ac88-c1f85ecda4c3\")) {                    Plotly.newPlot(                        \"58991c4b-06cc-468a-ac88-c1f85ecda4c3\",                        [{\"customdata\":[[\"Dublin\"],[\"Dublin\"],[\"Dublin\"],[\"Dublin\"],[\"Dublin\"],[\"Dublin\"],[\"Dublin\"],[\"Dublin\"],[\"Dublin\"],[\"Neu-Isenburg\"],[\"Neu-Isenburg\"],[\"Neu-Isenburg\"],[\"K\\u00f6ln\"],[\"K\\u00f6ln\"],[\"K\\u00f6ln\"],[\"K\\u00f6ln\"],[\"K\\u00f6ln\"],[\"K\\u00f6ln\"],[\"Neu-Isenburg\"],[\"Neu-Isenburg\"],[\"Neu-Isenburg\"]],\"domain\":{\"x\":[0.0,1.0],\"y\":[0.0,1.0]},\"hole\":0.5,\"hoverinfo\":\"label+percent\",\"hovertemplate\":\"label=%{label}<br>value=%{value}<br>color=%{customdata[0]}<extra></extra>\",\"labels\":[\"Dublin\",\"Dublin\",\"Dublin\",\"Dublin\",\"Dublin\",\"Dublin\",\"Dublin\",\"Dublin\",\"Dublin\",\"Neu-Isenburg\",\"Neu-Isenburg\",\"Neu-Isenburg\",\"K\\u00f6ln\",\"K\\u00f6ln\",\"K\\u00f6ln\",\"K\\u00f6ln\",\"K\\u00f6ln\",\"K\\u00f6ln\",\"Neu-Isenburg\",\"Neu-Isenburg\",\"Neu-Isenburg\"],\"legendgroup\":\"\",\"marker\":{\"colors\":[\"red\",\"red\",\"red\",\"red\",\"red\",\"red\",\"red\",\"red\",\"red\",\"blue\",\"blue\",\"blue\",\"orange\",\"orange\",\"orange\",\"orange\",\"orange\",\"orange\",\"blue\",\"blue\",\"blue\"]},\"name\":\"\",\"showlegend\":true,\"textfont\":{\"size\":20},\"textinfo\":\"percent\",\"title\":{\"font\":{\"color\":\"darkred\",\"family\":\"Verdana\",\"size\":35}},\"type\":\"pie\",\"values\":[2210.9868000000006,626.2443000000001,219.1662,1800.0,11358.0,180.0,1800.0,11358.0,180.0,1000.0,19358.0,1180.0,21800.0,1358.0,1180.0,1518.8152007664003,447.7546545912001,75333.17684212798,1139.1114005748002,335.8159909434001,136959.841131596]}],                        {\"annotations\":[{\"font\":{\"color\":\"black\",\"family\":\"Verdana\",\"size\":20},\"showarrow\":false,\"text\":\"CO2\",\"x\":0.5,\"y\":0.5}],\"legend\":{\"tracegroupgap\":0},\"template\":{\"data\":{\"bar\":[{\"error_x\":{\"color\":\"#2a3f5f\"},\"error_y\":{\"color\":\"#2a3f5f\"},\"marker\":{\"line\":{\"color\":\"#E5ECF6\",\"width\":0.5},\"pattern\":{\"fillmode\":\"overlay\",\"size\":10,\"solidity\":0.2}},\"type\":\"bar\"}],\"barpolar\":[{\"marker\":{\"line\":{\"color\":\"#E5ECF6\",\"width\":0.5},\"pattern\":{\"fillmode\":\"overlay\",\"size\":10,\"solidity\":0.2}},\"type\":\"barpolar\"}],\"carpet\":[{\"aaxis\":{\"endlinecolor\":\"#2a3f5f\",\"gridcolor\":\"white\",\"linecolor\":\"white\",\"minorgridcolor\":\"white\",\"startlinecolor\":\"#2a3f5f\"},\"baxis\":{\"endlinecolor\":\"#2a3f5f\",\"gridcolor\":\"white\",\"linecolor\":\"white\",\"minorgridcolor\":\"white\",\"startlinecolor\":\"#2a3f5f\"},\"type\":\"carpet\"}],\"choropleth\":[{\"colorbar\":{\"outlinewidth\":0,\"ticks\":\"\"},\"type\":\"choropleth\"}],\"contour\":[{\"colorbar\":{\"outlinewidth\":0,\"ticks\":\"\"},\"colorscale\":[[0.0,\"#0d0887\"],[0.1111111111111111,\"#46039f\"],[0.2222222222222222,\"#7201a8\"],[0.3333333333333333,\"#9c179e\"],[0.4444444444444444,\"#bd3786\"],[0.5555555555555556,\"#d8576b\"],[0.6666666666666666,\"#ed7953\"],[0.7777777777777778,\"#fb9f3a\"],[0.8888888888888888,\"#fdca26\"],[1.0,\"#f0f921\"]],\"type\":\"contour\"}],\"contourcarpet\":[{\"colorbar\":{\"outlinewidth\":0,\"ticks\":\"\"},\"type\":\"contourcarpet\"}],\"heatmap\":[{\"colorbar\":{\"outlinewidth\":0,\"ticks\":\"\"},\"colorscale\":[[0.0,\"#0d0887\"],[0.1111111111111111,\"#46039f\"],[0.2222222222222222,\"#7201a8\"],[0.3333333333333333,\"#9c179e\"],[0.4444444444444444,\"#bd3786\"],[0.5555555555555556,\"#d8576b\"],[0.6666666666666666,\"#ed7953\"],[0.7777777777777778,\"#fb9f3a\"],[0.8888888888888888,\"#fdca26\"],[1.0,\"#f0f921\"]],\"type\":\"heatmap\"}],\"heatmapgl\":[{\"colorbar\":{\"outlinewidth\":0,\"ticks\":\"\"},\"colorscale\":[[0.0,\"#0d0887\"],[0.1111111111111111,\"#46039f\"],[0.2222222222222222,\"#7201a8\"],[0.3333333333333333,\"#9c179e\"],[0.4444444444444444,\"#bd3786\"],[0.5555555555555556,\"#d8576b\"],[0.6666666666666666,\"#ed7953\"],[0.7777777777777778,\"#fb9f3a\"],[0.8888888888888888,\"#fdca26\"],[1.0,\"#f0f921\"]],\"type\":\"heatmapgl\"}],\"histogram\":[{\"marker\":{\"pattern\":{\"fillmode\":\"overlay\",\"size\":10,\"solidity\":0.2}},\"type\":\"histogram\"}],\"histogram2d\":[{\"colorbar\":{\"outlinewidth\":0,\"ticks\":\"\"},\"colorscale\":[[0.0,\"#0d0887\"],[0.1111111111111111,\"#46039f\"],[0.2222222222222222,\"#7201a8\"],[0.3333333333333333,\"#9c179e\"],[0.4444444444444444,\"#bd3786\"],[0.5555555555555556,\"#d8576b\"],[0.6666666666666666,\"#ed7953\"],[0.7777777777777778,\"#fb9f3a\"],[0.8888888888888888,\"#fdca26\"],[1.0,\"#f0f921\"]],\"type\":\"histogram2d\"}],\"histogram2dcontour\":[{\"colorbar\":{\"outlinewidth\":0,\"ticks\":\"\"},\"colorscale\":[[0.0,\"#0d0887\"],[0.1111111111111111,\"#46039f\"],[0.2222222222222222,\"#7201a8\"],[0.3333333333333333,\"#9c179e\"],[0.4444444444444444,\"#bd3786\"],[0.5555555555555556,\"#d8576b\"],[0.6666666666666666,\"#ed7953\"],[0.7777777777777778,\"#fb9f3a\"],[0.8888888888888888,\"#fdca26\"],[1.0,\"#f0f921\"]],\"type\":\"histogram2dcontour\"}],\"mesh3d\":[{\"colorbar\":{\"outlinewidth\":0,\"ticks\":\"\"},\"type\":\"mesh3d\"}],\"parcoords\":[{\"line\":{\"colorbar\":{\"outlinewidth\":0,\"ticks\":\"\"}},\"type\":\"parcoords\"}],\"pie\":[{\"automargin\":true,\"type\":\"pie\"}],\"scatter\":[{\"marker\":{\"colorbar\":{\"outlinewidth\":0,\"ticks\":\"\"}},\"type\":\"scatter\"}],\"scatter3d\":[{\"line\":{\"colorbar\":{\"outlinewidth\":0,\"ticks\":\"\"}},\"marker\":{\"colorbar\":{\"outlinewidth\":0,\"ticks\":\"\"}},\"type\":\"scatter3d\"}],\"scattercarpet\":[{\"marker\":{\"colorbar\":{\"outlinewidth\":0,\"ticks\":\"\"}},\"type\":\"scattercarpet\"}],\"scattergeo\":[{\"marker\":{\"colorbar\":{\"outlinewidth\":0,\"ticks\":\"\"}},\"type\":\"scattergeo\"}],\"scattergl\":[{\"marker\":{\"colorbar\":{\"outlinewidth\":0,\"ticks\":\"\"}},\"type\":\"scattergl\"}],\"scattermapbox\":[{\"marker\":{\"colorbar\":{\"outlinewidth\":0,\"ticks\":\"\"}},\"type\":\"scattermapbox\"}],\"scatterpolar\":[{\"marker\":{\"colorbar\":{\"outlinewidth\":0,\"ticks\":\"\"}},\"type\":\"scatterpolar\"}],\"scatterpolargl\":[{\"marker\":{\"colorbar\":{\"outlinewidth\":0,\"ticks\":\"\"}},\"type\":\"scatterpolargl\"}],\"scatterternary\":[{\"marker\":{\"colorbar\":{\"outlinewidth\":0,\"ticks\":\"\"}},\"type\":\"scatterternary\"}],\"surface\":[{\"colorbar\":{\"outlinewidth\":0,\"ticks\":\"\"},\"colorscale\":[[0.0,\"#0d0887\"],[0.1111111111111111,\"#46039f\"],[0.2222222222222222,\"#7201a8\"],[0.3333333333333333,\"#9c179e\"],[0.4444444444444444,\"#bd3786\"],[0.5555555555555556,\"#d8576b\"],[0.6666666666666666,\"#ed7953\"],[0.7777777777777778,\"#fb9f3a\"],[0.8888888888888888,\"#fdca26\"],[1.0,\"#f0f921\"]],\"type\":\"surface\"}],\"table\":[{\"cells\":{\"fill\":{\"color\":\"#EBF0F8\"},\"line\":{\"color\":\"white\"}},\"header\":{\"fill\":{\"color\":\"#C8D4E3\"},\"line\":{\"color\":\"white\"}},\"type\":\"table\"}]},\"layout\":{\"annotationdefaults\":{\"arrowcolor\":\"#2a3f5f\",\"arrowhead\":0,\"arrowwidth\":1},\"autotypenumbers\":\"strict\",\"coloraxis\":{\"colorbar\":{\"outlinewidth\":0,\"ticks\":\"\"}},\"colorscale\":{\"diverging\":[[0,\"#8e0152\"],[0.1,\"#c51b7d\"],[0.2,\"#de77ae\"],[0.3,\"#f1b6da\"],[0.4,\"#fde0ef\"],[0.5,\"#f7f7f7\"],[0.6,\"#e6f5d0\"],[0.7,\"#b8e186\"],[0.8,\"#7fbc41\"],[0.9,\"#4d9221\"],[1,\"#276419\"]],\"sequential\":[[0.0,\"#0d0887\"],[0.1111111111111111,\"#46039f\"],[0.2222222222222222,\"#7201a8\"],[0.3333333333333333,\"#9c179e\"],[0.4444444444444444,\"#bd3786\"],[0.5555555555555556,\"#d8576b\"],[0.6666666666666666,\"#ed7953\"],[0.7777777777777778,\"#fb9f3a\"],[0.8888888888888888,\"#fdca26\"],[1.0,\"#f0f921\"]],\"sequentialminus\":[[0.0,\"#0d0887\"],[0.1111111111111111,\"#46039f\"],[0.2222222222222222,\"#7201a8\"],[0.3333333333333333,\"#9c179e\"],[0.4444444444444444,\"#bd3786\"],[0.5555555555555556,\"#d8576b\"],[0.6666666666666666,\"#ed7953\"],[0.7777777777777778,\"#fb9f3a\"],[0.8888888888888888,\"#fdca26\"],[1.0,\"#f0f921\"]]},\"colorway\":[\"#636efa\",\"#EF553B\",\"#00cc96\",\"#ab63fa\",\"#FFA15A\",\"#19d3f3\",\"#FF6692\",\"#B6E880\",\"#FF97FF\",\"#FECB52\"],\"font\":{\"color\":\"#2a3f5f\"},\"geo\":{\"bgcolor\":\"white\",\"lakecolor\":\"white\",\"landcolor\":\"#E5ECF6\",\"showlakes\":true,\"showland\":true,\"subunitcolor\":\"white\"},\"hoverlabel\":{\"align\":\"left\"},\"hovermode\":\"closest\",\"mapbox\":{\"style\":\"light\"},\"paper_bgcolor\":\"white\",\"plot_bgcolor\":\"#E5ECF6\",\"polar\":{\"angularaxis\":{\"gridcolor\":\"white\",\"linecolor\":\"white\",\"ticks\":\"\"},\"bgcolor\":\"#E5ECF6\",\"radialaxis\":{\"gridcolor\":\"white\",\"linecolor\":\"white\",\"ticks\":\"\"}},\"scene\":{\"xaxis\":{\"backgroundcolor\":\"#E5ECF6\",\"gridcolor\":\"white\",\"gridwidth\":2,\"linecolor\":\"white\",\"showbackground\":true,\"ticks\":\"\",\"zerolinecolor\":\"white\"},\"yaxis\":{\"backgroundcolor\":\"#E5ECF6\",\"gridcolor\":\"white\",\"gridwidth\":2,\"linecolor\":\"white\",\"showbackground\":true,\"ticks\":\"\",\"zerolinecolor\":\"white\"},\"zaxis\":{\"backgroundcolor\":\"#E5ECF6\",\"gridcolor\":\"white\",\"gridwidth\":2,\"linecolor\":\"white\",\"showbackground\":true,\"ticks\":\"\",\"zerolinecolor\":\"white\"}},\"shapedefaults\":{\"line\":{\"color\":\"#2a3f5f\"}},\"ternary\":{\"aaxis\":{\"gridcolor\":\"white\",\"linecolor\":\"white\",\"ticks\":\"\"},\"baxis\":{\"gridcolor\":\"white\",\"linecolor\":\"white\",\"ticks\":\"\"},\"bgcolor\":\"#E5ECF6\",\"caxis\":{\"gridcolor\":\"white\",\"linecolor\":\"white\",\"ticks\":\"\"}},\"title\":{\"x\":0.05},\"xaxis\":{\"automargin\":true,\"gridcolor\":\"white\",\"linecolor\":\"white\",\"ticks\":\"\",\"title\":{\"standoff\":15},\"zerolinecolor\":\"white\",\"zerolinewidth\":2},\"yaxis\":{\"automargin\":true,\"gridcolor\":\"white\",\"linecolor\":\"white\",\"ticks\":\"\",\"title\":{\"standoff\":15},\"zerolinecolor\":\"white\",\"zerolinewidth\":2}}},\"title\":{\"font\":{\"color\":\"darkred\",\"family\":\"Verdana\",\"size\":25},\"text\":\"Company X Emissions for 2020\"}},                        {\"responsive\": true}                    ).then(function(){\n",
       "                            \n",
       "var gd = document.getElementById('58991c4b-06cc-468a-ac88-c1f85ecda4c3');\n",
       "var x = new MutationObserver(function (mutations, observer) {{\n",
       "        var display = window.getComputedStyle(gd).display;\n",
       "        if (!display || display === 'none') {{\n",
       "            console.log([gd, 'removed!']);\n",
       "            Plotly.purge(gd);\n",
       "            observer.disconnect();\n",
       "        }}\n",
       "}});\n",
       "\n",
       "// Listen for the removal of the full notebook cells\n",
       "var notebookContainer = gd.closest('#notebook-container');\n",
       "if (notebookContainer) {{\n",
       "    x.observe(notebookContainer, {childList: true});\n",
       "}}\n",
       "\n",
       "// Listen for the clearing of the current output cell\n",
       "var outputEl = gd.closest('.output');\n",
       "if (outputEl) {{\n",
       "    x.observe(outputEl, {childList: true});\n",
       "}}\n",
       "\n",
       "                        })                };                });            </script>        </div>"
      ]
     },
     "metadata": {},
     "output_type": "display_data"
    }
   ],
   "source": [
    "fig4.update_layout(title_font = dict(size=25,family='Verdana', color='darkred'))\n",
    "fig4.show()"
   ]
  },
  {
   "cell_type": "markdown",
   "id": "07283b24",
   "metadata": {},
   "source": [
    "# This is the desired visualisation"
   ]
  },
  {
   "cell_type": "markdown",
   "id": "163829d1",
   "metadata": {},
   "source": [
    "##  Summarise and transpose the dataframe to feed a line graph by location"
   ]
  },
  {
   "cell_type": "code",
   "execution_count": 53,
   "id": "3ad3b06c",
   "metadata": {},
   "outputs": [
    {
     "data": {
      "text/html": [
       "<div>\n",
       "<style scoped>\n",
       "    .dataframe tbody tr th:only-of-type {\n",
       "        vertical-align: middle;\n",
       "    }\n",
       "\n",
       "    .dataframe tbody tr th {\n",
       "        vertical-align: top;\n",
       "    }\n",
       "\n",
       "    .dataframe thead th {\n",
       "        text-align: right;\n",
       "    }\n",
       "</style>\n",
       "<table border=\"1\" class=\"dataframe\">\n",
       "  <thead>\n",
       "    <tr style=\"text-align: right;\">\n",
       "      <th></th>\n",
       "      <th>Year</th>\n",
       "      <th>Dublin</th>\n",
       "      <th>Köln</th>\n",
       "      <th>Neu-Isenburg</th>\n",
       "    </tr>\n",
       "  </thead>\n",
       "  <tbody>\n",
       "    <tr>\n",
       "      <th>1</th>\n",
       "      <td>2018</td>\n",
       "      <td>352717.997</td>\n",
       "      <td>38748.27</td>\n",
       "      <td>311004.4525</td>\n",
       "    </tr>\n",
       "    <tr>\n",
       "      <th>2</th>\n",
       "      <td>2019</td>\n",
       "      <td>332125.1964</td>\n",
       "      <td>75325.498235</td>\n",
       "      <td>356963.768523</td>\n",
       "    </tr>\n",
       "    <tr>\n",
       "      <th>3</th>\n",
       "      <td>2020</td>\n",
       "      <td>29732.3973</td>\n",
       "      <td>101637.746697</td>\n",
       "      <td>159972.768523</td>\n",
       "    </tr>\n",
       "  </tbody>\n",
       "</table>\n",
       "</div>"
      ],
      "text/plain": [
       "0  Year       Dublin           Köln   Neu-Isenburg\n",
       "1  2018   352717.997       38748.27    311004.4525\n",
       "2  2019  332125.1964   75325.498235  356963.768523\n",
       "3  2020   29732.3973  101637.746697  159972.768523"
      ]
     },
     "execution_count": 53,
     "metadata": {},
     "output_type": "execute_result"
    }
   ],
   "source": [
    "# Summarise the data by location.\n",
    "df_mock_data_all_summ = df_mock_data_all.groupby(['Location'], as_index=False).sum()\n",
    "\n",
    "# Transpose the data.\n",
    "df_transposed_mock_data = df_mock_data_all_summ.T \n",
    "\n",
    "# Create a new index and make the existing index the Year column\n",
    "df_transposed_mock_data.reset_index(inplace=True)\n",
    "df_transposed_mock_data = df_transposed_mock_data.rename(columns = {'index':'Year'})\n",
    "df_transposed_mock_data.columns = df_transposed_mock_data.iloc[0] \n",
    "\n",
    "df_transposed_mock_data = df_transposed_mock_data[1:]\n",
    "df_transposed_mock_data.rename(columns = {'Location':'Year'}, inplace = True)\n",
    "df_transposed_mock_data"
   ]
  },
  {
   "cell_type": "markdown",
   "id": "f3fef423",
   "metadata": {},
   "source": [
    "### Write this to the Excel sheet too"
   ]
  },
  {
   "cell_type": "code",
   "execution_count": 54,
   "id": "dec22e14",
   "metadata": {},
   "outputs": [],
   "source": [
    "# Write the final spreadsheet out to the data filder.\n",
    "df_transposed_mock_data.to_excel(writer_obj, sheet_name='Location')\n",
    "writer_obj.save()"
   ]
  },
  {
   "cell_type": "markdown",
   "id": "dec99617",
   "metadata": {},
   "source": [
    "# Try out the line chart with the mocked up data."
   ]
  },
  {
   "cell_type": "code",
   "execution_count": 55,
   "id": "6a627e4b",
   "metadata": {},
   "outputs": [
    {
     "name": "stdout",
     "output_type": "stream",
     "text": [
      "['Year', 'Dublin', 'Köln', 'Neu-Isenburg']\n"
     ]
    }
   ],
   "source": [
    "# Check the colimn names\n",
    "print (df_transposed_mock_data.columns.values.tolist())"
   ]
  },
  {
   "cell_type": "code",
   "execution_count": 56,
   "id": "9e7b5ea4",
   "metadata": {},
   "outputs": [
    {
     "data": {
      "text/plain": [
       "0\n",
       "Year            object\n",
       "Dublin          object\n",
       "Köln            object\n",
       "Neu-Isenburg    object\n",
       "dtype: object"
      ]
     },
     "execution_count": 56,
     "metadata": {},
     "output_type": "execute_result"
    }
   ],
   "source": [
    "df_transposed_mock_data.dtypes"
   ]
  },
  {
   "cell_type": "code",
   "execution_count": 57,
   "id": "6c3e85bd",
   "metadata": {},
   "outputs": [
    {
     "data": {
      "text/plain": [
       "Text(0.5, 1.0, 'Company X - CO2 Emissions fro 2018 to date')"
      ]
     },
     "execution_count": 57,
     "metadata": {},
     "output_type": "execute_result"
    },
    {
     "data": {
      "image/png": "[encoded data removed]",
      "text/plain": [
       "<Figure size 432x288 with 1 Axes>"
      ]
     },
     "metadata": {
      "needs_background": "light"
     },
     "output_type": "display_data"
    }
   ],
   "source": [
    "# Position the legend below the plot and flatten it to a single row.\n",
    "ax = df_transposed_mock_data.plot.line(x='Year')\n",
    "\n",
    "ax.legend(loc='upper center',bbox_to_anchor=(0.5, -0.065), ncol=3)\n",
    "ax.set_title('Company X - CO2 Emissions fro 2018 to date', fontsize = 14)\n"
   ]
  },
  {
   "cell_type": "markdown",
   "id": "aa3cdb75",
   "metadata": {},
   "source": [
    "# It's a bit small, change the size."
   ]
  },
  {
   "cell_type": "code",
   "execution_count": 58,
   "id": "a564ed87",
   "metadata": {},
   "outputs": [
    {
     "data": {
      "text/plain": [
       "Text(0.5, 1.0, 'Company X - CO2 Emissions fro 2018 to date')"
      ]
     },
     "execution_count": 58,
     "metadata": {},
     "output_type": "execute_result"
    },
    {
     "data": {
      "image/png": "[encoded data removed]",
      "text/plain": [
       "<Figure size 720x360 with 1 Axes>"
      ]
     },
     "metadata": {
      "needs_background": "light"
     },
     "output_type": "display_data"
    }
   ],
   "source": [
    "# Position the legend below the plot and flatten it to a single row.\n",
    "ax = df_transposed_mock_data.plot.line(x='Year',figsize=(10,5))\n",
    "\n",
    "ax.legend(loc='upper center',bbox_to_anchor=(0.5, -0.065), ncol=3)\n",
    "ax.set_title('Company X - CO2 Emissions fro 2018 to date', fontsize = 14)\n"
   ]
  },
  {
   "cell_type": "markdown",
   "id": "f4d0c4cd",
   "metadata": {},
   "source": [
    "# Finally, add horizontal gridline to add definition."
   ]
  },
  {
   "cell_type": "code",
   "execution_count": 59,
   "id": "686d340b",
   "metadata": {},
   "outputs": [
    {
     "data": {
      "image/png": "[encoded data removed]",
      "text/plain": [
       "<Figure size 720x360 with 1 Axes>"
      ]
     },
     "metadata": {
      "needs_background": "light"
     },
     "output_type": "display_data"
    }
   ],
   "source": [
    "# Position the legend below the plot and flatten it to a single row.\n",
    "ax = df_transposed_mock_data.plot.line(x='Year',figsize=(10,5))\n",
    "\n",
    "ax.legend(loc='upper center',bbox_to_anchor=(0.5, -0.065), ncol=3)\n",
    "ax.set_title('Company X - CO2 Emissions fro 2018 to date', fontsize = 14)\n",
    "\n",
    "# Add Horizontal grid lines\n",
    "ax.yaxis.grid()\n",
    "\n"
   ]
  },
  {
   "cell_type": "code",
   "execution_count": null,
   "id": "02d43eed",
   "metadata": {},
   "outputs": [],
   "source": []
  },
  {
   "cell_type": "code",
   "execution_count": null,
   "id": "b1b37fe5",
   "metadata": {},
   "outputs": [],
   "source": []
  }
 ],
 "metadata": {
  "kernelspec": {
   "display_name": "Python 3",
   "language": "python",
   "name": "python3"
  },
  "language_info": {
   "codemirror_mode": {
    "name": "ipython",
    "version": 3
   },
   "file_extension": ".py",
   "mimetype": "text/x-python",
   "name": "python",
   "nbconvert_exporter": "python",
   "pygments_lexer": "ipython3",
   "version": "3.8.8"
  }
 },
 "nbformat": 4,
 "nbformat_minor": 5
}
